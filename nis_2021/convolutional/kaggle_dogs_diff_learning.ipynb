{
  "nbformat": 4,
  "nbformat_minor": 0,
  "metadata": {
    "colab": {
      "name": "kaggle_dogs_diff_learning.ipynb",
      "provenance": [],
      "collapsed_sections": []
    },
    "kernelspec": {
      "name": "python3",
      "display_name": "Python 3"
    },
    "language_info": {
      "name": "python"
    },
    "accelerator": "GPU",
    "widgets": {
      "application/vnd.jupyter.widget-state+json": {
        "bb6d497860af4ad49fbed473176e9ef8": {
          "model_module": "@jupyter-widgets/controls",
          "model_name": "HBoxModel",
          "model_module_version": "1.5.0",
          "state": {
            "_view_name": "HBoxView",
            "_dom_classes": [],
            "_model_name": "HBoxModel",
            "_view_module": "@jupyter-widgets/controls",
            "_model_module_version": "1.5.0",
            "_view_count": null,
            "_view_module_version": "1.5.0",
            "box_style": "",
            "layout": "IPY_MODEL_78ab329395954c9f928b5127222c8cf0",
            "_model_module": "@jupyter-widgets/controls",
            "children": [
              "IPY_MODEL_a73e077bd7d24788a4916692cc1a15dd",
              "IPY_MODEL_c98377f75ab44896a6c3287a6596bc72",
              "IPY_MODEL_7e01512bbb8244e999a82eddae75ec88"
            ]
          }
        },
        "78ab329395954c9f928b5127222c8cf0": {
          "model_module": "@jupyter-widgets/base",
          "model_name": "LayoutModel",
          "model_module_version": "1.2.0",
          "state": {
            "_view_name": "LayoutView",
            "grid_template_rows": null,
            "right": null,
            "justify_content": null,
            "_view_module": "@jupyter-widgets/base",
            "overflow": null,
            "_model_module_version": "1.2.0",
            "_view_count": null,
            "flex_flow": null,
            "width": null,
            "min_width": null,
            "border": null,
            "align_items": null,
            "bottom": null,
            "_model_module": "@jupyter-widgets/base",
            "top": null,
            "grid_column": null,
            "overflow_y": null,
            "overflow_x": null,
            "grid_auto_flow": null,
            "grid_area": null,
            "grid_template_columns": null,
            "flex": null,
            "_model_name": "LayoutModel",
            "justify_items": null,
            "grid_row": null,
            "max_height": null,
            "align_content": null,
            "visibility": null,
            "align_self": null,
            "height": null,
            "min_height": null,
            "padding": null,
            "grid_auto_rows": null,
            "grid_gap": null,
            "max_width": null,
            "order": null,
            "_view_module_version": "1.2.0",
            "grid_template_areas": null,
            "object_position": null,
            "object_fit": null,
            "grid_auto_columns": null,
            "margin": null,
            "display": null,
            "left": null
          }
        },
        "a73e077bd7d24788a4916692cc1a15dd": {
          "model_module": "@jupyter-widgets/controls",
          "model_name": "HTMLModel",
          "model_module_version": "1.5.0",
          "state": {
            "_view_name": "HTMLView",
            "style": "IPY_MODEL_4f0061353ce14f60986615a1b484bc6e",
            "_dom_classes": [],
            "description": "",
            "_model_name": "HTMLModel",
            "placeholder": "​",
            "_view_module": "@jupyter-widgets/controls",
            "_model_module_version": "1.5.0",
            "value": "100%",
            "_view_count": null,
            "_view_module_version": "1.5.0",
            "description_tooltip": null,
            "_model_module": "@jupyter-widgets/controls",
            "layout": "IPY_MODEL_655e483aaaf944378df735b1577176ba"
          }
        },
        "c98377f75ab44896a6c3287a6596bc72": {
          "model_module": "@jupyter-widgets/controls",
          "model_name": "FloatProgressModel",
          "model_module_version": "1.5.0",
          "state": {
            "_view_name": "ProgressView",
            "style": "IPY_MODEL_e5c31f19932f4494bb9c8534983a74db",
            "_dom_classes": [],
            "description": "",
            "_model_name": "FloatProgressModel",
            "bar_style": "success",
            "max": 241627721,
            "_view_module": "@jupyter-widgets/controls",
            "_model_module_version": "1.5.0",
            "value": 241627721,
            "_view_count": null,
            "_view_module_version": "1.5.0",
            "orientation": "horizontal",
            "min": 0,
            "description_tooltip": null,
            "_model_module": "@jupyter-widgets/controls",
            "layout": "IPY_MODEL_80d47176d2e54321a7e52f76906e768b"
          }
        },
        "7e01512bbb8244e999a82eddae75ec88": {
          "model_module": "@jupyter-widgets/controls",
          "model_name": "HTMLModel",
          "model_module_version": "1.5.0",
          "state": {
            "_view_name": "HTMLView",
            "style": "IPY_MODEL_05730577c52b40e2917e1f6567274b61",
            "_dom_classes": [],
            "description": "",
            "_model_name": "HTMLModel",
            "placeholder": "​",
            "_view_module": "@jupyter-widgets/controls",
            "_model_module_version": "1.5.0",
            "value": " 230M/230M [00:03&lt;00:00, 109MB/s]",
            "_view_count": null,
            "_view_module_version": "1.5.0",
            "description_tooltip": null,
            "_model_module": "@jupyter-widgets/controls",
            "layout": "IPY_MODEL_e710576f92f1418bab3a2a200d96adc8"
          }
        },
        "4f0061353ce14f60986615a1b484bc6e": {
          "model_module": "@jupyter-widgets/controls",
          "model_name": "DescriptionStyleModel",
          "model_module_version": "1.5.0",
          "state": {
            "_view_name": "StyleView",
            "_model_name": "DescriptionStyleModel",
            "description_width": "",
            "_view_module": "@jupyter-widgets/base",
            "_model_module_version": "1.5.0",
            "_view_count": null,
            "_view_module_version": "1.2.0",
            "_model_module": "@jupyter-widgets/controls"
          }
        },
        "655e483aaaf944378df735b1577176ba": {
          "model_module": "@jupyter-widgets/base",
          "model_name": "LayoutModel",
          "model_module_version": "1.2.0",
          "state": {
            "_view_name": "LayoutView",
            "grid_template_rows": null,
            "right": null,
            "justify_content": null,
            "_view_module": "@jupyter-widgets/base",
            "overflow": null,
            "_model_module_version": "1.2.0",
            "_view_count": null,
            "flex_flow": null,
            "width": null,
            "min_width": null,
            "border": null,
            "align_items": null,
            "bottom": null,
            "_model_module": "@jupyter-widgets/base",
            "top": null,
            "grid_column": null,
            "overflow_y": null,
            "overflow_x": null,
            "grid_auto_flow": null,
            "grid_area": null,
            "grid_template_columns": null,
            "flex": null,
            "_model_name": "LayoutModel",
            "justify_items": null,
            "grid_row": null,
            "max_height": null,
            "align_content": null,
            "visibility": null,
            "align_self": null,
            "height": null,
            "min_height": null,
            "padding": null,
            "grid_auto_rows": null,
            "grid_gap": null,
            "max_width": null,
            "order": null,
            "_view_module_version": "1.2.0",
            "grid_template_areas": null,
            "object_position": null,
            "object_fit": null,
            "grid_auto_columns": null,
            "margin": null,
            "display": null,
            "left": null
          }
        },
        "e5c31f19932f4494bb9c8534983a74db": {
          "model_module": "@jupyter-widgets/controls",
          "model_name": "ProgressStyleModel",
          "model_module_version": "1.5.0",
          "state": {
            "_view_name": "StyleView",
            "_model_name": "ProgressStyleModel",
            "description_width": "",
            "_view_module": "@jupyter-widgets/base",
            "_model_module_version": "1.5.0",
            "_view_count": null,
            "_view_module_version": "1.2.0",
            "bar_color": null,
            "_model_module": "@jupyter-widgets/controls"
          }
        },
        "80d47176d2e54321a7e52f76906e768b": {
          "model_module": "@jupyter-widgets/base",
          "model_name": "LayoutModel",
          "model_module_version": "1.2.0",
          "state": {
            "_view_name": "LayoutView",
            "grid_template_rows": null,
            "right": null,
            "justify_content": null,
            "_view_module": "@jupyter-widgets/base",
            "overflow": null,
            "_model_module_version": "1.2.0",
            "_view_count": null,
            "flex_flow": null,
            "width": null,
            "min_width": null,
            "border": null,
            "align_items": null,
            "bottom": null,
            "_model_module": "@jupyter-widgets/base",
            "top": null,
            "grid_column": null,
            "overflow_y": null,
            "overflow_x": null,
            "grid_auto_flow": null,
            "grid_area": null,
            "grid_template_columns": null,
            "flex": null,
            "_model_name": "LayoutModel",
            "justify_items": null,
            "grid_row": null,
            "max_height": null,
            "align_content": null,
            "visibility": null,
            "align_self": null,
            "height": null,
            "min_height": null,
            "padding": null,
            "grid_auto_rows": null,
            "grid_gap": null,
            "max_width": null,
            "order": null,
            "_view_module_version": "1.2.0",
            "grid_template_areas": null,
            "object_position": null,
            "object_fit": null,
            "grid_auto_columns": null,
            "margin": null,
            "display": null,
            "left": null
          }
        },
        "05730577c52b40e2917e1f6567274b61": {
          "model_module": "@jupyter-widgets/controls",
          "model_name": "DescriptionStyleModel",
          "model_module_version": "1.5.0",
          "state": {
            "_view_name": "StyleView",
            "_model_name": "DescriptionStyleModel",
            "description_width": "",
            "_view_module": "@jupyter-widgets/base",
            "_model_module_version": "1.5.0",
            "_view_count": null,
            "_view_module_version": "1.2.0",
            "_model_module": "@jupyter-widgets/controls"
          }
        },
        "e710576f92f1418bab3a2a200d96adc8": {
          "model_module": "@jupyter-widgets/base",
          "model_name": "LayoutModel",
          "model_module_version": "1.2.0",
          "state": {
            "_view_name": "LayoutView",
            "grid_template_rows": null,
            "right": null,
            "justify_content": null,
            "_view_module": "@jupyter-widgets/base",
            "overflow": null,
            "_model_module_version": "1.2.0",
            "_view_count": null,
            "flex_flow": null,
            "width": null,
            "min_width": null,
            "border": null,
            "align_items": null,
            "bottom": null,
            "_model_module": "@jupyter-widgets/base",
            "top": null,
            "grid_column": null,
            "overflow_y": null,
            "overflow_x": null,
            "grid_auto_flow": null,
            "grid_area": null,
            "grid_template_columns": null,
            "flex": null,
            "_model_name": "LayoutModel",
            "justify_items": null,
            "grid_row": null,
            "max_height": null,
            "align_content": null,
            "visibility": null,
            "align_self": null,
            "height": null,
            "min_height": null,
            "padding": null,
            "grid_auto_rows": null,
            "grid_gap": null,
            "max_width": null,
            "order": null,
            "_view_module_version": "1.2.0",
            "grid_template_areas": null,
            "object_position": null,
            "object_fit": null,
            "grid_auto_columns": null,
            "margin": null,
            "display": null,
            "left": null
          }
        },
        "f2a34cf95e8e49bd8d05a1cc65053432": {
          "model_module": "@jupyter-widgets/controls",
          "model_name": "HBoxModel",
          "model_module_version": "1.5.0",
          "state": {
            "_view_name": "HBoxView",
            "_dom_classes": [],
            "_model_name": "HBoxModel",
            "_view_module": "@jupyter-widgets/controls",
            "_model_module_version": "1.5.0",
            "_view_count": null,
            "_view_module_version": "1.5.0",
            "box_style": "",
            "layout": "IPY_MODEL_f80c5673d4b447589270819d54c5c054",
            "_model_module": "@jupyter-widgets/controls",
            "children": [
              "IPY_MODEL_21a8b3c2769a4c38bd18beeca54af516",
              "IPY_MODEL_8c8d1ca95cbd4b10ba2c5dae64b023f7",
              "IPY_MODEL_ba8f4a53ef1b4f1ea49ff54924d486e2"
            ]
          }
        },
        "f80c5673d4b447589270819d54c5c054": {
          "model_module": "@jupyter-widgets/base",
          "model_name": "LayoutModel",
          "model_module_version": "1.2.0",
          "state": {
            "_view_name": "LayoutView",
            "grid_template_rows": null,
            "right": null,
            "justify_content": null,
            "_view_module": "@jupyter-widgets/base",
            "overflow": null,
            "_model_module_version": "1.2.0",
            "_view_count": null,
            "flex_flow": null,
            "width": null,
            "min_width": null,
            "border": null,
            "align_items": null,
            "bottom": null,
            "_model_module": "@jupyter-widgets/base",
            "top": null,
            "grid_column": null,
            "overflow_y": null,
            "overflow_x": null,
            "grid_auto_flow": null,
            "grid_area": null,
            "grid_template_columns": null,
            "flex": null,
            "_model_name": "LayoutModel",
            "justify_items": null,
            "grid_row": null,
            "max_height": null,
            "align_content": null,
            "visibility": null,
            "align_self": null,
            "height": null,
            "min_height": null,
            "padding": null,
            "grid_auto_rows": null,
            "grid_gap": null,
            "max_width": null,
            "order": null,
            "_view_module_version": "1.2.0",
            "grid_template_areas": null,
            "object_position": null,
            "object_fit": null,
            "grid_auto_columns": null,
            "margin": null,
            "display": null,
            "left": null
          }
        },
        "21a8b3c2769a4c38bd18beeca54af516": {
          "model_module": "@jupyter-widgets/controls",
          "model_name": "HTMLModel",
          "model_module_version": "1.5.0",
          "state": {
            "_view_name": "HTMLView",
            "style": "IPY_MODEL_8d8632a376af40fd918b2e6c812a61b8",
            "_dom_classes": [],
            "description": "",
            "_model_name": "HTMLModel",
            "placeholder": "​",
            "_view_module": "@jupyter-widgets/controls",
            "_model_module_version": "1.5.0",
            "value": "100%",
            "_view_count": null,
            "_view_module_version": "1.5.0",
            "description_tooltip": null,
            "_model_module": "@jupyter-widgets/controls",
            "layout": "IPY_MODEL_f86e9cfae3e84317b5a224e22832b9e2"
          }
        },
        "8c8d1ca95cbd4b10ba2c5dae64b023f7": {
          "model_module": "@jupyter-widgets/controls",
          "model_name": "FloatProgressModel",
          "model_module_version": "1.5.0",
          "state": {
            "_view_name": "ProgressView",
            "style": "IPY_MODEL_cc768684631544bb9a9c3043d7d137f1",
            "_dom_classes": [],
            "description": "",
            "_model_name": "FloatProgressModel",
            "bar_style": "success",
            "max": 574673361,
            "_view_module": "@jupyter-widgets/controls",
            "_model_module_version": "1.5.0",
            "value": 574673361,
            "_view_count": null,
            "_view_module_version": "1.5.0",
            "orientation": "horizontal",
            "min": 0,
            "description_tooltip": null,
            "_model_module": "@jupyter-widgets/controls",
            "layout": "IPY_MODEL_195251db467141818d865938615c29cc"
          }
        },
        "ba8f4a53ef1b4f1ea49ff54924d486e2": {
          "model_module": "@jupyter-widgets/controls",
          "model_name": "HTMLModel",
          "model_module_version": "1.5.0",
          "state": {
            "_view_name": "HTMLView",
            "style": "IPY_MODEL_a6c75233495645f9b8e8c1759ef001bb",
            "_dom_classes": [],
            "description": "",
            "_model_name": "HTMLModel",
            "placeholder": "​",
            "_view_module": "@jupyter-widgets/controls",
            "_model_module_version": "1.5.0",
            "value": " 548M/548M [00:07&lt;00:00, 99.2MB/s]",
            "_view_count": null,
            "_view_module_version": "1.5.0",
            "description_tooltip": null,
            "_model_module": "@jupyter-widgets/controls",
            "layout": "IPY_MODEL_4d04b55019474dcdac8d67b32d0f93a1"
          }
        },
        "8d8632a376af40fd918b2e6c812a61b8": {
          "model_module": "@jupyter-widgets/controls",
          "model_name": "DescriptionStyleModel",
          "model_module_version": "1.5.0",
          "state": {
            "_view_name": "StyleView",
            "_model_name": "DescriptionStyleModel",
            "description_width": "",
            "_view_module": "@jupyter-widgets/base",
            "_model_module_version": "1.5.0",
            "_view_count": null,
            "_view_module_version": "1.2.0",
            "_model_module": "@jupyter-widgets/controls"
          }
        },
        "f86e9cfae3e84317b5a224e22832b9e2": {
          "model_module": "@jupyter-widgets/base",
          "model_name": "LayoutModel",
          "model_module_version": "1.2.0",
          "state": {
            "_view_name": "LayoutView",
            "grid_template_rows": null,
            "right": null,
            "justify_content": null,
            "_view_module": "@jupyter-widgets/base",
            "overflow": null,
            "_model_module_version": "1.2.0",
            "_view_count": null,
            "flex_flow": null,
            "width": null,
            "min_width": null,
            "border": null,
            "align_items": null,
            "bottom": null,
            "_model_module": "@jupyter-widgets/base",
            "top": null,
            "grid_column": null,
            "overflow_y": null,
            "overflow_x": null,
            "grid_auto_flow": null,
            "grid_area": null,
            "grid_template_columns": null,
            "flex": null,
            "_model_name": "LayoutModel",
            "justify_items": null,
            "grid_row": null,
            "max_height": null,
            "align_content": null,
            "visibility": null,
            "align_self": null,
            "height": null,
            "min_height": null,
            "padding": null,
            "grid_auto_rows": null,
            "grid_gap": null,
            "max_width": null,
            "order": null,
            "_view_module_version": "1.2.0",
            "grid_template_areas": null,
            "object_position": null,
            "object_fit": null,
            "grid_auto_columns": null,
            "margin": null,
            "display": null,
            "left": null
          }
        },
        "cc768684631544bb9a9c3043d7d137f1": {
          "model_module": "@jupyter-widgets/controls",
          "model_name": "ProgressStyleModel",
          "model_module_version": "1.5.0",
          "state": {
            "_view_name": "StyleView",
            "_model_name": "ProgressStyleModel",
            "description_width": "",
            "_view_module": "@jupyter-widgets/base",
            "_model_module_version": "1.5.0",
            "_view_count": null,
            "_view_module_version": "1.2.0",
            "bar_color": null,
            "_model_module": "@jupyter-widgets/controls"
          }
        },
        "195251db467141818d865938615c29cc": {
          "model_module": "@jupyter-widgets/base",
          "model_name": "LayoutModel",
          "model_module_version": "1.2.0",
          "state": {
            "_view_name": "LayoutView",
            "grid_template_rows": null,
            "right": null,
            "justify_content": null,
            "_view_module": "@jupyter-widgets/base",
            "overflow": null,
            "_model_module_version": "1.2.0",
            "_view_count": null,
            "flex_flow": null,
            "width": null,
            "min_width": null,
            "border": null,
            "align_items": null,
            "bottom": null,
            "_model_module": "@jupyter-widgets/base",
            "top": null,
            "grid_column": null,
            "overflow_y": null,
            "overflow_x": null,
            "grid_auto_flow": null,
            "grid_area": null,
            "grid_template_columns": null,
            "flex": null,
            "_model_name": "LayoutModel",
            "justify_items": null,
            "grid_row": null,
            "max_height": null,
            "align_content": null,
            "visibility": null,
            "align_self": null,
            "height": null,
            "min_height": null,
            "padding": null,
            "grid_auto_rows": null,
            "grid_gap": null,
            "max_width": null,
            "order": null,
            "_view_module_version": "1.2.0",
            "grid_template_areas": null,
            "object_position": null,
            "object_fit": null,
            "grid_auto_columns": null,
            "margin": null,
            "display": null,
            "left": null
          }
        },
        "a6c75233495645f9b8e8c1759ef001bb": {
          "model_module": "@jupyter-widgets/controls",
          "model_name": "DescriptionStyleModel",
          "model_module_version": "1.5.0",
          "state": {
            "_view_name": "StyleView",
            "_model_name": "DescriptionStyleModel",
            "description_width": "",
            "_view_module": "@jupyter-widgets/base",
            "_model_module_version": "1.5.0",
            "_view_count": null,
            "_view_module_version": "1.2.0",
            "_model_module": "@jupyter-widgets/controls"
          }
        },
        "4d04b55019474dcdac8d67b32d0f93a1": {
          "model_module": "@jupyter-widgets/base",
          "model_name": "LayoutModel",
          "model_module_version": "1.2.0",
          "state": {
            "_view_name": "LayoutView",
            "grid_template_rows": null,
            "right": null,
            "justify_content": null,
            "_view_module": "@jupyter-widgets/base",
            "overflow": null,
            "_model_module_version": "1.2.0",
            "_view_count": null,
            "flex_flow": null,
            "width": null,
            "min_width": null,
            "border": null,
            "align_items": null,
            "bottom": null,
            "_model_module": "@jupyter-widgets/base",
            "top": null,
            "grid_column": null,
            "overflow_y": null,
            "overflow_x": null,
            "grid_auto_flow": null,
            "grid_area": null,
            "grid_template_columns": null,
            "flex": null,
            "_model_name": "LayoutModel",
            "justify_items": null,
            "grid_row": null,
            "max_height": null,
            "align_content": null,
            "visibility": null,
            "align_self": null,
            "height": null,
            "min_height": null,
            "padding": null,
            "grid_auto_rows": null,
            "grid_gap": null,
            "max_width": null,
            "order": null,
            "_view_module_version": "1.2.0",
            "grid_template_areas": null,
            "object_position": null,
            "object_fit": null,
            "grid_auto_columns": null,
            "margin": null,
            "display": null,
            "left": null
          }
        },
        "e235a4d9036f45de97544d223146e973": {
          "model_module": "@jupyter-widgets/controls",
          "model_name": "HBoxModel",
          "model_module_version": "1.5.0",
          "state": {
            "_view_name": "HBoxView",
            "_dom_classes": [],
            "_model_name": "HBoxModel",
            "_view_module": "@jupyter-widgets/controls",
            "_model_module_version": "1.5.0",
            "_view_count": null,
            "_view_module_version": "1.5.0",
            "box_style": "",
            "layout": "IPY_MODEL_4df01c36edf94558a21dc6aed69f20c0",
            "_model_module": "@jupyter-widgets/controls",
            "children": [
              "IPY_MODEL_bbee7b827900431b96f91dc3b048f30c",
              "IPY_MODEL_592acf3dbd844b299d7a6f748a61f08b",
              "IPY_MODEL_45ec55686576483a80f5dab918287fdf"
            ]
          }
        },
        "4df01c36edf94558a21dc6aed69f20c0": {
          "model_module": "@jupyter-widgets/base",
          "model_name": "LayoutModel",
          "model_module_version": "1.2.0",
          "state": {
            "_view_name": "LayoutView",
            "grid_template_rows": null,
            "right": null,
            "justify_content": null,
            "_view_module": "@jupyter-widgets/base",
            "overflow": null,
            "_model_module_version": "1.2.0",
            "_view_count": null,
            "flex_flow": null,
            "width": null,
            "min_width": null,
            "border": null,
            "align_items": null,
            "bottom": null,
            "_model_module": "@jupyter-widgets/base",
            "top": null,
            "grid_column": null,
            "overflow_y": null,
            "overflow_x": null,
            "grid_auto_flow": null,
            "grid_area": null,
            "grid_template_columns": null,
            "flex": null,
            "_model_name": "LayoutModel",
            "justify_items": null,
            "grid_row": null,
            "max_height": null,
            "align_content": null,
            "visibility": null,
            "align_self": null,
            "height": null,
            "min_height": null,
            "padding": null,
            "grid_auto_rows": null,
            "grid_gap": null,
            "max_width": null,
            "order": null,
            "_view_module_version": "1.2.0",
            "grid_template_areas": null,
            "object_position": null,
            "object_fit": null,
            "grid_auto_columns": null,
            "margin": null,
            "display": null,
            "left": null
          }
        },
        "bbee7b827900431b96f91dc3b048f30c": {
          "model_module": "@jupyter-widgets/controls",
          "model_name": "HTMLModel",
          "model_module_version": "1.5.0",
          "state": {
            "_view_name": "HTMLView",
            "style": "IPY_MODEL_4d72cc81b35d4eb099a8a8ecaf92fe7c",
            "_dom_classes": [],
            "description": "",
            "_model_name": "HTMLModel",
            "placeholder": "​",
            "_view_module": "@jupyter-widgets/controls",
            "_model_module_version": "1.5.0",
            "value": "100%",
            "_view_count": null,
            "_view_module_version": "1.5.0",
            "description_tooltip": null,
            "_model_module": "@jupyter-widgets/controls",
            "layout": "IPY_MODEL_0a3cd3218d914937a4bf7406f02f7165"
          }
        },
        "592acf3dbd844b299d7a6f748a61f08b": {
          "model_module": "@jupyter-widgets/controls",
          "model_name": "FloatProgressModel",
          "model_module_version": "1.5.0",
          "state": {
            "_view_name": "ProgressView",
            "style": "IPY_MODEL_c1270f55d858400f9c0850b2a8edad9c",
            "_dom_classes": [],
            "description": "",
            "_model_name": "FloatProgressModel",
            "bar_style": "success",
            "max": 115730790,
            "_view_module": "@jupyter-widgets/controls",
            "_model_module_version": "1.5.0",
            "value": 115730790,
            "_view_count": null,
            "_view_module_version": "1.5.0",
            "orientation": "horizontal",
            "min": 0,
            "description_tooltip": null,
            "_model_module": "@jupyter-widgets/controls",
            "layout": "IPY_MODEL_97ad5db2700a4a748171ec8be1035c6e"
          }
        },
        "45ec55686576483a80f5dab918287fdf": {
          "model_module": "@jupyter-widgets/controls",
          "model_name": "HTMLModel",
          "model_module_version": "1.5.0",
          "state": {
            "_view_name": "HTMLView",
            "style": "IPY_MODEL_a443eec733b141e2982477fd2662905b",
            "_dom_classes": [],
            "description": "",
            "_model_name": "HTMLModel",
            "placeholder": "​",
            "_view_module": "@jupyter-widgets/controls",
            "_model_module_version": "1.5.0",
            "value": " 110M/110M [00:01&lt;00:00, 74.8MB/s]",
            "_view_count": null,
            "_view_module_version": "1.5.0",
            "description_tooltip": null,
            "_model_module": "@jupyter-widgets/controls",
            "layout": "IPY_MODEL_04de797fc9384d3c9804a221c0d69a29"
          }
        },
        "4d72cc81b35d4eb099a8a8ecaf92fe7c": {
          "model_module": "@jupyter-widgets/controls",
          "model_name": "DescriptionStyleModel",
          "model_module_version": "1.5.0",
          "state": {
            "_view_name": "StyleView",
            "_model_name": "DescriptionStyleModel",
            "description_width": "",
            "_view_module": "@jupyter-widgets/base",
            "_model_module_version": "1.5.0",
            "_view_count": null,
            "_view_module_version": "1.2.0",
            "_model_module": "@jupyter-widgets/controls"
          }
        },
        "0a3cd3218d914937a4bf7406f02f7165": {
          "model_module": "@jupyter-widgets/base",
          "model_name": "LayoutModel",
          "model_module_version": "1.2.0",
          "state": {
            "_view_name": "LayoutView",
            "grid_template_rows": null,
            "right": null,
            "justify_content": null,
            "_view_module": "@jupyter-widgets/base",
            "overflow": null,
            "_model_module_version": "1.2.0",
            "_view_count": null,
            "flex_flow": null,
            "width": null,
            "min_width": null,
            "border": null,
            "align_items": null,
            "bottom": null,
            "_model_module": "@jupyter-widgets/base",
            "top": null,
            "grid_column": null,
            "overflow_y": null,
            "overflow_x": null,
            "grid_auto_flow": null,
            "grid_area": null,
            "grid_template_columns": null,
            "flex": null,
            "_model_name": "LayoutModel",
            "justify_items": null,
            "grid_row": null,
            "max_height": null,
            "align_content": null,
            "visibility": null,
            "align_self": null,
            "height": null,
            "min_height": null,
            "padding": null,
            "grid_auto_rows": null,
            "grid_gap": null,
            "max_width": null,
            "order": null,
            "_view_module_version": "1.2.0",
            "grid_template_areas": null,
            "object_position": null,
            "object_fit": null,
            "grid_auto_columns": null,
            "margin": null,
            "display": null,
            "left": null
          }
        },
        "c1270f55d858400f9c0850b2a8edad9c": {
          "model_module": "@jupyter-widgets/controls",
          "model_name": "ProgressStyleModel",
          "model_module_version": "1.5.0",
          "state": {
            "_view_name": "StyleView",
            "_model_name": "ProgressStyleModel",
            "description_width": "",
            "_view_module": "@jupyter-widgets/base",
            "_model_module_version": "1.5.0",
            "_view_count": null,
            "_view_module_version": "1.2.0",
            "bar_color": null,
            "_model_module": "@jupyter-widgets/controls"
          }
        },
        "97ad5db2700a4a748171ec8be1035c6e": {
          "model_module": "@jupyter-widgets/base",
          "model_name": "LayoutModel",
          "model_module_version": "1.2.0",
          "state": {
            "_view_name": "LayoutView",
            "grid_template_rows": null,
            "right": null,
            "justify_content": null,
            "_view_module": "@jupyter-widgets/base",
            "overflow": null,
            "_model_module_version": "1.2.0",
            "_view_count": null,
            "flex_flow": null,
            "width": null,
            "min_width": null,
            "border": null,
            "align_items": null,
            "bottom": null,
            "_model_module": "@jupyter-widgets/base",
            "top": null,
            "grid_column": null,
            "overflow_y": null,
            "overflow_x": null,
            "grid_auto_flow": null,
            "grid_area": null,
            "grid_template_columns": null,
            "flex": null,
            "_model_name": "LayoutModel",
            "justify_items": null,
            "grid_row": null,
            "max_height": null,
            "align_content": null,
            "visibility": null,
            "align_self": null,
            "height": null,
            "min_height": null,
            "padding": null,
            "grid_auto_rows": null,
            "grid_gap": null,
            "max_width": null,
            "order": null,
            "_view_module_version": "1.2.0",
            "grid_template_areas": null,
            "object_position": null,
            "object_fit": null,
            "grid_auto_columns": null,
            "margin": null,
            "display": null,
            "left": null
          }
        },
        "a443eec733b141e2982477fd2662905b": {
          "model_module": "@jupyter-widgets/controls",
          "model_name": "DescriptionStyleModel",
          "model_module_version": "1.5.0",
          "state": {
            "_view_name": "StyleView",
            "_model_name": "DescriptionStyleModel",
            "description_width": "",
            "_view_module": "@jupyter-widgets/base",
            "_model_module_version": "1.5.0",
            "_view_count": null,
            "_view_module_version": "1.2.0",
            "_model_module": "@jupyter-widgets/controls"
          }
        },
        "04de797fc9384d3c9804a221c0d69a29": {
          "model_module": "@jupyter-widgets/base",
          "model_name": "LayoutModel",
          "model_module_version": "1.2.0",
          "state": {
            "_view_name": "LayoutView",
            "grid_template_rows": null,
            "right": null,
            "justify_content": null,
            "_view_module": "@jupyter-widgets/base",
            "overflow": null,
            "_model_module_version": "1.2.0",
            "_view_count": null,
            "flex_flow": null,
            "width": null,
            "min_width": null,
            "border": null,
            "align_items": null,
            "bottom": null,
            "_model_module": "@jupyter-widgets/base",
            "top": null,
            "grid_column": null,
            "overflow_y": null,
            "overflow_x": null,
            "grid_auto_flow": null,
            "grid_area": null,
            "grid_template_columns": null,
            "flex": null,
            "_model_name": "LayoutModel",
            "justify_items": null,
            "grid_row": null,
            "max_height": null,
            "align_content": null,
            "visibility": null,
            "align_self": null,
            "height": null,
            "min_height": null,
            "padding": null,
            "grid_auto_rows": null,
            "grid_gap": null,
            "max_width": null,
            "order": null,
            "_view_module_version": "1.2.0",
            "grid_template_areas": null,
            "object_position": null,
            "object_fit": null,
            "grid_auto_columns": null,
            "margin": null,
            "display": null,
            "left": null
          }
        },
        "3755cd6f2a464d5cba4d1449bc195165": {
          "model_module": "@jupyter-widgets/controls",
          "model_name": "HBoxModel",
          "model_module_version": "1.5.0",
          "state": {
            "_view_name": "HBoxView",
            "_dom_classes": [],
            "_model_name": "HBoxModel",
            "_view_module": "@jupyter-widgets/controls",
            "_model_module_version": "1.5.0",
            "_view_count": null,
            "_view_module_version": "1.5.0",
            "box_style": "",
            "layout": "IPY_MODEL_75dc3161a746481785d678fda2351de4",
            "_model_module": "@jupyter-widgets/controls",
            "children": [
              "IPY_MODEL_9df1072513ed45829d45418d341eb010",
              "IPY_MODEL_94aeebf079f142caae66022a5dbb7120",
              "IPY_MODEL_fcaa925e18204610a7d5b13231917417"
            ]
          }
        },
        "75dc3161a746481785d678fda2351de4": {
          "model_module": "@jupyter-widgets/base",
          "model_name": "LayoutModel",
          "model_module_version": "1.2.0",
          "state": {
            "_view_name": "LayoutView",
            "grid_template_rows": null,
            "right": null,
            "justify_content": null,
            "_view_module": "@jupyter-widgets/base",
            "overflow": null,
            "_model_module_version": "1.2.0",
            "_view_count": null,
            "flex_flow": null,
            "width": null,
            "min_width": null,
            "border": null,
            "align_items": null,
            "bottom": null,
            "_model_module": "@jupyter-widgets/base",
            "top": null,
            "grid_column": null,
            "overflow_y": null,
            "overflow_x": null,
            "grid_auto_flow": null,
            "grid_area": null,
            "grid_template_columns": null,
            "flex": null,
            "_model_name": "LayoutModel",
            "justify_items": null,
            "grid_row": null,
            "max_height": null,
            "align_content": null,
            "visibility": null,
            "align_self": null,
            "height": null,
            "min_height": null,
            "padding": null,
            "grid_auto_rows": null,
            "grid_gap": null,
            "max_width": null,
            "order": null,
            "_view_module_version": "1.2.0",
            "grid_template_areas": null,
            "object_position": null,
            "object_fit": null,
            "grid_auto_columns": null,
            "margin": null,
            "display": null,
            "left": null
          }
        },
        "9df1072513ed45829d45418d341eb010": {
          "model_module": "@jupyter-widgets/controls",
          "model_name": "HTMLModel",
          "model_module_version": "1.5.0",
          "state": {
            "_view_name": "HTMLView",
            "style": "IPY_MODEL_3a12bf647c974c2ca3fb4f3e5b005a8f",
            "_dom_classes": [],
            "description": "",
            "_model_name": "HTMLModel",
            "placeholder": "​",
            "_view_module": "@jupyter-widgets/controls",
            "_model_module_version": "1.5.0",
            "value": "100%",
            "_view_count": null,
            "_view_module_version": "1.5.0",
            "description_tooltip": null,
            "_model_module": "@jupyter-widgets/controls",
            "layout": "IPY_MODEL_5b50630c2f624771b38c1ed5cea5eb4f"
          }
        },
        "94aeebf079f142caae66022a5dbb7120": {
          "model_module": "@jupyter-widgets/controls",
          "model_name": "FloatProgressModel",
          "model_module_version": "1.5.0",
          "state": {
            "_view_name": "ProgressView",
            "style": "IPY_MODEL_49c1e54c44b14a0d9c7aed5a67a05902",
            "_dom_classes": [],
            "description": "",
            "_model_name": "FloatProgressModel",
            "bar_style": "success",
            "max": 115730790,
            "_view_module": "@jupyter-widgets/controls",
            "_model_module_version": "1.5.0",
            "value": 115730790,
            "_view_count": null,
            "_view_module_version": "1.5.0",
            "orientation": "horizontal",
            "min": 0,
            "description_tooltip": null,
            "_model_module": "@jupyter-widgets/controls",
            "layout": "IPY_MODEL_130ab3d94c3f41fc8f8c6110e9a97b94"
          }
        },
        "fcaa925e18204610a7d5b13231917417": {
          "model_module": "@jupyter-widgets/controls",
          "model_name": "HTMLModel",
          "model_module_version": "1.5.0",
          "state": {
            "_view_name": "HTMLView",
            "style": "IPY_MODEL_8f8d9c7c7663437c8cf4349cad8cada9",
            "_dom_classes": [],
            "description": "",
            "_model_name": "HTMLModel",
            "placeholder": "​",
            "_view_module": "@jupyter-widgets/controls",
            "_model_module_version": "1.5.0",
            "value": " 110M/110M [00:01&lt;00:00, 80.5MB/s]",
            "_view_count": null,
            "_view_module_version": "1.5.0",
            "description_tooltip": null,
            "_model_module": "@jupyter-widgets/controls",
            "layout": "IPY_MODEL_4d3e67f7e4cb474d8c7a7d365ac0f8be"
          }
        },
        "3a12bf647c974c2ca3fb4f3e5b005a8f": {
          "model_module": "@jupyter-widgets/controls",
          "model_name": "DescriptionStyleModel",
          "model_module_version": "1.5.0",
          "state": {
            "_view_name": "StyleView",
            "_model_name": "DescriptionStyleModel",
            "description_width": "",
            "_view_module": "@jupyter-widgets/base",
            "_model_module_version": "1.5.0",
            "_view_count": null,
            "_view_module_version": "1.2.0",
            "_model_module": "@jupyter-widgets/controls"
          }
        },
        "5b50630c2f624771b38c1ed5cea5eb4f": {
          "model_module": "@jupyter-widgets/base",
          "model_name": "LayoutModel",
          "model_module_version": "1.2.0",
          "state": {
            "_view_name": "LayoutView",
            "grid_template_rows": null,
            "right": null,
            "justify_content": null,
            "_view_module": "@jupyter-widgets/base",
            "overflow": null,
            "_model_module_version": "1.2.0",
            "_view_count": null,
            "flex_flow": null,
            "width": null,
            "min_width": null,
            "border": null,
            "align_items": null,
            "bottom": null,
            "_model_module": "@jupyter-widgets/base",
            "top": null,
            "grid_column": null,
            "overflow_y": null,
            "overflow_x": null,
            "grid_auto_flow": null,
            "grid_area": null,
            "grid_template_columns": null,
            "flex": null,
            "_model_name": "LayoutModel",
            "justify_items": null,
            "grid_row": null,
            "max_height": null,
            "align_content": null,
            "visibility": null,
            "align_self": null,
            "height": null,
            "min_height": null,
            "padding": null,
            "grid_auto_rows": null,
            "grid_gap": null,
            "max_width": null,
            "order": null,
            "_view_module_version": "1.2.0",
            "grid_template_areas": null,
            "object_position": null,
            "object_fit": null,
            "grid_auto_columns": null,
            "margin": null,
            "display": null,
            "left": null
          }
        },
        "49c1e54c44b14a0d9c7aed5a67a05902": {
          "model_module": "@jupyter-widgets/controls",
          "model_name": "ProgressStyleModel",
          "model_module_version": "1.5.0",
          "state": {
            "_view_name": "StyleView",
            "_model_name": "ProgressStyleModel",
            "description_width": "",
            "_view_module": "@jupyter-widgets/base",
            "_model_module_version": "1.5.0",
            "_view_count": null,
            "_view_module_version": "1.2.0",
            "bar_color": null,
            "_model_module": "@jupyter-widgets/controls"
          }
        },
        "130ab3d94c3f41fc8f8c6110e9a97b94": {
          "model_module": "@jupyter-widgets/base",
          "model_name": "LayoutModel",
          "model_module_version": "1.2.0",
          "state": {
            "_view_name": "LayoutView",
            "grid_template_rows": null,
            "right": null,
            "justify_content": null,
            "_view_module": "@jupyter-widgets/base",
            "overflow": null,
            "_model_module_version": "1.2.0",
            "_view_count": null,
            "flex_flow": null,
            "width": null,
            "min_width": null,
            "border": null,
            "align_items": null,
            "bottom": null,
            "_model_module": "@jupyter-widgets/base",
            "top": null,
            "grid_column": null,
            "overflow_y": null,
            "overflow_x": null,
            "grid_auto_flow": null,
            "grid_area": null,
            "grid_template_columns": null,
            "flex": null,
            "_model_name": "LayoutModel",
            "justify_items": null,
            "grid_row": null,
            "max_height": null,
            "align_content": null,
            "visibility": null,
            "align_self": null,
            "height": null,
            "min_height": null,
            "padding": null,
            "grid_auto_rows": null,
            "grid_gap": null,
            "max_width": null,
            "order": null,
            "_view_module_version": "1.2.0",
            "grid_template_areas": null,
            "object_position": null,
            "object_fit": null,
            "grid_auto_columns": null,
            "margin": null,
            "display": null,
            "left": null
          }
        },
        "8f8d9c7c7663437c8cf4349cad8cada9": {
          "model_module": "@jupyter-widgets/controls",
          "model_name": "DescriptionStyleModel",
          "model_module_version": "1.5.0",
          "state": {
            "_view_name": "StyleView",
            "_model_name": "DescriptionStyleModel",
            "description_width": "",
            "_view_module": "@jupyter-widgets/base",
            "_model_module_version": "1.5.0",
            "_view_count": null,
            "_view_module_version": "1.2.0",
            "_model_module": "@jupyter-widgets/controls"
          }
        },
        "4d3e67f7e4cb474d8c7a7d365ac0f8be": {
          "model_module": "@jupyter-widgets/base",
          "model_name": "LayoutModel",
          "model_module_version": "1.2.0",
          "state": {
            "_view_name": "LayoutView",
            "grid_template_rows": null,
            "right": null,
            "justify_content": null,
            "_view_module": "@jupyter-widgets/base",
            "overflow": null,
            "_model_module_version": "1.2.0",
            "_view_count": null,
            "flex_flow": null,
            "width": null,
            "min_width": null,
            "border": null,
            "align_items": null,
            "bottom": null,
            "_model_module": "@jupyter-widgets/base",
            "top": null,
            "grid_column": null,
            "overflow_y": null,
            "overflow_x": null,
            "grid_auto_flow": null,
            "grid_area": null,
            "grid_template_columns": null,
            "flex": null,
            "_model_name": "LayoutModel",
            "justify_items": null,
            "grid_row": null,
            "max_height": null,
            "align_content": null,
            "visibility": null,
            "align_self": null,
            "height": null,
            "min_height": null,
            "padding": null,
            "grid_auto_rows": null,
            "grid_gap": null,
            "max_width": null,
            "order": null,
            "_view_module_version": "1.2.0",
            "grid_template_areas": null,
            "object_position": null,
            "object_fit": null,
            "grid_auto_columns": null,
            "margin": null,
            "display": null,
            "left": null
          }
        },
        "104b3c4b33014a149cc3b9731e0489a1": {
          "model_module": "@jupyter-widgets/controls",
          "model_name": "HBoxModel",
          "model_module_version": "1.5.0",
          "state": {
            "_view_name": "HBoxView",
            "_dom_classes": [],
            "_model_name": "HBoxModel",
            "_view_module": "@jupyter-widgets/controls",
            "_model_module_version": "1.5.0",
            "_view_count": null,
            "_view_module_version": "1.5.0",
            "box_style": "",
            "layout": "IPY_MODEL_1ab90454578d4395be492b05f966da0d",
            "_model_module": "@jupyter-widgets/controls",
            "children": [
              "IPY_MODEL_01d6e9e1b3224cebb22470772e874a39",
              "IPY_MODEL_057101c7d672476f926dd64b02ee6bc9",
              "IPY_MODEL_5427c31a9dbe43b0a282939cbfe0f27b"
            ]
          }
        },
        "1ab90454578d4395be492b05f966da0d": {
          "model_module": "@jupyter-widgets/base",
          "model_name": "LayoutModel",
          "model_module_version": "1.2.0",
          "state": {
            "_view_name": "LayoutView",
            "grid_template_rows": null,
            "right": null,
            "justify_content": null,
            "_view_module": "@jupyter-widgets/base",
            "overflow": null,
            "_model_module_version": "1.2.0",
            "_view_count": null,
            "flex_flow": null,
            "width": null,
            "min_width": null,
            "border": null,
            "align_items": null,
            "bottom": null,
            "_model_module": "@jupyter-widgets/base",
            "top": null,
            "grid_column": null,
            "overflow_y": null,
            "overflow_x": null,
            "grid_auto_flow": null,
            "grid_area": null,
            "grid_template_columns": null,
            "flex": null,
            "_model_name": "LayoutModel",
            "justify_items": null,
            "grid_row": null,
            "max_height": null,
            "align_content": null,
            "visibility": null,
            "align_self": null,
            "height": null,
            "min_height": null,
            "padding": null,
            "grid_auto_rows": null,
            "grid_gap": null,
            "max_width": null,
            "order": null,
            "_view_module_version": "1.2.0",
            "grid_template_areas": null,
            "object_position": null,
            "object_fit": null,
            "grid_auto_columns": null,
            "margin": null,
            "display": null,
            "left": null
          }
        },
        "01d6e9e1b3224cebb22470772e874a39": {
          "model_module": "@jupyter-widgets/controls",
          "model_name": "HTMLModel",
          "model_module_version": "1.5.0",
          "state": {
            "_view_name": "HTMLView",
            "style": "IPY_MODEL_59323a2e643d49c5a076ab919f97a687",
            "_dom_classes": [],
            "description": "",
            "_model_name": "HTMLModel",
            "placeholder": "​",
            "_view_module": "@jupyter-widgets/controls",
            "_model_module_version": "1.5.0",
            "value": "100%",
            "_view_count": null,
            "_view_module_version": "1.5.0",
            "description_tooltip": null,
            "_model_module": "@jupyter-widgets/controls",
            "layout": "IPY_MODEL_b3160f729c7f49cbaa0e176e25a94aac"
          }
        },
        "057101c7d672476f926dd64b02ee6bc9": {
          "model_module": "@jupyter-widgets/controls",
          "model_name": "FloatProgressModel",
          "model_module_version": "1.5.0",
          "state": {
            "_view_name": "ProgressView",
            "style": "IPY_MODEL_6ea7412b82d241a6bd90e2aeea9e6d23",
            "_dom_classes": [],
            "description": "",
            "_model_name": "FloatProgressModel",
            "bar_style": "success",
            "max": 173245619,
            "_view_module": "@jupyter-widgets/controls",
            "_model_module_version": "1.5.0",
            "value": 173245619,
            "_view_count": null,
            "_view_module_version": "1.5.0",
            "orientation": "horizontal",
            "min": 0,
            "description_tooltip": null,
            "_model_module": "@jupyter-widgets/controls",
            "layout": "IPY_MODEL_9a97f27c46854304b4fbb799d8ffe0d2"
          }
        },
        "5427c31a9dbe43b0a282939cbfe0f27b": {
          "model_module": "@jupyter-widgets/controls",
          "model_name": "HTMLModel",
          "model_module_version": "1.5.0",
          "state": {
            "_view_name": "HTMLView",
            "style": "IPY_MODEL_5bbb4dc1eebb4a018cd2c8385cbeee2e",
            "_dom_classes": [],
            "description": "",
            "_model_name": "HTMLModel",
            "placeholder": "​",
            "_view_module": "@jupyter-widgets/controls",
            "_model_module_version": "1.5.0",
            "value": " 165M/165M [00:01&lt;00:00, 102MB/s]",
            "_view_count": null,
            "_view_module_version": "1.5.0",
            "description_tooltip": null,
            "_model_module": "@jupyter-widgets/controls",
            "layout": "IPY_MODEL_2d198a1996404645b5012e06c7271ec0"
          }
        },
        "59323a2e643d49c5a076ab919f97a687": {
          "model_module": "@jupyter-widgets/controls",
          "model_name": "DescriptionStyleModel",
          "model_module_version": "1.5.0",
          "state": {
            "_view_name": "StyleView",
            "_model_name": "DescriptionStyleModel",
            "description_width": "",
            "_view_module": "@jupyter-widgets/base",
            "_model_module_version": "1.5.0",
            "_view_count": null,
            "_view_module_version": "1.2.0",
            "_model_module": "@jupyter-widgets/controls"
          }
        },
        "b3160f729c7f49cbaa0e176e25a94aac": {
          "model_module": "@jupyter-widgets/base",
          "model_name": "LayoutModel",
          "model_module_version": "1.2.0",
          "state": {
            "_view_name": "LayoutView",
            "grid_template_rows": null,
            "right": null,
            "justify_content": null,
            "_view_module": "@jupyter-widgets/base",
            "overflow": null,
            "_model_module_version": "1.2.0",
            "_view_count": null,
            "flex_flow": null,
            "width": null,
            "min_width": null,
            "border": null,
            "align_items": null,
            "bottom": null,
            "_model_module": "@jupyter-widgets/base",
            "top": null,
            "grid_column": null,
            "overflow_y": null,
            "overflow_x": null,
            "grid_auto_flow": null,
            "grid_area": null,
            "grid_template_columns": null,
            "flex": null,
            "_model_name": "LayoutModel",
            "justify_items": null,
            "grid_row": null,
            "max_height": null,
            "align_content": null,
            "visibility": null,
            "align_self": null,
            "height": null,
            "min_height": null,
            "padding": null,
            "grid_auto_rows": null,
            "grid_gap": null,
            "max_width": null,
            "order": null,
            "_view_module_version": "1.2.0",
            "grid_template_areas": null,
            "object_position": null,
            "object_fit": null,
            "grid_auto_columns": null,
            "margin": null,
            "display": null,
            "left": null
          }
        },
        "6ea7412b82d241a6bd90e2aeea9e6d23": {
          "model_module": "@jupyter-widgets/controls",
          "model_name": "ProgressStyleModel",
          "model_module_version": "1.5.0",
          "state": {
            "_view_name": "StyleView",
            "_model_name": "ProgressStyleModel",
            "description_width": "",
            "_view_module": "@jupyter-widgets/base",
            "_model_module_version": "1.5.0",
            "_view_count": null,
            "_view_module_version": "1.2.0",
            "bar_color": null,
            "_model_module": "@jupyter-widgets/controls"
          }
        },
        "9a97f27c46854304b4fbb799d8ffe0d2": {
          "model_module": "@jupyter-widgets/base",
          "model_name": "LayoutModel",
          "model_module_version": "1.2.0",
          "state": {
            "_view_name": "LayoutView",
            "grid_template_rows": null,
            "right": null,
            "justify_content": null,
            "_view_module": "@jupyter-widgets/base",
            "overflow": null,
            "_model_module_version": "1.2.0",
            "_view_count": null,
            "flex_flow": null,
            "width": null,
            "min_width": null,
            "border": null,
            "align_items": null,
            "bottom": null,
            "_model_module": "@jupyter-widgets/base",
            "top": null,
            "grid_column": null,
            "overflow_y": null,
            "overflow_x": null,
            "grid_auto_flow": null,
            "grid_area": null,
            "grid_template_columns": null,
            "flex": null,
            "_model_name": "LayoutModel",
            "justify_items": null,
            "grid_row": null,
            "max_height": null,
            "align_content": null,
            "visibility": null,
            "align_self": null,
            "height": null,
            "min_height": null,
            "padding": null,
            "grid_auto_rows": null,
            "grid_gap": null,
            "max_width": null,
            "order": null,
            "_view_module_version": "1.2.0",
            "grid_template_areas": null,
            "object_position": null,
            "object_fit": null,
            "grid_auto_columns": null,
            "margin": null,
            "display": null,
            "left": null
          }
        },
        "5bbb4dc1eebb4a018cd2c8385cbeee2e": {
          "model_module": "@jupyter-widgets/controls",
          "model_name": "DescriptionStyleModel",
          "model_module_version": "1.5.0",
          "state": {
            "_view_name": "StyleView",
            "_model_name": "DescriptionStyleModel",
            "description_width": "",
            "_view_module": "@jupyter-widgets/base",
            "_model_module_version": "1.5.0",
            "_view_count": null,
            "_view_module_version": "1.2.0",
            "_model_module": "@jupyter-widgets/controls"
          }
        },
        "2d198a1996404645b5012e06c7271ec0": {
          "model_module": "@jupyter-widgets/base",
          "model_name": "LayoutModel",
          "model_module_version": "1.2.0",
          "state": {
            "_view_name": "LayoutView",
            "grid_template_rows": null,
            "right": null,
            "justify_content": null,
            "_view_module": "@jupyter-widgets/base",
            "overflow": null,
            "_model_module_version": "1.2.0",
            "_view_count": null,
            "flex_flow": null,
            "width": null,
            "min_width": null,
            "border": null,
            "align_items": null,
            "bottom": null,
            "_model_module": "@jupyter-widgets/base",
            "top": null,
            "grid_column": null,
            "overflow_y": null,
            "overflow_x": null,
            "grid_auto_flow": null,
            "grid_area": null,
            "grid_template_columns": null,
            "flex": null,
            "_model_name": "LayoutModel",
            "justify_items": null,
            "grid_row": null,
            "max_height": null,
            "align_content": null,
            "visibility": null,
            "align_self": null,
            "height": null,
            "min_height": null,
            "padding": null,
            "grid_auto_rows": null,
            "grid_gap": null,
            "max_width": null,
            "order": null,
            "_view_module_version": "1.2.0",
            "grid_template_areas": null,
            "object_position": null,
            "object_fit": null,
            "grid_auto_columns": null,
            "margin": null,
            "display": null,
            "left": null
          }
        }
      }
    }
  },
  "cells": [
    {
      "cell_type": "markdown",
      "metadata": {
        "id": "j4158rj2MTYB"
      },
      "source": [
        "#Дифференцированное обучение слоев"
      ]
    },
    {
      "cell_type": "markdown",
      "metadata": {
        "id": "Nlupw_QanLXB"
      },
      "source": [
        "https://www.kaggle.com/c/dog-breed-identification/submit"
      ]
    },
    {
      "cell_type": "code",
      "metadata": {
        "colab": {
          "base_uri": "https://localhost:8080/"
        },
        "id": "nCPwrzPiLyfB",
        "outputId": "e70117bd-fd77-411f-f840-ab2909b4f3b3"
      },
      "source": [
        "!nvidia-smi\n",
        "import torch\n",
        "torch.cuda.is_available()"
      ],
      "execution_count": null,
      "outputs": [
        {
          "output_type": "stream",
          "name": "stdout",
          "text": [
            "Thu Oct 28 13:23:06 2021       \n",
            "+-----------------------------------------------------------------------------+\n",
            "| NVIDIA-SMI 495.29.05    Driver Version: 460.32.03    CUDA Version: 11.2     |\n",
            "|-------------------------------+----------------------+----------------------+\n",
            "| GPU  Name        Persistence-M| Bus-Id        Disp.A | Volatile Uncorr. ECC |\n",
            "| Fan  Temp  Perf  Pwr:Usage/Cap|         Memory-Usage | GPU-Util  Compute M. |\n",
            "|                               |                      |               MIG M. |\n",
            "|===============================+======================+======================|\n",
            "|   0  Tesla K80           Off  | 00000000:00:04.0 Off |                    0 |\n",
            "| N/A   35C    P8    26W / 149W |      0MiB / 11441MiB |      0%      Default |\n",
            "|                               |                      |                  N/A |\n",
            "+-------------------------------+----------------------+----------------------+\n",
            "                                                                               \n",
            "+-----------------------------------------------------------------------------+\n",
            "| Processes:                                                                  |\n",
            "|  GPU   GI   CI        PID   Type   Process name                  GPU Memory |\n",
            "|        ID   ID                                                   Usage      |\n",
            "|=============================================================================|\n",
            "|  No running processes found                                                 |\n",
            "+-----------------------------------------------------------------------------+\n"
          ]
        },
        {
          "output_type": "execute_result",
          "data": {
            "text/plain": [
              "True"
            ]
          },
          "metadata": {},
          "execution_count": 1
        }
      ]
    },
    {
      "cell_type": "code",
      "metadata": {
        "id": "LKnp0MiaMW75"
      },
      "source": [
        "import pickle\n",
        "import os\n",
        "import sys\n",
        "import numpy as np\n",
        "import pandas as pd\n",
        "from skimage import io\n",
        "from tqdm import tqdm, tqdm_notebook\n",
        "from PIL import Image\n",
        "from pathlib import Path\n",
        "from multiprocessing.pool import ThreadPool\n",
        "from sklearn.model_selection import train_test_split\n",
        "from sklearn.preprocessing import LabelEncoder\n",
        "from torch.utils.data import Dataset, DataLoader\n",
        "import torchvision\n",
        "from torchvision import transforms, models\n",
        "import torch.nn as nn\n",
        "from matplotlib import colors, pyplot as plt\n",
        "%matplotlib inline"
      ],
      "execution_count": null,
      "outputs": []
    },
    {
      "cell_type": "markdown",
      "metadata": {
        "id": "KqB2SnpqjXs1"
      },
      "source": [
        "# Данные"
      ]
    },
    {
      "cell_type": "code",
      "metadata": {
        "colab": {
          "base_uri": "https://localhost:8080/"
        },
        "id": "L4MC5ZhyMW_S",
        "outputId": "33fd9ee1-2981-474e-a59a-d6c6934f2fd2"
      },
      "source": [
        "from google.colab import drive\n",
        "drive.mount('/content/drive')"
      ],
      "execution_count": null,
      "outputs": [
        {
          "output_type": "stream",
          "name": "stdout",
          "text": [
            "Mounted at /content/drive\n"
          ]
        }
      ]
    },
    {
      "cell_type": "code",
      "metadata": {
        "colab": {
          "base_uri": "https://localhost:8080/"
        },
        "id": "QLxevoLJMeSw",
        "outputId": "a508d63d-a73e-40d0-a62a-bef6a29544d8"
      },
      "source": [
        "!pip install efficientnet_pytorch"
      ],
      "execution_count": null,
      "outputs": [
        {
          "output_type": "stream",
          "name": "stdout",
          "text": [
            "Collecting efficientnet_pytorch\n",
            "  Downloading efficientnet_pytorch-0.7.1.tar.gz (21 kB)\n",
            "Requirement already satisfied: torch in /usr/local/lib/python3.7/dist-packages (from efficientnet_pytorch) (1.9.0+cu111)\n",
            "Requirement already satisfied: typing-extensions in /usr/local/lib/python3.7/dist-packages (from torch->efficientnet_pytorch) (3.7.4.3)\n",
            "Building wheels for collected packages: efficientnet-pytorch\n",
            "  Building wheel for efficientnet-pytorch (setup.py) ... \u001b[?25l\u001b[?25hdone\n",
            "  Created wheel for efficientnet-pytorch: filename=efficientnet_pytorch-0.7.1-py3-none-any.whl size=16446 sha256=84e6be6470738b112d68ca5a9d00071a1997bbd3df41c9103829eb549956fb57\n",
            "  Stored in directory: /root/.cache/pip/wheels/0e/cc/b2/49e74588263573ff778da58cc99b9c6349b496636a7e165be6\n",
            "Successfully built efficientnet-pytorch\n",
            "Installing collected packages: efficientnet-pytorch\n",
            "Successfully installed efficientnet-pytorch-0.7.1\n"
          ]
        }
      ]
    },
    {
      "cell_type": "code",
      "metadata": {
        "id": "6-Rruc7TMeWg"
      },
      "source": [
        "sys.path.insert(1, '/content/drive/MyDrive/Diplom')\n",
        "from functions import *"
      ],
      "execution_count": null,
      "outputs": []
    },
    {
      "cell_type": "code",
      "metadata": {
        "id": "yeR3u-pOMeZk"
      },
      "source": [
        "!unzip -q /content/drive/MyDrive/Diplom/dog-breed-identification.zip -d dogs"
      ],
      "execution_count": null,
      "outputs": []
    },
    {
      "cell_type": "code",
      "metadata": {
        "id": "tDac-apHMXDN"
      },
      "source": [
        "!unzip -q /content/drive/MyDrive/Diplom/dogs_short_train.zip -d dogs_short"
      ],
      "execution_count": null,
      "outputs": []
    },
    {
      "cell_type": "code",
      "metadata": {
        "id": "O1IYBOM2MoZ3"
      },
      "source": [
        "d = create_labels('/content/dogs/labels.csv')\n"
      ],
      "execution_count": null,
      "outputs": []
    },
    {
      "cell_type": "code",
      "metadata": {
        "id": "fPL3V-hqMocg"
      },
      "source": [
        "TRAIN_DIR = Path('/content/dogs/train')\n",
        "TEST_DIR = Path('/content/dogs/test')\n",
        "\n",
        "train_val_files = sorted(list(TRAIN_DIR.rglob('*.jpg')))\n",
        "\n",
        "train_val_labels = [d[path.name] for path in train_val_files]\n",
        "\n",
        "test_files = sorted(list(TEST_DIR.rglob('*.jpg')))\n",
        "\n",
        "train_files, val_files = train_test_split(train_val_files, test_size=0.25, \\\n",
        " stratify=train_val_labels)\n",
        "\n",
        "train_dataset = DogsDataset(train_files, mode='train')\n",
        "\n",
        "val_dataset = DogsDataset(val_files, mode='val')\n",
        "\n",
        "test_dataset = DogsDataset(test_files, mode='test')"
      ],
      "execution_count": null,
      "outputs": []
    },
    {
      "cell_type": "code",
      "metadata": {
        "id": "XZ0W5AslMofA"
      },
      "source": [
        "TRAIN_DIR_SHORT = Path('/content/dogs_short')\n",
        "\n",
        "train_val_files_short = sorted(list(TRAIN_DIR_SHORT.rglob('*.jpg')))\n",
        "\n",
        "train_val_labels_short = [d[path.name] for path in train_val_files_short]\n",
        "\n",
        "train_files_short, val_files_short = train_test_split(train_val_files_short, test_size=0.25, \\\n",
        " stratify=train_val_labels_short)\n",
        "\n",
        "train_dataset_short = DogsDataset(train_files_short, mode='train')\n",
        "\n",
        "val_dataset_short = DogsDataset(val_files_short, mode='val')"
      ],
      "execution_count": null,
      "outputs": []
    },
    {
      "cell_type": "markdown",
      "metadata": {
        "id": "WerJpG5hjbp6"
      },
      "source": [
        "# Обучение"
      ]
    },
    {
      "cell_type": "code",
      "metadata": {
        "id": "zUOewg6VMvqv"
      },
      "source": [
        "def initialize_and_train_model_diff_layers(model_name, output_num, epochs, batch_size, train_dataset, val_dataset, save_name):\n",
        "  models_list = [\"ResNet152\", \"VGG19\", \"DenseNet161\", \"EfficientNet\"]\n",
        "  found_lr =0.00005\n",
        "\n",
        "  if model_name not in models_list:\n",
        "       print(f\"{model_name} is not correct; correct modes: {models_list}\")\n",
        "       raise NameError\n",
        "\n",
        "  if (model_name == \"ResNet152\"):\n",
        "    model = models.resnet152(pretrained=True)\n",
        "\n",
        "    model.fc = nn.Sequential(nn.Linear(in_features=2048, out_features=1000, bias=True),\n",
        "                             nn.Dropout(0.5),\n",
        "                             nn.Linear(1000, 120, bias=True))\n",
        "    \n",
        "    opt = torch.optim.AdamW([{ 'params': model.fc.parameters(), 'lr': found_lr},\n",
        "                         { 'params': model.layer4.parameters(), 'lr': found_lr / 3},\n",
        "                         { 'params': model.layer3.parameters(), 'lr': found_lr / 10},\n",
        "                         { 'params': model.layer2.parameters(), 'lr': found_lr / 50},\n",
        "                         { 'params': model.layer1.parameters(), 'lr': found_lr / 100},\n",
        "                         {'params': model.bn1.parameters(), 'lr': found_lr / 1000},\n",
        "                         {'params': model.conv1.parameters(), 'lr': found_lr / 1000}],\n",
        "                        lr=found_lr / 100, amsgrad=True)\n",
        "\n",
        "\n",
        "  elif (model_name == \"VGG19\"):\n",
        "    model = models.vgg19(pretrained = True)\n",
        "    model.classifier[6] = nn.Linear(in_features=4096, out_features=120, bias=True)\n",
        "    opt = torch.optim.Adam([\n",
        "              { 'params': model.classifier.parameters(), 'lr': found_lr},\n",
        "              { 'params': model.features[27:36].parameters(), 'lr': found_lr / 3},\n",
        "              { 'params': model.features[18:27].parameters(), 'lr': found_lr / 10},\n",
        "              { 'params': model.features[9:18].parameters(), 'lr': found_lr / 50},\n",
        "              { 'params': model.features[0:9].parameters(), 'lr': found_lr / 100},\n",
        "              ], lr=found_lr / 100)\n",
        "\n",
        "  elif (model_name == \"DenseNet161\"):\n",
        "    model = models.densenet161(pretrained=True)\n",
        "\n",
        "    model.classifier = nn.Sequential(nn.Linear(2208, 128),\n",
        "                              nn.BatchNorm1d(128),\n",
        "                              nn.ReLU(),\n",
        "                              nn.Dropout(p=0.5),\n",
        "                              nn.Linear(128, 120))\n",
        "    \n",
        "    opt = torch.optim.AdamW([{ 'params': model.classifier.parameters(), 'lr': found_lr},\n",
        "                         { 'params': model.features.norm5.parameters(), 'lr': found_lr / 3},\n",
        "                         { 'params': model.features.denseblock4.parameters(), 'lr': found_lr / 10},\n",
        "                         { 'params': model.features.denseblock3.parameters(), 'lr': found_lr / 50},\n",
        "                         { 'params': model.features.denseblock2.parameters(), 'lr': found_lr / 100},\n",
        "                         { 'params': model.features.denseblock1.parameters(), 'lr': found_lr / 1000},\n",
        "                         { 'params': model.features.norm0.parameters(), 'lr': found_lr / 1000},\n",
        "                         { 'params': model.features.conv0.parameters(), 'lr': found_lr / 1000}],\n",
        "                        lr=found_lr / 100, amsgrad=True)\n",
        "  \n",
        "  else:\n",
        "    model = EfficientNet.from_pretrained('efficientnet-b6', num_classes=120)\n",
        "\n",
        "    opt = torch.optim.AdamW([\n",
        "                        { 'params': model._conv_stem.parameters(), 'lr': found_lr / 100},\n",
        "                        { 'params': model._bn0.parameters(), 'lr': found_lr / 100},\n",
        "                        { 'params': model._blocks[:11].parameters(), 'lr': found_lr / 50},\n",
        "                        { 'params': model._blocks[11:22].parameters(), 'lr': found_lr / 50},\n",
        "                        { 'params': model._blocks[22:33].parameters(), 'lr': found_lr / 3},\n",
        "                        { 'params': model._blocks[33:44].parameters(), 'lr': found_lr / 3},\n",
        "                        { 'params': model._bn1.parameters(), 'lr': found_lr},\n",
        "                        { 'params': model._fc.parameters(), 'lr': found_lr},\n",
        "                        ], lr=found_lr / 100, amsgrad=True)\n",
        "\n",
        "  torch.cuda.empty_cache()\n",
        "  \n",
        "  history = train(train_dataset, val_dataset, model.cuda(), opt, epochs, batch_size, save_name)\n",
        "  plot(history, model_name)\n",
        "  return model"
      ],
      "execution_count": null,
      "outputs": []
    },
    {
      "cell_type": "markdown",
      "metadata": {
        "id": "Ij1mgYq7jiuT"
      },
      "source": [
        "# ResNet 152"
      ]
    },
    {
      "cell_type": "markdown",
      "metadata": {
        "id": "dQL29prEjkW-"
      },
      "source": [
        "**Полный датасет**"
      ]
    },
    {
      "cell_type": "code",
      "metadata": {
        "colab": {
          "base_uri": "https://localhost:8080/",
          "height": 1000,
          "referenced_widgets": [
            "bb6d497860af4ad49fbed473176e9ef8",
            "78ab329395954c9f928b5127222c8cf0",
            "a73e077bd7d24788a4916692cc1a15dd",
            "c98377f75ab44896a6c3287a6596bc72",
            "7e01512bbb8244e999a82eddae75ec88",
            "4f0061353ce14f60986615a1b484bc6e",
            "655e483aaaf944378df735b1577176ba",
            "e5c31f19932f4494bb9c8534983a74db",
            "80d47176d2e54321a7e52f76906e768b",
            "05730577c52b40e2917e1f6567274b61",
            "e710576f92f1418bab3a2a200d96adc8"
          ]
        },
        "id": "TlePyTxvjfkt",
        "outputId": "8cde614a-0716-45b0-d7fb-d3c15cb53ad4"
      },
      "source": [
        "save_name = '/content/DogsModelRESNET152_diff.pth'\n",
        "model = initialize_and_train_model_diff_layers(\"ResNet152\", 120, 10, 32, train_dataset, val_dataset, save_name)"
      ],
      "execution_count": null,
      "outputs": [
        {
          "output_type": "stream",
          "name": "stderr",
          "text": [
            "Downloading: \"https://download.pytorch.org/models/resnet152-394f9c45.pth\" to /root/.cache/torch/hub/checkpoints/resnet152-394f9c45.pth\n"
          ]
        },
        {
          "output_type": "display_data",
          "data": {
            "application/vnd.jupyter.widget-view+json": {
              "model_id": "bb6d497860af4ad49fbed473176e9ef8",
              "version_minor": 0,
              "version_major": 2
            },
            "text/plain": [
              "  0%|          | 0.00/230M [00:00<?, ?B/s]"
            ]
          },
          "metadata": {}
        },
        {
          "output_type": "stream",
          "name": "stderr",
          "text": [
            "\repoch:   0%|          | 0/10 [00:00<?, ?it/s]/usr/local/lib/python3.7/dist-packages/torch/nn/functional.py:718: UserWarning: Named tensors and all their associated APIs are an experimental feature and subject to change. Please do not use them for anything important until they are released as stable. (Triggered internally at  /pytorch/c10/core/TensorImpl.h:1156.)\n",
            "  return torch.max_pool2d(input, kernel_size, stride, padding, dilation, ceil_mode)\n"
          ]
        },
        {
          "output_type": "stream",
          "name": "stdout",
          "text": [
            "loss 3.5976272268765532\n"
          ]
        },
        {
          "output_type": "stream",
          "name": "stderr",
          "text": [
            "epoch:  10%|█         | 1/10 [08:40<1:18:02, 520.29s/it]"
          ]
        },
        {
          "output_type": "stream",
          "name": "stdout",
          "text": [
            "Saved model with val acc 0.6956181533646323\n",
            "\n",
            "Epoch 001 train_loss: 3.5976   val_loss 1.8719 train_acc 0.3278 val_acc 0.6956\n",
            "loss 0.6688683938955222\n"
          ]
        },
        {
          "output_type": "stream",
          "name": "stderr",
          "text": [
            "epoch:  20%|██        | 2/10 [17:17<1:09:09, 518.68s/it]"
          ]
        },
        {
          "output_type": "stream",
          "name": "stdout",
          "text": [
            "Saved model with val acc 0.8129890453834115\n",
            "\n",
            "Epoch 002 train_loss: 0.6689   val_loss 0.6022 train_acc 0.7918 val_acc 0.8130\n",
            "loss 0.29454635580121585\n"
          ]
        },
        {
          "output_type": "stream",
          "name": "stderr",
          "text": [
            "epoch:  30%|███       | 3/10 [25:57<1:00:34, 519.19s/it]"
          ]
        },
        {
          "output_type": "stream",
          "name": "stdout",
          "text": [
            "Saved model with val acc 0.814945226917058\n",
            "\n",
            "Epoch 003 train_loss: 0.2945   val_loss 0.6168 train_acc 0.9033 val_acc 0.8149\n",
            "loss 0.18443699191576376\n"
          ]
        },
        {
          "output_type": "stream",
          "name": "stderr",
          "text": [
            "epoch:  40%|████      | 4/10 [34:38<51:58, 519.77s/it]"
          ]
        },
        {
          "output_type": "stream",
          "name": "stdout",
          "text": [
            "\n",
            "Epoch 004 train_loss: 0.1844   val_loss 0.6471 train_acc 0.9343 val_acc 0.8142\n",
            "loss 0.11064809465481024\n"
          ]
        },
        {
          "output_type": "stream",
          "name": "stderr",
          "text": [
            "epoch:  50%|█████     | 5/10 [43:17<43:17, 519.57s/it]"
          ]
        },
        {
          "output_type": "stream",
          "name": "stdout",
          "text": [
            "Saved model with val acc 0.8282472613458529\n",
            "\n",
            "Epoch 005 train_loss: 0.1106   val_loss 0.6300 train_acc 0.9644 val_acc 0.8282\n",
            "loss 0.06839138363504298\n"
          ]
        },
        {
          "output_type": "stream",
          "name": "stderr",
          "text": [
            "epoch:  60%|██████    | 6/10 [51:54<34:34, 518.74s/it]"
          ]
        },
        {
          "output_type": "stream",
          "name": "stdout",
          "text": [
            "\n",
            "Epoch 006 train_loss: 0.0684   val_loss 0.6413 train_acc 0.9773 val_acc 0.8239\n",
            "loss 0.04727082226319472\n"
          ]
        },
        {
          "output_type": "stream",
          "name": "stderr",
          "text": [
            "epoch:  70%|███████   | 7/10 [1:00:34<25:57, 519.09s/it]"
          ]
        },
        {
          "output_type": "stream",
          "name": "stdout",
          "text": [
            "\n",
            "Epoch 007 train_loss: 0.0473   val_loss 0.7211 train_acc 0.9860 val_acc 0.8075\n",
            "loss 0.03547714519181561\n"
          ]
        },
        {
          "output_type": "stream",
          "name": "stderr",
          "text": [
            "epoch:  80%|████████  | 8/10 [1:09:12<17:17, 518.68s/it]"
          ]
        },
        {
          "output_type": "stream",
          "name": "stdout",
          "text": [
            "Saved model with val acc 0.8352895148669797\n",
            "\n",
            "Epoch 008 train_loss: 0.0355   val_loss 0.7268 train_acc 0.9909 val_acc 0.8353\n",
            "loss 0.042134018209606154\n"
          ]
        },
        {
          "output_type": "stream",
          "name": "stderr",
          "text": [
            "epoch:  90%|█████████ | 9/10 [1:17:54<08:39, 519.82s/it]"
          ]
        },
        {
          "output_type": "stream",
          "name": "stdout",
          "text": [
            "\n",
            "Epoch 009 train_loss: 0.0421   val_loss 0.8343 train_acc 0.9892 val_acc 0.8130\n",
            "loss 0.02263190956388282\n"
          ]
        },
        {
          "output_type": "stream",
          "name": "stderr",
          "text": [
            "epoch: 100%|██████████| 10/10 [1:26:36<00:00, 519.65s/it]\n"
          ]
        },
        {
          "output_type": "stream",
          "name": "stdout",
          "text": [
            "\n",
            "Epoch 010 train_loss: 0.0226   val_loss 0.8040 train_acc 0.9940 val_acc 0.8232\n"
          ]
        },
        {
          "output_type": "display_data",
          "data": {
            "image/png": "[encoded data removed]",
            "text/plain": [
              "<Figure size 432x288 with 1 Axes>"
            ]
          },
          "metadata": {
            "needs_background": "light"
          }
        }
      ]
    },
    {
      "cell_type": "code",
      "metadata": {
        "id": "Mn-PEtq9jfna"
      },
      "source": [
        "res = make_prediction(save_name, model, test_files)\n",
        "res.to_csv('/content/drive/MyDrive/Diplom/resnet152_diff.csv', index = False)"
      ],
      "execution_count": null,
      "outputs": []
    },
    {
      "cell_type": "markdown",
      "metadata": {
        "id": "sig8n256cMcg"
      },
      "source": [
        "Kaggle score 0.72972"
      ]
    },
    {
      "cell_type": "markdown",
      "metadata": {
        "id": "MLQWE1f-jtKn"
      },
      "source": [
        "**Сокращенный датасет**"
      ]
    },
    {
      "cell_type": "code",
      "metadata": {
        "colab": {
          "base_uri": "https://localhost:8080/",
          "height": 958
        },
        "id": "0zlJz1ucjfpe",
        "outputId": "103d5da2-0c18-4a83-ae96-6ae8aba4c9b6"
      },
      "source": [
        "save_name = '/content/DogsModelRESNET152_short_diff.pth'\n",
        "model = initialize_and_train_model_diff_layers(\"ResNet152\", 120, 10, 32, train_dataset_short, val_dataset_short, save_name)"
      ],
      "execution_count": null,
      "outputs": [
        {
          "output_type": "stream",
          "name": "stderr",
          "text": [
            "\repoch:   0%|          | 0/10 [00:00<?, ?it/s]"
          ]
        },
        {
          "output_type": "stream",
          "name": "stdout",
          "text": [
            "loss 4.460737582558913\n"
          ]
        },
        {
          "output_type": "stream",
          "name": "stderr",
          "text": [
            "epoch:  10%|█         | 1/10 [03:18<29:44, 198.31s/it]"
          ]
        },
        {
          "output_type": "stream",
          "name": "stdout",
          "text": [
            "Saved model with val acc 0.5357512953367876\n",
            "\n",
            "Epoch 001 train_loss: 4.4607   val_loss 3.7323 train_acc 0.1179 val_acc 0.5358\n",
            "loss 1.2379964600789926\n"
          ]
        },
        {
          "output_type": "stream",
          "name": "stderr",
          "text": [
            "epoch:  20%|██        | 2/10 [06:36<26:24, 198.09s/it]"
          ]
        },
        {
          "output_type": "stream",
          "name": "stdout",
          "text": [
            "Saved model with val acc 0.7575129533678756\n",
            "\n",
            "Epoch 002 train_loss: 1.2380   val_loss 0.7828 train_acc 0.6929 val_acc 0.7575\n",
            "loss 0.3948784160168834\n"
          ]
        },
        {
          "output_type": "stream",
          "name": "stderr",
          "text": [
            "epoch:  30%|███       | 3/10 [09:54<23:07, 198.20s/it]"
          ]
        },
        {
          "output_type": "stream",
          "name": "stdout",
          "text": [
            "Saved model with val acc 0.7626943005181347\n",
            "\n",
            "Epoch 003 train_loss: 0.3949   val_loss 0.7679 train_acc 0.8828 val_acc 0.7627\n",
            "loss 0.20259229107186671\n"
          ]
        },
        {
          "output_type": "stream",
          "name": "stderr",
          "text": [
            "epoch:  40%|████      | 4/10 [13:13<19:50, 198.33s/it]"
          ]
        },
        {
          "output_type": "stream",
          "name": "stdout",
          "text": [
            "Saved model with val acc 0.7709844559585491\n",
            "\n",
            "Epoch 004 train_loss: 0.2026   val_loss 0.7646 train_acc 0.9357 val_acc 0.7710\n",
            "loss 0.09918912038990241\n"
          ]
        },
        {
          "output_type": "stream",
          "name": "stderr",
          "text": [
            "epoch:  50%|█████     | 5/10 [16:31<16:32, 198.41s/it]"
          ]
        },
        {
          "output_type": "stream",
          "name": "stdout",
          "text": [
            "Saved model with val acc 0.7865284974093264\n",
            "\n",
            "Epoch 005 train_loss: 0.0992   val_loss 0.7813 train_acc 0.9689 val_acc 0.7865\n",
            "loss 0.058678451075346146\n"
          ]
        },
        {
          "output_type": "stream",
          "name": "stderr",
          "text": [
            "epoch:  60%|██████    | 6/10 [19:50<13:13, 198.42s/it]"
          ]
        },
        {
          "output_type": "stream",
          "name": "stdout",
          "text": [
            "Saved model with val acc 0.7917098445595855\n",
            "\n",
            "Epoch 006 train_loss: 0.0587   val_loss 0.8058 train_acc 0.9834 val_acc 0.7917\n",
            "loss 0.03957339820682611\n"
          ]
        },
        {
          "output_type": "stream",
          "name": "stderr",
          "text": [
            "epoch:  70%|███████   | 7/10 [23:08<09:55, 198.47s/it]"
          ]
        },
        {
          "output_type": "stream",
          "name": "stdout",
          "text": [
            "Saved model with val acc 0.8124352331606217\n",
            "\n",
            "Epoch 007 train_loss: 0.0396   val_loss 0.7624 train_acc 0.9889 val_acc 0.8124\n",
            "loss 0.008570325744427214\n"
          ]
        },
        {
          "output_type": "stream",
          "name": "stderr",
          "text": [
            "epoch:  80%|████████  | 8/10 [26:25<06:35, 197.98s/it]"
          ]
        },
        {
          "output_type": "stream",
          "name": "stdout",
          "text": [
            "\n",
            "Epoch 008 train_loss: 0.0086   val_loss 0.8990 train_acc 0.9983 val_acc 0.8124\n",
            "loss 0.0062856860875885\n"
          ]
        },
        {
          "output_type": "stream",
          "name": "stderr",
          "text": [
            "epoch:  90%|█████████ | 9/10 [29:42<03:17, 197.69s/it]"
          ]
        },
        {
          "output_type": "stream",
          "name": "stdout",
          "text": [
            "\n",
            "Epoch 009 train_loss: 0.0063   val_loss 0.8617 train_acc 0.9983 val_acc 0.8093\n",
            "loss 0.008099988112573925\n"
          ]
        },
        {
          "output_type": "stream",
          "name": "stderr",
          "text": [
            "epoch: 100%|██████████| 10/10 [33:00<00:00, 198.09s/it]"
          ]
        },
        {
          "output_type": "stream",
          "name": "stdout",
          "text": [
            "Saved model with val acc 0.8155440414507772\n",
            "\n",
            "Epoch 010 train_loss: 0.0081   val_loss 0.8255 train_acc 0.9979 val_acc 0.8155\n"
          ]
        },
        {
          "output_type": "stream",
          "name": "stderr",
          "text": [
            "\n"
          ]
        },
        {
          "output_type": "display_data",
          "data": {
            "image/png": "[encoded data removed]",
            "text/plain": [
              "<Figure size 432x288 with 1 Axes>"
            ]
          },
          "metadata": {
            "needs_background": "light"
          }
        }
      ]
    },
    {
      "cell_type": "code",
      "metadata": {
        "id": "_LciOTc-jfrs"
      },
      "source": [
        "res = make_prediction(save_name, model, test_files)\n",
        "res.to_csv('/content/drive/MyDrive/Diplom/resnet152_diff_short.csv', index = False)"
      ],
      "execution_count": null,
      "outputs": []
    },
    {
      "cell_type": "markdown",
      "metadata": {
        "id": "nGgdDQfdcPID"
      },
      "source": [
        "Kaggle score 0.80292"
      ]
    },
    {
      "cell_type": "code",
      "metadata": {
        "id": "n2FeTrjyjfuX"
      },
      "source": [
        ""
      ],
      "execution_count": null,
      "outputs": []
    },
    {
      "cell_type": "markdown",
      "metadata": {
        "id": "d2hku0Doj19k"
      },
      "source": [
        "# VGG19"
      ]
    },
    {
      "cell_type": "markdown",
      "metadata": {
        "id": "hjfetJPMj5ai"
      },
      "source": [
        "**Полный датасет**"
      ]
    },
    {
      "cell_type": "code",
      "metadata": {
        "colab": {
          "base_uri": "https://localhost:8080/",
          "height": 1000,
          "referenced_widgets": [
            "f2a34cf95e8e49bd8d05a1cc65053432",
            "f80c5673d4b447589270819d54c5c054",
            "21a8b3c2769a4c38bd18beeca54af516",
            "8c8d1ca95cbd4b10ba2c5dae64b023f7",
            "ba8f4a53ef1b4f1ea49ff54924d486e2",
            "8d8632a376af40fd918b2e6c812a61b8",
            "f86e9cfae3e84317b5a224e22832b9e2",
            "cc768684631544bb9a9c3043d7d137f1",
            "195251db467141818d865938615c29cc",
            "a6c75233495645f9b8e8c1759ef001bb",
            "4d04b55019474dcdac8d67b32d0f93a1"
          ]
        },
        "id": "YhPIqJ4ajfwf",
        "outputId": "e88a25c6-ac15-468f-d568-fe03b642d892"
      },
      "source": [
        "save_name = '/content/DogsModelVGG19_diff.pth'\n",
        "model = initialize_and_train_model_diff_layers(\"VGG19\", 120, 10, 32, train_dataset, val_dataset, save_name)"
      ],
      "execution_count": null,
      "outputs": [
        {
          "output_type": "stream",
          "name": "stderr",
          "text": [
            "Downloading: \"https://download.pytorch.org/models/vgg19-dcbb9e9d.pth\" to /root/.cache/torch/hub/checkpoints/vgg19-dcbb9e9d.pth\n"
          ]
        },
        {
          "output_type": "display_data",
          "data": {
            "application/vnd.jupyter.widget-view+json": {
              "model_id": "f2a34cf95e8e49bd8d05a1cc65053432",
              "version_minor": 0,
              "version_major": 2
            },
            "text/plain": [
              "  0%|          | 0.00/548M [00:00<?, ?B/s]"
            ]
          },
          "metadata": {}
        },
        {
          "output_type": "stream",
          "name": "stderr",
          "text": [
            "\repoch:   0%|          | 0/10 [00:00<?, ?it/s]/usr/local/lib/python3.7/dist-packages/torch/nn/functional.py:718: UserWarning: Named tensors and all their associated APIs are an experimental feature and subject to change. Please do not use them for anything important until they are released as stable. (Triggered internally at  /pytorch/c10/core/TensorImpl.h:1156.)\n",
            "  return torch.max_pool2d(input, kernel_size, stride, padding, dilation, ceil_mode)\n"
          ]
        },
        {
          "output_type": "stream",
          "name": "stdout",
          "text": [
            "loss 2.0488079675737385\n"
          ]
        },
        {
          "output_type": "stream",
          "name": "stderr",
          "text": [
            "epoch:  10%|█         | 1/10 [07:21<1:06:11, 441.33s/it]"
          ]
        },
        {
          "output_type": "stream",
          "name": "stdout",
          "text": [
            "Saved model with val acc 0.7664319248826291\n",
            "\n",
            "Epoch 001 train_loss: 2.0488   val_loss 0.7853 train_acc 0.4940 val_acc 0.7664\n",
            "loss 0.41604231335679515\n"
          ]
        },
        {
          "output_type": "stream",
          "name": "stderr",
          "text": [
            "epoch:  20%|██        | 2/10 [14:34<58:13, 436.66s/it]"
          ]
        },
        {
          "output_type": "stream",
          "name": "stdout",
          "text": [
            "Saved model with val acc 0.7683881064162754\n",
            "\n",
            "Epoch 002 train_loss: 0.4160   val_loss 0.7615 train_acc 0.8666 val_acc 0.7684\n",
            "loss 0.10373489114149974\n"
          ]
        },
        {
          "output_type": "stream",
          "name": "stderr",
          "text": [
            "epoch:  30%|███       | 3/10 [21:51<50:55, 436.49s/it]"
          ]
        },
        {
          "output_type": "stream",
          "name": "stdout",
          "text": [
            "Saved model with val acc 0.7816901408450705\n",
            "\n",
            "Epoch 003 train_loss: 0.1037   val_loss 0.8027 train_acc 0.9693 val_acc 0.7817\n",
            "loss 0.03864614248417654\n"
          ]
        },
        {
          "output_type": "stream",
          "name": "stderr",
          "text": [
            "epoch:  40%|████      | 4/10 [29:06<43:36, 436.12s/it]"
          ]
        },
        {
          "output_type": "stream",
          "name": "stdout",
          "text": [
            "Saved model with val acc 0.789906103286385\n",
            "\n",
            "Epoch 004 train_loss: 0.0386   val_loss 0.8425 train_acc 0.9918 val_acc 0.7899\n",
            "loss 0.018397770807287467\n"
          ]
        },
        {
          "output_type": "stream",
          "name": "stderr",
          "text": [
            "epoch:  50%|█████     | 5/10 [36:18<36:13, 434.75s/it]"
          ]
        },
        {
          "output_type": "stream",
          "name": "stdout",
          "text": [
            "Saved model with val acc 0.8012519561815337\n",
            "\n",
            "Epoch 005 train_loss: 0.0184   val_loss 0.8597 train_acc 0.9961 val_acc 0.8013\n",
            "loss 0.008502944542190798\n"
          ]
        },
        {
          "output_type": "stream",
          "name": "stderr",
          "text": [
            "epoch:  60%|██████    | 6/10 [43:37<29:04, 436.21s/it]"
          ]
        },
        {
          "output_type": "stream",
          "name": "stdout",
          "text": [
            "\n",
            "Epoch 006 train_loss: 0.0085   val_loss 0.9079 train_acc 0.9983 val_acc 0.7919\n",
            "loss 0.010301617800289443\n"
          ]
        },
        {
          "output_type": "stream",
          "name": "stderr",
          "text": [
            "epoch:  70%|███████   | 7/10 [51:04<21:58, 439.44s/it]"
          ]
        },
        {
          "output_type": "stream",
          "name": "stdout",
          "text": [
            "\n",
            "Epoch 007 train_loss: 0.0103   val_loss 0.8408 train_acc 0.9973 val_acc 0.7966\n",
            "loss 0.005487265307801279\n"
          ]
        },
        {
          "output_type": "stream",
          "name": "stderr",
          "text": [
            "epoch:  80%|████████  | 8/10 [58:10<14:30, 435.29s/it]"
          ]
        },
        {
          "output_type": "stream",
          "name": "stdout",
          "text": [
            "\n",
            "Epoch 008 train_loss: 0.0055   val_loss 0.9522 train_acc 0.9987 val_acc 0.7950\n",
            "loss 0.004234099513500615\n"
          ]
        },
        {
          "output_type": "stream",
          "name": "stderr",
          "text": [
            "epoch:  90%|█████████ | 9/10 [1:05:20<07:13, 433.74s/it]"
          ]
        },
        {
          "output_type": "stream",
          "name": "stdout",
          "text": [
            "\n",
            "Epoch 009 train_loss: 0.0042   val_loss 0.9598 train_acc 0.9988 val_acc 0.7981\n",
            "loss 0.004852889329092973\n"
          ]
        },
        {
          "output_type": "stream",
          "name": "stderr",
          "text": [
            "epoch: 100%|██████████| 10/10 [1:12:37<00:00, 435.78s/it]\n"
          ]
        },
        {
          "output_type": "stream",
          "name": "stdout",
          "text": [
            "\n",
            "Epoch 010 train_loss: 0.0049   val_loss 0.9366 train_acc 0.9987 val_acc 0.7985\n"
          ]
        },
        {
          "output_type": "display_data",
          "data": {
            "image/png": "[encoded data removed]",
            "text/plain": [
              "<Figure size 432x288 with 1 Axes>"
            ]
          },
          "metadata": {
            "needs_background": "light"
          }
        }
      ]
    },
    {
      "cell_type": "code",
      "metadata": {
        "id": "APO1DsnrkCvd"
      },
      "source": [
        "res = make_prediction(save_name, model, test_files)\n",
        "res.to_csv('/content/drive/MyDrive/Diplom/vgg19_diff.csv', index = False)"
      ],
      "execution_count": null,
      "outputs": []
    },
    {
      "cell_type": "markdown",
      "metadata": {
        "id": "Qmopcsdb6yJ-"
      },
      "source": [
        "Kaggle score 0.86622"
      ]
    },
    {
      "cell_type": "markdown",
      "metadata": {
        "id": "eXvwl8xTj9sA"
      },
      "source": [
        "**Сокращенный датасет**"
      ]
    },
    {
      "cell_type": "code",
      "metadata": {
        "id": "X41tCJW8kAzA",
        "colab": {
          "base_uri": "https://localhost:8080/",
          "height": 958
        },
        "outputId": "64bb00c0-22b9-4e2b-a3cf-47f81ec9c1ff"
      },
      "source": [
        "save_name = '/content/DogsModelVGG19_diff_short.pth'\n",
        "model = initialize_and_train_model_diff_layers(\"VGG19\", 120, 10, 32, train_dataset_short, val_dataset_short, save_name)"
      ],
      "execution_count": null,
      "outputs": [
        {
          "output_type": "stream",
          "name": "stderr",
          "text": [
            "\repoch:   0%|          | 0/10 [00:00<?, ?it/s]"
          ]
        },
        {
          "output_type": "stream",
          "name": "stdout",
          "text": [
            "loss 3.342074809232688\n"
          ]
        },
        {
          "output_type": "stream",
          "name": "stderr",
          "text": [
            "epoch:  10%|█         | 1/10 [02:40<24:04, 160.54s/it]"
          ]
        },
        {
          "output_type": "stream",
          "name": "stdout",
          "text": [
            "Saved model with val acc 0.682901554404145\n",
            "\n",
            "Epoch 001 train_loss: 3.3421   val_loss 1.1682 train_acc 0.2687 val_acc 0.6829\n",
            "loss 0.555206351878732\n"
          ]
        },
        {
          "output_type": "stream",
          "name": "stderr",
          "text": [
            "epoch:  20%|██        | 2/10 [05:21<21:26, 160.76s/it]"
          ]
        },
        {
          "output_type": "stream",
          "name": "stdout",
          "text": [
            "Saved model with val acc 0.7212435233160621\n",
            "\n",
            "Epoch 002 train_loss: 0.5552   val_loss 0.9822 train_acc 0.8402 val_acc 0.7212\n",
            "loss 0.08500352755374434\n"
          ]
        },
        {
          "output_type": "stream",
          "name": "stderr",
          "text": [
            "epoch:  30%|███       | 3/10 [08:02<18:45, 160.82s/it]"
          ]
        },
        {
          "output_type": "stream",
          "name": "stdout",
          "text": [
            "Saved model with val acc 0.7316062176165803\n",
            "\n",
            "Epoch 003 train_loss: 0.0850   val_loss 0.9941 train_acc 0.9768 val_acc 0.7316\n",
            "loss 0.01978204817347548\n"
          ]
        },
        {
          "output_type": "stream",
          "name": "stderr",
          "text": [
            "epoch:  40%|████      | 4/10 [10:42<16:03, 160.64s/it]"
          ]
        },
        {
          "output_type": "stream",
          "name": "stdout",
          "text": [
            "Saved model with val acc 0.7430051813471502\n",
            "\n",
            "Epoch 004 train_loss: 0.0198   val_loss 1.0377 train_acc 0.9959 val_acc 0.7430\n",
            "loss 0.008869170119636853\n"
          ]
        },
        {
          "output_type": "stream",
          "name": "stderr",
          "text": [
            "epoch:  50%|█████     | 5/10 [13:21<13:19, 159.96s/it]"
          ]
        },
        {
          "output_type": "stream",
          "name": "stdout",
          "text": [
            "\n",
            "Epoch 005 train_loss: 0.0089   val_loss 1.0957 train_acc 0.9979 val_acc 0.7389\n",
            "loss 0.007704746195409488\n"
          ]
        },
        {
          "output_type": "stream",
          "name": "stderr",
          "text": [
            "epoch:  60%|██████    | 6/10 [16:01<10:40, 160.07s/it]"
          ]
        },
        {
          "output_type": "stream",
          "name": "stdout",
          "text": [
            "Saved model with val acc 0.7440414507772021\n",
            "\n",
            "Epoch 006 train_loss: 0.0077   val_loss 1.0325 train_acc 0.9990 val_acc 0.7440\n",
            "loss 0.004098363582939773\n"
          ]
        },
        {
          "output_type": "stream",
          "name": "stderr",
          "text": [
            "epoch:  70%|███████   | 7/10 [18:42<08:01, 160.34s/it]"
          ]
        },
        {
          "output_type": "stream",
          "name": "stdout",
          "text": [
            "Saved model with val acc 0.7512953367875648\n",
            "\n",
            "Epoch 007 train_loss: 0.0041   val_loss 1.0631 train_acc 0.9993 val_acc 0.7513\n",
            "loss 0.0005181464303717537\n"
          ]
        },
        {
          "output_type": "stream",
          "name": "stderr",
          "text": [
            "epoch:  80%|████████  | 8/10 [21:20<05:19, 159.65s/it]"
          ]
        },
        {
          "output_type": "stream",
          "name": "stdout",
          "text": [
            "\n",
            "Epoch 008 train_loss: 0.0005   val_loss 1.1117 train_acc 1.0000 val_acc 0.7503\n",
            "loss 0.00033613492667586135\n"
          ]
        },
        {
          "output_type": "stream",
          "name": "stderr",
          "text": [
            "epoch:  90%|█████████ | 9/10 [24:01<02:40, 160.01s/it]"
          ]
        },
        {
          "output_type": "stream",
          "name": "stdout",
          "text": [
            "Saved model with val acc 0.7523316062176165\n",
            "\n",
            "Epoch 009 train_loss: 0.0003   val_loss 1.1464 train_acc 1.0000 val_acc 0.7523\n",
            "loss 0.0002428117791829337\n"
          ]
        },
        {
          "output_type": "stream",
          "name": "stderr",
          "text": [
            "epoch: 100%|██████████| 10/10 [26:41<00:00, 160.12s/it]"
          ]
        },
        {
          "output_type": "stream",
          "name": "stdout",
          "text": [
            "Saved model with val acc 0.7544041450777201\n",
            "\n",
            "Epoch 010 train_loss: 0.0002   val_loss 1.1754 train_acc 1.0000 val_acc 0.7544\n"
          ]
        },
        {
          "output_type": "stream",
          "name": "stderr",
          "text": [
            "\n"
          ]
        },
        {
          "output_type": "display_data",
          "data": {
            "image/png": "[encoded data removed]",
            "text/plain": [
              "<Figure size 432x288 with 1 Axes>"
            ]
          },
          "metadata": {
            "needs_background": "light"
          }
        }
      ]
    },
    {
      "cell_type": "code",
      "metadata": {
        "id": "t-qD1t3WkIxX"
      },
      "source": [
        "res = make_prediction(save_name, model, test_files)\n",
        "res.to_csv('/content/drive/MyDrive/Diplom/vgg19_diff_short.csv', index = False)"
      ],
      "execution_count": null,
      "outputs": []
    },
    {
      "cell_type": "markdown",
      "metadata": {
        "id": "ONMfk7RN7miL"
      },
      "source": [
        "Kaggle score 1.17212"
      ]
    },
    {
      "cell_type": "markdown",
      "metadata": {
        "id": "OCCIOy5KkMBW"
      },
      "source": [
        "# DenseNet161"
      ]
    },
    {
      "cell_type": "markdown",
      "metadata": {
        "id": "rnrSAugVkRTR"
      },
      "source": [
        "**Полный датасет**"
      ]
    },
    {
      "cell_type": "code",
      "metadata": {
        "id": "g9hMEPLCkPAr",
        "colab": {
          "base_uri": "https://localhost:8080/",
          "height": 1000,
          "referenced_widgets": [
            "e235a4d9036f45de97544d223146e973",
            "4df01c36edf94558a21dc6aed69f20c0",
            "bbee7b827900431b96f91dc3b048f30c",
            "592acf3dbd844b299d7a6f748a61f08b",
            "45ec55686576483a80f5dab918287fdf",
            "4d72cc81b35d4eb099a8a8ecaf92fe7c",
            "0a3cd3218d914937a4bf7406f02f7165",
            "c1270f55d858400f9c0850b2a8edad9c",
            "97ad5db2700a4a748171ec8be1035c6e",
            "a443eec733b141e2982477fd2662905b",
            "04de797fc9384d3c9804a221c0d69a29"
          ]
        },
        "outputId": "5f8e45fc-97f3-44da-bd41-498e618313fd"
      },
      "source": [
        "save_name = '/content/DogsModelDenseNet161_diff.pth'\n",
        "model = initialize_and_train_model_diff_layers(\"DenseNet161\", 120, 10, 32, train_dataset, val_dataset, save_name)"
      ],
      "execution_count": null,
      "outputs": [
        {
          "metadata": {
            "tags": null
          },
          "name": "stderr",
          "output_type": "stream",
          "text": [
            "Downloading: \"https://download.pytorch.org/models/densenet161-8d451a50.pth\" to /root/.cache/torch/hub/checkpoints/densenet161-8d451a50.pth\n"
          ]
        },
        {
          "data": {
            "application/vnd.jupyter.widget-view+json": {
              "model_id": "e235a4d9036f45de97544d223146e973",
              "version_major": 2,
              "version_minor": 0
            },
            "text/plain": [
              "  0%|          | 0.00/110M [00:00<?, ?B/s]"
            ]
          },
          "metadata": {},
          "output_type": "display_data"
        },
        {
          "metadata": {
            "tags": null
          },
          "name": "stderr",
          "output_type": "stream",
          "text": [
            "\repoch:   0%|          | 0/10 [00:00<?, ?it/s]"
          ]
        },
        {
          "output_type": "stream",
          "name": "stdout",
          "text": [
            "loss 4.527617918676849\n"
          ]
        },
        {
          "output_type": "stream",
          "name": "stderr",
          "text": [
            "epoch:  10%|█         | 1/10 [09:07<1:22:06, 547.44s/it]"
          ]
        },
        {
          "output_type": "stream",
          "name": "stdout",
          "text": [
            "Saved model with val acc 0.289906103286385\n",
            "\n",
            "Epoch 001 train_loss: 4.5276   val_loss 4.0037 train_acc 0.0620 val_acc 0.2899\n",
            "loss 1.7075184151363099\n"
          ]
        },
        {
          "output_type": "stream",
          "name": "stderr",
          "text": [
            "epoch:  20%|██        | 2/10 [18:08<1:12:31, 543.93s/it]"
          ]
        },
        {
          "output_type": "stream",
          "name": "stdout",
          "text": [
            "Saved model with val acc 0.715962441314554\n",
            "\n",
            "Epoch 002 train_loss: 1.7075   val_loss 0.9592 train_acc 0.5767 val_acc 0.7160\n",
            "loss 0.6705674074226716\n"
          ]
        },
        {
          "output_type": "stream",
          "name": "stderr",
          "text": [
            "epoch:  30%|███       | 3/10 [27:09<1:03:18, 542.60s/it]"
          ]
        },
        {
          "output_type": "stream",
          "name": "stdout",
          "text": [
            "Saved model with val acc 0.7672143974960877\n",
            "\n",
            "Epoch 003 train_loss: 0.6706   val_loss 0.7548 train_acc 0.8000 val_acc 0.7672\n",
            "loss 0.47656139977880846\n"
          ]
        },
        {
          "output_type": "stream",
          "name": "stderr",
          "text": [
            "epoch:  40%|████      | 4/10 [36:12<54:14, 542.41s/it]"
          ]
        },
        {
          "output_type": "stream",
          "name": "stdout",
          "text": [
            "Saved model with val acc 0.7824726134585289\n",
            "\n",
            "Epoch 004 train_loss: 0.4766   val_loss 0.7257 train_acc 0.8600 val_acc 0.7825\n",
            "loss 0.36152132410636745\n"
          ]
        },
        {
          "output_type": "stream",
          "name": "stderr",
          "text": [
            "epoch:  50%|█████     | 5/10 [45:13<45:10, 542.02s/it]"
          ]
        },
        {
          "output_type": "stream",
          "name": "stdout",
          "text": [
            "Saved model with val acc 0.7918622848200313\n",
            "\n",
            "Epoch 005 train_loss: 0.3615   val_loss 0.7025 train_acc 0.8920 val_acc 0.7919\n",
            "loss 0.28102618447528505\n"
          ]
        },
        {
          "output_type": "stream",
          "name": "stderr",
          "text": [
            "epoch:  60%|██████    | 6/10 [54:13<36:05, 541.41s/it]"
          ]
        },
        {
          "output_type": "stream",
          "name": "stdout",
          "text": [
            "Saved model with val acc 0.7981220657276995\n",
            "\n",
            "Epoch 006 train_loss: 0.2810   val_loss 0.6673 train_acc 0.9178 val_acc 0.7981\n",
            "loss 0.2087204992740048\n"
          ]
        },
        {
          "output_type": "stream",
          "name": "stderr",
          "text": [
            "epoch:  70%|███████   | 7/10 [1:03:12<27:01, 540.51s/it]"
          ]
        },
        {
          "output_type": "stream",
          "name": "stdout",
          "text": [
            "\n",
            "Epoch 007 train_loss: 0.2087   val_loss 0.6909 train_acc 0.9448 val_acc 0.7946\n",
            "loss 0.15751633607191265\n"
          ]
        },
        {
          "output_type": "stream",
          "name": "stderr",
          "text": [
            "epoch:  80%|████████  | 8/10 [1:12:11<17:59, 539.95s/it]"
          ]
        },
        {
          "output_type": "stream",
          "name": "stdout",
          "text": [
            "Saved model with val acc 0.8035993740219093\n",
            "\n",
            "Epoch 008 train_loss: 0.1575   val_loss 0.6906 train_acc 0.9616 val_acc 0.8036\n",
            "loss 0.11182222261678883\n"
          ]
        },
        {
          "output_type": "stream",
          "name": "stderr",
          "text": [
            "epoch:  90%|█████████ | 9/10 [1:21:09<08:59, 539.62s/it]"
          ]
        },
        {
          "output_type": "stream",
          "name": "stdout",
          "text": [
            "\n",
            "Epoch 009 train_loss: 0.1118   val_loss 0.7414 train_acc 0.9730 val_acc 0.7903\n",
            "loss 0.07903369357714664\n"
          ]
        },
        {
          "output_type": "stream",
          "name": "stderr",
          "text": [
            "epoch: 100%|██████████| 10/10 [1:30:08<00:00, 540.89s/it]\n"
          ]
        },
        {
          "output_type": "stream",
          "name": "stdout",
          "text": [
            "\n",
            "Epoch 010 train_loss: 0.0790   val_loss 0.7642 train_acc 0.9845 val_acc 0.7926\n"
          ]
        },
        {
          "output_type": "display_data",
          "data": {
            "image/png": "[encoded data removed]",
            "text/plain": [
              "<Figure size 432x288 with 1 Axes>"
            ]
          },
          "metadata": {
            "needs_background": "light"
          }
        }
      ]
    },
    {
      "cell_type": "code",
      "metadata": {
        "id": "3hMBtyyxkPD3"
      },
      "source": [
        "res = make_prediction(save_name, model, test_files)\n",
        "res.to_csv('/content/drive/MyDrive/Diplom/densenet161_diff.csv', index = False)"
      ],
      "execution_count": null,
      "outputs": []
    },
    {
      "cell_type": "markdown",
      "metadata": {
        "id": "Bb41lnry7LFC"
      },
      "source": [
        "Kaggle score 0.73347"
      ]
    },
    {
      "cell_type": "markdown",
      "metadata": {
        "id": "hPXofVUekWKH"
      },
      "source": [
        "**Сокращенный датасет**"
      ]
    },
    {
      "cell_type": "code",
      "metadata": {
        "id": "veq4RLfkkYhH",
        "colab": {
          "base_uri": "https://localhost:8080/",
          "height": 1000,
          "referenced_widgets": [
            "3755cd6f2a464d5cba4d1449bc195165",
            "75dc3161a746481785d678fda2351de4",
            "9df1072513ed45829d45418d341eb010",
            "94aeebf079f142caae66022a5dbb7120",
            "fcaa925e18204610a7d5b13231917417",
            "3a12bf647c974c2ca3fb4f3e5b005a8f",
            "5b50630c2f624771b38c1ed5cea5eb4f",
            "49c1e54c44b14a0d9c7aed5a67a05902",
            "130ab3d94c3f41fc8f8c6110e9a97b94",
            "8f8d9c7c7663437c8cf4349cad8cada9",
            "4d3e67f7e4cb474d8c7a7d365ac0f8be"
          ]
        },
        "outputId": "c6112149-2b7b-45cf-961a-a70a79f64b39"
      },
      "source": [
        "save_name = '/content/DogsModelDenseNet161_diff_short.pth'\n",
        "model = initialize_and_train_model_diff_layers(\"DenseNet161\", 120, 10, 32, train_dataset_short, val_dataset_short, save_name)"
      ],
      "execution_count": null,
      "outputs": [
        {
          "output_type": "stream",
          "name": "stderr",
          "text": [
            "Downloading: \"https://download.pytorch.org/models/densenet161-8d451a50.pth\" to /root/.cache/torch/hub/checkpoints/densenet161-8d451a50.pth\n"
          ]
        },
        {
          "output_type": "display_data",
          "data": {
            "application/vnd.jupyter.widget-view+json": {
              "model_id": "3755cd6f2a464d5cba4d1449bc195165",
              "version_minor": 0,
              "version_major": 2
            },
            "text/plain": [
              "  0%|          | 0.00/110M [00:00<?, ?B/s]"
            ]
          },
          "metadata": {}
        },
        {
          "output_type": "stream",
          "name": "stderr",
          "text": [
            "\repoch:   0%|          | 0/10 [00:00<?, ?it/s]/usr/local/lib/python3.7/dist-packages/torch/nn/functional.py:718: UserWarning: Named tensors and all their associated APIs are an experimental feature and subject to change. Please do not use them for anything important until they are released as stable. (Triggered internally at  /pytorch/c10/core/TensorImpl.h:1156.)\n",
            "  return torch.max_pool2d(input, kernel_size, stride, padding, dilation, ceil_mode)\n"
          ]
        },
        {
          "output_type": "stream",
          "name": "stdout",
          "text": [
            "loss 4.764045727203496\n"
          ]
        },
        {
          "output_type": "stream",
          "name": "stderr",
          "text": [
            "epoch:  10%|█         | 1/10 [03:23<30:33, 203.73s/it]"
          ]
        },
        {
          "output_type": "stream",
          "name": "stdout",
          "text": [
            "Saved model with val acc 0.07668393782383419\n",
            "\n",
            "Epoch 001 train_loss: 4.7640   val_loss 4.4815 train_acc 0.0225 val_acc 0.0767\n",
            "loss 3.6419890665579304\n"
          ]
        },
        {
          "output_type": "stream",
          "name": "stderr",
          "text": [
            "epoch:  20%|██        | 2/10 [06:45<27:02, 202.84s/it]"
          ]
        },
        {
          "output_type": "stream",
          "name": "stdout",
          "text": [
            "Saved model with val acc 0.36062176165803106\n",
            "\n",
            "Epoch 002 train_loss: 3.6420   val_loss 2.6093 train_acc 0.2203 val_acc 0.3606\n",
            "loss 1.6537034031761138\n"
          ]
        },
        {
          "output_type": "stream",
          "name": "stderr",
          "text": [
            "epoch:  30%|███       | 3/10 [10:08<23:37, 202.48s/it]"
          ]
        },
        {
          "output_type": "stream",
          "name": "stdout",
          "text": [
            "Saved model with val acc 0.5761658031088083\n",
            "\n",
            "Epoch 003 train_loss: 1.6537   val_loss 1.4924 train_acc 0.5754 val_acc 0.5762\n",
            "loss 0.8491742449347573\n"
          ]
        },
        {
          "output_type": "stream",
          "name": "stderr",
          "text": [
            "epoch:  40%|████      | 4/10 [13:30<20:13, 202.32s/it]"
          ]
        },
        {
          "output_type": "stream",
          "name": "stdout",
          "text": [
            "Saved model with val acc 0.6704663212435232\n",
            "\n",
            "Epoch 004 train_loss: 0.8492   val_loss 1.1756 train_acc 0.7673 val_acc 0.6705\n",
            "loss 0.553888136173185\n"
          ]
        },
        {
          "output_type": "stream",
          "name": "stderr",
          "text": [
            "epoch:  50%|█████     | 5/10 [16:51<16:50, 202.16s/it]"
          ]
        },
        {
          "output_type": "stream",
          "name": "stdout",
          "text": [
            "Saved model with val acc 0.689119170984456\n",
            "\n",
            "Epoch 005 train_loss: 0.5539   val_loss 1.1033 train_acc 0.8506 val_acc 0.6891\n",
            "loss 0.3741285145117864\n"
          ]
        },
        {
          "output_type": "stream",
          "name": "stderr",
          "text": [
            "epoch:  60%|██████    | 6/10 [20:13<13:28, 202.07s/it]"
          ]
        },
        {
          "output_type": "stream",
          "name": "stdout",
          "text": [
            "Saved model with val acc 0.7025906735751295\n",
            "\n",
            "Epoch 006 train_loss: 0.3741   val_loss 1.0915 train_acc 0.9025 val_acc 0.7026\n",
            "loss 0.2600331287083949\n"
          ]
        },
        {
          "output_type": "stream",
          "name": "stderr",
          "text": [
            "epoch:  70%|███████   | 7/10 [23:35<10:05, 201.94s/it]"
          ]
        },
        {
          "output_type": "stream",
          "name": "stdout",
          "text": [
            "\n",
            "Epoch 007 train_loss: 0.2600   val_loss 1.1455 train_acc 0.9429 val_acc 0.6860\n",
            "loss 0.181273853764412\n"
          ]
        },
        {
          "output_type": "stream",
          "name": "stderr",
          "text": [
            "epoch:  80%|████████  | 8/10 [26:57<06:44, 202.08s/it]"
          ]
        },
        {
          "output_type": "stream",
          "name": "stdout",
          "text": [
            "Saved model with val acc 0.7077720207253886\n",
            "\n",
            "Epoch 008 train_loss: 0.1813   val_loss 1.0951 train_acc 0.9578 val_acc 0.7078\n",
            "loss 0.1159979722476764\n"
          ]
        },
        {
          "output_type": "stream",
          "name": "stderr",
          "text": [
            "epoch:  90%|█████████ | 9/10 [30:19<03:22, 202.07s/it]"
          ]
        },
        {
          "output_type": "stream",
          "name": "stdout",
          "text": [
            "\n",
            "Epoch 009 train_loss: 0.1160   val_loss 1.0915 train_acc 0.9813 val_acc 0.7057\n",
            "loss 0.09221706425005964\n"
          ]
        },
        {
          "output_type": "stream",
          "name": "stderr",
          "text": [
            "epoch: 100%|██████████| 10/10 [33:42<00:00, 202.22s/it]"
          ]
        },
        {
          "output_type": "stream",
          "name": "stdout",
          "text": [
            "Saved model with val acc 0.7150259067357513\n",
            "\n",
            "Epoch 010 train_loss: 0.0922   val_loss 1.1158 train_acc 0.9865 val_acc 0.7150\n"
          ]
        },
        {
          "output_type": "stream",
          "name": "stderr",
          "text": [
            "\n"
          ]
        },
        {
          "output_type": "display_data",
          "data": {
            "image/png": "[encoded data removed]",
            "text/plain": [
              "<Figure size 432x288 with 1 Axes>"
            ]
          },
          "metadata": {
            "needs_background": "light"
          }
        }
      ]
    },
    {
      "cell_type": "code",
      "metadata": {
        "id": "P75gfZpHkYje"
      },
      "source": [
        "res = make_prediction(save_name, model, test_files)\n",
        "res.to_csv('/content/drive/MyDrive/Diplom/densenet161_diff_short.csv', index = False)"
      ],
      "execution_count": null,
      "outputs": []
    },
    {
      "cell_type": "markdown",
      "metadata": {
        "id": "bSQpW5RUJJzH"
      },
      "source": [
        "Kaggle score 1.04323"
      ]
    },
    {
      "cell_type": "code",
      "metadata": {
        "id": "UQcHrolakdEo"
      },
      "source": [
        ""
      ],
      "execution_count": null,
      "outputs": []
    },
    {
      "cell_type": "markdown",
      "metadata": {
        "id": "q_NcQ_3KkeId"
      },
      "source": [
        "# EfficientNet B6"
      ]
    },
    {
      "cell_type": "markdown",
      "metadata": {
        "id": "236ob6ATkohW"
      },
      "source": [
        "**Полный датасет**"
      ]
    },
    {
      "cell_type": "code",
      "metadata": {
        "id": "QYrXWV9XkdHN",
        "colab": {
          "base_uri": "https://localhost:8080/",
          "height": 1000,
          "referenced_widgets": [
            "104b3c4b33014a149cc3b9731e0489a1",
            "1ab90454578d4395be492b05f966da0d",
            "01d6e9e1b3224cebb22470772e874a39",
            "057101c7d672476f926dd64b02ee6bc9",
            "5427c31a9dbe43b0a282939cbfe0f27b",
            "59323a2e643d49c5a076ab919f97a687",
            "b3160f729c7f49cbaa0e176e25a94aac",
            "6ea7412b82d241a6bd90e2aeea9e6d23",
            "9a97f27c46854304b4fbb799d8ffe0d2",
            "5bbb4dc1eebb4a018cd2c8385cbeee2e",
            "2d198a1996404645b5012e06c7271ec0"
          ]
        },
        "outputId": "8e1680df-48df-4806-fe21-a7cece6b5c52"
      },
      "source": [
        "save_name = '/content/EfficientNetB6_diff.pth'\n",
        "model = initialize_and_train_model_diff_layers(\"EfficientNet\", 120, 10, 16, train_dataset, val_dataset, save_name)"
      ],
      "execution_count": null,
      "outputs": [
        {
          "output_type": "stream",
          "name": "stderr",
          "text": [
            "Downloading: \"https://github.com/lukemelas/EfficientNet-PyTorch/releases/download/1.0/efficientnet-b6-c76e70fd.pth\" to /root/.cache/torch/hub/checkpoints/efficientnet-b6-c76e70fd.pth\n"
          ]
        },
        {
          "output_type": "display_data",
          "data": {
            "application/vnd.jupyter.widget-view+json": {
              "model_id": "104b3c4b33014a149cc3b9731e0489a1",
              "version_minor": 0,
              "version_major": 2
            },
            "text/plain": [
              "  0%|          | 0.00/165M [00:00<?, ?B/s]"
            ]
          },
          "metadata": {}
        },
        {
          "output_type": "stream",
          "name": "stdout",
          "text": [
            "Loaded pretrained weights for efficientnet-b6\n"
          ]
        },
        {
          "output_type": "stream",
          "name": "stderr",
          "text": [
            "\repoch:   0%|          | 0/10 [00:00<?, ?it/s]"
          ]
        },
        {
          "output_type": "stream",
          "name": "stdout",
          "text": [
            "loss 4.654423409642857\n"
          ]
        },
        {
          "output_type": "stream",
          "name": "stderr",
          "text": [
            "epoch:  10%|█         | 1/10 [12:35<1:53:17, 755.25s/it]"
          ]
        },
        {
          "output_type": "stream",
          "name": "stdout",
          "text": [
            "Saved model with val acc 0.3841940532081377\n",
            "\n",
            "Epoch 001 train_loss: 4.6544   val_loss 4.4695 train_acc 0.0823 val_acc 0.3842\n",
            "loss 1.922174531067441\n"
          ]
        },
        {
          "output_type": "stream",
          "name": "stderr",
          "text": [
            "epoch:  20%|██        | 2/10 [24:57<1:39:40, 747.55s/it]"
          ]
        },
        {
          "output_type": "stream",
          "name": "stdout",
          "text": [
            "Saved model with val acc 0.7652582159624414\n",
            "\n",
            "Epoch 002 train_loss: 1.9222   val_loss 0.8124 train_acc 0.6323 val_acc 0.7653\n",
            "loss 0.45279986275315764\n"
          ]
        },
        {
          "output_type": "stream",
          "name": "stderr",
          "text": [
            "epoch:  30%|███       | 3/10 [37:17<1:26:50, 744.32s/it]"
          ]
        },
        {
          "output_type": "stream",
          "name": "stdout",
          "text": [
            "Saved model with val acc 0.7820813771517997\n",
            "\n",
            "Epoch 003 train_loss: 0.4528   val_loss 0.7022 train_acc 0.8643 val_acc 0.7821\n",
            "loss 0.18817317937256586\n"
          ]
        },
        {
          "output_type": "stream",
          "name": "stderr",
          "text": [
            "epoch:  40%|████      | 4/10 [49:38<1:14:18, 743.01s/it]"
          ]
        },
        {
          "output_type": "stream",
          "name": "stdout",
          "text": [
            "Saved model with val acc 0.7902973395931142\n",
            "\n",
            "Epoch 004 train_loss: 0.1882   val_loss 0.7225 train_acc 0.9443 val_acc 0.7903\n",
            "loss 0.0833054526829809\n"
          ]
        },
        {
          "output_type": "stream",
          "name": "stderr",
          "text": [
            "epoch:  50%|█████     | 5/10 [1:02:05<1:02:01, 744.21s/it]"
          ]
        },
        {
          "output_type": "stream",
          "name": "stdout",
          "text": [
            "\n",
            "Epoch 005 train_loss: 0.0833   val_loss 0.7605 train_acc 0.9747 val_acc 0.7856\n",
            "loss 0.0345752785630945\n"
          ]
        },
        {
          "output_type": "stream",
          "name": "stderr",
          "text": [
            "epoch:  60%|██████    | 6/10 [1:14:26<49:32, 743.12s/it]"
          ]
        },
        {
          "output_type": "stream",
          "name": "stdout",
          "text": [
            "Saved model with val acc 0.7961658841940532\n",
            "\n",
            "Epoch 006 train_loss: 0.0346   val_loss 0.8376 train_acc 0.9920 val_acc 0.7962\n",
            "loss 0.015744292238854044\n"
          ]
        },
        {
          "output_type": "stream",
          "name": "stderr",
          "text": [
            "epoch:  70%|███████   | 7/10 [1:26:48<37:08, 742.78s/it]"
          ]
        },
        {
          "output_type": "stream",
          "name": "stdout",
          "text": [
            "Saved model with val acc 0.7992957746478874\n",
            "\n",
            "Epoch 007 train_loss: 0.0157   val_loss 0.8881 train_acc 0.9967 val_acc 0.7993\n",
            "loss 0.00870444726866728\n"
          ]
        },
        {
          "output_type": "stream",
          "name": "stderr",
          "text": [
            "epoch:  80%|████████  | 8/10 [1:39:09<24:44, 742.37s/it]"
          ]
        },
        {
          "output_type": "stream",
          "name": "stdout",
          "text": [
            "\n",
            "Epoch 008 train_loss: 0.0087   val_loss 0.9295 train_acc 0.9992 val_acc 0.7966\n",
            "loss 0.00778866333513802\n"
          ]
        },
        {
          "output_type": "stream",
          "name": "stderr",
          "text": [
            "epoch:  90%|█████████ | 9/10 [1:51:35<12:23, 743.32s/it]"
          ]
        },
        {
          "output_type": "stream",
          "name": "stdout",
          "text": [
            "\n",
            "Epoch 009 train_loss: 0.0078   val_loss 0.9635 train_acc 0.9984 val_acc 0.7981\n",
            "loss 0.005468097253868381\n"
          ]
        },
        {
          "output_type": "stream",
          "name": "stderr",
          "text": [
            "epoch: 100%|██████████| 10/10 [2:03:59<00:00, 743.93s/it]\n"
          ]
        },
        {
          "output_type": "stream",
          "name": "stdout",
          "text": [
            "\n",
            "Epoch 010 train_loss: 0.0055   val_loss 0.9949 train_acc 0.9991 val_acc 0.7973\n"
          ]
        },
        {
          "output_type": "display_data",
          "data": {
            "image/png": "[encoded data removed]",
            "text/plain": [
              "<Figure size 432x288 with 1 Axes>"
            ]
          },
          "metadata": {
            "needs_background": "light"
          }
        }
      ]
    },
    {
      "cell_type": "code",
      "metadata": {
        "id": "RDT9grSQkPPF"
      },
      "source": [
        "res = make_prediction(save_name, model, test_files)\n",
        "res.to_csv('/content/drive/MyDrive/Diplom/effnet_diff.csv', index = False)"
      ],
      "execution_count": null,
      "outputs": []
    },
    {
      "cell_type": "markdown",
      "metadata": {
        "id": "_US-M5RX_MAf"
      },
      "source": [
        "Kaggle score 0.89958"
      ]
    },
    {
      "cell_type": "markdown",
      "metadata": {
        "id": "h2A-co5UkvhL"
      },
      "source": [
        "**Сокращенный датасет**"
      ]
    },
    {
      "cell_type": "code",
      "metadata": {
        "id": "vctj6bySkA13",
        "colab": {
          "base_uri": "https://localhost:8080/",
          "height": 958
        },
        "outputId": "766df9b3-2e15-49a6-9c84-95742ccff9cb"
      },
      "source": [
        "save_name = '/content/EfficientNetB6_diff_short.pth'\n",
        "model = initialize_and_train_model_diff_layers(\"EfficientNet\", 120, 10, 16, train_dataset_short, val_dataset_short, save_name)"
      ],
      "execution_count": null,
      "outputs": [
        {
          "output_type": "stream",
          "name": "stdout",
          "text": [
            "Loaded pretrained weights for efficientnet-b6\n"
          ]
        },
        {
          "output_type": "stream",
          "name": "stderr",
          "text": [
            "\repoch:   0%|          | 0/10 [00:00<?, ?it/s]"
          ]
        },
        {
          "output_type": "stream",
          "name": "stdout",
          "text": [
            "loss 4.760110135559884\n"
          ]
        },
        {
          "output_type": "stream",
          "name": "stderr",
          "text": [
            "epoch:  10%|█         | 1/10 [04:45<42:52, 285.89s/it]"
          ]
        },
        {
          "output_type": "stream",
          "name": "stdout",
          "text": [
            "Saved model with val acc 0.08290155440414507\n",
            "\n",
            "Epoch 001 train_loss: 4.7601   val_loss 4.6920 train_acc 0.0204 val_acc 0.0829\n",
            "loss 4.536686413845416\n"
          ]
        },
        {
          "output_type": "stream",
          "name": "stderr",
          "text": [
            "epoch:  20%|██        | 2/10 [09:28<37:49, 283.71s/it]"
          ]
        },
        {
          "output_type": "stream",
          "name": "stdout",
          "text": [
            "Saved model with val acc 0.34093264248704663\n",
            "\n",
            "Epoch 002 train_loss: 4.5367   val_loss 4.2740 train_acc 0.3126 val_acc 0.3409\n",
            "loss 2.219351757116832\n"
          ]
        },
        {
          "output_type": "stream",
          "name": "stderr",
          "text": [
            "epoch:  30%|███       | 3/10 [14:10<33:01, 283.01s/it]"
          ]
        },
        {
          "output_type": "stream",
          "name": "stdout",
          "text": [
            "Saved model with val acc 0.7088082901554403\n",
            "\n",
            "Epoch 003 train_loss: 2.2194   val_loss 1.1300 train_acc 0.5778 val_acc 0.7088\n",
            "loss 0.5279314512204003\n"
          ]
        },
        {
          "output_type": "stream",
          "name": "stderr",
          "text": [
            "epoch:  40%|████      | 4/10 [18:52<28:15, 282.61s/it]"
          ]
        },
        {
          "output_type": "stream",
          "name": "stdout",
          "text": [
            "Saved model with val acc 0.7502590673575129\n",
            "\n",
            "Epoch 004 train_loss: 0.5279   val_loss 0.8798 train_acc 0.8568 val_acc 0.7503\n",
            "loss 0.18543517413867294\n"
          ]
        },
        {
          "output_type": "stream",
          "name": "stderr",
          "text": [
            "epoch:  50%|█████     | 5/10 [23:35<23:34, 282.88s/it]"
          ]
        },
        {
          "output_type": "stream",
          "name": "stdout",
          "text": [
            "Saved model with val acc 0.7647668393782383\n",
            "\n",
            "Epoch 005 train_loss: 0.1854   val_loss 0.8445 train_acc 0.9516 val_acc 0.7648\n",
            "loss 0.07195076645631472\n"
          ]
        },
        {
          "output_type": "stream",
          "name": "stderr",
          "text": [
            "epoch:  60%|██████    | 6/10 [28:18<18:51, 282.90s/it]"
          ]
        },
        {
          "output_type": "stream",
          "name": "stdout",
          "text": [
            "Saved model with val acc 0.7730569948186529\n",
            "\n",
            "Epoch 006 train_loss: 0.0720   val_loss 0.8790 train_acc 0.9848 val_acc 0.7731\n",
            "loss 0.026283065535973135\n"
          ]
        },
        {
          "output_type": "stream",
          "name": "stderr",
          "text": [
            "epoch:  70%|███████   | 7/10 [33:01<14:08, 282.85s/it]"
          ]
        },
        {
          "output_type": "stream",
          "name": "stdout",
          "text": [
            "Saved model with val acc 0.7772020725388601\n",
            "\n",
            "Epoch 007 train_loss: 0.0263   val_loss 0.8986 train_acc 0.9965 val_acc 0.7772\n",
            "loss 0.024589694389122774\n"
          ]
        },
        {
          "output_type": "stream",
          "name": "stderr",
          "text": [
            "epoch:  80%|████████  | 8/10 [37:43<09:25, 282.80s/it]"
          ]
        },
        {
          "output_type": "stream",
          "name": "stdout",
          "text": [
            "\n",
            "Epoch 008 train_loss: 0.0246   val_loss 0.9138 train_acc 0.9959 val_acc 0.7710\n",
            "loss 0.014496303734113238\n"
          ]
        },
        {
          "output_type": "stream",
          "name": "stderr",
          "text": [
            "epoch:  90%|█████████ | 9/10 [42:26<04:42, 282.59s/it]"
          ]
        },
        {
          "output_type": "stream",
          "name": "stdout",
          "text": [
            "\n",
            "Epoch 009 train_loss: 0.0145   val_loss 0.9968 train_acc 0.9976 val_acc 0.7668\n",
            "loss 0.006089575965483035\n"
          ]
        },
        {
          "output_type": "stream",
          "name": "stderr",
          "text": [
            "epoch: 100%|██████████| 10/10 [47:07<00:00, 282.72s/it]\n"
          ]
        },
        {
          "output_type": "stream",
          "name": "stdout",
          "text": [
            "\n",
            "Epoch 010 train_loss: 0.0061   val_loss 0.9629 train_acc 0.9993 val_acc 0.7741\n"
          ]
        },
        {
          "output_type": "display_data",
          "data": {
            "image/png": "[encoded data removed]",
            "text/plain": [
              "<Figure size 432x288 with 1 Axes>"
            ]
          },
          "metadata": {
            "needs_background": "light"
          }
        }
      ]
    },
    {
      "cell_type": "code",
      "metadata": {
        "id": "e1dYK7Nwjfze"
      },
      "source": [
        "res = make_prediction(save_name, model, test_files)\n",
        "res.to_csv('/content/drive/MyDrive/Diplom/effnet_diff_short.csv', index = False)"
      ],
      "execution_count": null,
      "outputs": []
    },
    {
      "cell_type": "markdown",
      "metadata": {
        "id": "c0k3bXFn_INe"
      },
      "source": [
        "Kaggle score 0.93136"
      ]
    },
    {
      "cell_type": "code",
      "metadata": {
        "id": "XkjET99fk4jr"
      },
      "source": [
        ""
      ],
      "execution_count": null,
      "outputs": []
    },
    {
      "cell_type": "code",
      "metadata": {
        "id": "x6wYprISk4ma"
      },
      "source": [
        ""
      ],
      "execution_count": null,
      "outputs": []
    }
  ]
}