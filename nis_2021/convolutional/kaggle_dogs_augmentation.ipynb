{
  "nbformat": 4,
  "nbformat_minor": 0,
  "metadata": {
    "colab": {
      "name": "kaggle_dogs_augmentation.ipynb",
      "provenance": [],
      "collapsed_sections": []
    },
    "kernelspec": {
      "name": "python3",
      "display_name": "Python 3"
    },
    "language_info": {
      "name": "python"
    },
    "accelerator": "GPU",
    "widgets": {
      "application/vnd.jupyter.widget-state+json": {
        "f9ca20953791442abf5fa2f25980c5ec": {
          "model_module": "@jupyter-widgets/controls",
          "model_name": "HBoxModel",
          "model_module_version": "1.5.0",
          "state": {
            "_view_name": "HBoxView",
            "_dom_classes": [],
            "_model_name": "HBoxModel",
            "_view_module": "@jupyter-widgets/controls",
            "_model_module_version": "1.5.0",
            "_view_count": null,
            "_view_module_version": "1.5.0",
            "box_style": "",
            "layout": "IPY_MODEL_fc39dde88f5a41e18a8fe00e7040dd42",
            "_model_module": "@jupyter-widgets/controls",
            "children": [
              "IPY_MODEL_2c56199a50d94111a214b33e4524d9b5",
              "IPY_MODEL_a4dba15d6d5b45d398f797bd406bbe80",
              "IPY_MODEL_f700dfe4d68f498593b321ca92e8dfe6"
            ]
          }
        },
        "fc39dde88f5a41e18a8fe00e7040dd42": {
          "model_module": "@jupyter-widgets/base",
          "model_name": "LayoutModel",
          "model_module_version": "1.2.0",
          "state": {
            "_view_name": "LayoutView",
            "grid_template_rows": null,
            "right": null,
            "justify_content": null,
            "_view_module": "@jupyter-widgets/base",
            "overflow": null,
            "_model_module_version": "1.2.0",
            "_view_count": null,
            "flex_flow": null,
            "width": null,
            "min_width": null,
            "border": null,
            "align_items": null,
            "bottom": null,
            "_model_module": "@jupyter-widgets/base",
            "top": null,
            "grid_column": null,
            "overflow_y": null,
            "overflow_x": null,
            "grid_auto_flow": null,
            "grid_area": null,
            "grid_template_columns": null,
            "flex": null,
            "_model_name": "LayoutModel",
            "justify_items": null,
            "grid_row": null,
            "max_height": null,
            "align_content": null,
            "visibility": null,
            "align_self": null,
            "height": null,
            "min_height": null,
            "padding": null,
            "grid_auto_rows": null,
            "grid_gap": null,
            "max_width": null,
            "order": null,
            "_view_module_version": "1.2.0",
            "grid_template_areas": null,
            "object_position": null,
            "object_fit": null,
            "grid_auto_columns": null,
            "margin": null,
            "display": null,
            "left": null
          }
        },
        "2c56199a50d94111a214b33e4524d9b5": {
          "model_module": "@jupyter-widgets/controls",
          "model_name": "HTMLModel",
          "model_module_version": "1.5.0",
          "state": {
            "_view_name": "HTMLView",
            "style": "IPY_MODEL_2dc568269fff4f67b1cea2029d726852",
            "_dom_classes": [],
            "description": "",
            "_model_name": "HTMLModel",
            "placeholder": "​",
            "_view_module": "@jupyter-widgets/controls",
            "_model_module_version": "1.5.0",
            "value": "100%",
            "_view_count": null,
            "_view_module_version": "1.5.0",
            "description_tooltip": null,
            "_model_module": "@jupyter-widgets/controls",
            "layout": "IPY_MODEL_17072615c6bb4d39941c52acbe82f037"
          }
        },
        "a4dba15d6d5b45d398f797bd406bbe80": {
          "model_module": "@jupyter-widgets/controls",
          "model_name": "FloatProgressModel",
          "model_module_version": "1.5.0",
          "state": {
            "_view_name": "ProgressView",
            "style": "IPY_MODEL_7a0e2ca6dec945499177e6de419e591a",
            "_dom_classes": [],
            "description": "",
            "_model_name": "FloatProgressModel",
            "bar_style": "success",
            "max": 574673361,
            "_view_module": "@jupyter-widgets/controls",
            "_model_module_version": "1.5.0",
            "value": 574673361,
            "_view_count": null,
            "_view_module_version": "1.5.0",
            "orientation": "horizontal",
            "min": 0,
            "description_tooltip": null,
            "_model_module": "@jupyter-widgets/controls",
            "layout": "IPY_MODEL_549103890af04c3fac4a19fd4766c38f"
          }
        },
        "f700dfe4d68f498593b321ca92e8dfe6": {
          "model_module": "@jupyter-widgets/controls",
          "model_name": "HTMLModel",
          "model_module_version": "1.5.0",
          "state": {
            "_view_name": "HTMLView",
            "style": "IPY_MODEL_a4e75086c2074b2aa4fce3b3466284ee",
            "_dom_classes": [],
            "description": "",
            "_model_name": "HTMLModel",
            "placeholder": "​",
            "_view_module": "@jupyter-widgets/controls",
            "_model_module_version": "1.5.0",
            "value": " 548M/548M [00:05&lt;00:00, 104MB/s]",
            "_view_count": null,
            "_view_module_version": "1.5.0",
            "description_tooltip": null,
            "_model_module": "@jupyter-widgets/controls",
            "layout": "IPY_MODEL_3f41ed740e1049d6bbf2faaf42ed2f99"
          }
        },
        "2dc568269fff4f67b1cea2029d726852": {
          "model_module": "@jupyter-widgets/controls",
          "model_name": "DescriptionStyleModel",
          "model_module_version": "1.5.0",
          "state": {
            "_view_name": "StyleView",
            "_model_name": "DescriptionStyleModel",
            "description_width": "",
            "_view_module": "@jupyter-widgets/base",
            "_model_module_version": "1.5.0",
            "_view_count": null,
            "_view_module_version": "1.2.0",
            "_model_module": "@jupyter-widgets/controls"
          }
        },
        "17072615c6bb4d39941c52acbe82f037": {
          "model_module": "@jupyter-widgets/base",
          "model_name": "LayoutModel",
          "model_module_version": "1.2.0",
          "state": {
            "_view_name": "LayoutView",
            "grid_template_rows": null,
            "right": null,
            "justify_content": null,
            "_view_module": "@jupyter-widgets/base",
            "overflow": null,
            "_model_module_version": "1.2.0",
            "_view_count": null,
            "flex_flow": null,
            "width": null,
            "min_width": null,
            "border": null,
            "align_items": null,
            "bottom": null,
            "_model_module": "@jupyter-widgets/base",
            "top": null,
            "grid_column": null,
            "overflow_y": null,
            "overflow_x": null,
            "grid_auto_flow": null,
            "grid_area": null,
            "grid_template_columns": null,
            "flex": null,
            "_model_name": "LayoutModel",
            "justify_items": null,
            "grid_row": null,
            "max_height": null,
            "align_content": null,
            "visibility": null,
            "align_self": null,
            "height": null,
            "min_height": null,
            "padding": null,
            "grid_auto_rows": null,
            "grid_gap": null,
            "max_width": null,
            "order": null,
            "_view_module_version": "1.2.0",
            "grid_template_areas": null,
            "object_position": null,
            "object_fit": null,
            "grid_auto_columns": null,
            "margin": null,
            "display": null,
            "left": null
          }
        },
        "7a0e2ca6dec945499177e6de419e591a": {
          "model_module": "@jupyter-widgets/controls",
          "model_name": "ProgressStyleModel",
          "model_module_version": "1.5.0",
          "state": {
            "_view_name": "StyleView",
            "_model_name": "ProgressStyleModel",
            "description_width": "",
            "_view_module": "@jupyter-widgets/base",
            "_model_module_version": "1.5.0",
            "_view_count": null,
            "_view_module_version": "1.2.0",
            "bar_color": null,
            "_model_module": "@jupyter-widgets/controls"
          }
        },
        "549103890af04c3fac4a19fd4766c38f": {
          "model_module": "@jupyter-widgets/base",
          "model_name": "LayoutModel",
          "model_module_version": "1.2.0",
          "state": {
            "_view_name": "LayoutView",
            "grid_template_rows": null,
            "right": null,
            "justify_content": null,
            "_view_module": "@jupyter-widgets/base",
            "overflow": null,
            "_model_module_version": "1.2.0",
            "_view_count": null,
            "flex_flow": null,
            "width": null,
            "min_width": null,
            "border": null,
            "align_items": null,
            "bottom": null,
            "_model_module": "@jupyter-widgets/base",
            "top": null,
            "grid_column": null,
            "overflow_y": null,
            "overflow_x": null,
            "grid_auto_flow": null,
            "grid_area": null,
            "grid_template_columns": null,
            "flex": null,
            "_model_name": "LayoutModel",
            "justify_items": null,
            "grid_row": null,
            "max_height": null,
            "align_content": null,
            "visibility": null,
            "align_self": null,
            "height": null,
            "min_height": null,
            "padding": null,
            "grid_auto_rows": null,
            "grid_gap": null,
            "max_width": null,
            "order": null,
            "_view_module_version": "1.2.0",
            "grid_template_areas": null,
            "object_position": null,
            "object_fit": null,
            "grid_auto_columns": null,
            "margin": null,
            "display": null,
            "left": null
          }
        },
        "a4e75086c2074b2aa4fce3b3466284ee": {
          "model_module": "@jupyter-widgets/controls",
          "model_name": "DescriptionStyleModel",
          "model_module_version": "1.5.0",
          "state": {
            "_view_name": "StyleView",
            "_model_name": "DescriptionStyleModel",
            "description_width": "",
            "_view_module": "@jupyter-widgets/base",
            "_model_module_version": "1.5.0",
            "_view_count": null,
            "_view_module_version": "1.2.0",
            "_model_module": "@jupyter-widgets/controls"
          }
        },
        "3f41ed740e1049d6bbf2faaf42ed2f99": {
          "model_module": "@jupyter-widgets/base",
          "model_name": "LayoutModel",
          "model_module_version": "1.2.0",
          "state": {
            "_view_name": "LayoutView",
            "grid_template_rows": null,
            "right": null,
            "justify_content": null,
            "_view_module": "@jupyter-widgets/base",
            "overflow": null,
            "_model_module_version": "1.2.0",
            "_view_count": null,
            "flex_flow": null,
            "width": null,
            "min_width": null,
            "border": null,
            "align_items": null,
            "bottom": null,
            "_model_module": "@jupyter-widgets/base",
            "top": null,
            "grid_column": null,
            "overflow_y": null,
            "overflow_x": null,
            "grid_auto_flow": null,
            "grid_area": null,
            "grid_template_columns": null,
            "flex": null,
            "_model_name": "LayoutModel",
            "justify_items": null,
            "grid_row": null,
            "max_height": null,
            "align_content": null,
            "visibility": null,
            "align_self": null,
            "height": null,
            "min_height": null,
            "padding": null,
            "grid_auto_rows": null,
            "grid_gap": null,
            "max_width": null,
            "order": null,
            "_view_module_version": "1.2.0",
            "grid_template_areas": null,
            "object_position": null,
            "object_fit": null,
            "grid_auto_columns": null,
            "margin": null,
            "display": null,
            "left": null
          }
        },
        "4bf2f5369f4248fdb3e5d2716f1bd678": {
          "model_module": "@jupyter-widgets/controls",
          "model_name": "HBoxModel",
          "model_module_version": "1.5.0",
          "state": {
            "_view_name": "HBoxView",
            "_dom_classes": [],
            "_model_name": "HBoxModel",
            "_view_module": "@jupyter-widgets/controls",
            "_model_module_version": "1.5.0",
            "_view_count": null,
            "_view_module_version": "1.5.0",
            "box_style": "",
            "layout": "IPY_MODEL_27a037d0e62848bbbe75894e2d8187b2",
            "_model_module": "@jupyter-widgets/controls",
            "children": [
              "IPY_MODEL_d8b5a0f8eade45d1bbbe096bff9a7664",
              "IPY_MODEL_2ab562471e144deea564e1412bd4eac8",
              "IPY_MODEL_bc6bdd6db0a0467aabac2f4797d4b9b8"
            ]
          }
        },
        "27a037d0e62848bbbe75894e2d8187b2": {
          "model_module": "@jupyter-widgets/base",
          "model_name": "LayoutModel",
          "model_module_version": "1.2.0",
          "state": {
            "_view_name": "LayoutView",
            "grid_template_rows": null,
            "right": null,
            "justify_content": null,
            "_view_module": "@jupyter-widgets/base",
            "overflow": null,
            "_model_module_version": "1.2.0",
            "_view_count": null,
            "flex_flow": null,
            "width": null,
            "min_width": null,
            "border": null,
            "align_items": null,
            "bottom": null,
            "_model_module": "@jupyter-widgets/base",
            "top": null,
            "grid_column": null,
            "overflow_y": null,
            "overflow_x": null,
            "grid_auto_flow": null,
            "grid_area": null,
            "grid_template_columns": null,
            "flex": null,
            "_model_name": "LayoutModel",
            "justify_items": null,
            "grid_row": null,
            "max_height": null,
            "align_content": null,
            "visibility": null,
            "align_self": null,
            "height": null,
            "min_height": null,
            "padding": null,
            "grid_auto_rows": null,
            "grid_gap": null,
            "max_width": null,
            "order": null,
            "_view_module_version": "1.2.0",
            "grid_template_areas": null,
            "object_position": null,
            "object_fit": null,
            "grid_auto_columns": null,
            "margin": null,
            "display": null,
            "left": null
          }
        },
        "d8b5a0f8eade45d1bbbe096bff9a7664": {
          "model_module": "@jupyter-widgets/controls",
          "model_name": "HTMLModel",
          "model_module_version": "1.5.0",
          "state": {
            "_view_name": "HTMLView",
            "style": "IPY_MODEL_3a2ebf685fb747259071decdc8db3b76",
            "_dom_classes": [],
            "description": "",
            "_model_name": "HTMLModel",
            "placeholder": "​",
            "_view_module": "@jupyter-widgets/controls",
            "_model_module_version": "1.5.0",
            "value": "100%",
            "_view_count": null,
            "_view_module_version": "1.5.0",
            "description_tooltip": null,
            "_model_module": "@jupyter-widgets/controls",
            "layout": "IPY_MODEL_19918af33cef44f4a395ad27755fbda0"
          }
        },
        "2ab562471e144deea564e1412bd4eac8": {
          "model_module": "@jupyter-widgets/controls",
          "model_name": "FloatProgressModel",
          "model_module_version": "1.5.0",
          "state": {
            "_view_name": "ProgressView",
            "style": "IPY_MODEL_e4907faef5b24f9e9dd83e1a0ee1daf7",
            "_dom_classes": [],
            "description": "",
            "_model_name": "FloatProgressModel",
            "bar_style": "success",
            "max": 115730790,
            "_view_module": "@jupyter-widgets/controls",
            "_model_module_version": "1.5.0",
            "value": 115730790,
            "_view_count": null,
            "_view_module_version": "1.5.0",
            "orientation": "horizontal",
            "min": 0,
            "description_tooltip": null,
            "_model_module": "@jupyter-widgets/controls",
            "layout": "IPY_MODEL_8b66785089244c2c977f6acba50b9cbe"
          }
        },
        "bc6bdd6db0a0467aabac2f4797d4b9b8": {
          "model_module": "@jupyter-widgets/controls",
          "model_name": "HTMLModel",
          "model_module_version": "1.5.0",
          "state": {
            "_view_name": "HTMLView",
            "style": "IPY_MODEL_e0b2438093284c719416964b6c62a1ec",
            "_dom_classes": [],
            "description": "",
            "_model_name": "HTMLModel",
            "placeholder": "​",
            "_view_module": "@jupyter-widgets/controls",
            "_model_module_version": "1.5.0",
            "value": " 110M/110M [00:01&lt;00:00, 65.8MB/s]",
            "_view_count": null,
            "_view_module_version": "1.5.0",
            "description_tooltip": null,
            "_model_module": "@jupyter-widgets/controls",
            "layout": "IPY_MODEL_faf653b9a8ae42088d27e949376f4ca5"
          }
        },
        "3a2ebf685fb747259071decdc8db3b76": {
          "model_module": "@jupyter-widgets/controls",
          "model_name": "DescriptionStyleModel",
          "model_module_version": "1.5.0",
          "state": {
            "_view_name": "StyleView",
            "_model_name": "DescriptionStyleModel",
            "description_width": "",
            "_view_module": "@jupyter-widgets/base",
            "_model_module_version": "1.5.0",
            "_view_count": null,
            "_view_module_version": "1.2.0",
            "_model_module": "@jupyter-widgets/controls"
          }
        },
        "19918af33cef44f4a395ad27755fbda0": {
          "model_module": "@jupyter-widgets/base",
          "model_name": "LayoutModel",
          "model_module_version": "1.2.0",
          "state": {
            "_view_name": "LayoutView",
            "grid_template_rows": null,
            "right": null,
            "justify_content": null,
            "_view_module": "@jupyter-widgets/base",
            "overflow": null,
            "_model_module_version": "1.2.0",
            "_view_count": null,
            "flex_flow": null,
            "width": null,
            "min_width": null,
            "border": null,
            "align_items": null,
            "bottom": null,
            "_model_module": "@jupyter-widgets/base",
            "top": null,
            "grid_column": null,
            "overflow_y": null,
            "overflow_x": null,
            "grid_auto_flow": null,
            "grid_area": null,
            "grid_template_columns": null,
            "flex": null,
            "_model_name": "LayoutModel",
            "justify_items": null,
            "grid_row": null,
            "max_height": null,
            "align_content": null,
            "visibility": null,
            "align_self": null,
            "height": null,
            "min_height": null,
            "padding": null,
            "grid_auto_rows": null,
            "grid_gap": null,
            "max_width": null,
            "order": null,
            "_view_module_version": "1.2.0",
            "grid_template_areas": null,
            "object_position": null,
            "object_fit": null,
            "grid_auto_columns": null,
            "margin": null,
            "display": null,
            "left": null
          }
        },
        "e4907faef5b24f9e9dd83e1a0ee1daf7": {
          "model_module": "@jupyter-widgets/controls",
          "model_name": "ProgressStyleModel",
          "model_module_version": "1.5.0",
          "state": {
            "_view_name": "StyleView",
            "_model_name": "ProgressStyleModel",
            "description_width": "",
            "_view_module": "@jupyter-widgets/base",
            "_model_module_version": "1.5.0",
            "_view_count": null,
            "_view_module_version": "1.2.0",
            "bar_color": null,
            "_model_module": "@jupyter-widgets/controls"
          }
        },
        "8b66785089244c2c977f6acba50b9cbe": {
          "model_module": "@jupyter-widgets/base",
          "model_name": "LayoutModel",
          "model_module_version": "1.2.0",
          "state": {
            "_view_name": "LayoutView",
            "grid_template_rows": null,
            "right": null,
            "justify_content": null,
            "_view_module": "@jupyter-widgets/base",
            "overflow": null,
            "_model_module_version": "1.2.0",
            "_view_count": null,
            "flex_flow": null,
            "width": null,
            "min_width": null,
            "border": null,
            "align_items": null,
            "bottom": null,
            "_model_module": "@jupyter-widgets/base",
            "top": null,
            "grid_column": null,
            "overflow_y": null,
            "overflow_x": null,
            "grid_auto_flow": null,
            "grid_area": null,
            "grid_template_columns": null,
            "flex": null,
            "_model_name": "LayoutModel",
            "justify_items": null,
            "grid_row": null,
            "max_height": null,
            "align_content": null,
            "visibility": null,
            "align_self": null,
            "height": null,
            "min_height": null,
            "padding": null,
            "grid_auto_rows": null,
            "grid_gap": null,
            "max_width": null,
            "order": null,
            "_view_module_version": "1.2.0",
            "grid_template_areas": null,
            "object_position": null,
            "object_fit": null,
            "grid_auto_columns": null,
            "margin": null,
            "display": null,
            "left": null
          }
        },
        "e0b2438093284c719416964b6c62a1ec": {
          "model_module": "@jupyter-widgets/controls",
          "model_name": "DescriptionStyleModel",
          "model_module_version": "1.5.0",
          "state": {
            "_view_name": "StyleView",
            "_model_name": "DescriptionStyleModel",
            "description_width": "",
            "_view_module": "@jupyter-widgets/base",
            "_model_module_version": "1.5.0",
            "_view_count": null,
            "_view_module_version": "1.2.0",
            "_model_module": "@jupyter-widgets/controls"
          }
        },
        "faf653b9a8ae42088d27e949376f4ca5": {
          "model_module": "@jupyter-widgets/base",
          "model_name": "LayoutModel",
          "model_module_version": "1.2.0",
          "state": {
            "_view_name": "LayoutView",
            "grid_template_rows": null,
            "right": null,
            "justify_content": null,
            "_view_module": "@jupyter-widgets/base",
            "overflow": null,
            "_model_module_version": "1.2.0",
            "_view_count": null,
            "flex_flow": null,
            "width": null,
            "min_width": null,
            "border": null,
            "align_items": null,
            "bottom": null,
            "_model_module": "@jupyter-widgets/base",
            "top": null,
            "grid_column": null,
            "overflow_y": null,
            "overflow_x": null,
            "grid_auto_flow": null,
            "grid_area": null,
            "grid_template_columns": null,
            "flex": null,
            "_model_name": "LayoutModel",
            "justify_items": null,
            "grid_row": null,
            "max_height": null,
            "align_content": null,
            "visibility": null,
            "align_self": null,
            "height": null,
            "min_height": null,
            "padding": null,
            "grid_auto_rows": null,
            "grid_gap": null,
            "max_width": null,
            "order": null,
            "_view_module_version": "1.2.0",
            "grid_template_areas": null,
            "object_position": null,
            "object_fit": null,
            "grid_auto_columns": null,
            "margin": null,
            "display": null,
            "left": null
          }
        },
        "3d6f5c244e324a368768a2cae400ee5a": {
          "model_module": "@jupyter-widgets/controls",
          "model_name": "HBoxModel",
          "model_module_version": "1.5.0",
          "state": {
            "_view_name": "HBoxView",
            "_dom_classes": [],
            "_model_name": "HBoxModel",
            "_view_module": "@jupyter-widgets/controls",
            "_model_module_version": "1.5.0",
            "_view_count": null,
            "_view_module_version": "1.5.0",
            "box_style": "",
            "layout": "IPY_MODEL_209696c1d12f4395a9133de2335acbd4",
            "_model_module": "@jupyter-widgets/controls",
            "children": [
              "IPY_MODEL_dee2b1cbcfaf4a448317f3c06c8a405f",
              "IPY_MODEL_84c3f01a385b4bbbb98e02434d6ca2a1",
              "IPY_MODEL_75affd0dac53429a92c0d4c00f7ea9d1"
            ]
          }
        },
        "209696c1d12f4395a9133de2335acbd4": {
          "model_module": "@jupyter-widgets/base",
          "model_name": "LayoutModel",
          "model_module_version": "1.2.0",
          "state": {
            "_view_name": "LayoutView",
            "grid_template_rows": null,
            "right": null,
            "justify_content": null,
            "_view_module": "@jupyter-widgets/base",
            "overflow": null,
            "_model_module_version": "1.2.0",
            "_view_count": null,
            "flex_flow": null,
            "width": null,
            "min_width": null,
            "border": null,
            "align_items": null,
            "bottom": null,
            "_model_module": "@jupyter-widgets/base",
            "top": null,
            "grid_column": null,
            "overflow_y": null,
            "overflow_x": null,
            "grid_auto_flow": null,
            "grid_area": null,
            "grid_template_columns": null,
            "flex": null,
            "_model_name": "LayoutModel",
            "justify_items": null,
            "grid_row": null,
            "max_height": null,
            "align_content": null,
            "visibility": null,
            "align_self": null,
            "height": null,
            "min_height": null,
            "padding": null,
            "grid_auto_rows": null,
            "grid_gap": null,
            "max_width": null,
            "order": null,
            "_view_module_version": "1.2.0",
            "grid_template_areas": null,
            "object_position": null,
            "object_fit": null,
            "grid_auto_columns": null,
            "margin": null,
            "display": null,
            "left": null
          }
        },
        "dee2b1cbcfaf4a448317f3c06c8a405f": {
          "model_module": "@jupyter-widgets/controls",
          "model_name": "HTMLModel",
          "model_module_version": "1.5.0",
          "state": {
            "_view_name": "HTMLView",
            "style": "IPY_MODEL_becae3bc9891494eb1a99e8f3510cdd2",
            "_dom_classes": [],
            "description": "",
            "_model_name": "HTMLModel",
            "placeholder": "​",
            "_view_module": "@jupyter-widgets/controls",
            "_model_module_version": "1.5.0",
            "value": "100%",
            "_view_count": null,
            "_view_module_version": "1.5.0",
            "description_tooltip": null,
            "_model_module": "@jupyter-widgets/controls",
            "layout": "IPY_MODEL_12e377dce7be4345a09c7ca4bffe1a09"
          }
        },
        "84c3f01a385b4bbbb98e02434d6ca2a1": {
          "model_module": "@jupyter-widgets/controls",
          "model_name": "FloatProgressModel",
          "model_module_version": "1.5.0",
          "state": {
            "_view_name": "ProgressView",
            "style": "IPY_MODEL_0b91d19f08cf460faaf1b91795a6979e",
            "_dom_classes": [],
            "description": "",
            "_model_name": "FloatProgressModel",
            "bar_style": "success",
            "max": 173245619,
            "_view_module": "@jupyter-widgets/controls",
            "_model_module_version": "1.5.0",
            "value": 173245619,
            "_view_count": null,
            "_view_module_version": "1.5.0",
            "orientation": "horizontal",
            "min": 0,
            "description_tooltip": null,
            "_model_module": "@jupyter-widgets/controls",
            "layout": "IPY_MODEL_ed16820d5bf2446987671a7ec31a52a2"
          }
        },
        "75affd0dac53429a92c0d4c00f7ea9d1": {
          "model_module": "@jupyter-widgets/controls",
          "model_name": "HTMLModel",
          "model_module_version": "1.5.0",
          "state": {
            "_view_name": "HTMLView",
            "style": "IPY_MODEL_8a38327beab74909b444e6e097a36f1c",
            "_dom_classes": [],
            "description": "",
            "_model_name": "HTMLModel",
            "placeholder": "​",
            "_view_module": "@jupyter-widgets/controls",
            "_model_module_version": "1.5.0",
            "value": " 165M/165M [00:02&lt;00:00, 78.7MB/s]",
            "_view_count": null,
            "_view_module_version": "1.5.0",
            "description_tooltip": null,
            "_model_module": "@jupyter-widgets/controls",
            "layout": "IPY_MODEL_12bee6c54f0242e0a9ecb8952e46fc2b"
          }
        },
        "becae3bc9891494eb1a99e8f3510cdd2": {
          "model_module": "@jupyter-widgets/controls",
          "model_name": "DescriptionStyleModel",
          "model_module_version": "1.5.0",
          "state": {
            "_view_name": "StyleView",
            "_model_name": "DescriptionStyleModel",
            "description_width": "",
            "_view_module": "@jupyter-widgets/base",
            "_model_module_version": "1.5.0",
            "_view_count": null,
            "_view_module_version": "1.2.0",
            "_model_module": "@jupyter-widgets/controls"
          }
        },
        "12e377dce7be4345a09c7ca4bffe1a09": {
          "model_module": "@jupyter-widgets/base",
          "model_name": "LayoutModel",
          "model_module_version": "1.2.0",
          "state": {
            "_view_name": "LayoutView",
            "grid_template_rows": null,
            "right": null,
            "justify_content": null,
            "_view_module": "@jupyter-widgets/base",
            "overflow": null,
            "_model_module_version": "1.2.0",
            "_view_count": null,
            "flex_flow": null,
            "width": null,
            "min_width": null,
            "border": null,
            "align_items": null,
            "bottom": null,
            "_model_module": "@jupyter-widgets/base",
            "top": null,
            "grid_column": null,
            "overflow_y": null,
            "overflow_x": null,
            "grid_auto_flow": null,
            "grid_area": null,
            "grid_template_columns": null,
            "flex": null,
            "_model_name": "LayoutModel",
            "justify_items": null,
            "grid_row": null,
            "max_height": null,
            "align_content": null,
            "visibility": null,
            "align_self": null,
            "height": null,
            "min_height": null,
            "padding": null,
            "grid_auto_rows": null,
            "grid_gap": null,
            "max_width": null,
            "order": null,
            "_view_module_version": "1.2.0",
            "grid_template_areas": null,
            "object_position": null,
            "object_fit": null,
            "grid_auto_columns": null,
            "margin": null,
            "display": null,
            "left": null
          }
        },
        "0b91d19f08cf460faaf1b91795a6979e": {
          "model_module": "@jupyter-widgets/controls",
          "model_name": "ProgressStyleModel",
          "model_module_version": "1.5.0",
          "state": {
            "_view_name": "StyleView",
            "_model_name": "ProgressStyleModel",
            "description_width": "",
            "_view_module": "@jupyter-widgets/base",
            "_model_module_version": "1.5.0",
            "_view_count": null,
            "_view_module_version": "1.2.0",
            "bar_color": null,
            "_model_module": "@jupyter-widgets/controls"
          }
        },
        "ed16820d5bf2446987671a7ec31a52a2": {
          "model_module": "@jupyter-widgets/base",
          "model_name": "LayoutModel",
          "model_module_version": "1.2.0",
          "state": {
            "_view_name": "LayoutView",
            "grid_template_rows": null,
            "right": null,
            "justify_content": null,
            "_view_module": "@jupyter-widgets/base",
            "overflow": null,
            "_model_module_version": "1.2.0",
            "_view_count": null,
            "flex_flow": null,
            "width": null,
            "min_width": null,
            "border": null,
            "align_items": null,
            "bottom": null,
            "_model_module": "@jupyter-widgets/base",
            "top": null,
            "grid_column": null,
            "overflow_y": null,
            "overflow_x": null,
            "grid_auto_flow": null,
            "grid_area": null,
            "grid_template_columns": null,
            "flex": null,
            "_model_name": "LayoutModel",
            "justify_items": null,
            "grid_row": null,
            "max_height": null,
            "align_content": null,
            "visibility": null,
            "align_self": null,
            "height": null,
            "min_height": null,
            "padding": null,
            "grid_auto_rows": null,
            "grid_gap": null,
            "max_width": null,
            "order": null,
            "_view_module_version": "1.2.0",
            "grid_template_areas": null,
            "object_position": null,
            "object_fit": null,
            "grid_auto_columns": null,
            "margin": null,
            "display": null,
            "left": null
          }
        },
        "8a38327beab74909b444e6e097a36f1c": {
          "model_module": "@jupyter-widgets/controls",
          "model_name": "DescriptionStyleModel",
          "model_module_version": "1.5.0",
          "state": {
            "_view_name": "StyleView",
            "_model_name": "DescriptionStyleModel",
            "description_width": "",
            "_view_module": "@jupyter-widgets/base",
            "_model_module_version": "1.5.0",
            "_view_count": null,
            "_view_module_version": "1.2.0",
            "_model_module": "@jupyter-widgets/controls"
          }
        },
        "12bee6c54f0242e0a9ecb8952e46fc2b": {
          "model_module": "@jupyter-widgets/base",
          "model_name": "LayoutModel",
          "model_module_version": "1.2.0",
          "state": {
            "_view_name": "LayoutView",
            "grid_template_rows": null,
            "right": null,
            "justify_content": null,
            "_view_module": "@jupyter-widgets/base",
            "overflow": null,
            "_model_module_version": "1.2.0",
            "_view_count": null,
            "flex_flow": null,
            "width": null,
            "min_width": null,
            "border": null,
            "align_items": null,
            "bottom": null,
            "_model_module": "@jupyter-widgets/base",
            "top": null,
            "grid_column": null,
            "overflow_y": null,
            "overflow_x": null,
            "grid_auto_flow": null,
            "grid_area": null,
            "grid_template_columns": null,
            "flex": null,
            "_model_name": "LayoutModel",
            "justify_items": null,
            "grid_row": null,
            "max_height": null,
            "align_content": null,
            "visibility": null,
            "align_self": null,
            "height": null,
            "min_height": null,
            "padding": null,
            "grid_auto_rows": null,
            "grid_gap": null,
            "max_width": null,
            "order": null,
            "_view_module_version": "1.2.0",
            "grid_template_areas": null,
            "object_position": null,
            "object_fit": null,
            "grid_auto_columns": null,
            "margin": null,
            "display": null,
            "left": null
          }
        }
      }
    }
  },
  "cells": [
    {
      "cell_type": "markdown",
      "metadata": {
        "id": "ZNSuCiSaQlj3"
      },
      "source": [
        "# Влияние применения аугментаций на качество классификации на датасетах разного размера"
      ]
    },
    {
      "cell_type": "markdown",
      "metadata": {
        "id": "AqviiEnhQ4uk"
      },
      "source": [
        "https://www.kaggle.com/c/dog-breed-identification/submit"
      ]
    },
    {
      "cell_type": "code",
      "metadata": {
        "colab": {
          "base_uri": "https://localhost:8080/"
        },
        "id": "rtMH9DZ4vVfq",
        "outputId": "40c1daa9-2f22-4596-eb11-96ec1b150547"
      },
      "source": [
        "!nvidia-smi\n",
        "import torch\n",
        "torch.cuda.is_available()"
      ],
      "execution_count": null,
      "outputs": [
        {
          "output_type": "stream",
          "name": "stdout",
          "text": [
            "Tue Nov  2 16:09:03 2021       \n",
            "+-----------------------------------------------------------------------------+\n",
            "| NVIDIA-SMI 495.29.05    Driver Version: 460.32.03    CUDA Version: 11.2     |\n",
            "|-------------------------------+----------------------+----------------------+\n",
            "| GPU  Name        Persistence-M| Bus-Id        Disp.A | Volatile Uncorr. ECC |\n",
            "| Fan  Temp  Perf  Pwr:Usage/Cap|         Memory-Usage | GPU-Util  Compute M. |\n",
            "|                               |                      |               MIG M. |\n",
            "|===============================+======================+======================|\n",
            "|   0  Tesla K80           Off  | 00000000:00:04.0 Off |                    0 |\n",
            "| N/A   55C    P8    31W / 149W |      0MiB / 11441MiB |      0%      Default |\n",
            "|                               |                      |                  N/A |\n",
            "+-------------------------------+----------------------+----------------------+\n",
            "                                                                               \n",
            "+-----------------------------------------------------------------------------+\n",
            "| Processes:                                                                  |\n",
            "|  GPU   GI   CI        PID   Type   Process name                  GPU Memory |\n",
            "|        ID   ID                                                   Usage      |\n",
            "|=============================================================================|\n",
            "|  No running processes found                                                 |\n",
            "+-----------------------------------------------------------------------------+\n"
          ]
        },
        {
          "output_type": "execute_result",
          "data": {
            "text/plain": [
              "True"
            ]
          },
          "metadata": {},
          "execution_count": 1
        }
      ]
    },
    {
      "cell_type": "code",
      "metadata": {
        "id": "Cqie9kQ_vZw1"
      },
      "source": [
        "import pickle\n",
        "import os\n",
        "import sys\n",
        "import numpy as np\n",
        "import pandas as pd\n",
        "from skimage import io\n",
        "from tqdm import tqdm, tqdm_notebook\n",
        "from PIL import Image\n",
        "from pathlib import Path\n",
        "from multiprocessing.pool import ThreadPool\n",
        "from sklearn.model_selection import train_test_split\n",
        "from sklearn.preprocessing import LabelEncoder\n",
        "from torch.utils.data import Dataset, DataLoader\n",
        "import torchvision\n",
        "from torchvision import transforms, models\n",
        "import torch.nn as nn\n",
        "from matplotlib import colors, pyplot as plt\n",
        "%matplotlib inline"
      ],
      "execution_count": null,
      "outputs": []
    },
    {
      "cell_type": "code",
      "metadata": {
        "colab": {
          "base_uri": "https://localhost:8080/"
        },
        "id": "2wmBCbmGvZzh",
        "outputId": "ae7ebe21-371d-4a08-d023-a4a461dd6815"
      },
      "source": [
        "from google.colab import drive\n",
        "drive.mount('/content/drive')"
      ],
      "execution_count": null,
      "outputs": [
        {
          "output_type": "stream",
          "name": "stdout",
          "text": [
            "Mounted at /content/drive\n"
          ]
        }
      ]
    },
    {
      "cell_type": "code",
      "metadata": {
        "colab": {
          "base_uri": "https://localhost:8080/"
        },
        "id": "V3KqG3nevpke",
        "outputId": "dcb66d30-7457-4147-badd-952261789711"
      },
      "source": [
        "!pip install efficientnet_pytorch"
      ],
      "execution_count": null,
      "outputs": [
        {
          "output_type": "stream",
          "name": "stdout",
          "text": [
            "Collecting efficientnet_pytorch\n",
            "  Downloading efficientnet_pytorch-0.7.1.tar.gz (21 kB)\n",
            "Requirement already satisfied: torch in /usr/local/lib/python3.7/dist-packages (from efficientnet_pytorch) (1.9.0+cu111)\n",
            "Requirement already satisfied: typing-extensions in /usr/local/lib/python3.7/dist-packages (from torch->efficientnet_pytorch) (3.7.4.3)\n",
            "Building wheels for collected packages: efficientnet-pytorch\n",
            "  Building wheel for efficientnet-pytorch (setup.py) ... \u001b[?25l\u001b[?25hdone\n",
            "  Created wheel for efficientnet-pytorch: filename=efficientnet_pytorch-0.7.1-py3-none-any.whl size=16446 sha256=6eff84219bb24cb3f7cc1621c98b9a6475e7dcd7c295e11fa5be31592ddebc1b\n",
            "  Stored in directory: /root/.cache/pip/wheels/0e/cc/b2/49e74588263573ff778da58cc99b9c6349b496636a7e165be6\n",
            "Successfully built efficientnet-pytorch\n",
            "Installing collected packages: efficientnet-pytorch\n",
            "Successfully installed efficientnet-pytorch-0.7.1\n"
          ]
        }
      ]
    },
    {
      "cell_type": "code",
      "metadata": {
        "id": "oOYVYdmsvpnu"
      },
      "source": [
        "sys.path.insert(1, '/content/drive/MyDrive/Diplom')\n",
        "from functions import *"
      ],
      "execution_count": null,
      "outputs": []
    },
    {
      "cell_type": "code",
      "metadata": {
        "id": "8KO-14AdvptC"
      },
      "source": [
        "!unzip -q /content/drive/MyDrive/Diplom/dog-breed-identification.zip -d dogs"
      ],
      "execution_count": null,
      "outputs": []
    },
    {
      "cell_type": "code",
      "metadata": {
        "id": "aZqfBMLKvpvs"
      },
      "source": [
        "!unzip -q /content/drive/MyDrive/Diplom/dogs_short_train.zip -d dogs_short"
      ],
      "execution_count": null,
      "outputs": []
    },
    {
      "cell_type": "code",
      "metadata": {
        "id": "esfvDGU4vpyj"
      },
      "source": [
        "d = create_labels('/content/dogs/labels.csv')"
      ],
      "execution_count": null,
      "outputs": []
    },
    {
      "cell_type": "code",
      "metadata": {
        "id": "RQM4b1P3wjOH"
      },
      "source": [
        "transform_train = transforms.Compose([\n",
        "          transforms.ToTensor(),\n",
        "          transforms.ToPILImage(),\n",
        "          transforms.RandomChoice([\n",
        "          transforms.ColorJitter(),\n",
        "          transforms.RandomGrayscale(p=0.1),\n",
        "          transforms.RandomHorizontalFlip(p=0.5),\n",
        "          transforms.RandomAffine(20),\n",
        "          transforms.RandomRotation(20),\n",
        "          transforms.RandomVerticalFlip(),\n",
        "          ]),\n",
        "          transforms.ToTensor(),\n",
        "          transforms.Normalize([0.485, 0.456, 0.406], [0.229, 0.224, 0.225])])"
      ],
      "execution_count": null,
      "outputs": []
    },
    {
      "cell_type": "code",
      "metadata": {
        "id": "91iwR39DvZ2G"
      },
      "source": [
        "TRAIN_DIR = Path('/content/dogs/train')\n",
        "TEST_DIR = Path('/content/dogs/test')\n",
        "\n",
        "train_val_files = sorted(list(TRAIN_DIR.rglob('*.jpg')))\n",
        "\n",
        "train_val_labels = [d[path.name] for path in train_val_files]\n",
        "\n",
        "test_files = sorted(list(TEST_DIR.rglob('*.jpg')))\n",
        "\n",
        "train_files, val_files = train_test_split(train_val_files, test_size=0.25, \\\n",
        " stratify=train_val_labels)\n",
        "\n",
        "train_dataset = DogsDataset(train_files, mode='train', transform=transform_train)\n",
        "\n",
        "val_dataset = DogsDataset(val_files, mode='val')\n",
        "\n",
        "test_dataset = DogsDataset(test_files, mode='test')"
      ],
      "execution_count": null,
      "outputs": []
    },
    {
      "cell_type": "code",
      "metadata": {
        "id": "UAlCmnuivZ4G"
      },
      "source": [
        "TRAIN_DIR_SHORT = Path('/content/dogs_short')\n",
        "\n",
        "train_val_files_short = sorted(list(TRAIN_DIR_SHORT.rglob('*.jpg')))\n",
        "\n",
        "train_val_labels_short = [d[path.name] for path in train_val_files_short]\n",
        "\n",
        "train_files_short, val_files_short = train_test_split(train_val_files_short, test_size=0.25, \\\n",
        " stratify=train_val_labels_short)\n",
        "\n",
        "train_dataset_short = DogsDataset(train_files_short, mode='train', transform=transform_train)\n",
        "\n",
        "val_dataset_short = DogsDataset(val_files_short, mode='val')"
      ],
      "execution_count": null,
      "outputs": []
    },
    {
      "cell_type": "code",
      "metadata": {
        "colab": {
          "base_uri": "https://localhost:8080/",
          "height": 499
        },
        "id": "vEzdgGSNvZ6b",
        "outputId": "dcebf768-305a-42fe-ae3a-745f45be736c"
      },
      "source": [
        "fig, ax = plt.subplots(nrows=3, ncols=3,figsize=(8, 8), sharey=True, sharex=True)\n",
        "for fig_x in ax.flatten():\n",
        " random_characters = int(np.random.uniform(0,1000))\n",
        " im_val, label = train_dataset[random_characters]\n",
        " img_label = \" \".join(map(lambda x: x.capitalize(),\\\n",
        " val_dataset.label_encoder.inverse_transform([label])[0].split('_')))\n",
        "\n",
        " imshow(im_val.data.cpu(), \\\n",
        " title=img_label,plt_ax=fig_x)"
      ],
      "execution_count": null,
      "outputs": [
        {
          "output_type": "display_data",
          "data": {
            "image/png": "[encoded data removed]",
            "text/plain": [
              "<Figure size 576x576 with 9 Axes>"
            ]
          },
          "metadata": {
            "needs_background": "light"
          }
        }
      ]
    },
    {
      "cell_type": "markdown",
      "metadata": {
        "id": "jei-3V66wDrx"
      },
      "source": [
        "# ResNet 152"
      ]
    },
    {
      "cell_type": "markdown",
      "metadata": {
        "id": "OyitZz8vymDN"
      },
      "source": [
        "**Полный датасет**"
      ]
    },
    {
      "cell_type": "code",
      "metadata": {
        "colab": {
          "base_uri": "https://localhost:8080/",
          "height": 907
        },
        "id": "Q1WGCyMCv67M",
        "outputId": "3ba2bd6d-1a12-4f96-bd4c-0ee282cff9e8"
      },
      "source": [
        "save_name = '/content/DogsModelRESNET152.pth'\n",
        "model = initialize_and_train_model(\"ResNet152\", 120, 10, 32, train_dataset, val_dataset, save_name)"
      ],
      "execution_count": null,
      "outputs": [
        {
          "output_type": "stream",
          "name": "stderr",
          "text": [
            "\repoch:   0%|          | 0/10 [00:00<?, ?it/s]"
          ]
        },
        {
          "output_type": "stream",
          "name": "stdout",
          "text": [
            "loss 3.236935374197498\n"
          ]
        },
        {
          "output_type": "stream",
          "name": "stderr",
          "text": [
            "epoch:  10%|█         | 1/10 [08:30<1:16:38, 510.98s/it]"
          ]
        },
        {
          "output_type": "stream",
          "name": "stdout",
          "text": [
            "Saved model with val acc 0.6639280125195618\n",
            "\n",
            "Epoch 001 train_loss: 3.2369   val_loss 1.4502 train_acc 0.3540 val_acc 0.6639\n",
            "loss 1.329642888727121\n"
          ]
        },
        {
          "output_type": "stream",
          "name": "stderr",
          "text": [
            "epoch:  20%|██        | 2/10 [16:57<1:07:48, 508.56s/it]"
          ]
        },
        {
          "output_type": "stream",
          "name": "stdout",
          "text": [
            "Saved model with val acc 0.6928794992175275\n",
            "\n",
            "Epoch 002 train_loss: 1.3296   val_loss 0.9840 train_acc 0.6131 val_acc 0.6929\n",
            "loss 0.8749840743480138\n"
          ]
        },
        {
          "output_type": "stream",
          "name": "stderr",
          "text": [
            "epoch:  30%|███       | 3/10 [25:21<59:05, 506.53s/it]"
          ]
        },
        {
          "output_type": "stream",
          "name": "stdout",
          "text": [
            "Saved model with val acc 0.701095461658842\n",
            "\n",
            "Epoch 003 train_loss: 0.8750   val_loss 0.9430 train_acc 0.7283 val_acc 0.7011\n",
            "loss 0.6867049168800207\n"
          ]
        },
        {
          "output_type": "stream",
          "name": "stderr",
          "text": [
            "epoch:  40%|████      | 4/10 [33:45<50:32, 505.41s/it]"
          ]
        },
        {
          "output_type": "stream",
          "name": "stdout",
          "text": [
            "Saved model with val acc 0.7327856025039123\n",
            "\n",
            "Epoch 004 train_loss: 0.6867   val_loss 0.8694 train_acc 0.7875 val_acc 0.7328\n",
            "loss 0.5739855543303795\n"
          ]
        },
        {
          "output_type": "stream",
          "name": "stderr",
          "text": [
            "epoch:  50%|█████     | 5/10 [42:08<42:02, 504.48s/it]"
          ]
        },
        {
          "output_type": "stream",
          "name": "stdout",
          "text": [
            "\n",
            "Epoch 005 train_loss: 0.5740   val_loss 1.1288 train_acc 0.8225 val_acc 0.6866\n",
            "loss 0.47592063062719103\n"
          ]
        },
        {
          "output_type": "stream",
          "name": "stderr",
          "text": [
            "epoch:  60%|██████    | 6/10 [50:32<33:36, 504.21s/it]"
          ]
        },
        {
          "output_type": "stream",
          "name": "stdout",
          "text": [
            "\n",
            "Epoch 006 train_loss: 0.4759   val_loss 0.9818 train_acc 0.8436 val_acc 0.7132\n",
            "loss 0.42039762534144776\n"
          ]
        },
        {
          "output_type": "stream",
          "name": "stderr",
          "text": [
            "epoch:  70%|███████   | 7/10 [58:55<25:11, 503.94s/it]"
          ]
        },
        {
          "output_type": "stream",
          "name": "stdout",
          "text": [
            "\n",
            "Epoch 007 train_loss: 0.4204   val_loss 0.9771 train_acc 0.8629 val_acc 0.7234\n",
            "loss 0.36749071170090697\n"
          ]
        },
        {
          "output_type": "stream",
          "name": "stderr",
          "text": [
            "epoch:  80%|████████  | 8/10 [1:07:18<16:47, 503.70s/it]"
          ]
        },
        {
          "output_type": "stream",
          "name": "stdout",
          "text": [
            "\n",
            "Epoch 008 train_loss: 0.3675   val_loss 0.9418 train_acc 0.8838 val_acc 0.7273\n",
            "loss 0.34405638222715546\n"
          ]
        },
        {
          "output_type": "stream",
          "name": "stderr",
          "text": [
            "epoch:  90%|█████████ | 9/10 [1:15:42<08:23, 503.75s/it]"
          ]
        },
        {
          "output_type": "stream",
          "name": "stdout",
          "text": [
            "Saved model with val acc 0.7394366197183099\n",
            "\n",
            "Epoch 009 train_loss: 0.3441   val_loss 0.9896 train_acc 0.8898 val_acc 0.7394\n",
            "loss 0.29250012281791304\n"
          ]
        },
        {
          "output_type": "stream",
          "name": "stderr",
          "text": [
            "epoch: 100%|██████████| 10/10 [1:24:06<00:00, 504.60s/it]\n"
          ]
        },
        {
          "output_type": "stream",
          "name": "stdout",
          "text": [
            "\n",
            "Epoch 010 train_loss: 0.2925   val_loss 0.9938 train_acc 0.9035 val_acc 0.7394\n"
          ]
        },
        {
          "output_type": "display_data",
          "data": {
            "image/png": "[encoded data removed]",
            "text/plain": [
              "<Figure size 432x288 with 1 Axes>"
            ]
          },
          "metadata": {
            "needs_background": "light"
          }
        }
      ]
    },
    {
      "cell_type": "code",
      "metadata": {
        "id": "_zeMjkb7v690"
      },
      "source": [
        "res = make_prediction(save_name, model, test_files)\n",
        "res.to_csv('/content/drive/MyDrive/Diplom/resnet152_augm.csv', index = False)"
      ],
      "execution_count": null,
      "outputs": []
    },
    {
      "cell_type": "markdown",
      "metadata": {
        "id": "HjDpeXqYRsk1"
      },
      "source": [
        "Kaggle score 1.01417"
      ]
    },
    {
      "cell_type": "markdown",
      "metadata": {
        "id": "hmtZ7_3V23LF"
      },
      "source": [
        "**Сокращенный датасет**"
      ]
    },
    {
      "cell_type": "code",
      "metadata": {
        "colab": {
          "base_uri": "https://localhost:8080/",
          "height": 907
        },
        "id": "t-qBe7_uxwMP",
        "outputId": "df0ce3bb-278c-4c61-dc8e-3fac90a811a8"
      },
      "source": [
        "save_name = '/content/DogsModelRESNET152_short.pth'\n",
        "model = initialize_and_train_model(\"ResNet152\", 120, 10, 32, train_dataset_short, val_dataset_short, save_name)"
      ],
      "execution_count": null,
      "outputs": [
        {
          "output_type": "stream",
          "name": "stderr",
          "text": [
            "\repoch:   0%|          | 0/10 [00:00<?, ?it/s]"
          ]
        },
        {
          "output_type": "stream",
          "name": "stdout",
          "text": [
            "loss 4.27360246422215\n"
          ]
        },
        {
          "output_type": "stream",
          "name": "stderr",
          "text": [
            "epoch:  10%|█         | 1/10 [03:12<28:50, 192.22s/it]"
          ]
        },
        {
          "output_type": "stream",
          "name": "stdout",
          "text": [
            "Saved model with val acc 0.494300518134715\n",
            "\n",
            "Epoch 001 train_loss: 4.2736   val_loss 3.1769 train_acc 0.1636 val_acc 0.4943\n",
            "loss 1.7836386163205031\n"
          ]
        },
        {
          "output_type": "stream",
          "name": "stderr",
          "text": [
            "epoch:  20%|██        | 2/10 [06:22<25:30, 191.31s/it]"
          ]
        },
        {
          "output_type": "stream",
          "name": "stdout",
          "text": [
            "Saved model with val acc 0.6248704663212435\n",
            "\n",
            "Epoch 002 train_loss: 1.7836   val_loss 1.1879 train_acc 0.5100 val_acc 0.6249\n",
            "loss 1.042466197600833\n"
          ]
        },
        {
          "output_type": "stream",
          "name": "stderr",
          "text": [
            "epoch:  30%|███       | 3/10 [09:33<22:17, 191.06s/it]"
          ]
        },
        {
          "output_type": "stream",
          "name": "stdout",
          "text": [
            "Saved model with val acc 0.6310880829015544\n",
            "\n",
            "Epoch 003 train_loss: 1.0425   val_loss 1.2009 train_acc 0.6874 val_acc 0.6311\n",
            "loss 0.7453338235905227\n"
          ]
        },
        {
          "output_type": "stream",
          "name": "stderr",
          "text": [
            "epoch:  40%|████      | 4/10 [12:44<19:05, 190.84s/it]"
          ]
        },
        {
          "output_type": "stream",
          "name": "stdout",
          "text": [
            "Saved model with val acc 0.6715025906735751\n",
            "\n",
            "Epoch 004 train_loss: 0.7453   val_loss 1.0899 train_acc 0.7739 val_acc 0.6715\n",
            "loss 0.5701267038308403\n"
          ]
        },
        {
          "output_type": "stream",
          "name": "stderr",
          "text": [
            "epoch:  50%|█████     | 5/10 [15:54<15:53, 190.77s/it]"
          ]
        },
        {
          "output_type": "stream",
          "name": "stdout",
          "text": [
            "Saved model with val acc 0.7036269430051814\n",
            "\n",
            "Epoch 005 train_loss: 0.5701   val_loss 1.0565 train_acc 0.8223 val_acc 0.7036\n",
            "loss 0.5005454729371711\n"
          ]
        },
        {
          "output_type": "stream",
          "name": "stderr",
          "text": [
            "epoch:  60%|██████    | 6/10 [19:04<12:41, 190.43s/it]"
          ]
        },
        {
          "output_type": "stream",
          "name": "stdout",
          "text": [
            "\n",
            "Epoch 006 train_loss: 0.5005   val_loss 1.0763 train_acc 0.8361 val_acc 0.6860\n",
            "loss 0.4371421222535077\n"
          ]
        },
        {
          "output_type": "stream",
          "name": "stderr",
          "text": [
            "epoch:  70%|███████   | 7/10 [22:14<09:30, 190.15s/it]"
          ]
        },
        {
          "output_type": "stream",
          "name": "stdout",
          "text": [
            "\n",
            "Epoch 007 train_loss: 0.4371   val_loss 1.1314 train_acc 0.8582 val_acc 0.6933\n",
            "loss 0.3820543518781992\n"
          ]
        },
        {
          "output_type": "stream",
          "name": "stderr",
          "text": [
            "epoch:  80%|████████  | 8/10 [25:24<06:20, 190.22s/it]"
          ]
        },
        {
          "output_type": "stream",
          "name": "stdout",
          "text": [
            "\n",
            "Epoch 008 train_loss: 0.3821   val_loss 1.2667 train_acc 0.8873 val_acc 0.6684\n",
            "loss 0.303975701867957\n"
          ]
        },
        {
          "output_type": "stream",
          "name": "stderr",
          "text": [
            "epoch:  90%|█████████ | 9/10 [28:35<03:10, 190.35s/it]"
          ]
        },
        {
          "output_type": "stream",
          "name": "stdout",
          "text": [
            "\n",
            "Epoch 009 train_loss: 0.3040   val_loss 1.2170 train_acc 0.9046 val_acc 0.7036\n",
            "loss 0.30591406667782806\n"
          ]
        },
        {
          "output_type": "stream",
          "name": "stderr",
          "text": [
            "epoch: 100%|██████████| 10/10 [31:46<00:00, 190.61s/it]\n"
          ]
        },
        {
          "output_type": "stream",
          "name": "stdout",
          "text": [
            "\n",
            "Epoch 010 train_loss: 0.3059   val_loss 1.2641 train_acc 0.9011 val_acc 0.6819\n"
          ]
        },
        {
          "output_type": "display_data",
          "data": {
            "image/png": "[encoded data removed]",
            "text/plain": [
              "<Figure size 432x288 with 1 Axes>"
            ]
          },
          "metadata": {
            "needs_background": "light"
          }
        }
      ]
    },
    {
      "cell_type": "code",
      "metadata": {
        "id": "ej9Iqr5zxwPS"
      },
      "source": [
        "res = make_prediction(save_name, model, test_files)\n",
        "res.to_csv('/content/drive/MyDrive/Diplom/resnet152_augm_short.csv', index = False)"
      ],
      "execution_count": null,
      "outputs": []
    },
    {
      "cell_type": "markdown",
      "metadata": {
        "id": "2C4volVcRX47"
      },
      "source": [
        "Kaggle score 1.11357"
      ]
    },
    {
      "cell_type": "markdown",
      "metadata": {
        "id": "TZWZ0b9q3A4N"
      },
      "source": [
        "# VGG19"
      ]
    },
    {
      "cell_type": "markdown",
      "metadata": {
        "id": "XiST1MnS3HrQ"
      },
      "source": [
        "**Полный датасет**"
      ]
    },
    {
      "cell_type": "code",
      "metadata": {
        "colab": {
          "base_uri": "https://localhost:8080/",
          "height": 905,
          "referenced_widgets": [
            "f9ca20953791442abf5fa2f25980c5ec",
            "fc39dde88f5a41e18a8fe00e7040dd42",
            "2c56199a50d94111a214b33e4524d9b5",
            "a4dba15d6d5b45d398f797bd406bbe80",
            "f700dfe4d68f498593b321ca92e8dfe6",
            "2dc568269fff4f67b1cea2029d726852",
            "17072615c6bb4d39941c52acbe82f037",
            "7a0e2ca6dec945499177e6de419e591a",
            "549103890af04c3fac4a19fd4766c38f",
            "a4e75086c2074b2aa4fce3b3466284ee",
            "3f41ed740e1049d6bbf2faaf42ed2f99"
          ]
        },
        "id": "G5VMFkElxwRd",
        "outputId": "f42da798-b1af-49cd-a895-e80690c6e8d9"
      },
      "source": [
        "save_name = '/content/DogsModelVGG19.pth'\n",
        "model = initialize_and_train_model(\"VGG19\", 120, 10, 32, train_dataset, val_dataset, save_name)"
      ],
      "execution_count": null,
      "outputs": [
        {
          "output_type": "stream",
          "name": "stderr",
          "text": [
            "Downloading: \"https://download.pytorch.org/models/vgg19-dcbb9e9d.pth\" to /root/.cache/torch/hub/checkpoints/vgg19-dcbb9e9d.pth\n"
          ]
        },
        {
          "output_type": "display_data",
          "data": {
            "application/vnd.jupyter.widget-view+json": {
              "model_id": "f9ca20953791442abf5fa2f25980c5ec",
              "version_minor": 0,
              "version_major": 2
            },
            "text/plain": [
              "  0%|          | 0.00/548M [00:00<?, ?B/s]"
            ]
          },
          "metadata": {}
        },
        {
          "output_type": "stream",
          "name": "stderr",
          "text": [
            "\repoch:   0%|          | 0/10 [00:00<?, ?it/s]"
          ]
        },
        {
          "output_type": "stream",
          "name": "stdout",
          "text": [
            "loss 2.778591150096711\n"
          ]
        },
        {
          "output_type": "stream",
          "name": "stderr",
          "text": [
            "epoch:  10%|█         | 1/10 [06:49<1:01:27, 409.67s/it]"
          ]
        },
        {
          "output_type": "stream",
          "name": "stdout",
          "text": [
            "Saved model with val acc 0.6713615023474179\n",
            "\n",
            "Epoch 001 train_loss: 2.7786   val_loss 1.1720 train_acc 0.3346 val_acc 0.6714\n",
            "loss 1.0086900379120947\n"
          ]
        },
        {
          "output_type": "stream",
          "name": "stderr",
          "text": [
            "epoch:  20%|██        | 2/10 [13:38<54:31, 408.93s/it]"
          ]
        },
        {
          "output_type": "stream",
          "name": "stdout",
          "text": [
            "Saved model with val acc 0.7355242566510173\n",
            "\n",
            "Epoch 002 train_loss: 1.0087   val_loss 0.8668 train_acc 0.7001 val_acc 0.7355\n",
            "loss 0.665740577135203\n"
          ]
        },
        {
          "output_type": "stream",
          "name": "stderr",
          "text": [
            "epoch:  30%|███       | 3/10 [20:24<47:33, 407.62s/it]"
          ]
        },
        {
          "output_type": "stream",
          "name": "stdout",
          "text": [
            "\n",
            "Epoch 003 train_loss: 0.6657   val_loss 1.0294 train_acc 0.8024 val_acc 0.7164\n",
            "loss 0.49818517836459525\n"
          ]
        },
        {
          "output_type": "stream",
          "name": "stderr",
          "text": [
            "epoch:  40%|████      | 4/10 [27:09<40:40, 406.75s/it]"
          ]
        },
        {
          "output_type": "stream",
          "name": "stdout",
          "text": [
            "\n",
            "Epoch 004 train_loss: 0.4982   val_loss 1.1695 train_acc 0.8496 val_acc 0.6925\n",
            "loss 0.38447975875999796\n"
          ]
        },
        {
          "output_type": "stream",
          "name": "stderr",
          "text": [
            "epoch:  50%|█████     | 5/10 [33:56<33:53, 406.67s/it]"
          ]
        },
        {
          "output_type": "stream",
          "name": "stdout",
          "text": [
            "\n",
            "Epoch 005 train_loss: 0.3845   val_loss 1.1241 train_acc 0.8883 val_acc 0.7171\n",
            "loss 0.3381783983398286\n"
          ]
        },
        {
          "output_type": "stream",
          "name": "stderr",
          "text": [
            "epoch:  60%|██████    | 6/10 [40:43<27:07, 406.78s/it]"
          ]
        },
        {
          "output_type": "stream",
          "name": "stdout",
          "text": [
            "\n",
            "Epoch 006 train_loss: 0.3382   val_loss 1.1679 train_acc 0.8969 val_acc 0.7097\n",
            "loss 0.296434522098858\n"
          ]
        },
        {
          "output_type": "stream",
          "name": "stderr",
          "text": [
            "epoch:  70%|███████   | 7/10 [47:29<20:19, 406.52s/it]"
          ]
        },
        {
          "output_type": "stream",
          "name": "stdout",
          "text": [
            "\n",
            "Epoch 007 train_loss: 0.2964   val_loss 1.2597 train_acc 0.9108 val_acc 0.7070\n",
            "loss 0.26983402136051404\n"
          ]
        },
        {
          "output_type": "stream",
          "name": "stderr",
          "text": [
            "epoch:  80%|████████  | 8/10 [54:16<13:33, 406.68s/it]"
          ]
        },
        {
          "output_type": "stream",
          "name": "stdout",
          "text": [
            "\n",
            "Epoch 008 train_loss: 0.2698   val_loss 1.1298 train_acc 0.9237 val_acc 0.7042\n",
            "loss 0.22271835660533248\n"
          ]
        },
        {
          "output_type": "stream",
          "name": "stderr",
          "text": [
            "epoch:  90%|█████████ | 9/10 [1:01:04<06:47, 407.27s/it]"
          ]
        },
        {
          "output_type": "stream",
          "name": "stdout",
          "text": [
            "\n",
            "Epoch 009 train_loss: 0.2227   val_loss 1.2145 train_acc 0.9339 val_acc 0.7117\n",
            "loss 0.19657623304341823\n"
          ]
        },
        {
          "output_type": "stream",
          "name": "stderr",
          "text": [
            "epoch: 100%|██████████| 10/10 [1:07:52<00:00, 407.27s/it]\n"
          ]
        },
        {
          "output_type": "stream",
          "name": "stdout",
          "text": [
            "\n",
            "Epoch 010 train_loss: 0.1966   val_loss 1.3184 train_acc 0.9431 val_acc 0.6968\n"
          ]
        },
        {
          "output_type": "display_data",
          "data": {
            "image/png": "[encoded data removed]",
            "text/plain": [
              "<Figure size 432x288 with 1 Axes>"
            ]
          },
          "metadata": {
            "needs_background": "light"
          }
        }
      ]
    },
    {
      "cell_type": "code",
      "metadata": {
        "id": "C1wfret0v7Ai"
      },
      "source": [
        "res = make_prediction(save_name, model, test_files)\n",
        "res.to_csv('/content/drive/MyDrive/Diplom/vgg19_augm.csv', index = False)"
      ],
      "execution_count": null,
      "outputs": []
    },
    {
      "cell_type": "markdown",
      "metadata": {
        "id": "9skTIDkFS5-Q"
      },
      "source": [
        "Kaggle score 0.90778"
      ]
    },
    {
      "cell_type": "markdown",
      "metadata": {
        "id": "ZRlY2Zqr3Ghk"
      },
      "source": [
        "**Сокращенный датасет**"
      ]
    },
    {
      "cell_type": "code",
      "metadata": {
        "colab": {
          "base_uri": "https://localhost:8080/",
          "height": 890
        },
        "id": "_GuNuJu0v7C0",
        "outputId": "8efd7b1d-604b-4fcf-f518-c6583bc7aaca"
      },
      "source": [
        "save_name = '/content/DogsModelVGG19_short.pth'\n",
        "model = initialize_and_train_model(\"VGG19\", 120, 10, 32, train_dataset_short, val_dataset_short, save_name)"
      ],
      "execution_count": null,
      "outputs": [
        {
          "output_type": "stream",
          "name": "stderr",
          "text": [
            "\repoch:   0%|          | 0/10 [00:00<?, ?it/s]"
          ]
        },
        {
          "output_type": "stream",
          "name": "stdout",
          "text": [
            "loss 4.255382228524193\n"
          ]
        },
        {
          "output_type": "stream",
          "name": "stderr",
          "text": [
            "epoch:  10%|█         | 1/10 [02:36<23:31, 156.88s/it]"
          ]
        },
        {
          "output_type": "stream",
          "name": "stdout",
          "text": [
            "Saved model with val acc 0.46735751295336786\n",
            "\n",
            "Epoch 001 train_loss: 4.2554   val_loss 2.0676 train_acc 0.0996 val_acc 0.4674\n",
            "loss 1.599276035488229\n"
          ]
        },
        {
          "output_type": "stream",
          "name": "stderr",
          "text": [
            "epoch:  20%|██        | 2/10 [05:13<20:54, 156.82s/it]"
          ]
        },
        {
          "output_type": "stream",
          "name": "stdout",
          "text": [
            "Saved model with val acc 0.6259067357512953\n",
            "\n",
            "Epoch 002 train_loss: 1.5993   val_loss 1.2925 train_acc 0.5622 val_acc 0.6259\n",
            "loss 0.7911687146248824\n"
          ]
        },
        {
          "output_type": "stream",
          "name": "stderr",
          "text": [
            "epoch:  30%|███       | 3/10 [07:50<18:17, 156.74s/it]"
          ]
        },
        {
          "output_type": "stream",
          "name": "stdout",
          "text": [
            "Saved model with val acc 0.6393782383419688\n",
            "\n",
            "Epoch 003 train_loss: 0.7912   val_loss 1.3281 train_acc 0.7701 val_acc 0.6394\n",
            "loss 0.51321946725476\n"
          ]
        },
        {
          "output_type": "stream",
          "name": "stderr",
          "text": [
            "epoch:  40%|████      | 4/10 [10:25<15:36, 156.10s/it]"
          ]
        },
        {
          "output_type": "stream",
          "name": "stdout",
          "text": [
            "\n",
            "Epoch 004 train_loss: 0.5132   val_loss 1.4831 train_acc 0.8596 val_acc 0.6135\n",
            "loss 0.4131483260032052\n"
          ]
        },
        {
          "output_type": "stream",
          "name": "stderr",
          "text": [
            "epoch:  50%|█████     | 5/10 [12:59<12:56, 155.32s/it]"
          ]
        },
        {
          "output_type": "stream",
          "name": "stdout",
          "text": [
            "\n",
            "Epoch 005 train_loss: 0.4131   val_loss 1.5775 train_acc 0.8793 val_acc 0.6197\n",
            "loss 0.3092866991318113\n"
          ]
        },
        {
          "output_type": "stream",
          "name": "stderr",
          "text": [
            "epoch:  60%|██████    | 6/10 [15:33<10:20, 155.06s/it]"
          ]
        },
        {
          "output_type": "stream",
          "name": "stdout",
          "text": [
            "\n",
            "Epoch 006 train_loss: 0.3093   val_loss 1.5915 train_acc 0.9094 val_acc 0.6249\n",
            "loss 0.26058678318685846\n"
          ]
        },
        {
          "output_type": "stream",
          "name": "stderr",
          "text": [
            "epoch:  70%|███████   | 7/10 [18:08<07:44, 154.95s/it]"
          ]
        },
        {
          "output_type": "stream",
          "name": "stdout",
          "text": [
            "\n",
            "Epoch 007 train_loss: 0.2606   val_loss 1.5771 train_acc 0.9260 val_acc 0.6363\n",
            "loss 0.2540050340896243\n"
          ]
        },
        {
          "output_type": "stream",
          "name": "stderr",
          "text": [
            "epoch:  80%|████████  | 8/10 [20:43<05:09, 154.91s/it]"
          ]
        },
        {
          "output_type": "stream",
          "name": "stdout",
          "text": [
            "\n",
            "Epoch 008 train_loss: 0.2540   val_loss 1.7447 train_acc 0.9260 val_acc 0.6249\n",
            "loss 0.2697151343893378\n"
          ]
        },
        {
          "output_type": "stream",
          "name": "stderr",
          "text": [
            "epoch:  90%|█████████ | 9/10 [23:19<02:35, 155.18s/it]"
          ]
        },
        {
          "output_type": "stream",
          "name": "stdout",
          "text": [
            "Saved model with val acc 0.6518134715025906\n",
            "\n",
            "Epoch 009 train_loss: 0.2697   val_loss 1.4188 train_acc 0.9243 val_acc 0.6518\n",
            "loss 0.24521857577364475\n"
          ]
        },
        {
          "output_type": "stream",
          "name": "stderr",
          "text": [
            "epoch: 100%|██████████| 10/10 [25:53<00:00, 155.34s/it]\n"
          ]
        },
        {
          "output_type": "stream",
          "name": "stdout",
          "text": [
            "\n",
            "Epoch 010 train_loss: 0.2452   val_loss 1.5490 train_acc 0.9343 val_acc 0.6321\n"
          ]
        },
        {
          "output_type": "display_data",
          "data": {
            "image/png": "[encoded data removed]",
            "text/plain": [
              "<Figure size 432x288 with 1 Axes>"
            ]
          },
          "metadata": {
            "needs_background": "light"
          }
        }
      ]
    },
    {
      "cell_type": "code",
      "metadata": {
        "id": "x9-bDGZfvZ88"
      },
      "source": [
        "res = make_prediction(save_name, model, test_files)\n",
        "res.to_csv('/content/drive/MyDrive/Diplom/vgg19_augm_short.csv', index = False)"
      ],
      "execution_count": null,
      "outputs": []
    },
    {
      "cell_type": "markdown",
      "metadata": {
        "id": "HtEfpydVS8mQ"
      },
      "source": [
        "Kaggle score 1.39809"
      ]
    },
    {
      "cell_type": "markdown",
      "metadata": {
        "id": "Wn7nCd523Uu3"
      },
      "source": [
        "# DenseNet161"
      ]
    },
    {
      "cell_type": "markdown",
      "metadata": {
        "id": "Wn2LQ8W23avw"
      },
      "source": [
        "**Полный датасет**"
      ]
    },
    {
      "cell_type": "code",
      "metadata": {
        "colab": {
          "base_uri": "https://localhost:8080/",
          "height": 973,
          "referenced_widgets": [
            "4bf2f5369f4248fdb3e5d2716f1bd678",
            "27a037d0e62848bbbe75894e2d8187b2",
            "d8b5a0f8eade45d1bbbe096bff9a7664",
            "2ab562471e144deea564e1412bd4eac8",
            "bc6bdd6db0a0467aabac2f4797d4b9b8",
            "3a2ebf685fb747259071decdc8db3b76",
            "19918af33cef44f4a395ad27755fbda0",
            "e4907faef5b24f9e9dd83e1a0ee1daf7",
            "8b66785089244c2c977f6acba50b9cbe",
            "e0b2438093284c719416964b6c62a1ec",
            "faf653b9a8ae42088d27e949376f4ca5"
          ]
        },
        "id": "7GIpq6wB3UER",
        "outputId": "6dd99ba6-0673-4c6e-fcd6-8d3bccdf8b92"
      },
      "source": [
        "save_name = '/content/DogsModelDenseNet161.pth'\n",
        "model = initialize_and_train_model(\"DenseNet161\", 120, 10, 32, train_dataset, val_dataset, save_name)"
      ],
      "execution_count": null,
      "outputs": [
        {
          "output_type": "stream",
          "name": "stderr",
          "text": [
            "Downloading: \"https://download.pytorch.org/models/densenet161-8d451a50.pth\" to /root/.cache/torch/hub/checkpoints/densenet161-8d451a50.pth\n"
          ]
        },
        {
          "output_type": "display_data",
          "data": {
            "application/vnd.jupyter.widget-view+json": {
              "model_id": "4bf2f5369f4248fdb3e5d2716f1bd678",
              "version_minor": 0,
              "version_major": 2
            },
            "text/plain": [
              "  0%|          | 0.00/110M [00:00<?, ?B/s]"
            ]
          },
          "metadata": {}
        },
        {
          "output_type": "stream",
          "name": "stderr",
          "text": [
            "\repoch:   0%|          | 0/10 [00:00<?, ?it/s]"
          ]
        },
        {
          "output_type": "stream",
          "name": "stdout",
          "text": [
            "loss 4.244943282015169\n"
          ]
        },
        {
          "output_type": "stream",
          "name": "stderr",
          "text": [
            "epoch:  10%|█         | 1/10 [08:46<1:19:00, 526.67s/it]"
          ]
        },
        {
          "output_type": "stream",
          "name": "stdout",
          "text": [
            "Saved model with val acc 0.5387323943661972\n",
            "\n",
            "Epoch 001 train_loss: 4.2449   val_loss 3.3658 train_acc 0.1372 val_acc 0.5387\n",
            "loss 1.7603094848055085\n"
          ]
        },
        {
          "output_type": "stream",
          "name": "stderr",
          "text": [
            "epoch:  20%|██        | 2/10 [17:25<1:09:34, 521.83s/it]"
          ]
        },
        {
          "output_type": "stream",
          "name": "stdout",
          "text": [
            "Saved model with val acc 0.6561032863849765\n",
            "\n",
            "Epoch 002 train_loss: 1.7603   val_loss 1.2425 train_acc 0.5562 val_acc 0.6561\n",
            "loss 0.9665428192908478\n"
          ]
        },
        {
          "output_type": "stream",
          "name": "stderr",
          "text": [
            "epoch:  30%|███       | 3/10 [26:03<1:00:42, 520.30s/it]"
          ]
        },
        {
          "output_type": "stream",
          "name": "stdout",
          "text": [
            "Saved model with val acc 0.7320031298904538\n",
            "\n",
            "Epoch 003 train_loss: 0.9665   val_loss 0.9528 train_acc 0.7227 val_acc 0.7320\n",
            "loss 0.711739567546536\n"
          ]
        },
        {
          "output_type": "stream",
          "name": "stderr",
          "text": [
            "epoch:  40%|████      | 4/10 [34:43<52:00, 520.01s/it]"
          ]
        },
        {
          "output_type": "stream",
          "name": "stdout",
          "text": [
            "Saved model with val acc 0.7429577464788732\n",
            "\n",
            "Epoch 004 train_loss: 0.7117   val_loss 0.8969 train_acc 0.7905 val_acc 0.7430\n",
            "loss 0.5541228374270463\n"
          ]
        },
        {
          "output_type": "stream",
          "name": "stderr",
          "text": [
            "epoch:  50%|█████     | 5/10 [43:21<43:17, 519.51s/it]"
          ]
        },
        {
          "output_type": "stream",
          "name": "stdout",
          "text": [
            "\n",
            "Epoch 005 train_loss: 0.5541   val_loss 0.9869 train_acc 0.8311 val_acc 0.7152\n",
            "loss 0.4293748714455481\n"
          ]
        },
        {
          "output_type": "stream",
          "name": "stderr",
          "text": [
            "epoch:  60%|██████    | 6/10 [52:00<34:37, 519.30s/it]"
          ]
        },
        {
          "output_type": "stream",
          "name": "stdout",
          "text": [
            "Saved model with val acc 0.7433489827856026\n",
            "\n",
            "Epoch 006 train_loss: 0.4294   val_loss 0.9690 train_acc 0.8638 val_acc 0.7433\n",
            "loss 0.38323556752513416\n"
          ]
        },
        {
          "output_type": "stream",
          "name": "stderr",
          "text": [
            "epoch:  70%|███████   | 7/10 [1:00:39<25:56, 519.00s/it]"
          ]
        },
        {
          "output_type": "stream",
          "name": "stdout",
          "text": [
            "\n",
            "Epoch 007 train_loss: 0.3832   val_loss 0.9929 train_acc 0.8838 val_acc 0.7336\n",
            "loss 0.30856159638867126\n"
          ]
        },
        {
          "output_type": "stream",
          "name": "stderr",
          "text": [
            "epoch:  80%|████████  | 8/10 [1:09:16<17:17, 518.54s/it]"
          ]
        },
        {
          "output_type": "stream",
          "name": "stdout",
          "text": [
            "\n",
            "Epoch 008 train_loss: 0.3086   val_loss 1.0788 train_acc 0.9035 val_acc 0.7257\n",
            "loss 0.28219107214819195\n"
          ]
        },
        {
          "output_type": "stream",
          "name": "stderr",
          "text": [
            "epoch:  90%|█████████ | 9/10 [1:17:54<08:38, 518.18s/it]"
          ]
        },
        {
          "output_type": "stream",
          "name": "stdout",
          "text": [
            "\n",
            "Epoch 009 train_loss: 0.2822   val_loss 1.0719 train_acc 0.9100 val_acc 0.7136\n",
            "loss 0.24525211955559897\n"
          ]
        },
        {
          "output_type": "stream",
          "name": "stderr",
          "text": [
            "epoch: 100%|██████████| 10/10 [1:26:32<00:00, 519.27s/it]"
          ]
        },
        {
          "output_type": "stream",
          "name": "stdout",
          "text": [
            "Saved model with val acc 0.7554773082942097\n",
            "\n",
            "Epoch 010 train_loss: 0.2453   val_loss 1.0120 train_acc 0.9230 val_acc 0.7555\n"
          ]
        },
        {
          "output_type": "stream",
          "name": "stderr",
          "text": [
            "\n"
          ]
        },
        {
          "output_type": "display_data",
          "data": {
            "image/png": "[encoded data removed]",
            "text/plain": [
              "<Figure size 432x288 with 1 Axes>"
            ]
          },
          "metadata": {
            "needs_background": "light"
          }
        }
      ]
    },
    {
      "cell_type": "code",
      "metadata": {
        "id": "mQw55B8I3UHP"
      },
      "source": [
        "res = make_prediction(save_name, model, test_files)\n",
        "res.to_csv('/content/drive/MyDrive/Diplom/densenet161_augm.csv', index = False)"
      ],
      "execution_count": null,
      "outputs": []
    },
    {
      "cell_type": "markdown",
      "metadata": {
        "id": "tuKa05VZdx-n"
      },
      "source": [
        "Kaggle score 0.99121"
      ]
    },
    {
      "cell_type": "markdown",
      "metadata": {
        "id": "UNn9vz-F3hQa"
      },
      "source": [
        "**Сокращенный датасет**"
      ]
    },
    {
      "cell_type": "code",
      "metadata": {
        "colab": {
          "base_uri": "https://localhost:8080/",
          "height": 924
        },
        "id": "rZ4SAqUh3UMV",
        "outputId": "d31a6b23-abe8-4ff2-eebe-aa0e289f0941"
      },
      "source": [
        "save_name = '/content/DogsModelDenseNet161_short.pth'\n",
        "model = initialize_and_train_model(\"DenseNet161\", 120, 10, 32, train_dataset_short, val_dataset_short, save_name)"
      ],
      "execution_count": null,
      "outputs": [
        {
          "output_type": "stream",
          "name": "stderr",
          "text": [
            "\repoch:   0%|          | 0/10 [00:00<?, ?it/s]"
          ]
        },
        {
          "output_type": "stream",
          "name": "stdout",
          "text": [
            "loss 4.627572537787557\n"
          ]
        },
        {
          "output_type": "stream",
          "name": "stderr",
          "text": [
            "epoch:  10%|█         | 1/10 [03:19<29:53, 199.28s/it]"
          ]
        },
        {
          "output_type": "stream",
          "name": "stdout",
          "text": [
            "Saved model with val acc 0.20207253886010362\n",
            "\n",
            "Epoch 001 train_loss: 4.6276   val_loss 4.0754 train_acc 0.0425 val_acc 0.2021\n",
            "loss 2.648598768899055\n"
          ]
        },
        {
          "output_type": "stream",
          "name": "stderr",
          "text": [
            "epoch:  20%|██        | 2/10 [06:36<26:25, 198.24s/it]"
          ]
        },
        {
          "output_type": "stream",
          "name": "stdout",
          "text": [
            "Saved model with val acc 0.4849740932642487\n",
            "\n",
            "Epoch 002 train_loss: 2.6486   val_loss 1.8996 train_acc 0.3797 val_acc 0.4850\n",
            "loss 1.3805247045651512\n"
          ]
        },
        {
          "output_type": "stream",
          "name": "stderr",
          "text": [
            "epoch:  30%|███       | 3/10 [09:53<23:04, 197.75s/it]"
          ]
        },
        {
          "output_type": "stream",
          "name": "stdout",
          "text": [
            "Saved model with val acc 0.6176165803108808\n",
            "\n",
            "Epoch 003 train_loss: 1.3805   val_loss 1.3950 train_acc 0.6196 val_acc 0.6176\n",
            "loss 0.805530344096127\n"
          ]
        },
        {
          "output_type": "stream",
          "name": "stderr",
          "text": [
            "epoch:  40%|████      | 4/10 [13:11<19:45, 197.61s/it]"
          ]
        },
        {
          "output_type": "stream",
          "name": "stdout",
          "text": [
            "Saved model with val acc 0.6808290155440414\n",
            "\n",
            "Epoch 004 train_loss: 0.8055   val_loss 1.1999 train_acc 0.7614 val_acc 0.6808\n",
            "loss 0.5544275579610801\n"
          ]
        },
        {
          "output_type": "stream",
          "name": "stderr",
          "text": [
            "epoch:  50%|█████     | 5/10 [16:28<16:26, 197.39s/it]"
          ]
        },
        {
          "output_type": "stream",
          "name": "stdout",
          "text": [
            "\n",
            "Epoch 005 train_loss: 0.5544   val_loss 1.2816 train_acc 0.8402 val_acc 0.6674\n",
            "loss 0.44807490240653686\n"
          ]
        },
        {
          "output_type": "stream",
          "name": "stderr",
          "text": [
            "epoch:  60%|██████    | 6/10 [19:44<13:08, 197.09s/it]"
          ]
        },
        {
          "output_type": "stream",
          "name": "stdout",
          "text": [
            "\n",
            "Epoch 006 train_loss: 0.4481   val_loss 1.2881 train_acc 0.8669 val_acc 0.6622\n",
            "loss 0.3854373032703769\n"
          ]
        },
        {
          "output_type": "stream",
          "name": "stderr",
          "text": [
            "epoch:  70%|███████   | 7/10 [23:01<09:50, 196.81s/it]"
          ]
        },
        {
          "output_type": "stream",
          "name": "stdout",
          "text": [
            "\n",
            "Epoch 007 train_loss: 0.3854   val_loss 1.2930 train_acc 0.8893 val_acc 0.6798\n",
            "loss 0.3200144475921061\n"
          ]
        },
        {
          "output_type": "stream",
          "name": "stderr",
          "text": [
            "epoch:  80%|████████  | 8/10 [26:17<06:33, 196.77s/it]"
          ]
        },
        {
          "output_type": "stream",
          "name": "stdout",
          "text": [
            "Saved model with val acc 0.6839378238341969\n",
            "\n",
            "Epoch 008 train_loss: 0.3200   val_loss 1.3259 train_acc 0.9073 val_acc 0.6839\n",
            "loss 0.2740751189201617\n"
          ]
        },
        {
          "output_type": "stream",
          "name": "stderr",
          "text": [
            "epoch:  90%|█████████ | 9/10 [29:33<03:16, 196.54s/it]"
          ]
        },
        {
          "output_type": "stream",
          "name": "stdout",
          "text": [
            "\n",
            "Epoch 009 train_loss: 0.2741   val_loss 1.3480 train_acc 0.9298 val_acc 0.6674\n",
            "loss 0.22497651890888914\n"
          ]
        },
        {
          "output_type": "stream",
          "name": "stderr",
          "text": [
            "epoch: 100%|██████████| 10/10 [32:50<00:00, 197.03s/it]"
          ]
        },
        {
          "output_type": "stream",
          "name": "stdout",
          "text": [
            "Saved model with val acc 0.6922279792746113\n",
            "\n",
            "Epoch 010 train_loss: 0.2250   val_loss 1.4095 train_acc 0.9378 val_acc 0.6922\n"
          ]
        },
        {
          "output_type": "stream",
          "name": "stderr",
          "text": [
            "\n"
          ]
        },
        {
          "output_type": "display_data",
          "data": {
            "image/png": "[encoded data removed]",
            "text/plain": [
              "<Figure size 432x288 with 1 Axes>"
            ]
          },
          "metadata": {
            "needs_background": "light"
          }
        }
      ]
    },
    {
      "cell_type": "code",
      "metadata": {
        "id": "kw4yHnNL3UOo"
      },
      "source": [
        "res = make_prediction(save_name, model, test_files)\n",
        "res.to_csv('/content/drive/MyDrive/Diplom/densenet161_augm_short.csv', index = False)"
      ],
      "execution_count": null,
      "outputs": []
    },
    {
      "cell_type": "markdown",
      "metadata": {
        "id": "Qo2DPnsLdXBB"
      },
      "source": [
        "Kaggle score 1.39809"
      ]
    },
    {
      "cell_type": "markdown",
      "metadata": {
        "id": "_Gs43H8z3qGK"
      },
      "source": [
        "# EfficientNet B6"
      ]
    },
    {
      "cell_type": "markdown",
      "metadata": {
        "id": "nqn1HqcX4K4m"
      },
      "source": [
        "**Полный датасет**"
      ]
    },
    {
      "cell_type": "code",
      "metadata": {
        "colab": {
          "base_uri": "https://localhost:8080/",
          "height": 993,
          "referenced_widgets": [
            "3d6f5c244e324a368768a2cae400ee5a",
            "209696c1d12f4395a9133de2335acbd4",
            "dee2b1cbcfaf4a448317f3c06c8a405f",
            "84c3f01a385b4bbbb98e02434d6ca2a1",
            "75affd0dac53429a92c0d4c00f7ea9d1",
            "becae3bc9891494eb1a99e8f3510cdd2",
            "12e377dce7be4345a09c7ca4bffe1a09",
            "0b91d19f08cf460faaf1b91795a6979e",
            "ed16820d5bf2446987671a7ec31a52a2",
            "8a38327beab74909b444e6e097a36f1c",
            "12bee6c54f0242e0a9ecb8952e46fc2b"
          ]
        },
        "id": "AVVe3eaq3pcj",
        "outputId": "02a436ef-cb34-4397-b7f4-3d8cf49692f0"
      },
      "source": [
        "save_name = '/content/EfficientNetB6.pth'\n",
        "model = initialize_and_train_model(\"EfficientNet\", 120, 10, 16, train_dataset, val_dataset, save_name)"
      ],
      "execution_count": null,
      "outputs": [
        {
          "output_type": "stream",
          "name": "stderr",
          "text": [
            "Downloading: \"https://github.com/lukemelas/EfficientNet-PyTorch/releases/download/1.0/efficientnet-b6-c76e70fd.pth\" to /root/.cache/torch/hub/checkpoints/efficientnet-b6-c76e70fd.pth\n"
          ]
        },
        {
          "output_type": "display_data",
          "data": {
            "application/vnd.jupyter.widget-view+json": {
              "model_id": "3d6f5c244e324a368768a2cae400ee5a",
              "version_minor": 0,
              "version_major": 2
            },
            "text/plain": [
              "  0%|          | 0.00/165M [00:00<?, ?B/s]"
            ]
          },
          "metadata": {}
        },
        {
          "output_type": "stream",
          "name": "stdout",
          "text": [
            "Loaded pretrained weights for efficientnet-b6\n"
          ]
        },
        {
          "output_type": "stream",
          "name": "stderr",
          "text": [
            "\repoch:   0%|          | 0/10 [00:00<?, ?it/s]"
          ]
        },
        {
          "output_type": "stream",
          "name": "stdout",
          "text": [
            "loss 4.3589008811743675\n"
          ]
        },
        {
          "output_type": "stream",
          "name": "stderr",
          "text": [
            "epoch:  10%|█         | 1/10 [13:13<1:58:57, 793.05s/it]"
          ]
        },
        {
          "output_type": "stream",
          "name": "stdout",
          "text": [
            "Saved model with val acc 0.6056338028169014\n",
            "\n",
            "Epoch 001 train_loss: 4.3589   val_loss 3.2924 train_acc 0.1727 val_acc 0.6056\n",
            "loss 0.9923404836791506\n"
          ]
        },
        {
          "output_type": "stream",
          "name": "stderr",
          "text": [
            "epoch:  20%|██        | 2/10 [26:15<1:44:56, 787.01s/it]"
          ]
        },
        {
          "output_type": "stream",
          "name": "stdout",
          "text": [
            "Saved model with val acc 0.7996870109546166\n",
            "\n",
            "Epoch 002 train_loss: 0.9923   val_loss 0.6838 train_acc 0.7289 val_acc 0.7997\n",
            "loss 0.3853226423600313\n"
          ]
        },
        {
          "output_type": "stream",
          "name": "stderr",
          "text": [
            "epoch:  30%|███       | 3/10 [39:18<1:31:35, 785.09s/it]"
          ]
        },
        {
          "output_type": "stream",
          "name": "stdout",
          "text": [
            "Saved model with val acc 0.8125978090766823\n",
            "\n",
            "Epoch 003 train_loss: 0.3853   val_loss 0.6426 train_acc 0.8833 val_acc 0.8126\n",
            "loss 0.23960352107192634\n"
          ]
        },
        {
          "output_type": "stream",
          "name": "stderr",
          "text": [
            "epoch:  40%|████      | 4/10 [52:21<1:18:24, 784.06s/it]"
          ]
        },
        {
          "output_type": "stream",
          "name": "stdout",
          "text": [
            "Saved model with val acc 0.8204225352112676\n",
            "\n",
            "Epoch 004 train_loss: 0.2396   val_loss 0.6542 train_acc 0.9296 val_acc 0.8204\n",
            "loss 0.1734427621876279\n"
          ]
        },
        {
          "output_type": "stream",
          "name": "stderr",
          "text": [
            "epoch:  50%|█████     | 5/10 [1:05:22<1:05:15, 783.17s/it]"
          ]
        },
        {
          "output_type": "stream",
          "name": "stdout",
          "text": [
            "\n",
            "Epoch 005 train_loss: 0.1734   val_loss 0.7139 train_acc 0.9482 val_acc 0.8118\n",
            "loss 0.1444972756637288\n"
          ]
        },
        {
          "output_type": "stream",
          "name": "stderr",
          "text": [
            "epoch:  60%|██████    | 6/10 [1:18:24<52:11, 782.82s/it]"
          ]
        },
        {
          "output_type": "stream",
          "name": "stdout",
          "text": [
            "\n",
            "Epoch 006 train_loss: 0.1445   val_loss 0.7179 train_acc 0.9571 val_acc 0.8142\n",
            "loss 0.11419340641251888\n"
          ]
        },
        {
          "output_type": "stream",
          "name": "stderr",
          "text": [
            "epoch:  70%|███████   | 7/10 [1:31:26<39:07, 782.54s/it]"
          ]
        },
        {
          "output_type": "stream",
          "name": "stdout",
          "text": [
            "\n",
            "Epoch 007 train_loss: 0.1142   val_loss 0.8118 train_acc 0.9682 val_acc 0.8122\n",
            "loss 0.10564430696158435\n"
          ]
        },
        {
          "output_type": "stream",
          "name": "stderr",
          "text": [
            "epoch:  80%|████████  | 8/10 [1:44:29<26:05, 782.51s/it]"
          ]
        },
        {
          "output_type": "stream",
          "name": "stdout",
          "text": [
            "Saved model with val acc 0.8274647887323944\n",
            "\n",
            "Epoch 008 train_loss: 0.1056   val_loss 0.7571 train_acc 0.9697 val_acc 0.8275\n",
            "loss 0.07205756286673293\n"
          ]
        },
        {
          "output_type": "stream",
          "name": "stderr",
          "text": [
            "epoch:  90%|█████████ | 9/10 [1:57:31<13:02, 782.40s/it]"
          ]
        },
        {
          "output_type": "stream",
          "name": "stdout",
          "text": [
            "\n",
            "Epoch 009 train_loss: 0.0721   val_loss 0.8642 train_acc 0.9803 val_acc 0.8048\n",
            "loss 0.08644680018217113\n"
          ]
        },
        {
          "output_type": "stream",
          "name": "stderr",
          "text": [
            "epoch: 100%|██████████| 10/10 [2:10:33<00:00, 783.34s/it]"
          ]
        },
        {
          "output_type": "stream",
          "name": "stdout",
          "text": [
            "\n",
            "Epoch 010 train_loss: 0.0864   val_loss 0.8158 train_acc 0.9753 val_acc 0.8114\n"
          ]
        },
        {
          "output_type": "stream",
          "name": "stderr",
          "text": [
            "\n"
          ]
        },
        {
          "output_type": "display_data",
          "data": {
            "image/png": "[encoded data removed]",
            "text/plain": [
              "<Figure size 432x288 with 1 Axes>"
            ]
          },
          "metadata": {
            "needs_background": "light"
          }
        }
      ]
    },
    {
      "cell_type": "code",
      "metadata": {
        "id": "xkV7C7av3pfS"
      },
      "source": [
        "res = make_prediction(save_name, model, test_files)\n",
        "res.to_csv('/content/drive/MyDrive/Diplom/effnet_augm.csv', index = False)"
      ],
      "execution_count": null,
      "outputs": []
    },
    {
      "cell_type": "markdown",
      "metadata": {
        "id": "9q0eKpeR8vjK"
      },
      "source": [
        "Kaggle score 0.71773"
      ]
    },
    {
      "cell_type": "markdown",
      "metadata": {
        "id": "Qi6xwjJb4QLU"
      },
      "source": [
        "**Сокращенный датасет**"
      ]
    },
    {
      "cell_type": "code",
      "metadata": {
        "id": "CHC3Agno3piQ",
        "colab": {
          "base_uri": "https://localhost:8080/",
          "height": 924
        },
        "outputId": "a79e1dc8-b020-4706-96e2-b32376d7cb7a"
      },
      "source": [
        "save_name = '/content/EfficientNetB6_short.pth'\n",
        "model = initialize_and_train_model(\"EfficientNet\", 120, 10, 16, train_dataset_short, val_dataset_short, save_name)"
      ],
      "execution_count": null,
      "outputs": [
        {
          "output_type": "stream",
          "name": "stdout",
          "text": [
            "Loaded pretrained weights for efficientnet-b6\n"
          ]
        },
        {
          "output_type": "stream",
          "name": "stderr",
          "text": [
            "\repoch:   0%|          | 0/10 [00:00<?, ?it/s]"
          ]
        },
        {
          "output_type": "stream",
          "name": "stdout",
          "text": [
            "loss 4.746013535173767\n"
          ]
        },
        {
          "output_type": "stream",
          "name": "stderr",
          "text": [
            "epoch:  10%|█         | 1/10 [05:00<45:00, 300.03s/it]"
          ]
        },
        {
          "output_type": "stream",
          "name": "stdout",
          "text": [
            "Saved model with val acc 0.2694300518134715\n",
            "\n",
            "Epoch 001 train_loss: 4.7460   val_loss 4.6039 train_acc 0.0256 val_acc 0.2694\n",
            "loss 2.700401863946295\n"
          ]
        },
        {
          "output_type": "stream",
          "name": "stderr",
          "text": [
            "epoch:  20%|██        | 2/10 [09:56<39:42, 297.81s/it]"
          ]
        },
        {
          "output_type": "stream",
          "name": "stdout",
          "text": [
            "Saved model with val acc 0.7481865284974093\n",
            "\n",
            "Epoch 002 train_loss: 2.7004   val_loss 0.9367 train_acc 0.4914 val_acc 0.7482\n",
            "loss 0.6349400862288838\n"
          ]
        },
        {
          "output_type": "stream",
          "name": "stderr",
          "text": [
            "epoch:  30%|███       | 3/10 [14:52<34:39, 297.13s/it]"
          ]
        },
        {
          "output_type": "stream",
          "name": "stdout",
          "text": [
            "Saved model with val acc 0.7854922279792745\n",
            "\n",
            "Epoch 003 train_loss: 0.6349   val_loss 0.8089 train_acc 0.8150 val_acc 0.7855\n",
            "loss 0.3087683768213867\n"
          ]
        },
        {
          "output_type": "stream",
          "name": "stderr",
          "text": [
            "epoch:  40%|████      | 4/10 [19:48<29:40, 296.72s/it]"
          ]
        },
        {
          "output_type": "stream",
          "name": "stdout",
          "text": [
            "Saved model with val acc 0.7937823834196891\n",
            "\n",
            "Epoch 004 train_loss: 0.3088   val_loss 0.7301 train_acc 0.9049 val_acc 0.7938\n",
            "loss 0.21090710804608354\n"
          ]
        },
        {
          "output_type": "stream",
          "name": "stderr",
          "text": [
            "epoch:  50%|█████     | 5/10 [24:44<24:42, 296.53s/it]"
          ]
        },
        {
          "output_type": "stream",
          "name": "stdout",
          "text": [
            "Saved model with val acc 0.8093264248704662\n",
            "\n",
            "Epoch 005 train_loss: 0.2109   val_loss 0.7731 train_acc 0.9388 val_acc 0.8093\n",
            "loss 0.16982800268115963\n"
          ]
        },
        {
          "output_type": "stream",
          "name": "stderr",
          "text": [
            "epoch:  60%|██████    | 6/10 [29:40<19:45, 296.28s/it]"
          ]
        },
        {
          "output_type": "stream",
          "name": "stdout",
          "text": [
            "\n",
            "Epoch 006 train_loss: 0.1698   val_loss 0.8265 train_acc 0.9519 val_acc 0.7824\n",
            "loss 0.11997208738716302\n"
          ]
        },
        {
          "output_type": "stream",
          "name": "stderr",
          "text": [
            "epoch:  70%|███████   | 7/10 [34:36<14:48, 296.22s/it]"
          ]
        },
        {
          "output_type": "stream",
          "name": "stdout",
          "text": [
            "\n",
            "Epoch 007 train_loss: 0.1200   val_loss 0.8308 train_acc 0.9678 val_acc 0.7969\n",
            "loss 0.10256637632395985\n"
          ]
        },
        {
          "output_type": "stream",
          "name": "stderr",
          "text": [
            "epoch:  80%|████████  | 8/10 [39:32<09:52, 296.12s/it]"
          ]
        },
        {
          "output_type": "stream",
          "name": "stdout",
          "text": [
            "\n",
            "Epoch 008 train_loss: 0.1026   val_loss 0.8542 train_acc 0.9692 val_acc 0.7938\n",
            "loss 0.12135365213438827\n"
          ]
        },
        {
          "output_type": "stream",
          "name": "stderr",
          "text": [
            "epoch:  90%|█████████ | 9/10 [44:28<04:56, 296.01s/it]"
          ]
        },
        {
          "output_type": "stream",
          "name": "stdout",
          "text": [
            "\n",
            "Epoch 009 train_loss: 0.1214   val_loss 0.8226 train_acc 0.9685 val_acc 0.7917\n",
            "loss 0.08590226015011634\n"
          ]
        },
        {
          "output_type": "stream",
          "name": "stderr",
          "text": [
            "epoch: 100%|██████████| 10/10 [49:24<00:00, 296.42s/it]"
          ]
        },
        {
          "output_type": "stream",
          "name": "stdout",
          "text": [
            "\n",
            "Epoch 010 train_loss: 0.0859   val_loss 0.8697 train_acc 0.9761 val_acc 0.7865\n"
          ]
        },
        {
          "output_type": "stream",
          "name": "stderr",
          "text": [
            "\n"
          ]
        },
        {
          "output_type": "display_data",
          "data": {
            "image/png": "[encoded data removed]",
            "text/plain": [
              "<Figure size 432x288 with 1 Axes>"
            ]
          },
          "metadata": {
            "needs_background": "light"
          }
        }
      ]
    },
    {
      "cell_type": "code",
      "metadata": {
        "id": "rb0EQ4yS4TG7"
      },
      "source": [
        "res = make_prediction(save_name, model, test_files)\n",
        "res.to_csv('/content/drive/MyDrive/Diplom/effnet_augm_short.csv', index = False)"
      ],
      "execution_count": null,
      "outputs": []
    },
    {
      "cell_type": "markdown",
      "metadata": {
        "id": "sexIe2KkKk6q"
      },
      "source": [
        "Kaggle score 0.75062"
      ]
    },
    {
      "cell_type": "code",
      "metadata": {
        "id": "nlr9X07NGEx7"
      },
      "source": [
        ""
      ],
      "execution_count": null,
      "outputs": []
    }
  ]
}