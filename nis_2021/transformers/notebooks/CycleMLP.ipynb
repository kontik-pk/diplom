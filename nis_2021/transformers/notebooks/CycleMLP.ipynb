{
 "cells": [
  {
   "cell_type": "code",
   "execution_count": 1,
   "metadata": {},
   "outputs": [],
   "source": [
    "from functions import *\n",
    "from pathlib import Path\n",
    "from sklearn.model_selection import train_test_split"
   ]
  },
  {
   "cell_type": "code",
   "execution_count": 2,
   "metadata": {},
   "outputs": [
    {
     "name": "stdout",
     "output_type": "stream",
     "text": [
      "/home/pekudrjavtseva/transformers/notebooks\r\n"
     ]
    }
   ],
   "source": [
    "!pwd"
   ]
  },
  {
   "cell_type": "code",
   "execution_count": 3,
   "metadata": {},
   "outputs": [],
   "source": [
    "PRETRAINED_PATH = '/home/pekudrjavtseva/transformers/checkpoints/cycle/CycleMLP_B5.pth'\n",
    "\n",
    "LABELS_PATH = '/home/pekudrjavtseva/transformers/data/dogs/labels.csv'\n",
    "\n",
    "MODEL_SAVE_PATH = '/home/pekudrjavtseva/transformers/models/CycleMLP.pth'\n",
    "\n",
    "MODEL_SAVE_PATH_SHORT = '/home/pekudrjavtseva/transformers/models/CycleMLP_short.pth'\n",
    "\n",
    "TRAIN_DIR = Path('/home/pekudrjavtseva/transformers/data/dogs/train')\n",
    "\n",
    "TEST_DIR = Path('/home/pekudrjavtseva/transformers/data/dogs/test')\n",
    "\n",
    "TRAIN_DIR_SHORT = Path('/home/pekudrjavtseva/transformers/data/dogs_short')\n",
    "\n",
    "RESULT_PATH_FULL = '/home/pekudrjavtseva/transformers/predictions/CycleMLP_full.csv'\n",
    "\n",
    "RESULT_PATH_SHORT = '/home/pekudrjavtseva/transformers/predictions/CycleMLP_short.csv'\n",
    "\n",
    "DEVICE = torch.device(\"cuda\")"
   ]
  },
  {
   "cell_type": "code",
   "execution_count": 4,
   "metadata": {},
   "outputs": [
    {
     "name": "stdout",
     "output_type": "stream",
     "text": [
      "/home/pekudrjavtseva/transformers/image-classification\n"
     ]
    }
   ],
   "source": [
    "%cd ../image-classification"
   ]
  },
  {
   "cell_type": "code",
   "execution_count": 6,
   "metadata": {},
   "outputs": [],
   "source": [
    "from models import get_model\n",
    "\n",
    "model = get_model('CycleMLP', 'B5', pretrained=PRETRAINED_PATH)"
   ]
  },
  {
   "cell_type": "code",
   "execution_count": 7,
   "metadata": {},
   "outputs": [],
   "source": [
    "d = create_labels(LABELS_PATH)"
   ]
  },
  {
   "cell_type": "code",
   "execution_count": 8,
   "metadata": {},
   "outputs": [],
   "source": [
    "train_val_files = sorted(list(TRAIN_DIR.rglob('*.jpg')))\n",
    "\n",
    "train_val_labels = [d[path.name] for path in train_val_files]\n",
    "\n",
    "test_files = sorted(list(TEST_DIR.rglob('*.jpg')))\n",
    "\n",
    "train_files, val_files = train_test_split(train_val_files, test_size=0.25, \\\n",
    " stratify=train_val_labels)\n",
    "\n",
    "train_dataset = DogsDataset(train_files, mode='train', label_path = LABELS_PATH)\n",
    "\n",
    "val_dataset = DogsDataset(val_files, mode='val', label_path = LABELS_PATH)\n",
    "\n",
    "test_dataset = DogsDataset(test_files, mode='test', label_path = LABELS_PATH)"
   ]
  },
  {
   "cell_type": "code",
   "execution_count": 9,
   "metadata": {},
   "outputs": [
    {
     "name": "stderr",
     "output_type": "stream",
     "text": [
      "\r",
      "epoch:   0%|          | 0/10 [00:00<?, ?it/s]"
     ]
    },
    {
     "name": "stdout",
     "output_type": "stream",
     "text": [
      "loss 2.4808755387733585\n"
     ]
    },
    {
     "name": "stderr",
     "output_type": "stream",
     "text": [
      "epoch:  10%|█         | 1/10 [02:56<26:30, 176.71s/it]"
     ]
    },
    {
     "name": "stdout",
     "output_type": "stream",
     "text": [
      "Saved model with val acc 0.8063380281690141\n",
      "\n",
      "Epoch 001 train_loss: 2.4809   val_loss 0.6805 train_acc 0.5012 val_acc 0.8063\n",
      "loss 0.3377683569384754\n"
     ]
    },
    {
     "name": "stderr",
     "output_type": "stream",
     "text": [
      "epoch:  20%|██        | 2/10 [05:57<23:42, 177.83s/it]"
     ]
    },
    {
     "name": "stdout",
     "output_type": "stream",
     "text": [
      "Saved model with val acc 0.8560250391236307\n",
      "\n",
      "Epoch 002 train_loss: 0.3378   val_loss 0.4882 train_acc 0.9035 val_acc 0.8560\n",
      "loss 0.1014428341784557\n"
     ]
    },
    {
     "name": "stderr",
     "output_type": "stream",
     "text": [
      "epoch:  30%|███       | 3/10 [08:57<20:49, 178.49s/it]"
     ]
    },
    {
     "name": "stdout",
     "output_type": "stream",
     "text": [
      "\n",
      "Epoch 003 train_loss: 0.1014   val_loss 0.5021 train_acc 0.9725 val_acc 0.8521\n",
      "loss 0.03136487918004598\n"
     ]
    },
    {
     "name": "stderr",
     "output_type": "stream",
     "text": [
      "epoch:  40%|████      | 4/10 [11:58<17:55, 179.19s/it]"
     ]
    },
    {
     "name": "stdout",
     "output_type": "stream",
     "text": [
      "Saved model with val acc 0.8775430359937403\n",
      "\n",
      "Epoch 004 train_loss: 0.0314   val_loss 0.4199 train_acc 0.9937 val_acc 0.8775\n",
      "loss 0.008536329835293338\n"
     ]
    },
    {
     "name": "stderr",
     "output_type": "stream",
     "text": [
      "epoch:  50%|█████     | 5/10 [14:58<14:57, 179.55s/it]"
     ]
    },
    {
     "name": "stdout",
     "output_type": "stream",
     "text": [
      "Saved model with val acc 0.8794992175273866\n",
      "\n",
      "Epoch 005 train_loss: 0.0085   val_loss 0.4282 train_acc 0.9991 val_acc 0.8795\n",
      "loss 0.005230891170445951\n"
     ]
    },
    {
     "name": "stderr",
     "output_type": "stream",
     "text": [
      "epoch:  60%|██████    | 6/10 [17:58<11:58, 179.57s/it]"
     ]
    },
    {
     "name": "stdout",
     "output_type": "stream",
     "text": [
      "\n",
      "Epoch 006 train_loss: 0.0052   val_loss 0.4322 train_acc 0.9993 val_acc 0.8795\n",
      "loss 0.0037599780638462883\n"
     ]
    },
    {
     "name": "stderr",
     "output_type": "stream",
     "text": [
      "epoch:  70%|███████   | 7/10 [20:58<08:59, 179.79s/it]"
     ]
    },
    {
     "name": "stdout",
     "output_type": "stream",
     "text": [
      "Saved model with val acc 0.8798904538341158\n",
      "\n",
      "Epoch 007 train_loss: 0.0038   val_loss 0.4412 train_acc 0.9995 val_acc 0.8799\n",
      "loss 0.0032222916986178554\n"
     ]
    },
    {
     "name": "stderr",
     "output_type": "stream",
     "text": [
      "epoch:  80%|████████  | 8/10 [23:56<05:58, 179.39s/it]"
     ]
    },
    {
     "name": "stdout",
     "output_type": "stream",
     "text": [
      "Saved model with val acc 0.88302034428795\n",
      "\n",
      "Epoch 008 train_loss: 0.0032   val_loss 0.4437 train_acc 0.9995 val_acc 0.8830\n",
      "loss 0.002509631884228494\n"
     ]
    },
    {
     "name": "stderr",
     "output_type": "stream",
     "text": [
      "epoch:  90%|█████████ | 9/10 [26:54<02:58, 178.87s/it]"
     ]
    },
    {
     "name": "stdout",
     "output_type": "stream",
     "text": [
      "\n",
      "Epoch 009 train_loss: 0.0025   val_loss 0.4572 train_acc 0.9996 val_acc 0.8803\n",
      "loss 0.0024185554408270283\n"
     ]
    },
    {
     "name": "stderr",
     "output_type": "stream",
     "text": [
      "epoch: 100%|██████████| 10/10 [29:52<00:00, 179.21s/it]"
     ]
    },
    {
     "name": "stdout",
     "output_type": "stream",
     "text": [
      "\n",
      "Epoch 010 train_loss: 0.0024   val_loss 0.4580 train_acc 0.9995 val_acc 0.8803\n"
     ]
    },
    {
     "name": "stderr",
     "output_type": "stream",
     "text": [
      "\n"
     ]
    }
   ],
   "source": [
    "torch.cuda.set_device(2)\n",
    "torch.cuda.empty_cache()\n",
    "name = MODEL_SAVE_PATH\n",
    "\n",
    "opt = torch.optim.AdamW(model.parameters(), lr=3e-5, amsgrad=True)\n",
    "history = train(train_dataset, val_dataset, model= model.cuda(), opt = opt, epochs=10, batch_size=16, name = name)"
   ]
  },
  {
   "cell_type": "code",
   "execution_count": 10,
   "metadata": {},
   "outputs": [
    {
     "data": {
      "image/png": "[encoded data removed]",
      "text/plain": [
       "<Figure size 432x288 with 1 Axes>"
      ]
     },
     "metadata": {
      "needs_background": "light"
     },
     "output_type": "display_data"
    }
   ],
   "source": [
    "plot(history, \"CycleMLP\")"
   ]
  },
  {
   "cell_type": "code",
   "execution_count": 11,
   "metadata": {},
   "outputs": [],
   "source": [
    "def make_prediction(name, model, test_files):\n",
    "    checkpoint = torch.load(name)\n",
    "    model.load_state_dict(checkpoint['model_state_dict'])\n",
    "    model.eval()\n",
    "\n",
    "    test_dataset = DogsDataset(test_files, mode='test', label_path = LABELS_PATH)\n",
    "    test_loader = DataLoader(test_dataset, shuffle=False, batch_size=64, num_workers=2)\n",
    "\n",
    "    probs = predict(model, test_loader)\n",
    "    label_encoder = pickle.load(open(\"label_encoder.pkl\", 'rb'))\n",
    "\n",
    "    result = pd.DataFrame(columns = label_encoder.inverse_transform(np.arange(0, 120)))\n",
    "\n",
    "    result['id'] = [path.name.split('.')[0] for path in test_files]\n",
    "\n",
    "    for i in range(len(test_files)):\n",
    "        result.iloc[i, :-1] = probs[i][:120]\n",
    "\n",
    "    return result"
   ]
  },
  {
   "cell_type": "code",
   "execution_count": 12,
   "metadata": {},
   "outputs": [],
   "source": [
    "res = make_prediction(name, model, test_files)\n",
    "res.to_csv(RESULT_PATH_FULL, index = False)"
   ]
  },
  {
   "cell_type": "markdown",
   "metadata": {},
   "source": [
    "Kaggle score 0.46992"
   ]
  },
  {
   "cell_type": "code",
   "execution_count": null,
   "metadata": {},
   "outputs": [],
   "source": []
  },
  {
   "cell_type": "code",
   "execution_count": null,
   "metadata": {},
   "outputs": [],
   "source": []
  },
  {
   "cell_type": "code",
   "execution_count": null,
   "metadata": {},
   "outputs": [],
   "source": []
  },
  {
   "cell_type": "code",
   "execution_count": 13,
   "metadata": {},
   "outputs": [],
   "source": [
    "train_val_files_short = sorted(list(TRAIN_DIR_SHORT.rglob('*.jpg')))\n",
    "\n",
    "train_val_labels_short = [d[path.name] for path in train_val_files_short]\n",
    "\n",
    "train_files_short, val_files_short = train_test_split(train_val_files_short, test_size=0.25, \\\n",
    " stratify=train_val_labels_short)\n",
    "\n",
    "train_dataset_short = DogsDataset(train_files_short, mode='train',  label_path = LABELS_PATH)\n",
    "\n",
    "val_dataset_short = DogsDataset(val_files_short, mode='val',  label_path = LABELS_PATH)"
   ]
  },
  {
   "cell_type": "code",
   "execution_count": 14,
   "metadata": {},
   "outputs": [
    {
     "name": "stderr",
     "output_type": "stream",
     "text": [
      "\r",
      "epoch:   0%|          | 0/10 [00:00<?, ?it/s]"
     ]
    },
    {
     "name": "stdout",
     "output_type": "stream",
     "text": [
      "loss 4.8370329644505246\n"
     ]
    },
    {
     "name": "stderr",
     "output_type": "stream",
     "text": [
      "epoch:  10%|█         | 1/10 [01:05<09:51, 65.68s/it]"
     ]
    },
    {
     "name": "stdout",
     "output_type": "stream",
     "text": [
      "Saved model with val acc 0.5025906735751295\n",
      "\n",
      "Epoch 001 train_loss: 4.8370   val_loss 2.1785 train_acc 0.1072 val_acc 0.5026\n",
      "loss 0.9640788236841621\n"
     ]
    },
    {
     "name": "stderr",
     "output_type": "stream",
     "text": [
      "epoch:  20%|██        | 2/10 [02:13<08:49, 66.20s/it]"
     ]
    },
    {
     "name": "stdout",
     "output_type": "stream",
     "text": [
      "Saved model with val acc 0.7699481865284974\n",
      "\n",
      "Epoch 002 train_loss: 0.9641   val_loss 0.8009 train_acc 0.7569 val_acc 0.7699\n",
      "loss 0.2047088899511849\n"
     ]
    },
    {
     "name": "stderr",
     "output_type": "stream",
     "text": [
      "epoch:  30%|███       | 3/10 [03:21<07:47, 66.77s/it]"
     ]
    },
    {
     "name": "stdout",
     "output_type": "stream",
     "text": [
      "Saved model with val acc 0.7979274611398963\n",
      "\n",
      "Epoch 003 train_loss: 0.2047   val_loss 0.6909 train_acc 0.9474 val_acc 0.7979\n",
      "loss 0.05300067940966469\n"
     ]
    },
    {
     "name": "stderr",
     "output_type": "stream",
     "text": [
      "epoch:  40%|████      | 4/10 [04:29<06:43, 67.23s/it]"
     ]
    },
    {
     "name": "stdout",
     "output_type": "stream",
     "text": [
      "Saved model with val acc 0.8020725388601035\n",
      "\n",
      "Epoch 004 train_loss: 0.0530   val_loss 0.6471 train_acc 0.9910 val_acc 0.8021\n",
      "loss 0.016004824671471803\n"
     ]
    },
    {
     "name": "stderr",
     "output_type": "stream",
     "text": [
      "epoch:  50%|█████     | 5/10 [05:38<05:38, 67.73s/it]"
     ]
    },
    {
     "name": "stdout",
     "output_type": "stream",
     "text": [
      "Saved model with val acc 0.8165803108808289\n",
      "\n",
      "Epoch 005 train_loss: 0.0160   val_loss 0.6122 train_acc 0.9993 val_acc 0.8166\n",
      "loss 0.006038124879170338\n"
     ]
    },
    {
     "name": "stderr",
     "output_type": "stream",
     "text": [
      "epoch:  60%|██████    | 6/10 [06:46<04:30, 67.71s/it]"
     ]
    },
    {
     "name": "stdout",
     "output_type": "stream",
     "text": [
      "\n",
      "Epoch 006 train_loss: 0.0060   val_loss 0.6185 train_acc 1.0000 val_acc 0.8166\n",
      "loss 0.0037822770753445137\n"
     ]
    },
    {
     "name": "stderr",
     "output_type": "stream",
     "text": [
      "epoch:  70%|███████   | 7/10 [07:54<03:23, 67.87s/it]"
     ]
    },
    {
     "name": "stdout",
     "output_type": "stream",
     "text": [
      "Saved model with val acc 0.8176165803108808\n",
      "\n",
      "Epoch 007 train_loss: 0.0038   val_loss 0.6258 train_acc 1.0000 val_acc 0.8176\n",
      "loss 0.0029237413357680515\n"
     ]
    },
    {
     "name": "stderr",
     "output_type": "stream",
     "text": [
      "epoch:  80%|████████  | 8/10 [09:02<02:16, 68.07s/it]"
     ]
    },
    {
     "name": "stdout",
     "output_type": "stream",
     "text": [
      "Saved model with val acc 0.8186528497409326\n",
      "\n",
      "Epoch 008 train_loss: 0.0029   val_loss 0.6297 train_acc 1.0000 val_acc 0.8187\n",
      "loss 0.002380023531700751\n"
     ]
    },
    {
     "name": "stderr",
     "output_type": "stream",
     "text": [
      "epoch:  90%|█████████ | 9/10 [10:11<01:08, 68.27s/it]"
     ]
    },
    {
     "name": "stdout",
     "output_type": "stream",
     "text": [
      "Saved model with val acc 0.8207253886010363\n",
      "\n",
      "Epoch 009 train_loss: 0.0024   val_loss 0.6343 train_acc 1.0000 val_acc 0.8207\n",
      "loss 0.002003163400712844\n"
     ]
    },
    {
     "name": "stderr",
     "output_type": "stream",
     "text": [
      "epoch: 100%|██████████| 10/10 [11:19<00:00, 67.94s/it]"
     ]
    },
    {
     "name": "stdout",
     "output_type": "stream",
     "text": [
      "\n",
      "Epoch 010 train_loss: 0.0020   val_loss 0.6384 train_acc 1.0000 val_acc 0.8187\n"
     ]
    },
    {
     "name": "stderr",
     "output_type": "stream",
     "text": [
      "\n"
     ]
    }
   ],
   "source": [
    "torch.cuda.empty_cache()\n",
    "\n",
    "model = get_model('CycleMLP', 'B5', pretrained=PRETRAINED_PATH)\n",
    "name = MODEL_SAVE_PATH_SHORT\n",
    "\n",
    "\n",
    "opt = torch.optim.AdamW(model.parameters(), lr=3e-5, amsgrad=True)\n",
    "history = train(train_dataset_short, val_dataset_short, model= model.cuda(), opt = opt, epochs=10, batch_size=16, name = name)"
   ]
  },
  {
   "cell_type": "code",
   "execution_count": 15,
   "metadata": {},
   "outputs": [
    {
     "data": {
      "image/png": "[encoded data removed]",
      "text/plain": [
       "<Figure size 432x288 with 1 Axes>"
      ]
     },
     "metadata": {
      "needs_background": "light"
     },
     "output_type": "display_data"
    }
   ],
   "source": [
    "plot(history, \"CycleMLP (short dataset)\")"
   ]
  },
  {
   "cell_type": "code",
   "execution_count": 16,
   "metadata": {},
   "outputs": [],
   "source": [
    "res = make_prediction(name, model, test_files)\n",
    "res.to_csv(RESULT_PATH_SHORT, index = False)"
   ]
  },
  {
   "cell_type": "markdown",
   "metadata": {},
   "source": [
    "Kaggle score 0.61695"
   ]
  },
  {
   "cell_type": "code",
   "execution_count": null,
   "metadata": {},
   "outputs": [],
   "source": []
  }
 ],
 "metadata": {
  "kernelspec": {
   "display_name": "Python 3",
   "language": "python",
   "name": "python3"
  },
  "language_info": {
   "codemirror_mode": {
    "name": "ipython",
    "version": 3
   },
   "file_extension": ".py",
   "mimetype": "text/x-python",
   "name": "python",
   "nbconvert_exporter": "python",
   "pygments_lexer": "ipython3",
   "version": "3.6.9"
  }
 },
 "nbformat": 4,
 "nbformat_minor": 4
}
