{
  "nbformat": 4,
  "nbformat_minor": 0,
  "metadata": {
    "accelerator": "GPU",
    "colab": {
      "name": "kaggle_dogs_classic_models.ipynb",
      "provenance": [],
      "collapsed_sections": []
    },
    "kernelspec": {
      "display_name": "Python 3",
      "name": "python3"
    },
    "language_info": {
      "name": "python"
    },
    "widgets": {
      "application/vnd.jupyter.widget-state+json": {
        "fea5148005484c1db851abfde555a1c5": {
          "model_module": "@jupyter-widgets/controls",
          "model_name": "HBoxModel",
          "model_module_version": "1.5.0",
          "state": {
            "_dom_classes": [],
            "_model_module": "@jupyter-widgets/controls",
            "_model_module_version": "1.5.0",
            "_model_name": "HBoxModel",
            "_view_count": null,
            "_view_module": "@jupyter-widgets/controls",
            "_view_module_version": "1.5.0",
            "_view_name": "HBoxView",
            "box_style": "",
            "children": [
              "IPY_MODEL_c16f6c7e378243c885954903d9e81849",
              "IPY_MODEL_9be3cdc8e1f848e989ecf4ef03019bfb",
              "IPY_MODEL_d790a874888c450ebe0f9f7e7f859cfa"
            ],
            "layout": "IPY_MODEL_533d7b2cb09e400789784738b7439373"
          }
        },
        "c16f6c7e378243c885954903d9e81849": {
          "model_module": "@jupyter-widgets/controls",
          "model_name": "HTMLModel",
          "model_module_version": "1.5.0",
          "state": {
            "_dom_classes": [],
            "_model_module": "@jupyter-widgets/controls",
            "_model_module_version": "1.5.0",
            "_model_name": "HTMLModel",
            "_view_count": null,
            "_view_module": "@jupyter-widgets/controls",
            "_view_module_version": "1.5.0",
            "_view_name": "HTMLView",
            "description": "",
            "description_tooltip": null,
            "layout": "IPY_MODEL_ef4306bbde894a14831206e2ad6de4b5",
            "placeholder": "​",
            "style": "IPY_MODEL_3e4e7677c0db41fba4117e5a260c3668",
            "value": "100%"
          }
        },
        "9be3cdc8e1f848e989ecf4ef03019bfb": {
          "model_module": "@jupyter-widgets/controls",
          "model_name": "FloatProgressModel",
          "model_module_version": "1.5.0",
          "state": {
            "_dom_classes": [],
            "_model_module": "@jupyter-widgets/controls",
            "_model_module_version": "1.5.0",
            "_model_name": "FloatProgressModel",
            "_view_count": null,
            "_view_module": "@jupyter-widgets/controls",
            "_view_module_version": "1.5.0",
            "_view_name": "ProgressView",
            "bar_style": "success",
            "description": "",
            "description_tooltip": null,
            "layout": "IPY_MODEL_e5d7c4eb1b8b4127a3806e95aace09c2",
            "max": 241627721,
            "min": 0,
            "orientation": "horizontal",
            "style": "IPY_MODEL_d50e6ff49a0649478cc3ab40cc0cc422",
            "value": 241627721
          }
        },
        "d790a874888c450ebe0f9f7e7f859cfa": {
          "model_module": "@jupyter-widgets/controls",
          "model_name": "HTMLModel",
          "model_module_version": "1.5.0",
          "state": {
            "_dom_classes": [],
            "_model_module": "@jupyter-widgets/controls",
            "_model_module_version": "1.5.0",
            "_model_name": "HTMLModel",
            "_view_count": null,
            "_view_module": "@jupyter-widgets/controls",
            "_view_module_version": "1.5.0",
            "_view_name": "HTMLView",
            "description": "",
            "description_tooltip": null,
            "layout": "IPY_MODEL_7742ca21bfe14401b0253363ebad49b6",
            "placeholder": "​",
            "style": "IPY_MODEL_c1368c8617e84e98a38d40fc2daf9130",
            "value": " 230M/230M [00:03&lt;00:00, 65.3MB/s]"
          }
        },
        "533d7b2cb09e400789784738b7439373": {
          "model_module": "@jupyter-widgets/base",
          "model_name": "LayoutModel",
          "model_module_version": "1.2.0",
          "state": {
            "_model_module": "@jupyter-widgets/base",
            "_model_module_version": "1.2.0",
            "_model_name": "LayoutModel",
            "_view_count": null,
            "_view_module": "@jupyter-widgets/base",
            "_view_module_version": "1.2.0",
            "_view_name": "LayoutView",
            "align_content": null,
            "align_items": null,
            "align_self": null,
            "border": null,
            "bottom": null,
            "display": null,
            "flex": null,
            "flex_flow": null,
            "grid_area": null,
            "grid_auto_columns": null,
            "grid_auto_flow": null,
            "grid_auto_rows": null,
            "grid_column": null,
            "grid_gap": null,
            "grid_row": null,
            "grid_template_areas": null,
            "grid_template_columns": null,
            "grid_template_rows": null,
            "height": null,
            "justify_content": null,
            "justify_items": null,
            "left": null,
            "margin": null,
            "max_height": null,
            "max_width": null,
            "min_height": null,
            "min_width": null,
            "object_fit": null,
            "object_position": null,
            "order": null,
            "overflow": null,
            "overflow_x": null,
            "overflow_y": null,
            "padding": null,
            "right": null,
            "top": null,
            "visibility": null,
            "width": null
          }
        },
        "ef4306bbde894a14831206e2ad6de4b5": {
          "model_module": "@jupyter-widgets/base",
          "model_name": "LayoutModel",
          "model_module_version": "1.2.0",
          "state": {
            "_model_module": "@jupyter-widgets/base",
            "_model_module_version": "1.2.0",
            "_model_name": "LayoutModel",
            "_view_count": null,
            "_view_module": "@jupyter-widgets/base",
            "_view_module_version": "1.2.0",
            "_view_name": "LayoutView",
            "align_content": null,
            "align_items": null,
            "align_self": null,
            "border": null,
            "bottom": null,
            "display": null,
            "flex": null,
            "flex_flow": null,
            "grid_area": null,
            "grid_auto_columns": null,
            "grid_auto_flow": null,
            "grid_auto_rows": null,
            "grid_column": null,
            "grid_gap": null,
            "grid_row": null,
            "grid_template_areas": null,
            "grid_template_columns": null,
            "grid_template_rows": null,
            "height": null,
            "justify_content": null,
            "justify_items": null,
            "left": null,
            "margin": null,
            "max_height": null,
            "max_width": null,
            "min_height": null,
            "min_width": null,
            "object_fit": null,
            "object_position": null,
            "order": null,
            "overflow": null,
            "overflow_x": null,
            "overflow_y": null,
            "padding": null,
            "right": null,
            "top": null,
            "visibility": null,
            "width": null
          }
        },
        "3e4e7677c0db41fba4117e5a260c3668": {
          "model_module": "@jupyter-widgets/controls",
          "model_name": "DescriptionStyleModel",
          "model_module_version": "1.5.0",
          "state": {
            "_model_module": "@jupyter-widgets/controls",
            "_model_module_version": "1.5.0",
            "_model_name": "DescriptionStyleModel",
            "_view_count": null,
            "_view_module": "@jupyter-widgets/base",
            "_view_module_version": "1.2.0",
            "_view_name": "StyleView",
            "description_width": ""
          }
        },
        "e5d7c4eb1b8b4127a3806e95aace09c2": {
          "model_module": "@jupyter-widgets/base",
          "model_name": "LayoutModel",
          "model_module_version": "1.2.0",
          "state": {
            "_model_module": "@jupyter-widgets/base",
            "_model_module_version": "1.2.0",
            "_model_name": "LayoutModel",
            "_view_count": null,
            "_view_module": "@jupyter-widgets/base",
            "_view_module_version": "1.2.0",
            "_view_name": "LayoutView",
            "align_content": null,
            "align_items": null,
            "align_self": null,
            "border": null,
            "bottom": null,
            "display": null,
            "flex": null,
            "flex_flow": null,
            "grid_area": null,
            "grid_auto_columns": null,
            "grid_auto_flow": null,
            "grid_auto_rows": null,
            "grid_column": null,
            "grid_gap": null,
            "grid_row": null,
            "grid_template_areas": null,
            "grid_template_columns": null,
            "grid_template_rows": null,
            "height": null,
            "justify_content": null,
            "justify_items": null,
            "left": null,
            "margin": null,
            "max_height": null,
            "max_width": null,
            "min_height": null,
            "min_width": null,
            "object_fit": null,
            "object_position": null,
            "order": null,
            "overflow": null,
            "overflow_x": null,
            "overflow_y": null,
            "padding": null,
            "right": null,
            "top": null,
            "visibility": null,
            "width": null
          }
        },
        "d50e6ff49a0649478cc3ab40cc0cc422": {
          "model_module": "@jupyter-widgets/controls",
          "model_name": "ProgressStyleModel",
          "model_module_version": "1.5.0",
          "state": {
            "_model_module": "@jupyter-widgets/controls",
            "_model_module_version": "1.5.0",
            "_model_name": "ProgressStyleModel",
            "_view_count": null,
            "_view_module": "@jupyter-widgets/base",
            "_view_module_version": "1.2.0",
            "_view_name": "StyleView",
            "bar_color": null,
            "description_width": ""
          }
        },
        "7742ca21bfe14401b0253363ebad49b6": {
          "model_module": "@jupyter-widgets/base",
          "model_name": "LayoutModel",
          "model_module_version": "1.2.0",
          "state": {
            "_model_module": "@jupyter-widgets/base",
            "_model_module_version": "1.2.0",
            "_model_name": "LayoutModel",
            "_view_count": null,
            "_view_module": "@jupyter-widgets/base",
            "_view_module_version": "1.2.0",
            "_view_name": "LayoutView",
            "align_content": null,
            "align_items": null,
            "align_self": null,
            "border": null,
            "bottom": null,
            "display": null,
            "flex": null,
            "flex_flow": null,
            "grid_area": null,
            "grid_auto_columns": null,
            "grid_auto_flow": null,
            "grid_auto_rows": null,
            "grid_column": null,
            "grid_gap": null,
            "grid_row": null,
            "grid_template_areas": null,
            "grid_template_columns": null,
            "grid_template_rows": null,
            "height": null,
            "justify_content": null,
            "justify_items": null,
            "left": null,
            "margin": null,
            "max_height": null,
            "max_width": null,
            "min_height": null,
            "min_width": null,
            "object_fit": null,
            "object_position": null,
            "order": null,
            "overflow": null,
            "overflow_x": null,
            "overflow_y": null,
            "padding": null,
            "right": null,
            "top": null,
            "visibility": null,
            "width": null
          }
        },
        "c1368c8617e84e98a38d40fc2daf9130": {
          "model_module": "@jupyter-widgets/controls",
          "model_name": "DescriptionStyleModel",
          "model_module_version": "1.5.0",
          "state": {
            "_model_module": "@jupyter-widgets/controls",
            "_model_module_version": "1.5.0",
            "_model_name": "DescriptionStyleModel",
            "_view_count": null,
            "_view_module": "@jupyter-widgets/base",
            "_view_module_version": "1.2.0",
            "_view_name": "StyleView",
            "description_width": ""
          }
        },
        "abb34d918fa046a09283a7e1b1cded14": {
          "model_module": "@jupyter-widgets/controls",
          "model_name": "HBoxModel",
          "model_module_version": "1.5.0",
          "state": {
            "_dom_classes": [],
            "_model_module": "@jupyter-widgets/controls",
            "_model_module_version": "1.5.0",
            "_model_name": "HBoxModel",
            "_view_count": null,
            "_view_module": "@jupyter-widgets/controls",
            "_view_module_version": "1.5.0",
            "_view_name": "HBoxView",
            "box_style": "",
            "children": [
              "IPY_MODEL_6558b7ce84fe4ce79bece31f741d55f0",
              "IPY_MODEL_50893763b3ca4f04895a17fac5305228",
              "IPY_MODEL_b2e106c8dd184181961a3bf7e1ef390c"
            ],
            "layout": "IPY_MODEL_08820ca7c22d458abbf4b4f981f5cf86"
          }
        },
        "6558b7ce84fe4ce79bece31f741d55f0": {
          "model_module": "@jupyter-widgets/controls",
          "model_name": "HTMLModel",
          "model_module_version": "1.5.0",
          "state": {
            "_dom_classes": [],
            "_model_module": "@jupyter-widgets/controls",
            "_model_module_version": "1.5.0",
            "_model_name": "HTMLModel",
            "_view_count": null,
            "_view_module": "@jupyter-widgets/controls",
            "_view_module_version": "1.5.0",
            "_view_name": "HTMLView",
            "description": "",
            "description_tooltip": null,
            "layout": "IPY_MODEL_841ebf11e378427f8c5bad987d62fdc6",
            "placeholder": "​",
            "style": "IPY_MODEL_7a47ddbff3364d7d86d6b93bcfdb7d56",
            "value": "100%"
          }
        },
        "50893763b3ca4f04895a17fac5305228": {
          "model_module": "@jupyter-widgets/controls",
          "model_name": "FloatProgressModel",
          "model_module_version": "1.5.0",
          "state": {
            "_dom_classes": [],
            "_model_module": "@jupyter-widgets/controls",
            "_model_module_version": "1.5.0",
            "_model_name": "FloatProgressModel",
            "_view_count": null,
            "_view_module": "@jupyter-widgets/controls",
            "_view_module_version": "1.5.0",
            "_view_name": "ProgressView",
            "bar_style": "success",
            "description": "",
            "description_tooltip": null,
            "layout": "IPY_MODEL_a918d1cd08b14066b9ef4d63859869b1",
            "max": 241627721,
            "min": 0,
            "orientation": "horizontal",
            "style": "IPY_MODEL_46e9d7db26e247afa789e47830caa893",
            "value": 241627721
          }
        },
        "b2e106c8dd184181961a3bf7e1ef390c": {
          "model_module": "@jupyter-widgets/controls",
          "model_name": "HTMLModel",
          "model_module_version": "1.5.0",
          "state": {
            "_dom_classes": [],
            "_model_module": "@jupyter-widgets/controls",
            "_model_module_version": "1.5.0",
            "_model_name": "HTMLModel",
            "_view_count": null,
            "_view_module": "@jupyter-widgets/controls",
            "_view_module_version": "1.5.0",
            "_view_name": "HTMLView",
            "description": "",
            "description_tooltip": null,
            "layout": "IPY_MODEL_400753d612bc47b2a813d80230801468",
            "placeholder": "​",
            "style": "IPY_MODEL_2f54971470e8474d80cabd9f9b788a3e",
            "value": " 230M/230M [00:02&lt;00:00, 126MB/s]"
          }
        },
        "08820ca7c22d458abbf4b4f981f5cf86": {
          "model_module": "@jupyter-widgets/base",
          "model_name": "LayoutModel",
          "model_module_version": "1.2.0",
          "state": {
            "_model_module": "@jupyter-widgets/base",
            "_model_module_version": "1.2.0",
            "_model_name": "LayoutModel",
            "_view_count": null,
            "_view_module": "@jupyter-widgets/base",
            "_view_module_version": "1.2.0",
            "_view_name": "LayoutView",
            "align_content": null,
            "align_items": null,
            "align_self": null,
            "border": null,
            "bottom": null,
            "display": null,
            "flex": null,
            "flex_flow": null,
            "grid_area": null,
            "grid_auto_columns": null,
            "grid_auto_flow": null,
            "grid_auto_rows": null,
            "grid_column": null,
            "grid_gap": null,
            "grid_row": null,
            "grid_template_areas": null,
            "grid_template_columns": null,
            "grid_template_rows": null,
            "height": null,
            "justify_content": null,
            "justify_items": null,
            "left": null,
            "margin": null,
            "max_height": null,
            "max_width": null,
            "min_height": null,
            "min_width": null,
            "object_fit": null,
            "object_position": null,
            "order": null,
            "overflow": null,
            "overflow_x": null,
            "overflow_y": null,
            "padding": null,
            "right": null,
            "top": null,
            "visibility": null,
            "width": null
          }
        },
        "841ebf11e378427f8c5bad987d62fdc6": {
          "model_module": "@jupyter-widgets/base",
          "model_name": "LayoutModel",
          "model_module_version": "1.2.0",
          "state": {
            "_model_module": "@jupyter-widgets/base",
            "_model_module_version": "1.2.0",
            "_model_name": "LayoutModel",
            "_view_count": null,
            "_view_module": "@jupyter-widgets/base",
            "_view_module_version": "1.2.0",
            "_view_name": "LayoutView",
            "align_content": null,
            "align_items": null,
            "align_self": null,
            "border": null,
            "bottom": null,
            "display": null,
            "flex": null,
            "flex_flow": null,
            "grid_area": null,
            "grid_auto_columns": null,
            "grid_auto_flow": null,
            "grid_auto_rows": null,
            "grid_column": null,
            "grid_gap": null,
            "grid_row": null,
            "grid_template_areas": null,
            "grid_template_columns": null,
            "grid_template_rows": null,
            "height": null,
            "justify_content": null,
            "justify_items": null,
            "left": null,
            "margin": null,
            "max_height": null,
            "max_width": null,
            "min_height": null,
            "min_width": null,
            "object_fit": null,
            "object_position": null,
            "order": null,
            "overflow": null,
            "overflow_x": null,
            "overflow_y": null,
            "padding": null,
            "right": null,
            "top": null,
            "visibility": null,
            "width": null
          }
        },
        "7a47ddbff3364d7d86d6b93bcfdb7d56": {
          "model_module": "@jupyter-widgets/controls",
          "model_name": "DescriptionStyleModel",
          "model_module_version": "1.5.0",
          "state": {
            "_model_module": "@jupyter-widgets/controls",
            "_model_module_version": "1.5.0",
            "_model_name": "DescriptionStyleModel",
            "_view_count": null,
            "_view_module": "@jupyter-widgets/base",
            "_view_module_version": "1.2.0",
            "_view_name": "StyleView",
            "description_width": ""
          }
        },
        "a918d1cd08b14066b9ef4d63859869b1": {
          "model_module": "@jupyter-widgets/base",
          "model_name": "LayoutModel",
          "model_module_version": "1.2.0",
          "state": {
            "_model_module": "@jupyter-widgets/base",
            "_model_module_version": "1.2.0",
            "_model_name": "LayoutModel",
            "_view_count": null,
            "_view_module": "@jupyter-widgets/base",
            "_view_module_version": "1.2.0",
            "_view_name": "LayoutView",
            "align_content": null,
            "align_items": null,
            "align_self": null,
            "border": null,
            "bottom": null,
            "display": null,
            "flex": null,
            "flex_flow": null,
            "grid_area": null,
            "grid_auto_columns": null,
            "grid_auto_flow": null,
            "grid_auto_rows": null,
            "grid_column": null,
            "grid_gap": null,
            "grid_row": null,
            "grid_template_areas": null,
            "grid_template_columns": null,
            "grid_template_rows": null,
            "height": null,
            "justify_content": null,
            "justify_items": null,
            "left": null,
            "margin": null,
            "max_height": null,
            "max_width": null,
            "min_height": null,
            "min_width": null,
            "object_fit": null,
            "object_position": null,
            "order": null,
            "overflow": null,
            "overflow_x": null,
            "overflow_y": null,
            "padding": null,
            "right": null,
            "top": null,
            "visibility": null,
            "width": null
          }
        },
        "46e9d7db26e247afa789e47830caa893": {
          "model_module": "@jupyter-widgets/controls",
          "model_name": "ProgressStyleModel",
          "model_module_version": "1.5.0",
          "state": {
            "_model_module": "@jupyter-widgets/controls",
            "_model_module_version": "1.5.0",
            "_model_name": "ProgressStyleModel",
            "_view_count": null,
            "_view_module": "@jupyter-widgets/base",
            "_view_module_version": "1.2.0",
            "_view_name": "StyleView",
            "bar_color": null,
            "description_width": ""
          }
        },
        "400753d612bc47b2a813d80230801468": {
          "model_module": "@jupyter-widgets/base",
          "model_name": "LayoutModel",
          "model_module_version": "1.2.0",
          "state": {
            "_model_module": "@jupyter-widgets/base",
            "_model_module_version": "1.2.0",
            "_model_name": "LayoutModel",
            "_view_count": null,
            "_view_module": "@jupyter-widgets/base",
            "_view_module_version": "1.2.0",
            "_view_name": "LayoutView",
            "align_content": null,
            "align_items": null,
            "align_self": null,
            "border": null,
            "bottom": null,
            "display": null,
            "flex": null,
            "flex_flow": null,
            "grid_area": null,
            "grid_auto_columns": null,
            "grid_auto_flow": null,
            "grid_auto_rows": null,
            "grid_column": null,
            "grid_gap": null,
            "grid_row": null,
            "grid_template_areas": null,
            "grid_template_columns": null,
            "grid_template_rows": null,
            "height": null,
            "justify_content": null,
            "justify_items": null,
            "left": null,
            "margin": null,
            "max_height": null,
            "max_width": null,
            "min_height": null,
            "min_width": null,
            "object_fit": null,
            "object_position": null,
            "order": null,
            "overflow": null,
            "overflow_x": null,
            "overflow_y": null,
            "padding": null,
            "right": null,
            "top": null,
            "visibility": null,
            "width": null
          }
        },
        "2f54971470e8474d80cabd9f9b788a3e": {
          "model_module": "@jupyter-widgets/controls",
          "model_name": "DescriptionStyleModel",
          "model_module_version": "1.5.0",
          "state": {
            "_model_module": "@jupyter-widgets/controls",
            "_model_module_version": "1.5.0",
            "_model_name": "DescriptionStyleModel",
            "_view_count": null,
            "_view_module": "@jupyter-widgets/base",
            "_view_module_version": "1.2.0",
            "_view_name": "StyleView",
            "description_width": ""
          }
        },
        "0d973bd767f74f328c47a561ed3b20b2": {
          "model_module": "@jupyter-widgets/controls",
          "model_name": "HBoxModel",
          "model_module_version": "1.5.0",
          "state": {
            "_dom_classes": [],
            "_model_module": "@jupyter-widgets/controls",
            "_model_module_version": "1.5.0",
            "_model_name": "HBoxModel",
            "_view_count": null,
            "_view_module": "@jupyter-widgets/controls",
            "_view_module_version": "1.5.0",
            "_view_name": "HBoxView",
            "box_style": "",
            "children": [
              "IPY_MODEL_b3e20f7dab6f4ee5a21f7380bd6028b5",
              "IPY_MODEL_893515deca224dac8fc1b5360c025da8",
              "IPY_MODEL_b969fd5bf29e430f8c5d30285ef8bcdf"
            ],
            "layout": "IPY_MODEL_7de6775e1ca549d98c192393779cbf99"
          }
        },
        "b3e20f7dab6f4ee5a21f7380bd6028b5": {
          "model_module": "@jupyter-widgets/controls",
          "model_name": "HTMLModel",
          "model_module_version": "1.5.0",
          "state": {
            "_dom_classes": [],
            "_model_module": "@jupyter-widgets/controls",
            "_model_module_version": "1.5.0",
            "_model_name": "HTMLModel",
            "_view_count": null,
            "_view_module": "@jupyter-widgets/controls",
            "_view_module_version": "1.5.0",
            "_view_name": "HTMLView",
            "description": "",
            "description_tooltip": null,
            "layout": "IPY_MODEL_f219bbe9f8734a0eb36e4b7409eaab2f",
            "placeholder": "​",
            "style": "IPY_MODEL_85ad545bbb284d23baec5b967e801758",
            "value": "100%"
          }
        },
        "893515deca224dac8fc1b5360c025da8": {
          "model_module": "@jupyter-widgets/controls",
          "model_name": "FloatProgressModel",
          "model_module_version": "1.5.0",
          "state": {
            "_dom_classes": [],
            "_model_module": "@jupyter-widgets/controls",
            "_model_module_version": "1.5.0",
            "_model_name": "FloatProgressModel",
            "_view_count": null,
            "_view_module": "@jupyter-widgets/controls",
            "_view_module_version": "1.5.0",
            "_view_name": "ProgressView",
            "bar_style": "success",
            "description": "",
            "description_tooltip": null,
            "layout": "IPY_MODEL_31b96215980744a3973c5716c6c600e1",
            "max": 574673361,
            "min": 0,
            "orientation": "horizontal",
            "style": "IPY_MODEL_ba500594b77e47569c74db3c99a3d15d",
            "value": 574673361
          }
        },
        "b969fd5bf29e430f8c5d30285ef8bcdf": {
          "model_module": "@jupyter-widgets/controls",
          "model_name": "HTMLModel",
          "model_module_version": "1.5.0",
          "state": {
            "_dom_classes": [],
            "_model_module": "@jupyter-widgets/controls",
            "_model_module_version": "1.5.0",
            "_model_name": "HTMLModel",
            "_view_count": null,
            "_view_module": "@jupyter-widgets/controls",
            "_view_module_version": "1.5.0",
            "_view_name": "HTMLView",
            "description": "",
            "description_tooltip": null,
            "layout": "IPY_MODEL_626a4a0d217a43e996bb1b1c38717441",
            "placeholder": "​",
            "style": "IPY_MODEL_6641f0be30ab4d9186809431a54c8f4d",
            "value": " 548M/548M [00:05&lt;00:00, 107MB/s]"
          }
        },
        "7de6775e1ca549d98c192393779cbf99": {
          "model_module": "@jupyter-widgets/base",
          "model_name": "LayoutModel",
          "model_module_version": "1.2.0",
          "state": {
            "_model_module": "@jupyter-widgets/base",
            "_model_module_version": "1.2.0",
            "_model_name": "LayoutModel",
            "_view_count": null,
            "_view_module": "@jupyter-widgets/base",
            "_view_module_version": "1.2.0",
            "_view_name": "LayoutView",
            "align_content": null,
            "align_items": null,
            "align_self": null,
            "border": null,
            "bottom": null,
            "display": null,
            "flex": null,
            "flex_flow": null,
            "grid_area": null,
            "grid_auto_columns": null,
            "grid_auto_flow": null,
            "grid_auto_rows": null,
            "grid_column": null,
            "grid_gap": null,
            "grid_row": null,
            "grid_template_areas": null,
            "grid_template_columns": null,
            "grid_template_rows": null,
            "height": null,
            "justify_content": null,
            "justify_items": null,
            "left": null,
            "margin": null,
            "max_height": null,
            "max_width": null,
            "min_height": null,
            "min_width": null,
            "object_fit": null,
            "object_position": null,
            "order": null,
            "overflow": null,
            "overflow_x": null,
            "overflow_y": null,
            "padding": null,
            "right": null,
            "top": null,
            "visibility": null,
            "width": null
          }
        },
        "f219bbe9f8734a0eb36e4b7409eaab2f": {
          "model_module": "@jupyter-widgets/base",
          "model_name": "LayoutModel",
          "model_module_version": "1.2.0",
          "state": {
            "_model_module": "@jupyter-widgets/base",
            "_model_module_version": "1.2.0",
            "_model_name": "LayoutModel",
            "_view_count": null,
            "_view_module": "@jupyter-widgets/base",
            "_view_module_version": "1.2.0",
            "_view_name": "LayoutView",
            "align_content": null,
            "align_items": null,
            "align_self": null,
            "border": null,
            "bottom": null,
            "display": null,
            "flex": null,
            "flex_flow": null,
            "grid_area": null,
            "grid_auto_columns": null,
            "grid_auto_flow": null,
            "grid_auto_rows": null,
            "grid_column": null,
            "grid_gap": null,
            "grid_row": null,
            "grid_template_areas": null,
            "grid_template_columns": null,
            "grid_template_rows": null,
            "height": null,
            "justify_content": null,
            "justify_items": null,
            "left": null,
            "margin": null,
            "max_height": null,
            "max_width": null,
            "min_height": null,
            "min_width": null,
            "object_fit": null,
            "object_position": null,
            "order": null,
            "overflow": null,
            "overflow_x": null,
            "overflow_y": null,
            "padding": null,
            "right": null,
            "top": null,
            "visibility": null,
            "width": null
          }
        },
        "85ad545bbb284d23baec5b967e801758": {
          "model_module": "@jupyter-widgets/controls",
          "model_name": "DescriptionStyleModel",
          "model_module_version": "1.5.0",
          "state": {
            "_model_module": "@jupyter-widgets/controls",
            "_model_module_version": "1.5.0",
            "_model_name": "DescriptionStyleModel",
            "_view_count": null,
            "_view_module": "@jupyter-widgets/base",
            "_view_module_version": "1.2.0",
            "_view_name": "StyleView",
            "description_width": ""
          }
        },
        "31b96215980744a3973c5716c6c600e1": {
          "model_module": "@jupyter-widgets/base",
          "model_name": "LayoutModel",
          "model_module_version": "1.2.0",
          "state": {
            "_model_module": "@jupyter-widgets/base",
            "_model_module_version": "1.2.0",
            "_model_name": "LayoutModel",
            "_view_count": null,
            "_view_module": "@jupyter-widgets/base",
            "_view_module_version": "1.2.0",
            "_view_name": "LayoutView",
            "align_content": null,
            "align_items": null,
            "align_self": null,
            "border": null,
            "bottom": null,
            "display": null,
            "flex": null,
            "flex_flow": null,
            "grid_area": null,
            "grid_auto_columns": null,
            "grid_auto_flow": null,
            "grid_auto_rows": null,
            "grid_column": null,
            "grid_gap": null,
            "grid_row": null,
            "grid_template_areas": null,
            "grid_template_columns": null,
            "grid_template_rows": null,
            "height": null,
            "justify_content": null,
            "justify_items": null,
            "left": null,
            "margin": null,
            "max_height": null,
            "max_width": null,
            "min_height": null,
            "min_width": null,
            "object_fit": null,
            "object_position": null,
            "order": null,
            "overflow": null,
            "overflow_x": null,
            "overflow_y": null,
            "padding": null,
            "right": null,
            "top": null,
            "visibility": null,
            "width": null
          }
        },
        "ba500594b77e47569c74db3c99a3d15d": {
          "model_module": "@jupyter-widgets/controls",
          "model_name": "ProgressStyleModel",
          "model_module_version": "1.5.0",
          "state": {
            "_model_module": "@jupyter-widgets/controls",
            "_model_module_version": "1.5.0",
            "_model_name": "ProgressStyleModel",
            "_view_count": null,
            "_view_module": "@jupyter-widgets/base",
            "_view_module_version": "1.2.0",
            "_view_name": "StyleView",
            "bar_color": null,
            "description_width": ""
          }
        },
        "626a4a0d217a43e996bb1b1c38717441": {
          "model_module": "@jupyter-widgets/base",
          "model_name": "LayoutModel",
          "model_module_version": "1.2.0",
          "state": {
            "_model_module": "@jupyter-widgets/base",
            "_model_module_version": "1.2.0",
            "_model_name": "LayoutModel",
            "_view_count": null,
            "_view_module": "@jupyter-widgets/base",
            "_view_module_version": "1.2.0",
            "_view_name": "LayoutView",
            "align_content": null,
            "align_items": null,
            "align_self": null,
            "border": null,
            "bottom": null,
            "display": null,
            "flex": null,
            "flex_flow": null,
            "grid_area": null,
            "grid_auto_columns": null,
            "grid_auto_flow": null,
            "grid_auto_rows": null,
            "grid_column": null,
            "grid_gap": null,
            "grid_row": null,
            "grid_template_areas": null,
            "grid_template_columns": null,
            "grid_template_rows": null,
            "height": null,
            "justify_content": null,
            "justify_items": null,
            "left": null,
            "margin": null,
            "max_height": null,
            "max_width": null,
            "min_height": null,
            "min_width": null,
            "object_fit": null,
            "object_position": null,
            "order": null,
            "overflow": null,
            "overflow_x": null,
            "overflow_y": null,
            "padding": null,
            "right": null,
            "top": null,
            "visibility": null,
            "width": null
          }
        },
        "6641f0be30ab4d9186809431a54c8f4d": {
          "model_module": "@jupyter-widgets/controls",
          "model_name": "DescriptionStyleModel",
          "model_module_version": "1.5.0",
          "state": {
            "_model_module": "@jupyter-widgets/controls",
            "_model_module_version": "1.5.0",
            "_model_name": "DescriptionStyleModel",
            "_view_count": null,
            "_view_module": "@jupyter-widgets/base",
            "_view_module_version": "1.2.0",
            "_view_name": "StyleView",
            "description_width": ""
          }
        },
        "14149151d8314eb3a2c4d50f4fad6f10": {
          "model_module": "@jupyter-widgets/controls",
          "model_name": "HBoxModel",
          "model_module_version": "1.5.0",
          "state": {
            "_dom_classes": [],
            "_model_module": "@jupyter-widgets/controls",
            "_model_module_version": "1.5.0",
            "_model_name": "HBoxModel",
            "_view_count": null,
            "_view_module": "@jupyter-widgets/controls",
            "_view_module_version": "1.5.0",
            "_view_name": "HBoxView",
            "box_style": "",
            "children": [
              "IPY_MODEL_9e4e9fe667a94139b267da0f2fbb53a6",
              "IPY_MODEL_ee53065c7fba48e58972589c147bbe49",
              "IPY_MODEL_e9365da902b04b8a83ebcc22f7a5187d"
            ],
            "layout": "IPY_MODEL_4b83e9c0ca6c492f85504d2df94c5644"
          }
        },
        "9e4e9fe667a94139b267da0f2fbb53a6": {
          "model_module": "@jupyter-widgets/controls",
          "model_name": "HTMLModel",
          "model_module_version": "1.5.0",
          "state": {
            "_dom_classes": [],
            "_model_module": "@jupyter-widgets/controls",
            "_model_module_version": "1.5.0",
            "_model_name": "HTMLModel",
            "_view_count": null,
            "_view_module": "@jupyter-widgets/controls",
            "_view_module_version": "1.5.0",
            "_view_name": "HTMLView",
            "description": "",
            "description_tooltip": null,
            "layout": "IPY_MODEL_538089ef56fc4fc0b43c5dc820082d1e",
            "placeholder": "​",
            "style": "IPY_MODEL_050c06a2e5e849049c403534dc6ca125",
            "value": "100%"
          }
        },
        "ee53065c7fba48e58972589c147bbe49": {
          "model_module": "@jupyter-widgets/controls",
          "model_name": "FloatProgressModel",
          "model_module_version": "1.5.0",
          "state": {
            "_dom_classes": [],
            "_model_module": "@jupyter-widgets/controls",
            "_model_module_version": "1.5.0",
            "_model_name": "FloatProgressModel",
            "_view_count": null,
            "_view_module": "@jupyter-widgets/controls",
            "_view_module_version": "1.5.0",
            "_view_name": "ProgressView",
            "bar_style": "success",
            "description": "",
            "description_tooltip": null,
            "layout": "IPY_MODEL_4e470b4139014253bedfdd7ecbaab8e1",
            "max": 115730790,
            "min": 0,
            "orientation": "horizontal",
            "style": "IPY_MODEL_d39356c1d4f0472e8cb4c9acbae4f1bd",
            "value": 115730790
          }
        },
        "e9365da902b04b8a83ebcc22f7a5187d": {
          "model_module": "@jupyter-widgets/controls",
          "model_name": "HTMLModel",
          "model_module_version": "1.5.0",
          "state": {
            "_dom_classes": [],
            "_model_module": "@jupyter-widgets/controls",
            "_model_module_version": "1.5.0",
            "_model_name": "HTMLModel",
            "_view_count": null,
            "_view_module": "@jupyter-widgets/controls",
            "_view_module_version": "1.5.0",
            "_view_name": "HTMLView",
            "description": "",
            "description_tooltip": null,
            "layout": "IPY_MODEL_0d5437006428408cb71e9ce5c8120142",
            "placeholder": "​",
            "style": "IPY_MODEL_0c2700904d564784ab45c6f29d0b0ea4",
            "value": " 110M/110M [00:01&lt;00:00, 66.9MB/s]"
          }
        },
        "4b83e9c0ca6c492f85504d2df94c5644": {
          "model_module": "@jupyter-widgets/base",
          "model_name": "LayoutModel",
          "model_module_version": "1.2.0",
          "state": {
            "_model_module": "@jupyter-widgets/base",
            "_model_module_version": "1.2.0",
            "_model_name": "LayoutModel",
            "_view_count": null,
            "_view_module": "@jupyter-widgets/base",
            "_view_module_version": "1.2.0",
            "_view_name": "LayoutView",
            "align_content": null,
            "align_items": null,
            "align_self": null,
            "border": null,
            "bottom": null,
            "display": null,
            "flex": null,
            "flex_flow": null,
            "grid_area": null,
            "grid_auto_columns": null,
            "grid_auto_flow": null,
            "grid_auto_rows": null,
            "grid_column": null,
            "grid_gap": null,
            "grid_row": null,
            "grid_template_areas": null,
            "grid_template_columns": null,
            "grid_template_rows": null,
            "height": null,
            "justify_content": null,
            "justify_items": null,
            "left": null,
            "margin": null,
            "max_height": null,
            "max_width": null,
            "min_height": null,
            "min_width": null,
            "object_fit": null,
            "object_position": null,
            "order": null,
            "overflow": null,
            "overflow_x": null,
            "overflow_y": null,
            "padding": null,
            "right": null,
            "top": null,
            "visibility": null,
            "width": null
          }
        },
        "538089ef56fc4fc0b43c5dc820082d1e": {
          "model_module": "@jupyter-widgets/base",
          "model_name": "LayoutModel",
          "model_module_version": "1.2.0",
          "state": {
            "_model_module": "@jupyter-widgets/base",
            "_model_module_version": "1.2.0",
            "_model_name": "LayoutModel",
            "_view_count": null,
            "_view_module": "@jupyter-widgets/base",
            "_view_module_version": "1.2.0",
            "_view_name": "LayoutView",
            "align_content": null,
            "align_items": null,
            "align_self": null,
            "border": null,
            "bottom": null,
            "display": null,
            "flex": null,
            "flex_flow": null,
            "grid_area": null,
            "grid_auto_columns": null,
            "grid_auto_flow": null,
            "grid_auto_rows": null,
            "grid_column": null,
            "grid_gap": null,
            "grid_row": null,
            "grid_template_areas": null,
            "grid_template_columns": null,
            "grid_template_rows": null,
            "height": null,
            "justify_content": null,
            "justify_items": null,
            "left": null,
            "margin": null,
            "max_height": null,
            "max_width": null,
            "min_height": null,
            "min_width": null,
            "object_fit": null,
            "object_position": null,
            "order": null,
            "overflow": null,
            "overflow_x": null,
            "overflow_y": null,
            "padding": null,
            "right": null,
            "top": null,
            "visibility": null,
            "width": null
          }
        },
        "050c06a2e5e849049c403534dc6ca125": {
          "model_module": "@jupyter-widgets/controls",
          "model_name": "DescriptionStyleModel",
          "model_module_version": "1.5.0",
          "state": {
            "_model_module": "@jupyter-widgets/controls",
            "_model_module_version": "1.5.0",
            "_model_name": "DescriptionStyleModel",
            "_view_count": null,
            "_view_module": "@jupyter-widgets/base",
            "_view_module_version": "1.2.0",
            "_view_name": "StyleView",
            "description_width": ""
          }
        },
        "4e470b4139014253bedfdd7ecbaab8e1": {
          "model_module": "@jupyter-widgets/base",
          "model_name": "LayoutModel",
          "model_module_version": "1.2.0",
          "state": {
            "_model_module": "@jupyter-widgets/base",
            "_model_module_version": "1.2.0",
            "_model_name": "LayoutModel",
            "_view_count": null,
            "_view_module": "@jupyter-widgets/base",
            "_view_module_version": "1.2.0",
            "_view_name": "LayoutView",
            "align_content": null,
            "align_items": null,
            "align_self": null,
            "border": null,
            "bottom": null,
            "display": null,
            "flex": null,
            "flex_flow": null,
            "grid_area": null,
            "grid_auto_columns": null,
            "grid_auto_flow": null,
            "grid_auto_rows": null,
            "grid_column": null,
            "grid_gap": null,
            "grid_row": null,
            "grid_template_areas": null,
            "grid_template_columns": null,
            "grid_template_rows": null,
            "height": null,
            "justify_content": null,
            "justify_items": null,
            "left": null,
            "margin": null,
            "max_height": null,
            "max_width": null,
            "min_height": null,
            "min_width": null,
            "object_fit": null,
            "object_position": null,
            "order": null,
            "overflow": null,
            "overflow_x": null,
            "overflow_y": null,
            "padding": null,
            "right": null,
            "top": null,
            "visibility": null,
            "width": null
          }
        },
        "d39356c1d4f0472e8cb4c9acbae4f1bd": {
          "model_module": "@jupyter-widgets/controls",
          "model_name": "ProgressStyleModel",
          "model_module_version": "1.5.0",
          "state": {
            "_model_module": "@jupyter-widgets/controls",
            "_model_module_version": "1.5.0",
            "_model_name": "ProgressStyleModel",
            "_view_count": null,
            "_view_module": "@jupyter-widgets/base",
            "_view_module_version": "1.2.0",
            "_view_name": "StyleView",
            "bar_color": null,
            "description_width": ""
          }
        },
        "0d5437006428408cb71e9ce5c8120142": {
          "model_module": "@jupyter-widgets/base",
          "model_name": "LayoutModel",
          "model_module_version": "1.2.0",
          "state": {
            "_model_module": "@jupyter-widgets/base",
            "_model_module_version": "1.2.0",
            "_model_name": "LayoutModel",
            "_view_count": null,
            "_view_module": "@jupyter-widgets/base",
            "_view_module_version": "1.2.0",
            "_view_name": "LayoutView",
            "align_content": null,
            "align_items": null,
            "align_self": null,
            "border": null,
            "bottom": null,
            "display": null,
            "flex": null,
            "flex_flow": null,
            "grid_area": null,
            "grid_auto_columns": null,
            "grid_auto_flow": null,
            "grid_auto_rows": null,
            "grid_column": null,
            "grid_gap": null,
            "grid_row": null,
            "grid_template_areas": null,
            "grid_template_columns": null,
            "grid_template_rows": null,
            "height": null,
            "justify_content": null,
            "justify_items": null,
            "left": null,
            "margin": null,
            "max_height": null,
            "max_width": null,
            "min_height": null,
            "min_width": null,
            "object_fit": null,
            "object_position": null,
            "order": null,
            "overflow": null,
            "overflow_x": null,
            "overflow_y": null,
            "padding": null,
            "right": null,
            "top": null,
            "visibility": null,
            "width": null
          }
        },
        "0c2700904d564784ab45c6f29d0b0ea4": {
          "model_module": "@jupyter-widgets/controls",
          "model_name": "DescriptionStyleModel",
          "model_module_version": "1.5.0",
          "state": {
            "_model_module": "@jupyter-widgets/controls",
            "_model_module_version": "1.5.0",
            "_model_name": "DescriptionStyleModel",
            "_view_count": null,
            "_view_module": "@jupyter-widgets/base",
            "_view_module_version": "1.2.0",
            "_view_name": "StyleView",
            "description_width": ""
          }
        },
        "a464839cd4a4458aa58aa320d1b623eb": {
          "model_module": "@jupyter-widgets/controls",
          "model_name": "HBoxModel",
          "model_module_version": "1.5.0",
          "state": {
            "_view_name": "HBoxView",
            "_dom_classes": [],
            "_model_name": "HBoxModel",
            "_view_module": "@jupyter-widgets/controls",
            "_model_module_version": "1.5.0",
            "_view_count": null,
            "_view_module_version": "1.5.0",
            "box_style": "",
            "layout": "IPY_MODEL_dc869b9a960f4fb892493445fc963b82",
            "_model_module": "@jupyter-widgets/controls",
            "children": [
              "IPY_MODEL_4e3b0f1f611d4fe88ed0d5a9690eb03c",
              "IPY_MODEL_49eb9532995844d3b57269275619550f",
              "IPY_MODEL_5a9469d39f28457b9320034a2770674f"
            ]
          }
        },
        "dc869b9a960f4fb892493445fc963b82": {
          "model_module": "@jupyter-widgets/base",
          "model_name": "LayoutModel",
          "model_module_version": "1.2.0",
          "state": {
            "_view_name": "LayoutView",
            "grid_template_rows": null,
            "right": null,
            "justify_content": null,
            "_view_module": "@jupyter-widgets/base",
            "overflow": null,
            "_model_module_version": "1.2.0",
            "_view_count": null,
            "flex_flow": null,
            "width": null,
            "min_width": null,
            "border": null,
            "align_items": null,
            "bottom": null,
            "_model_module": "@jupyter-widgets/base",
            "top": null,
            "grid_column": null,
            "overflow_y": null,
            "overflow_x": null,
            "grid_auto_flow": null,
            "grid_area": null,
            "grid_template_columns": null,
            "flex": null,
            "_model_name": "LayoutModel",
            "justify_items": null,
            "grid_row": null,
            "max_height": null,
            "align_content": null,
            "visibility": null,
            "align_self": null,
            "height": null,
            "min_height": null,
            "padding": null,
            "grid_auto_rows": null,
            "grid_gap": null,
            "max_width": null,
            "order": null,
            "_view_module_version": "1.2.0",
            "grid_template_areas": null,
            "object_position": null,
            "object_fit": null,
            "grid_auto_columns": null,
            "margin": null,
            "display": null,
            "left": null
          }
        },
        "4e3b0f1f611d4fe88ed0d5a9690eb03c": {
          "model_module": "@jupyter-widgets/controls",
          "model_name": "HTMLModel",
          "model_module_version": "1.5.0",
          "state": {
            "_view_name": "HTMLView",
            "style": "IPY_MODEL_4477eadff14b43ea9e4b1ab8b260b433",
            "_dom_classes": [],
            "description": "",
            "_model_name": "HTMLModel",
            "placeholder": "​",
            "_view_module": "@jupyter-widgets/controls",
            "_model_module_version": "1.5.0",
            "value": "100%",
            "_view_count": null,
            "_view_module_version": "1.5.0",
            "description_tooltip": null,
            "_model_module": "@jupyter-widgets/controls",
            "layout": "IPY_MODEL_65670518067e480fb32ec0b1def92eac"
          }
        },
        "49eb9532995844d3b57269275619550f": {
          "model_module": "@jupyter-widgets/controls",
          "model_name": "FloatProgressModel",
          "model_module_version": "1.5.0",
          "state": {
            "_view_name": "ProgressView",
            "style": "IPY_MODEL_fc90f8b3a97045c9b3b6e219d23caefb",
            "_dom_classes": [],
            "description": "",
            "_model_name": "FloatProgressModel",
            "bar_style": "success",
            "max": 173245619,
            "_view_module": "@jupyter-widgets/controls",
            "_model_module_version": "1.5.0",
            "value": 173245619,
            "_view_count": null,
            "_view_module_version": "1.5.0",
            "orientation": "horizontal",
            "min": 0,
            "description_tooltip": null,
            "_model_module": "@jupyter-widgets/controls",
            "layout": "IPY_MODEL_d84cde1a58eb426d8867c9767ad87dad"
          }
        },
        "5a9469d39f28457b9320034a2770674f": {
          "model_module": "@jupyter-widgets/controls",
          "model_name": "HTMLModel",
          "model_module_version": "1.5.0",
          "state": {
            "_view_name": "HTMLView",
            "style": "IPY_MODEL_a7fef194cbf548389474f336a984204a",
            "_dom_classes": [],
            "description": "",
            "_model_name": "HTMLModel",
            "placeholder": "​",
            "_view_module": "@jupyter-widgets/controls",
            "_model_module_version": "1.5.0",
            "value": " 165M/165M [00:03&lt;00:00, 40.9MB/s]",
            "_view_count": null,
            "_view_module_version": "1.5.0",
            "description_tooltip": null,
            "_model_module": "@jupyter-widgets/controls",
            "layout": "IPY_MODEL_a4c4162454184cbf89392fdeadf1f469"
          }
        },
        "4477eadff14b43ea9e4b1ab8b260b433": {
          "model_module": "@jupyter-widgets/controls",
          "model_name": "DescriptionStyleModel",
          "model_module_version": "1.5.0",
          "state": {
            "_view_name": "StyleView",
            "_model_name": "DescriptionStyleModel",
            "description_width": "",
            "_view_module": "@jupyter-widgets/base",
            "_model_module_version": "1.5.0",
            "_view_count": null,
            "_view_module_version": "1.2.0",
            "_model_module": "@jupyter-widgets/controls"
          }
        },
        "65670518067e480fb32ec0b1def92eac": {
          "model_module": "@jupyter-widgets/base",
          "model_name": "LayoutModel",
          "model_module_version": "1.2.0",
          "state": {
            "_view_name": "LayoutView",
            "grid_template_rows": null,
            "right": null,
            "justify_content": null,
            "_view_module": "@jupyter-widgets/base",
            "overflow": null,
            "_model_module_version": "1.2.0",
            "_view_count": null,
            "flex_flow": null,
            "width": null,
            "min_width": null,
            "border": null,
            "align_items": null,
            "bottom": null,
            "_model_module": "@jupyter-widgets/base",
            "top": null,
            "grid_column": null,
            "overflow_y": null,
            "overflow_x": null,
            "grid_auto_flow": null,
            "grid_area": null,
            "grid_template_columns": null,
            "flex": null,
            "_model_name": "LayoutModel",
            "justify_items": null,
            "grid_row": null,
            "max_height": null,
            "align_content": null,
            "visibility": null,
            "align_self": null,
            "height": null,
            "min_height": null,
            "padding": null,
            "grid_auto_rows": null,
            "grid_gap": null,
            "max_width": null,
            "order": null,
            "_view_module_version": "1.2.0",
            "grid_template_areas": null,
            "object_position": null,
            "object_fit": null,
            "grid_auto_columns": null,
            "margin": null,
            "display": null,
            "left": null
          }
        },
        "fc90f8b3a97045c9b3b6e219d23caefb": {
          "model_module": "@jupyter-widgets/controls",
          "model_name": "ProgressStyleModel",
          "model_module_version": "1.5.0",
          "state": {
            "_view_name": "StyleView",
            "_model_name": "ProgressStyleModel",
            "description_width": "",
            "_view_module": "@jupyter-widgets/base",
            "_model_module_version": "1.5.0",
            "_view_count": null,
            "_view_module_version": "1.2.0",
            "bar_color": null,
            "_model_module": "@jupyter-widgets/controls"
          }
        },
        "d84cde1a58eb426d8867c9767ad87dad": {
          "model_module": "@jupyter-widgets/base",
          "model_name": "LayoutModel",
          "model_module_version": "1.2.0",
          "state": {
            "_view_name": "LayoutView",
            "grid_template_rows": null,
            "right": null,
            "justify_content": null,
            "_view_module": "@jupyter-widgets/base",
            "overflow": null,
            "_model_module_version": "1.2.0",
            "_view_count": null,
            "flex_flow": null,
            "width": null,
            "min_width": null,
            "border": null,
            "align_items": null,
            "bottom": null,
            "_model_module": "@jupyter-widgets/base",
            "top": null,
            "grid_column": null,
            "overflow_y": null,
            "overflow_x": null,
            "grid_auto_flow": null,
            "grid_area": null,
            "grid_template_columns": null,
            "flex": null,
            "_model_name": "LayoutModel",
            "justify_items": null,
            "grid_row": null,
            "max_height": null,
            "align_content": null,
            "visibility": null,
            "align_self": null,
            "height": null,
            "min_height": null,
            "padding": null,
            "grid_auto_rows": null,
            "grid_gap": null,
            "max_width": null,
            "order": null,
            "_view_module_version": "1.2.0",
            "grid_template_areas": null,
            "object_position": null,
            "object_fit": null,
            "grid_auto_columns": null,
            "margin": null,
            "display": null,
            "left": null
          }
        },
        "a7fef194cbf548389474f336a984204a": {
          "model_module": "@jupyter-widgets/controls",
          "model_name": "DescriptionStyleModel",
          "model_module_version": "1.5.0",
          "state": {
            "_view_name": "StyleView",
            "_model_name": "DescriptionStyleModel",
            "description_width": "",
            "_view_module": "@jupyter-widgets/base",
            "_model_module_version": "1.5.0",
            "_view_count": null,
            "_view_module_version": "1.2.0",
            "_model_module": "@jupyter-widgets/controls"
          }
        },
        "a4c4162454184cbf89392fdeadf1f469": {
          "model_module": "@jupyter-widgets/base",
          "model_name": "LayoutModel",
          "model_module_version": "1.2.0",
          "state": {
            "_view_name": "LayoutView",
            "grid_template_rows": null,
            "right": null,
            "justify_content": null,
            "_view_module": "@jupyter-widgets/base",
            "overflow": null,
            "_model_module_version": "1.2.0",
            "_view_count": null,
            "flex_flow": null,
            "width": null,
            "min_width": null,
            "border": null,
            "align_items": null,
            "bottom": null,
            "_model_module": "@jupyter-widgets/base",
            "top": null,
            "grid_column": null,
            "overflow_y": null,
            "overflow_x": null,
            "grid_auto_flow": null,
            "grid_area": null,
            "grid_template_columns": null,
            "flex": null,
            "_model_name": "LayoutModel",
            "justify_items": null,
            "grid_row": null,
            "max_height": null,
            "align_content": null,
            "visibility": null,
            "align_self": null,
            "height": null,
            "min_height": null,
            "padding": null,
            "grid_auto_rows": null,
            "grid_gap": null,
            "max_width": null,
            "order": null,
            "_view_module_version": "1.2.0",
            "grid_template_areas": null,
            "object_position": null,
            "object_fit": null,
            "grid_auto_columns": null,
            "margin": null,
            "display": null,
            "left": null
          }
        },
        "86a0739424d449c186729c8a1d52a2e6": {
          "model_module": "@jupyter-widgets/controls",
          "model_name": "HBoxModel",
          "model_module_version": "1.5.0",
          "state": {
            "_view_name": "HBoxView",
            "_dom_classes": [],
            "_model_name": "HBoxModel",
            "_view_module": "@jupyter-widgets/controls",
            "_model_module_version": "1.5.0",
            "_view_count": null,
            "_view_module_version": "1.5.0",
            "box_style": "",
            "layout": "IPY_MODEL_6bba6f3b25b54c739776f45019de1507",
            "_model_module": "@jupyter-widgets/controls",
            "children": [
              "IPY_MODEL_ba3cbc9e8f154298b9f39e3e9de5d1c8",
              "IPY_MODEL_fcf3608a26d640038daad5efc5c27aab",
              "IPY_MODEL_ed82eec6acda4960a750e98a1ac1a8e2"
            ]
          }
        },
        "6bba6f3b25b54c739776f45019de1507": {
          "model_module": "@jupyter-widgets/base",
          "model_name": "LayoutModel",
          "model_module_version": "1.2.0",
          "state": {
            "_view_name": "LayoutView",
            "grid_template_rows": null,
            "right": null,
            "justify_content": null,
            "_view_module": "@jupyter-widgets/base",
            "overflow": null,
            "_model_module_version": "1.2.0",
            "_view_count": null,
            "flex_flow": null,
            "width": null,
            "min_width": null,
            "border": null,
            "align_items": null,
            "bottom": null,
            "_model_module": "@jupyter-widgets/base",
            "top": null,
            "grid_column": null,
            "overflow_y": null,
            "overflow_x": null,
            "grid_auto_flow": null,
            "grid_area": null,
            "grid_template_columns": null,
            "flex": null,
            "_model_name": "LayoutModel",
            "justify_items": null,
            "grid_row": null,
            "max_height": null,
            "align_content": null,
            "visibility": null,
            "align_self": null,
            "height": null,
            "min_height": null,
            "padding": null,
            "grid_auto_rows": null,
            "grid_gap": null,
            "max_width": null,
            "order": null,
            "_view_module_version": "1.2.0",
            "grid_template_areas": null,
            "object_position": null,
            "object_fit": null,
            "grid_auto_columns": null,
            "margin": null,
            "display": null,
            "left": null
          }
        },
        "ba3cbc9e8f154298b9f39e3e9de5d1c8": {
          "model_module": "@jupyter-widgets/controls",
          "model_name": "HTMLModel",
          "model_module_version": "1.5.0",
          "state": {
            "_view_name": "HTMLView",
            "style": "IPY_MODEL_5a689d56acb64805a55213567a2a4180",
            "_dom_classes": [],
            "description": "",
            "_model_name": "HTMLModel",
            "placeholder": "​",
            "_view_module": "@jupyter-widgets/controls",
            "_model_module_version": "1.5.0",
            "value": "100%",
            "_view_count": null,
            "_view_module_version": "1.5.0",
            "description_tooltip": null,
            "_model_module": "@jupyter-widgets/controls",
            "layout": "IPY_MODEL_0f042a5d4e4a49b1afeb7a419ae5894f"
          }
        },
        "fcf3608a26d640038daad5efc5c27aab": {
          "model_module": "@jupyter-widgets/controls",
          "model_name": "FloatProgressModel",
          "model_module_version": "1.5.0",
          "state": {
            "_view_name": "ProgressView",
            "style": "IPY_MODEL_2522e818d127478482b67d0fece8f788",
            "_dom_classes": [],
            "description": "",
            "_model_name": "FloatProgressModel",
            "bar_style": "success",
            "max": 173245619,
            "_view_module": "@jupyter-widgets/controls",
            "_model_module_version": "1.5.0",
            "value": 173245619,
            "_view_count": null,
            "_view_module_version": "1.5.0",
            "orientation": "horizontal",
            "min": 0,
            "description_tooltip": null,
            "_model_module": "@jupyter-widgets/controls",
            "layout": "IPY_MODEL_e8b0e73fff374e538ed2a7ce403fd170"
          }
        },
        "ed82eec6acda4960a750e98a1ac1a8e2": {
          "model_module": "@jupyter-widgets/controls",
          "model_name": "HTMLModel",
          "model_module_version": "1.5.0",
          "state": {
            "_view_name": "HTMLView",
            "style": "IPY_MODEL_79612e5201e64265aeba8d2b8b5ee1db",
            "_dom_classes": [],
            "description": "",
            "_model_name": "HTMLModel",
            "placeholder": "​",
            "_view_module": "@jupyter-widgets/controls",
            "_model_module_version": "1.5.0",
            "value": " 165M/165M [00:02&lt;00:00, 58.0MB/s]",
            "_view_count": null,
            "_view_module_version": "1.5.0",
            "description_tooltip": null,
            "_model_module": "@jupyter-widgets/controls",
            "layout": "IPY_MODEL_f3be4ae8674a4b6aa9406b0c2baf0efd"
          }
        },
        "5a689d56acb64805a55213567a2a4180": {
          "model_module": "@jupyter-widgets/controls",
          "model_name": "DescriptionStyleModel",
          "model_module_version": "1.5.0",
          "state": {
            "_view_name": "StyleView",
            "_model_name": "DescriptionStyleModel",
            "description_width": "",
            "_view_module": "@jupyter-widgets/base",
            "_model_module_version": "1.5.0",
            "_view_count": null,
            "_view_module_version": "1.2.0",
            "_model_module": "@jupyter-widgets/controls"
          }
        },
        "0f042a5d4e4a49b1afeb7a419ae5894f": {
          "model_module": "@jupyter-widgets/base",
          "model_name": "LayoutModel",
          "model_module_version": "1.2.0",
          "state": {
            "_view_name": "LayoutView",
            "grid_template_rows": null,
            "right": null,
            "justify_content": null,
            "_view_module": "@jupyter-widgets/base",
            "overflow": null,
            "_model_module_version": "1.2.0",
            "_view_count": null,
            "flex_flow": null,
            "width": null,
            "min_width": null,
            "border": null,
            "align_items": null,
            "bottom": null,
            "_model_module": "@jupyter-widgets/base",
            "top": null,
            "grid_column": null,
            "overflow_y": null,
            "overflow_x": null,
            "grid_auto_flow": null,
            "grid_area": null,
            "grid_template_columns": null,
            "flex": null,
            "_model_name": "LayoutModel",
            "justify_items": null,
            "grid_row": null,
            "max_height": null,
            "align_content": null,
            "visibility": null,
            "align_self": null,
            "height": null,
            "min_height": null,
            "padding": null,
            "grid_auto_rows": null,
            "grid_gap": null,
            "max_width": null,
            "order": null,
            "_view_module_version": "1.2.0",
            "grid_template_areas": null,
            "object_position": null,
            "object_fit": null,
            "grid_auto_columns": null,
            "margin": null,
            "display": null,
            "left": null
          }
        },
        "2522e818d127478482b67d0fece8f788": {
          "model_module": "@jupyter-widgets/controls",
          "model_name": "ProgressStyleModel",
          "model_module_version": "1.5.0",
          "state": {
            "_view_name": "StyleView",
            "_model_name": "ProgressStyleModel",
            "description_width": "",
            "_view_module": "@jupyter-widgets/base",
            "_model_module_version": "1.5.0",
            "_view_count": null,
            "_view_module_version": "1.2.0",
            "bar_color": null,
            "_model_module": "@jupyter-widgets/controls"
          }
        },
        "e8b0e73fff374e538ed2a7ce403fd170": {
          "model_module": "@jupyter-widgets/base",
          "model_name": "LayoutModel",
          "model_module_version": "1.2.0",
          "state": {
            "_view_name": "LayoutView",
            "grid_template_rows": null,
            "right": null,
            "justify_content": null,
            "_view_module": "@jupyter-widgets/base",
            "overflow": null,
            "_model_module_version": "1.2.0",
            "_view_count": null,
            "flex_flow": null,
            "width": null,
            "min_width": null,
            "border": null,
            "align_items": null,
            "bottom": null,
            "_model_module": "@jupyter-widgets/base",
            "top": null,
            "grid_column": null,
            "overflow_y": null,
            "overflow_x": null,
            "grid_auto_flow": null,
            "grid_area": null,
            "grid_template_columns": null,
            "flex": null,
            "_model_name": "LayoutModel",
            "justify_items": null,
            "grid_row": null,
            "max_height": null,
            "align_content": null,
            "visibility": null,
            "align_self": null,
            "height": null,
            "min_height": null,
            "padding": null,
            "grid_auto_rows": null,
            "grid_gap": null,
            "max_width": null,
            "order": null,
            "_view_module_version": "1.2.0",
            "grid_template_areas": null,
            "object_position": null,
            "object_fit": null,
            "grid_auto_columns": null,
            "margin": null,
            "display": null,
            "left": null
          }
        },
        "79612e5201e64265aeba8d2b8b5ee1db": {
          "model_module": "@jupyter-widgets/controls",
          "model_name": "DescriptionStyleModel",
          "model_module_version": "1.5.0",
          "state": {
            "_view_name": "StyleView",
            "_model_name": "DescriptionStyleModel",
            "description_width": "",
            "_view_module": "@jupyter-widgets/base",
            "_model_module_version": "1.5.0",
            "_view_count": null,
            "_view_module_version": "1.2.0",
            "_model_module": "@jupyter-widgets/controls"
          }
        },
        "f3be4ae8674a4b6aa9406b0c2baf0efd": {
          "model_module": "@jupyter-widgets/base",
          "model_name": "LayoutModel",
          "model_module_version": "1.2.0",
          "state": {
            "_view_name": "LayoutView",
            "grid_template_rows": null,
            "right": null,
            "justify_content": null,
            "_view_module": "@jupyter-widgets/base",
            "overflow": null,
            "_model_module_version": "1.2.0",
            "_view_count": null,
            "flex_flow": null,
            "width": null,
            "min_width": null,
            "border": null,
            "align_items": null,
            "bottom": null,
            "_model_module": "@jupyter-widgets/base",
            "top": null,
            "grid_column": null,
            "overflow_y": null,
            "overflow_x": null,
            "grid_auto_flow": null,
            "grid_area": null,
            "grid_template_columns": null,
            "flex": null,
            "_model_name": "LayoutModel",
            "justify_items": null,
            "grid_row": null,
            "max_height": null,
            "align_content": null,
            "visibility": null,
            "align_self": null,
            "height": null,
            "min_height": null,
            "padding": null,
            "grid_auto_rows": null,
            "grid_gap": null,
            "max_width": null,
            "order": null,
            "_view_module_version": "1.2.0",
            "grid_template_areas": null,
            "object_position": null,
            "object_fit": null,
            "grid_auto_columns": null,
            "margin": null,
            "display": null,
            "left": null
          }
        }
      }
    }
  },
  "cells": [
    {
      "cell_type": "markdown",
      "metadata": {
        "id": "GnJCreye-0xm"
      },
      "source": [
        "#Тестирование классического подхода обучения на классических архитектурах\n",
        "\n",
        "В этом ноутбуке используются архитектуры моделей VGG19, ResNet152, DenseNet161, EfficientNetB6, предобученные на датасете ImageNet. Модели обучаются на датасете из соревнования на плтформе Kaggle - https://www.kaggle.com/c/dog-breed-identification/data. Всего 120 классов. "
      ]
    },
    {
      "cell_type": "code",
      "metadata": {
        "colab": {
          "base_uri": "https://localhost:8080/"
        },
        "id": "PCHvSB1avMke",
        "outputId": "ae2cb5fb-74c6-477a-89be-eba641815331"
      },
      "source": [
        "!nvidia-smi\n",
        "import torch\n",
        "torch.cuda.is_available()"
      ],
      "execution_count": 1,
      "outputs": [
        {
          "output_type": "stream",
          "name": "stdout",
          "text": [
            "Fri Oct 22 12:28:58 2021       \n",
            "+-----------------------------------------------------------------------------+\n",
            "| NVIDIA-SMI 470.74       Driver Version: 460.32.03    CUDA Version: 11.2     |\n",
            "|-------------------------------+----------------------+----------------------+\n",
            "| GPU  Name        Persistence-M| Bus-Id        Disp.A | Volatile Uncorr. ECC |\n",
            "| Fan  Temp  Perf  Pwr:Usage/Cap|         Memory-Usage | GPU-Util  Compute M. |\n",
            "|                               |                      |               MIG M. |\n",
            "|===============================+======================+======================|\n",
            "|   0  Tesla K80           Off  | 00000000:00:04.0 Off |                    0 |\n",
            "| N/A   34C    P8    29W / 149W |      0MiB / 11441MiB |      0%      Default |\n",
            "|                               |                      |                  N/A |\n",
            "+-------------------------------+----------------------+----------------------+\n",
            "                                                                               \n",
            "+-----------------------------------------------------------------------------+\n",
            "| Processes:                                                                  |\n",
            "|  GPU   GI   CI        PID   Type   Process name                  GPU Memory |\n",
            "|        ID   ID                                                   Usage      |\n",
            "|=============================================================================|\n",
            "|  No running processes found                                                 |\n",
            "+-----------------------------------------------------------------------------+\n"
          ]
        },
        {
          "output_type": "execute_result",
          "data": {
            "text/plain": [
              "True"
            ]
          },
          "metadata": {},
          "execution_count": 1
        }
      ]
    },
    {
      "cell_type": "code",
      "metadata": {
        "id": "Z44eVi1hvaIl"
      },
      "source": [
        "import pickle\n",
        "import os\n",
        "import sys\n",
        "import numpy as np\n",
        "import pandas as pd\n",
        "from skimage import io\n",
        "from tqdm import tqdm, tqdm_notebook\n",
        "from PIL import Image\n",
        "from pathlib import Path\n",
        "from multiprocessing.pool import ThreadPool\n",
        "from sklearn.model_selection import train_test_split\n",
        "from sklearn.preprocessing import LabelEncoder\n",
        "from torch.utils.data import Dataset, DataLoader\n",
        "import torchvision\n",
        "from torchvision import transforms, models\n",
        "import torch.nn as nn\n",
        "from matplotlib import colors, pyplot as plt\n",
        "%matplotlib inline"
      ],
      "execution_count": 2,
      "outputs": []
    },
    {
      "cell_type": "code",
      "metadata": {
        "colab": {
          "base_uri": "https://localhost:8080/"
        },
        "id": "bIVAaxpQvaeO",
        "outputId": "5965ae0a-fd82-4f4d-f395-9a07e31a3c03"
      },
      "source": [
        "from google.colab import drive\n",
        "drive.mount('/content/drive')"
      ],
      "execution_count": 3,
      "outputs": [
        {
          "output_type": "stream",
          "name": "stdout",
          "text": [
            "Mounted at /content/drive\n"
          ]
        }
      ]
    },
    {
      "cell_type": "code",
      "metadata": {
        "colab": {
          "base_uri": "https://localhost:8080/"
        },
        "id": "17PWLCn7Dl89",
        "outputId": "08f6477a-9faf-40ac-fca1-063a34fdc58f"
      },
      "source": [
        "!pip install efficientnet_pytorch"
      ],
      "execution_count": 4,
      "outputs": [
        {
          "output_type": "stream",
          "name": "stdout",
          "text": [
            "Collecting efficientnet_pytorch\n",
            "  Downloading efficientnet_pytorch-0.7.1.tar.gz (21 kB)\n",
            "Requirement already satisfied: torch in /usr/local/lib/python3.7/dist-packages (from efficientnet_pytorch) (1.9.0+cu111)\n",
            "Requirement already satisfied: typing-extensions in /usr/local/lib/python3.7/dist-packages (from torch->efficientnet_pytorch) (3.7.4.3)\n",
            "Building wheels for collected packages: efficientnet-pytorch\n",
            "  Building wheel for efficientnet-pytorch (setup.py) ... \u001b[?25l\u001b[?25hdone\n",
            "  Created wheel for efficientnet-pytorch: filename=efficientnet_pytorch-0.7.1-py3-none-any.whl size=16446 sha256=eba7713c4d6c6705c3721e9db829ddc6dff2f0944237635d520a3f5e8100baec\n",
            "  Stored in directory: /root/.cache/pip/wheels/0e/cc/b2/49e74588263573ff778da58cc99b9c6349b496636a7e165be6\n",
            "Successfully built efficientnet-pytorch\n",
            "Installing collected packages: efficientnet-pytorch\n",
            "Successfully installed efficientnet-pytorch-0.7.1\n"
          ]
        }
      ]
    },
    {
      "cell_type": "markdown",
      "metadata": {
        "id": "7jgwzga7_mm6"
      },
      "source": [
        "Импорт необходимых функций"
      ]
    },
    {
      "cell_type": "code",
      "metadata": {
        "id": "dF6ucyntF0Gu"
      },
      "source": [
        "sys.path.insert(1, '/content/drive/MyDrive/Diplom')\n",
        "from functions import *"
      ],
      "execution_count": 5,
      "outputs": []
    },
    {
      "cell_type": "markdown",
      "metadata": {
        "id": "xvHJ0eNsJnwV"
      },
      "source": [
        "#Подготовка данных\n",
        "\n",
        "Используется две версии датасета - полная и сокращенная. Цель - сравнить, какая из классических моделей показывает меньшую разницу в итоговом качестве классификации на полном и сокращенном датасетах."
      ]
    },
    {
      "cell_type": "markdown",
      "metadata": {
        "id": "ayfNlBgI_p9F"
      },
      "source": [
        "Исходный датасет"
      ]
    },
    {
      "cell_type": "code",
      "metadata": {
        "id": "Al9cPxFJvajf"
      },
      "source": [
        "!unzip -q /content/drive/MyDrive/Diplom/dog-breed-identification.zip -d dogs"
      ],
      "execution_count": 6,
      "outputs": []
    },
    {
      "cell_type": "markdown",
      "metadata": {
        "id": "XiDPsOm2_sZ8"
      },
      "source": [
        "Сокращенный датасет"
      ]
    },
    {
      "cell_type": "code",
      "metadata": {
        "id": "bGSO4mj0_srT"
      },
      "source": [
        "!unzip -q /content/drive/MyDrive/Diplom/dogs_short_train.zip -d dogs_short"
      ],
      "execution_count": 7,
      "outputs": []
    },
    {
      "cell_type": "markdown",
      "metadata": {
        "id": "Mc5Huo4AJAcL"
      },
      "source": [
        "Словарь пород"
      ]
    },
    {
      "cell_type": "code",
      "metadata": {
        "id": "ibGtXEYHUDnj"
      },
      "source": [
        "d = create_labels('/content/dogs/labels.csv')\n"
      ],
      "execution_count": 8,
      "outputs": []
    },
    {
      "cell_type": "markdown",
      "metadata": {
        "id": "NZC1URlhBQvW"
      },
      "source": [
        "Полный датасет"
      ]
    },
    {
      "cell_type": "code",
      "metadata": {
        "id": "ZmwFcBuhvayG"
      },
      "source": [
        "TRAIN_DIR = Path('/content/dogs/train')\n",
        "TEST_DIR = Path('/content/dogs/test')\n",
        "\n",
        "train_val_files = sorted(list(TRAIN_DIR.rglob('*.jpg')))\n",
        "\n",
        "train_val_labels = [d[path.name] for path in train_val_files]\n",
        "\n",
        "test_files = sorted(list(TEST_DIR.rglob('*.jpg')))\n",
        "\n",
        "train_files, val_files = train_test_split(train_val_files, test_size=0.25, \\\n",
        " stratify=train_val_labels)\n",
        "\n",
        "train_dataset = DogsDataset(train_files, mode='train')\n",
        "\n",
        "val_dataset = DogsDataset(val_files, mode='val')\n",
        "\n",
        "test_dataset = DogsDataset(test_files, mode='test')"
      ],
      "execution_count": 9,
      "outputs": []
    },
    {
      "cell_type": "markdown",
      "metadata": {
        "id": "o4NZQi1rBTpK"
      },
      "source": [
        "Сокращенный датасет"
      ]
    },
    {
      "cell_type": "code",
      "metadata": {
        "id": "oYNx1bVhABGX"
      },
      "source": [
        "TRAIN_DIR_SHORT = Path('/content/dogs_short')\n",
        "\n",
        "train_val_files_short = sorted(list(TRAIN_DIR_SHORT.rglob('*.jpg')))\n",
        "\n",
        "train_val_labels_short = [d[path.name] for path in train_val_files_short]\n",
        "\n",
        "train_files_short, val_files_short = train_test_split(train_val_files_short, test_size=0.25, \\\n",
        " stratify=train_val_labels_short)\n",
        "\n",
        "train_dataset_short = DogsDataset(train_files_short, mode='train')\n",
        "\n",
        "val_dataset_short = DogsDataset(val_files_short, mode='val')"
      ],
      "execution_count": 10,
      "outputs": []
    },
    {
      "cell_type": "markdown",
      "metadata": {
        "id": "WdjQnt66JLf1"
      },
      "source": [
        "Пример картинок"
      ]
    },
    {
      "cell_type": "code",
      "metadata": {
        "colab": {
          "base_uri": "https://localhost:8080/",
          "height": 499
        },
        "id": "i5wOLpJYv2Ah",
        "outputId": "d7b548a4-d155-48a5-8a80-2255182e53c3"
      },
      "source": [
        "fig, ax = plt.subplots(nrows=3, ncols=3,figsize=(8, 8), sharey=True, sharex=True)\n",
        "for fig_x in ax.flatten():\n",
        " random_characters = int(np.random.uniform(0,1000))\n",
        " im_val, label = val_dataset[random_characters]\n",
        " img_label = \" \".join(map(lambda x: x.capitalize(),\\\n",
        " val_dataset.label_encoder.inverse_transform([label])[0].split('_')))\n",
        "\n",
        " imshow(im_val.data.cpu(), \\\n",
        " title=img_label,plt_ax=fig_x)"
      ],
      "execution_count": null,
      "outputs": [
        {
          "data": {
            "image/png": "[encoded data removed]",
            "text/plain": [
              "<Figure size 576x576 with 9 Axes>"
            ]
          },
          "metadata": {},
          "output_type": "display_data"
        }
      ]
    },
    {
      "cell_type": "markdown",
      "metadata": {
        "id": "gXWdBt2mxn-u"
      },
      "source": [
        "#ResNet 152\n"
      ]
    },
    {
      "cell_type": "code",
      "metadata": {
        "colab": {
          "base_uri": "https://localhost:8080/",
          "height": 1000,
          "referenced_widgets": [
            "fea5148005484c1db851abfde555a1c5",
            "c16f6c7e378243c885954903d9e81849",
            "9be3cdc8e1f848e989ecf4ef03019bfb",
            "d790a874888c450ebe0f9f7e7f859cfa",
            "533d7b2cb09e400789784738b7439373",
            "ef4306bbde894a14831206e2ad6de4b5",
            "3e4e7677c0db41fba4117e5a260c3668",
            "e5d7c4eb1b8b4127a3806e95aace09c2",
            "d50e6ff49a0649478cc3ab40cc0cc422",
            "7742ca21bfe14401b0253363ebad49b6",
            "c1368c8617e84e98a38d40fc2daf9130"
          ]
        },
        "id": "v4n1ck8JOJha",
        "outputId": "daac3888-1f07-4b62-b9a8-00c4ddb03b65"
      },
      "source": [
        "save_name = '/content/DogsModelRESNET152.pth'\n",
        "model = initialize_and_train_model(\"ResNet152\", 120, 10, 32, train_dataset, val_dataset, save_name)"
      ],
      "execution_count": null,
      "outputs": [
        {
          "name": "stderr",
          "output_type": "stream",
          "text": [
            "Downloading: \"https://download.pytorch.org/models/resnet152-394f9c45.pth\" to /root/.cache/torch/hub/checkpoints/resnet152-394f9c45.pth\n"
          ]
        },
        {
          "data": {
            "application/vnd.jupyter.widget-view+json": {
              "model_id": "fea5148005484c1db851abfde555a1c5",
              "version_major": 2,
              "version_minor": 0
            },
            "text/plain": [
              "  0%|          | 0.00/230M [00:00<?, ?B/s]"
            ]
          },
          "metadata": {},
          "output_type": "display_data"
        },
        {
          "name": "stderr",
          "output_type": "stream",
          "text": [
            "\repoch:   0%|          | 0/10 [00:00<?, ?it/s]/usr/local/lib/python3.7/dist-packages/torch/nn/functional.py:718: UserWarning: Named tensors and all their associated APIs are an experimental feature and subject to change. Please do not use them for anything important until they are released as stable. (Triggered internally at  /pytorch/c10/core/TensorImpl.h:1156.)\n",
            "  return torch.max_pool2d(input, kernel_size, stride, padding, dilation, ceil_mode)\n"
          ]
        },
        {
          "name": "stdout",
          "output_type": "stream",
          "text": [
            "loss 3.0911650448656567\n"
          ]
        },
        {
          "name": "stderr",
          "output_type": "stream",
          "text": [
            "epoch:  10%|█         | 1/10 [08:54<1:20:07, 534.13s/it]"
          ]
        },
        {
          "name": "stdout",
          "output_type": "stream",
          "text": [
            "Saved model with val acc 0.6987480438184663\n",
            "\n",
            "Epoch 001 train_loss: 3.0912   val_loss 1.3771 train_acc 0.3912 val_acc 0.6987\n",
            "loss 0.9551213452873857\n"
          ]
        },
        {
          "name": "stderr",
          "output_type": "stream",
          "text": [
            "epoch:  20%|██        | 2/10 [17:41<1:10:40, 530.04s/it]"
          ]
        },
        {
          "name": "stdout",
          "output_type": "stream",
          "text": [
            "\n",
            "Epoch 002 train_loss: 0.9551   val_loss 1.0591 train_acc 0.7041 val_acc 0.6878\n",
            "loss 0.495745793105478\n"
          ]
        },
        {
          "name": "stderr",
          "output_type": "stream",
          "text": [
            "epoch:  30%|███       | 3/10 [26:28<1:01:42, 528.87s/it]"
          ]
        },
        {
          "name": "stdout",
          "output_type": "stream",
          "text": [
            "Saved model with val acc 0.7097026604068858\n",
            "\n",
            "Epoch 003 train_loss: 0.4957   val_loss 1.0051 train_acc 0.8341 val_acc 0.7097\n",
            "loss 0.3207707038023377\n"
          ]
        },
        {
          "name": "stderr",
          "output_type": "stream",
          "text": [
            "epoch:  40%|████      | 4/10 [35:13<52:43, 527.22s/it]"
          ]
        },
        {
          "name": "stdout",
          "output_type": "stream",
          "text": [
            "Saved model with val acc 0.721830985915493\n",
            "\n",
            "Epoch 004 train_loss: 0.3208   val_loss 1.0633 train_acc 0.8929 val_acc 0.7218\n",
            "loss 0.2511047462850397\n"
          ]
        },
        {
          "name": "stderr",
          "output_type": "stream",
          "text": [
            "epoch:  50%|█████     | 5/10 [43:59<43:54, 526.82s/it]"
          ]
        },
        {
          "name": "stdout",
          "output_type": "stream",
          "text": [
            "Saved model with val acc 0.7245696400625978\n",
            "\n",
            "Epoch 005 train_loss: 0.2511   val_loss 1.0119 train_acc 0.9168 val_acc 0.7246\n",
            "loss 0.22765361005865561\n"
          ]
        },
        {
          "name": "stderr",
          "output_type": "stream",
          "text": [
            "epoch:  60%|██████    | 6/10 [52:43<35:02, 525.68s/it]"
          ]
        },
        {
          "name": "stdout",
          "output_type": "stream",
          "text": [
            "\n",
            "Epoch 006 train_loss: 0.2277   val_loss 1.0995 train_acc 0.9212 val_acc 0.7164\n",
            "loss 0.15858967212326933\n"
          ]
        },
        {
          "name": "stderr",
          "output_type": "stream",
          "text": [
            "epoch:  70%|███████   | 7/10 [1:01:24<26:12, 524.16s/it]"
          ]
        },
        {
          "name": "stdout",
          "output_type": "stream",
          "text": [
            "Saved model with val acc 0.7257433489827856\n",
            "\n",
            "Epoch 007 train_loss: 0.1586   val_loss 1.2142 train_acc 0.9485 val_acc 0.7257\n",
            "loss 0.14373887831404972\n"
          ]
        },
        {
          "name": "stderr",
          "output_type": "stream",
          "text": [
            "epoch:  80%|████████  | 8/10 [1:10:03<17:25, 522.70s/it]"
          ]
        },
        {
          "name": "stdout",
          "output_type": "stream",
          "text": [
            "\n",
            "Epoch 008 train_loss: 0.1437   val_loss 1.0735 train_acc 0.9533 val_acc 0.7250\n",
            "loss 0.11986352324761798\n"
          ]
        },
        {
          "name": "stderr",
          "output_type": "stream",
          "text": [
            "epoch:  90%|█████████ | 9/10 [1:18:44<08:42, 522.10s/it]"
          ]
        },
        {
          "name": "stdout",
          "output_type": "stream",
          "text": [
            "\n",
            "Epoch 009 train_loss: 0.1199   val_loss 1.1819 train_acc 0.9641 val_acc 0.7171\n",
            "loss 0.10216676357571311\n"
          ]
        },
        {
          "name": "stderr",
          "output_type": "stream",
          "text": [
            "epoch: 100%|██████████| 10/10 [1:27:24<00:00, 524.46s/it]"
          ]
        },
        {
          "name": "stdout",
          "output_type": "stream",
          "text": [
            "Saved model with val acc 0.7347417840375587\n",
            "\n",
            "Epoch 010 train_loss: 0.1022   val_loss 1.2318 train_acc 0.9704 val_acc 0.7347\n"
          ]
        },
        {
          "name": "stderr",
          "output_type": "stream",
          "text": [
            "\n"
          ]
        },
        {
          "data": {
            "image/png": "[encoded data removed]",
            "text/plain": [
              "<Figure size 432x288 with 1 Axes>"
            ]
          },
          "metadata": {},
          "output_type": "display_data"
        }
      ]
    },
    {
      "cell_type": "code",
      "metadata": {
        "id": "Ul-IQPCIOa_z"
      },
      "source": [
        "res = make_prediction(save_name, model, test_files)\n",
        "res.to_csv('/content/drive/MyDrive/Diplom/resnet152_classic.csv', index = False)"
      ],
      "execution_count": null,
      "outputs": []
    },
    {
      "cell_type": "markdown",
      "metadata": {
        "id": "OY5woo0DgI0n"
      },
      "source": [
        "Kaggle score 1.18338"
      ]
    },
    {
      "cell_type": "markdown",
      "metadata": {
        "id": "sjCWxRhHBtOu"
      },
      "source": [
        "**Сокращенный датасет**"
      ]
    },
    {
      "cell_type": "code",
      "metadata": {
        "colab": {
          "base_uri": "https://localhost:8080/",
          "height": 1000,
          "referenced_widgets": [
            "abb34d918fa046a09283a7e1b1cded14",
            "6558b7ce84fe4ce79bece31f741d55f0",
            "50893763b3ca4f04895a17fac5305228",
            "b2e106c8dd184181961a3bf7e1ef390c",
            "08820ca7c22d458abbf4b4f981f5cf86",
            "841ebf11e378427f8c5bad987d62fdc6",
            "7a47ddbff3364d7d86d6b93bcfdb7d56",
            "a918d1cd08b14066b9ef4d63859869b1",
            "46e9d7db26e247afa789e47830caa893",
            "400753d612bc47b2a813d80230801468",
            "2f54971470e8474d80cabd9f9b788a3e"
          ]
        },
        "id": "kHGTv2VCBnXS",
        "outputId": "50ba7231-4f29-4dc7-bdd6-69a932bdf57f"
      },
      "source": [
        "save_name = '/content/DogsModelRESNET152_short.pth'\n",
        "model = initialize_and_train_model(\"ResNet152\", 120, 10, 32, train_dataset_short, val_dataset_short, save_name)"
      ],
      "execution_count": null,
      "outputs": [
        {
          "name": "stderr",
          "output_type": "stream",
          "text": [
            "Downloading: \"https://download.pytorch.org/models/resnet152-394f9c45.pth\" to /root/.cache/torch/hub/checkpoints/resnet152-394f9c45.pth\n"
          ]
        },
        {
          "data": {
            "application/vnd.jupyter.widget-view+json": {
              "model_id": "abb34d918fa046a09283a7e1b1cded14",
              "version_major": 2,
              "version_minor": 0
            },
            "text/plain": [
              "  0%|          | 0.00/230M [00:00<?, ?B/s]"
            ]
          },
          "metadata": {},
          "output_type": "display_data"
        },
        {
          "name": "stderr",
          "output_type": "stream",
          "text": [
            "\repoch:   0%|          | 0/10 [00:00<?, ?it/s]/usr/local/lib/python3.7/dist-packages/torch/nn/functional.py:718: UserWarning: Named tensors and all their associated APIs are an experimental feature and subject to change. Please do not use them for anything important until they are released as stable. (Triggered internally at  /pytorch/c10/core/TensorImpl.h:1156.)\n",
            "  return torch.max_pool2d(input, kernel_size, stride, padding, dilation, ceil_mode)\n"
          ]
        },
        {
          "name": "stdout",
          "output_type": "stream",
          "text": [
            "loss 4.215383495367744\n"
          ]
        },
        {
          "name": "stderr",
          "output_type": "stream",
          "text": [
            "epoch:  10%|█         | 1/10 [03:05<27:51, 185.69s/it]"
          ]
        },
        {
          "name": "stdout",
          "output_type": "stream",
          "text": [
            "Saved model with val acc 0.49222797927461137\n",
            "\n",
            "Epoch 001 train_loss: 4.2154   val_loss 3.1117 train_acc 0.2047 val_acc 0.4922\n",
            "loss 1.3686329405007684\n"
          ]
        },
        {
          "name": "stderr",
          "output_type": "stream",
          "text": [
            "epoch:  20%|██        | 2/10 [06:10<24:42, 185.37s/it]"
          ]
        },
        {
          "name": "stdout",
          "output_type": "stream",
          "text": [
            "Saved model with val acc 0.6238341968911917\n",
            "\n",
            "Epoch 002 train_loss: 1.3686   val_loss 1.2763 train_acc 0.6172 val_acc 0.6238\n",
            "loss 0.6962116341703001\n"
          ]
        },
        {
          "name": "stderr",
          "output_type": "stream",
          "text": [
            "epoch:  30%|███       | 3/10 [09:15<21:35, 185.04s/it]"
          ]
        },
        {
          "name": "stdout",
          "output_type": "stream",
          "text": [
            "Saved model with val acc 0.649740932642487\n",
            "\n",
            "Epoch 003 train_loss: 0.6962   val_loss 1.1944 train_acc 0.7770 val_acc 0.6497\n",
            "loss 0.3875966675136429\n"
          ]
        },
        {
          "name": "stderr",
          "output_type": "stream",
          "text": [
            "epoch:  40%|████      | 4/10 [12:20<18:29, 184.90s/it]"
          ]
        },
        {
          "name": "stdout",
          "output_type": "stream",
          "text": [
            "Saved model with val acc 0.6766839378238342\n",
            "\n",
            "Epoch 004 train_loss: 0.3876   val_loss 1.1787 train_acc 0.8710 val_acc 0.6767\n",
            "loss 0.2699987009105841\n"
          ]
        },
        {
          "name": "stderr",
          "output_type": "stream",
          "text": [
            "epoch:  50%|█████     | 5/10 [15:24<15:24, 184.83s/it]"
          ]
        },
        {
          "name": "stdout",
          "output_type": "stream",
          "text": [
            "Saved model with val acc 0.6943005181347149\n",
            "\n",
            "Epoch 005 train_loss: 0.2700   val_loss 1.2070 train_acc 0.9174 val_acc 0.6943\n",
            "loss 0.19781613955853886\n"
          ]
        },
        {
          "name": "stderr",
          "output_type": "stream",
          "text": [
            "epoch:  60%|██████    | 6/10 [18:28<12:18, 184.53s/it]"
          ]
        },
        {
          "name": "stdout",
          "output_type": "stream",
          "text": [
            "\n",
            "Epoch 006 train_loss: 0.1978   val_loss 1.5403 train_acc 0.9367 val_acc 0.6746\n",
            "loss 0.14557679625096656\n"
          ]
        },
        {
          "name": "stderr",
          "output_type": "stream",
          "text": [
            "epoch:  70%|███████   | 7/10 [21:33<09:13, 184.55s/it]"
          ]
        },
        {
          "name": "stdout",
          "output_type": "stream",
          "text": [
            "Saved model with val acc 0.716062176165803\n",
            "\n",
            "Epoch 007 train_loss: 0.1456   val_loss 1.1394 train_acc 0.9554 val_acc 0.7161\n",
            "loss 0.1323341936037913\n"
          ]
        },
        {
          "name": "stderr",
          "output_type": "stream",
          "text": [
            "epoch:  80%|████████  | 8/10 [24:37<06:08, 184.36s/it]"
          ]
        },
        {
          "name": "stdout",
          "output_type": "stream",
          "text": [
            "\n",
            "Epoch 008 train_loss: 0.1323   val_loss 1.3956 train_acc 0.9616 val_acc 0.6632\n",
            "loss 0.1283387996431538\n"
          ]
        },
        {
          "name": "stderr",
          "output_type": "stream",
          "text": [
            "epoch:  90%|█████████ | 9/10 [27:41<03:04, 184.31s/it]"
          ]
        },
        {
          "name": "stdout",
          "output_type": "stream",
          "text": [
            "\n",
            "Epoch 009 train_loss: 0.1283   val_loss 1.4174 train_acc 0.9654 val_acc 0.6860\n",
            "loss 0.08224269032045518\n"
          ]
        },
        {
          "name": "stderr",
          "output_type": "stream",
          "text": [
            "epoch: 100%|██████████| 10/10 [30:45<00:00, 184.56s/it]\n"
          ]
        },
        {
          "name": "stdout",
          "output_type": "stream",
          "text": [
            "\n",
            "Epoch 010 train_loss: 0.0822   val_loss 1.6126 train_acc 0.9744 val_acc 0.6415\n"
          ]
        },
        {
          "data": {
            "image/png": "[encoded data removed]",
            "text/plain": [
              "<Figure size 432x288 with 1 Axes>"
            ]
          },
          "metadata": {},
          "output_type": "display_data"
        }
      ]
    },
    {
      "cell_type": "code",
      "metadata": {
        "id": "1xWezj98Bnbh"
      },
      "source": [
        "res = make_prediction(save_name, model, test_files)\n",
        "res.to_csv('/content/drive/MyDrive/Diplom/resnet152_classic_short.csv', index = False)"
      ],
      "execution_count": null,
      "outputs": []
    },
    {
      "cell_type": "markdown",
      "metadata": {
        "id": "Jnu4LFdEf_UB"
      },
      "source": [
        "Kaggle score 1.12304"
      ]
    },
    {
      "cell_type": "markdown",
      "metadata": {
        "id": "NoxaCOrCEXFF"
      },
      "source": [
        "#VGG19"
      ]
    },
    {
      "cell_type": "code",
      "metadata": {
        "colab": {
          "base_uri": "https://localhost:8080/",
          "height": 942,
          "referenced_widgets": [
            "0d973bd767f74f328c47a561ed3b20b2",
            "b3e20f7dab6f4ee5a21f7380bd6028b5",
            "893515deca224dac8fc1b5360c025da8",
            "b969fd5bf29e430f8c5d30285ef8bcdf",
            "7de6775e1ca549d98c192393779cbf99",
            "f219bbe9f8734a0eb36e4b7409eaab2f",
            "85ad545bbb284d23baec5b967e801758",
            "31b96215980744a3973c5716c6c600e1",
            "ba500594b77e47569c74db3c99a3d15d",
            "626a4a0d217a43e996bb1b1c38717441",
            "6641f0be30ab4d9186809431a54c8f4d"
          ]
        },
        "id": "X387mv-bBnd2",
        "outputId": "7361151b-b3af-40e8-f8ed-79e220ad9ff4"
      },
      "source": [
        "save_name = '/content/DogsModelVGG19.pth'\n",
        "model = initialize_and_train_model(\"VGG19\", 120, 10, 32, train_dataset, val_dataset, save_name)"
      ],
      "execution_count": null,
      "outputs": [
        {
          "name": "stderr",
          "output_type": "stream",
          "text": [
            "Downloading: \"https://download.pytorch.org/models/vgg19-dcbb9e9d.pth\" to /root/.cache/torch/hub/checkpoints/vgg19-dcbb9e9d.pth\n"
          ]
        },
        {
          "data": {
            "application/vnd.jupyter.widget-view+json": {
              "model_id": "0d973bd767f74f328c47a561ed3b20b2",
              "version_major": 2,
              "version_minor": 0
            },
            "text/plain": [
              "  0%|          | 0.00/548M [00:00<?, ?B/s]"
            ]
          },
          "metadata": {},
          "output_type": "display_data"
        },
        {
          "name": "stderr",
          "output_type": "stream",
          "text": [
            "\repoch:   0%|          | 0/10 [00:00<?, ?it/s]"
          ]
        },
        {
          "name": "stdout",
          "output_type": "stream",
          "text": [
            "loss 2.3910780200565136\n"
          ]
        },
        {
          "name": "stderr",
          "output_type": "stream",
          "text": [
            "epoch:  10%|█         | 1/10 [06:33<59:02, 393.63s/it]"
          ]
        },
        {
          "name": "stdout",
          "output_type": "stream",
          "text": [
            "Saved model with val acc 0.7097026604068858\n",
            "\n",
            "Epoch 001 train_loss: 2.3911   val_loss 0.9915 train_acc 0.4149 val_acc 0.7097\n",
            "loss 0.6369092176453799\n"
          ]
        },
        {
          "name": "stderr",
          "output_type": "stream",
          "text": [
            "epoch:  20%|██        | 2/10 [13:06<52:27, 393.43s/it]"
          ]
        },
        {
          "name": "stdout",
          "output_type": "stream",
          "text": [
            "Saved model with val acc 0.7206572769953051\n",
            "\n",
            "Epoch 002 train_loss: 0.6369   val_loss 0.9410 train_acc 0.7935 val_acc 0.7207\n",
            "loss 0.2615600977780114\n"
          ]
        },
        {
          "name": "stderr",
          "output_type": "stream",
          "text": [
            "epoch:  30%|███       | 3/10 [19:39<45:50, 392.87s/it]"
          ]
        },
        {
          "name": "stdout",
          "output_type": "stream",
          "text": [
            "Saved model with val acc 0.7261345852895149\n",
            "\n",
            "Epoch 003 train_loss: 0.2616   val_loss 1.0296 train_acc 0.9147 val_acc 0.7261\n",
            "loss 0.16974101634489597\n"
          ]
        },
        {
          "name": "stderr",
          "output_type": "stream",
          "text": [
            "epoch:  40%|████      | 4/10 [26:09<39:10, 391.76s/it]"
          ]
        },
        {
          "name": "stdout",
          "output_type": "stream",
          "text": [
            "\n",
            "Epoch 004 train_loss: 0.1697   val_loss 1.2792 train_acc 0.9486 val_acc 0.7027\n",
            "loss 0.11891299767233578\n"
          ]
        },
        {
          "name": "stderr",
          "output_type": "stream",
          "text": [
            "epoch:  50%|█████     | 5/10 [32:39<32:36, 391.21s/it]"
          ]
        },
        {
          "name": "stdout",
          "output_type": "stream",
          "text": [
            "\n",
            "Epoch 005 train_loss: 0.1189   val_loss 1.3157 train_acc 0.9637 val_acc 0.6894\n",
            "loss 0.06367778268485033\n"
          ]
        },
        {
          "name": "stderr",
          "output_type": "stream",
          "text": [
            "epoch:  60%|██████    | 6/10 [39:09<26:02, 390.74s/it]"
          ]
        },
        {
          "name": "stdout",
          "output_type": "stream",
          "text": [
            "\n",
            "Epoch 006 train_loss: 0.0637   val_loss 1.3536 train_acc 0.9817 val_acc 0.7144\n",
            "loss 0.06760132616201643\n"
          ]
        },
        {
          "name": "stderr",
          "output_type": "stream",
          "text": [
            "epoch:  70%|███████   | 7/10 [45:38<19:30, 390.26s/it]"
          ]
        },
        {
          "name": "stdout",
          "output_type": "stream",
          "text": [
            "\n",
            "Epoch 007 train_loss: 0.0676   val_loss 1.4813 train_acc 0.9793 val_acc 0.6952\n",
            "loss 0.04934295569005902\n"
          ]
        },
        {
          "name": "stderr",
          "output_type": "stream",
          "text": [
            "epoch:  80%|████████  | 8/10 [52:07<12:59, 389.89s/it]"
          ]
        },
        {
          "name": "stdout",
          "output_type": "stream",
          "text": [
            "\n",
            "Epoch 008 train_loss: 0.0493   val_loss 1.5423 train_acc 0.9859 val_acc 0.7085\n",
            "loss 0.061785933308686286\n"
          ]
        },
        {
          "name": "stderr",
          "output_type": "stream",
          "text": [
            "epoch:  90%|█████████ | 9/10 [58:37<06:29, 389.76s/it]"
          ]
        },
        {
          "name": "stdout",
          "output_type": "stream",
          "text": [
            "\n",
            "Epoch 009 train_loss: 0.0618   val_loss 1.2658 train_acc 0.9820 val_acc 0.7113\n",
            "loss 0.038695256558275826\n"
          ]
        },
        {
          "name": "stderr",
          "output_type": "stream",
          "text": [
            "epoch: 100%|██████████| 10/10 [1:05:06<00:00, 390.62s/it]\n"
          ]
        },
        {
          "name": "stdout",
          "output_type": "stream",
          "text": [
            "\n",
            "Epoch 010 train_loss: 0.0387   val_loss 1.3960 train_acc 0.9883 val_acc 0.6831\n"
          ]
        },
        {
          "data": {
            "image/png": "[encoded data removed]",
            "text/plain": [
              "<Figure size 432x288 with 1 Axes>"
            ]
          },
          "metadata": {},
          "output_type": "display_data"
        }
      ]
    },
    {
      "cell_type": "code",
      "metadata": {
        "id": "LaaDr0ehBngN"
      },
      "source": [
        "res = make_prediction(save_name, model, test_files)\n",
        "res.to_csv('/content/drive/MyDrive/Diplom/vgg19_classic.csv', index = False)"
      ],
      "execution_count": null,
      "outputs": []
    },
    {
      "cell_type": "markdown",
      "metadata": {
        "id": "G51MjgyZOKFx"
      },
      "source": [
        "Kaggle score 1.01253"
      ]
    },
    {
      "cell_type": "markdown",
      "metadata": {
        "id": "JCdXeoeiEn3h"
      },
      "source": [
        "Сокращенный датасет"
      ]
    },
    {
      "cell_type": "code",
      "metadata": {
        "colab": {
          "base_uri": "https://localhost:8080/",
          "height": 927
        },
        "id": "jD0vtKFHBnik",
        "outputId": "a2f3f5ef-97c7-44f3-e9aa-28bbe49e1d98"
      },
      "source": [
        "save_name = '/content/DogsModelVGG19_short.pth'\n",
        "model = initialize_and_train_model(\"VGG19\", 120, 10, 32, train_dataset_short, val_dataset_short, save_name)"
      ],
      "execution_count": null,
      "outputs": [
        {
          "name": "stderr",
          "output_type": "stream",
          "text": [
            "\repoch:   0%|          | 0/10 [00:00<?, ?it/s]"
          ]
        },
        {
          "name": "stdout",
          "output_type": "stream",
          "text": [
            "loss 3.8740962798170036\n"
          ]
        },
        {
          "name": "stderr",
          "output_type": "stream",
          "text": [
            "epoch:  10%|█         | 1/10 [02:29<22:26, 149.58s/it]"
          ]
        },
        {
          "name": "stdout",
          "output_type": "stream",
          "text": [
            "Saved model with val acc 0.5751295336787564\n",
            "\n",
            "Epoch 001 train_loss: 3.8741   val_loss 1.6851 train_acc 0.1528 val_acc 0.5751\n",
            "loss 0.9609583027629931\n"
          ]
        },
        {
          "name": "stderr",
          "output_type": "stream",
          "text": [
            "epoch:  20%|██        | 2/10 [04:59<19:56, 149.58s/it]"
          ]
        },
        {
          "name": "stdout",
          "output_type": "stream",
          "text": [
            "Saved model with val acc 0.6290155440414508\n",
            "\n",
            "Epoch 002 train_loss: 0.9610   val_loss 1.2591 train_acc 0.7203 val_acc 0.6290\n",
            "loss 0.2730358802348911\n"
          ]
        },
        {
          "name": "stderr",
          "output_type": "stream",
          "text": [
            "epoch:  30%|███       | 3/10 [07:28<17:26, 149.47s/it]"
          ]
        },
        {
          "name": "stdout",
          "output_type": "stream",
          "text": [
            "Saved model with val acc 0.633160621761658\n",
            "\n",
            "Epoch 003 train_loss: 0.2730   val_loss 1.4563 train_acc 0.9149 val_acc 0.6332\n",
            "loss 0.13818103495475167\n"
          ]
        },
        {
          "name": "stderr",
          "output_type": "stream",
          "text": [
            "epoch:  40%|████      | 4/10 [09:56<14:52, 148.75s/it]"
          ]
        },
        {
          "name": "stdout",
          "output_type": "stream",
          "text": [
            "\n",
            "Epoch 004 train_loss: 0.1382   val_loss 1.5710 train_acc 0.9526 val_acc 0.6311\n",
            "loss 0.09652807029224365\n"
          ]
        },
        {
          "name": "stderr",
          "output_type": "stream",
          "text": [
            "epoch:  50%|█████     | 5/10 [12:26<12:26, 149.21s/it]"
          ]
        },
        {
          "name": "stdout",
          "output_type": "stream",
          "text": [
            "Saved model with val acc 0.6435233160621762\n",
            "\n",
            "Epoch 005 train_loss: 0.0965   val_loss 1.5842 train_acc 0.9710 val_acc 0.6435\n",
            "loss 0.06500994225250323\n"
          ]
        },
        {
          "name": "stderr",
          "output_type": "stream",
          "text": [
            "epoch:  60%|██████    | 6/10 [14:54<09:55, 148.93s/it]"
          ]
        },
        {
          "name": "stdout",
          "output_type": "stream",
          "text": [
            "\n",
            "Epoch 006 train_loss: 0.0650   val_loss 1.6031 train_acc 0.9844 val_acc 0.6352\n",
            "loss 0.08116701434728371\n"
          ]
        },
        {
          "name": "stderr",
          "output_type": "stream",
          "text": [
            "epoch:  70%|███████   | 7/10 [17:23<07:27, 149.05s/it]"
          ]
        },
        {
          "name": "stdout",
          "output_type": "stream",
          "text": [
            "Saved model with val acc 0.6445595854922279\n",
            "\n",
            "Epoch 007 train_loss: 0.0812   val_loss 1.5665 train_acc 0.9786 val_acc 0.6446\n",
            "loss 0.037964814326778715\n"
          ]
        },
        {
          "name": "stderr",
          "output_type": "stream",
          "text": [
            "epoch:  80%|████████  | 8/10 [19:51<04:57, 148.72s/it]"
          ]
        },
        {
          "name": "stdout",
          "output_type": "stream",
          "text": [
            "\n",
            "Epoch 008 train_loss: 0.0380   val_loss 1.9581 train_acc 0.9865 val_acc 0.6332\n",
            "loss 0.06254171668200845\n"
          ]
        },
        {
          "name": "stderr",
          "output_type": "stream",
          "text": [
            "epoch:  90%|█████████ | 9/10 [22:19<02:28, 148.30s/it]"
          ]
        },
        {
          "name": "stdout",
          "output_type": "stream",
          "text": [
            "\n",
            "Epoch 009 train_loss: 0.0625   val_loss 1.8447 train_acc 0.9848 val_acc 0.6176\n",
            "loss 0.07154710204784924\n"
          ]
        },
        {
          "name": "stderr",
          "output_type": "stream",
          "text": [
            "epoch: 100%|██████████| 10/10 [24:47<00:00, 148.71s/it]\n"
          ]
        },
        {
          "name": "stdout",
          "output_type": "stream",
          "text": [
            "\n",
            "Epoch 010 train_loss: 0.0715   val_loss 1.6388 train_acc 0.9803 val_acc 0.6228\n"
          ]
        },
        {
          "data": {
            "image/png": "[encoded data removed]",
            "text/plain": [
              "<Figure size 432x288 with 1 Axes>"
            ]
          },
          "metadata": {},
          "output_type": "display_data"
        }
      ]
    },
    {
      "cell_type": "code",
      "metadata": {
        "id": "KtBx_Qq-Bnk5"
      },
      "source": [
        "res = make_prediction(save_name, model, test_files)\n",
        "res.to_csv('/content/drive/MyDrive/Diplom/vgg19_classic_short.csv', index = False)"
      ],
      "execution_count": null,
      "outputs": []
    },
    {
      "cell_type": "markdown",
      "metadata": {
        "id": "XSPW-rWhOx0x"
      },
      "source": [
        "Kaggle score 1.47443"
      ]
    },
    {
      "cell_type": "markdown",
      "metadata": {
        "id": "hZ7salOLE7Ir"
      },
      "source": [
        "#DenseNet161"
      ]
    },
    {
      "cell_type": "code",
      "metadata": {
        "colab": {
          "base_uri": "https://localhost:8080/",
          "height": 993,
          "referenced_widgets": [
            "14149151d8314eb3a2c4d50f4fad6f10",
            "9e4e9fe667a94139b267da0f2fbb53a6",
            "ee53065c7fba48e58972589c147bbe49",
            "e9365da902b04b8a83ebcc22f7a5187d",
            "4b83e9c0ca6c492f85504d2df94c5644",
            "538089ef56fc4fc0b43c5dc820082d1e",
            "050c06a2e5e849049c403534dc6ca125",
            "4e470b4139014253bedfdd7ecbaab8e1",
            "d39356c1d4f0472e8cb4c9acbae4f1bd",
            "0d5437006428408cb71e9ce5c8120142",
            "0c2700904d564784ab45c6f29d0b0ea4"
          ]
        },
        "id": "amWuCog9FJsM",
        "outputId": "a0baf113-1ee4-414c-f9fb-4b0f98db3f51"
      },
      "source": [
        "save_name = '/content/DogsModelDenseNet161.pth'\n",
        "model = initialize_and_train_model(\"DenseNet161\", 120, 10, 32, train_dataset, val_dataset, save_name)"
      ],
      "execution_count": null,
      "outputs": [
        {
          "name": "stderr",
          "output_type": "stream",
          "text": [
            "Downloading: \"https://download.pytorch.org/models/densenet161-8d451a50.pth\" to /root/.cache/torch/hub/checkpoints/densenet161-8d451a50.pth\n"
          ]
        },
        {
          "data": {
            "application/vnd.jupyter.widget-view+json": {
              "model_id": "14149151d8314eb3a2c4d50f4fad6f10",
              "version_major": 2,
              "version_minor": 0
            },
            "text/plain": [
              "  0%|          | 0.00/110M [00:00<?, ?B/s]"
            ]
          },
          "metadata": {},
          "output_type": "display_data"
        },
        {
          "name": "stderr",
          "output_type": "stream",
          "text": [
            "\repoch:   0%|          | 0/10 [00:00<?, ?it/s]"
          ]
        },
        {
          "name": "stdout",
          "output_type": "stream",
          "text": [
            "loss 4.156004593511055\n"
          ]
        },
        {
          "name": "stderr",
          "output_type": "stream",
          "text": [
            "epoch:  10%|█         | 1/10 [08:27<1:16:05, 507.25s/it]"
          ]
        },
        {
          "name": "stdout",
          "output_type": "stream",
          "text": [
            "Saved model with val acc 0.5755086071987481\n",
            "\n",
            "Epoch 001 train_loss: 4.1560   val_loss 3.3043 train_acc 0.1782 val_acc 0.5755\n",
            "loss 1.364111049318948\n"
          ]
        },
        {
          "name": "stderr",
          "output_type": "stream",
          "text": [
            "epoch:  20%|██        | 2/10 [16:49<1:07:14, 504.31s/it]"
          ]
        },
        {
          "name": "stdout",
          "output_type": "stream",
          "text": [
            "Saved model with val acc 0.6709702660406885\n",
            "\n",
            "Epoch 002 train_loss: 1.3641   val_loss 1.1293 train_acc 0.6364 val_acc 0.6710\n",
            "loss 0.59138079997985\n"
          ]
        },
        {
          "name": "stderr",
          "output_type": "stream",
          "text": [
            "epoch:  30%|███       | 3/10 [25:11<58:42, 503.17s/it]"
          ]
        },
        {
          "name": "stdout",
          "output_type": "stream",
          "text": [
            "Saved model with val acc 0.729264475743349\n",
            "\n",
            "Epoch 003 train_loss: 0.5914   val_loss 0.9579 train_acc 0.8162 val_acc 0.7293\n",
            "loss 0.32160586332515984\n"
          ]
        },
        {
          "name": "stderr",
          "output_type": "stream",
          "text": [
            "epoch:  40%|████      | 4/10 [33:32<50:14, 502.43s/it]"
          ]
        },
        {
          "name": "stdout",
          "output_type": "stream",
          "text": [
            "Saved model with val acc 0.7562597809076682\n",
            "\n",
            "Epoch 004 train_loss: 0.3216   val_loss 0.9173 train_acc 0.8954 val_acc 0.7563\n",
            "loss 0.20686723069892116\n"
          ]
        },
        {
          "name": "stderr",
          "output_type": "stream",
          "text": [
            "epoch:  50%|█████     | 5/10 [41:54<41:50, 502.09s/it]"
          ]
        },
        {
          "name": "stdout",
          "output_type": "stream",
          "text": [
            "\n",
            "Epoch 005 train_loss: 0.2069   val_loss 0.9202 train_acc 0.9344 val_acc 0.7523\n",
            "loss 0.14017195856169998\n"
          ]
        },
        {
          "name": "stderr",
          "output_type": "stream",
          "text": [
            "epoch:  60%|██████    | 6/10 [50:16<33:28, 502.12s/it]"
          ]
        },
        {
          "name": "stdout",
          "output_type": "stream",
          "text": [
            "Saved model with val acc 0.7711267605633803\n",
            "\n",
            "Epoch 006 train_loss: 0.1402   val_loss 0.9938 train_acc 0.9567 val_acc 0.7711\n",
            "loss 0.09319401559454675\n"
          ]
        },
        {
          "name": "stderr",
          "output_type": "stream",
          "text": [
            "epoch:  70%|███████   | 7/10 [58:37<25:05, 501.97s/it]"
          ]
        },
        {
          "name": "stdout",
          "output_type": "stream",
          "text": [
            "\n",
            "Epoch 007 train_loss: 0.0932   val_loss 0.9691 train_acc 0.9712 val_acc 0.7711\n",
            "loss 0.0722162292605937\n"
          ]
        },
        {
          "name": "stderr",
          "output_type": "stream",
          "text": [
            "epoch:  80%|████████  | 8/10 [1:07:00<16:44, 502.16s/it]"
          ]
        },
        {
          "name": "stdout",
          "output_type": "stream",
          "text": [
            "Saved model with val acc 0.7773865414710486\n",
            "\n",
            "Epoch 008 train_loss: 0.0722   val_loss 0.9535 train_acc 0.9785 val_acc 0.7774\n",
            "loss 0.06104399658012586\n"
          ]
        },
        {
          "name": "stderr",
          "output_type": "stream",
          "text": [
            "epoch:  90%|█████████ | 9/10 [1:15:22<08:22, 502.10s/it]"
          ]
        },
        {
          "name": "stdout",
          "output_type": "stream",
          "text": [
            "\n",
            "Epoch 009 train_loss: 0.0610   val_loss 0.9972 train_acc 0.9819 val_acc 0.7649\n",
            "loss 0.0493857005118795\n"
          ]
        },
        {
          "name": "stderr",
          "output_type": "stream",
          "text": [
            "epoch: 100%|██████████| 10/10 [1:23:43<00:00, 502.32s/it]\n"
          ]
        },
        {
          "name": "stdout",
          "output_type": "stream",
          "text": [
            "\n",
            "Epoch 010 train_loss: 0.0494   val_loss 1.1338 train_acc 0.9857 val_acc 0.7606\n"
          ]
        },
        {
          "data": {
            "image/png": "[encoded data removed]",
            "text/plain": [
              "<Figure size 432x288 with 1 Axes>"
            ]
          },
          "metadata": {},
          "output_type": "display_data"
        }
      ]
    },
    {
      "cell_type": "code",
      "metadata": {
        "id": "LVJVcnqIFJxq"
      },
      "source": [
        "res = make_prediction(save_name, model, test_files)\n",
        "res.to_csv('/content/drive/MyDrive/Diplom/densenet161_classic.csv', index = False)"
      ],
      "execution_count": null,
      "outputs": []
    },
    {
      "cell_type": "markdown",
      "metadata": {
        "id": "npH_mMGwPe32"
      },
      "source": [
        "Kaggle score 1.01522"
      ]
    },
    {
      "cell_type": "markdown",
      "metadata": {
        "id": "3arQrGcbFKHV"
      },
      "source": [
        "Сокращенный датасет"
      ]
    },
    {
      "cell_type": "code",
      "metadata": {
        "colab": {
          "base_uri": "https://localhost:8080/",
          "height": 961
        },
        "id": "NAdYqUj7E5Hf",
        "outputId": "fd2407d1-e3be-466e-a903-866483193ae0"
      },
      "source": [
        "save_name = '/content/DogsModelDenseNet161_short.pth'\n",
        "model = initialize_and_train_model(\"DenseNet161\", 120, 10, 32, train_dataset_short, val_dataset_short, save_name)"
      ],
      "execution_count": null,
      "outputs": [
        {
          "name": "stderr",
          "output_type": "stream",
          "text": [
            "\repoch:   0%|          | 0/10 [00:00<?, ?it/s]"
          ]
        },
        {
          "name": "stdout",
          "output_type": "stream",
          "text": [
            "loss 4.584133253057963\n"
          ]
        },
        {
          "name": "stderr",
          "output_type": "stream",
          "text": [
            "epoch:  10%|█         | 1/10 [03:12<28:49, 192.15s/it]"
          ]
        },
        {
          "name": "stdout",
          "output_type": "stream",
          "text": [
            "Saved model with val acc 0.24974093264248703\n",
            "\n",
            "Epoch 001 train_loss: 4.5841   val_loss 4.0511 train_acc 0.0474 val_acc 0.2497\n",
            "loss 2.2783268594478012\n"
          ]
        },
        {
          "name": "stderr",
          "output_type": "stream",
          "text": [
            "epoch:  20%|██        | 2/10 [06:22<25:29, 191.18s/it]"
          ]
        },
        {
          "name": "stdout",
          "output_type": "stream",
          "text": [
            "Saved model with val acc 0.5222797927461139\n",
            "\n",
            "Epoch 002 train_loss: 2.2783   val_loss 1.8245 train_acc 0.4530 val_acc 0.5223\n",
            "loss 0.821021916790457\n"
          ]
        },
        {
          "name": "stderr",
          "output_type": "stream",
          "text": [
            "epoch:  30%|███       | 3/10 [09:33<22:15, 190.81s/it]"
          ]
        },
        {
          "name": "stdout",
          "output_type": "stream",
          "text": [
            "Saved model with val acc 0.6093264248704663\n",
            "\n",
            "Epoch 003 train_loss: 0.8210   val_loss 1.5254 train_acc 0.7600 val_acc 0.6093\n",
            "loss 0.3576802978212243\n"
          ]
        },
        {
          "name": "stderr",
          "output_type": "stream",
          "text": [
            "epoch:  40%|████      | 4/10 [12:43<19:03, 190.63s/it]"
          ]
        },
        {
          "name": "stdout",
          "output_type": "stream",
          "text": [
            "Saved model with val acc 0.6207253886010362\n",
            "\n",
            "Epoch 004 train_loss: 0.3577   val_loss 1.4964 train_acc 0.8897 val_acc 0.6207\n",
            "loss 0.17692395529476604\n"
          ]
        },
        {
          "name": "stderr",
          "output_type": "stream",
          "text": [
            "epoch:  50%|█████     | 5/10 [15:53<15:52, 190.42s/it]"
          ]
        },
        {
          "name": "stdout",
          "output_type": "stream",
          "text": [
            "\n",
            "Epoch 005 train_loss: 0.1769   val_loss 1.5428 train_acc 0.9454 val_acc 0.6104\n",
            "loss 0.14032987741184103\n"
          ]
        },
        {
          "name": "stderr",
          "output_type": "stream",
          "text": [
            "epoch:  60%|██████    | 6/10 [19:03<12:41, 190.41s/it]"
          ]
        },
        {
          "name": "stdout",
          "output_type": "stream",
          "text": [
            "Saved model with val acc 0.6352331606217616\n",
            "\n",
            "Epoch 006 train_loss: 0.1403   val_loss 1.4663 train_acc 0.9599 val_acc 0.6352\n",
            "loss 0.08264192554424742\n"
          ]
        },
        {
          "name": "stderr",
          "output_type": "stream",
          "text": [
            "epoch:  70%|███████   | 7/10 [22:13<09:30, 190.30s/it]"
          ]
        },
        {
          "name": "stdout",
          "output_type": "stream",
          "text": [
            "\n",
            "Epoch 007 train_loss: 0.0826   val_loss 1.4442 train_acc 0.9765 val_acc 0.6352\n",
            "loss 0.08063194517981401\n"
          ]
        },
        {
          "name": "stderr",
          "output_type": "stream",
          "text": [
            "epoch:  80%|████████  | 8/10 [25:24<06:20, 190.26s/it]"
          ]
        },
        {
          "name": "stdout",
          "output_type": "stream",
          "text": [
            "Saved model with val acc 0.6373056994818652\n",
            "\n",
            "Epoch 008 train_loss: 0.0806   val_loss 1.5528 train_acc 0.9775 val_acc 0.6373\n",
            "loss 0.061909157983742316\n"
          ]
        },
        {
          "name": "stderr",
          "output_type": "stream",
          "text": [
            "epoch:  90%|█████████ | 9/10 [28:34<03:10, 190.17s/it]"
          ]
        },
        {
          "name": "stdout",
          "output_type": "stream",
          "text": [
            "\n",
            "Epoch 009 train_loss: 0.0619   val_loss 1.6586 train_acc 0.9844 val_acc 0.6269\n",
            "loss 0.06100440543933281\n"
          ]
        },
        {
          "name": "stderr",
          "output_type": "stream",
          "text": [
            "epoch: 100%|██████████| 10/10 [31:44<00:00, 190.43s/it]"
          ]
        },
        {
          "name": "stdout",
          "output_type": "stream",
          "text": [
            "Saved model with val acc 0.6704663212435232\n",
            "\n",
            "Epoch 010 train_loss: 0.0610   val_loss 1.4667 train_acc 0.9844 val_acc 0.6705\n"
          ]
        },
        {
          "name": "stderr",
          "output_type": "stream",
          "text": [
            "\n"
          ]
        },
        {
          "data": {
            "image/png": "[encoded data removed]",
            "text/plain": [
              "<Figure size 432x288 with 1 Axes>"
            ]
          },
          "metadata": {},
          "output_type": "display_data"
        }
      ]
    },
    {
      "cell_type": "code",
      "metadata": {
        "id": "dp9M8bAcE5Nu"
      },
      "source": [
        "res = make_prediction(save_name, model, test_files)\n",
        "res.to_csv('/content/drive/MyDrive/Diplom/densenet161_classic_short.csv', index = False)"
      ],
      "execution_count": null,
      "outputs": []
    },
    {
      "cell_type": "markdown",
      "metadata": {
        "id": "JyA8ljy9POk2"
      },
      "source": [
        "Kaggle score 1.46973"
      ]
    },
    {
      "cell_type": "markdown",
      "metadata": {
        "id": "9wi2Bz0dFyC1"
      },
      "source": [
        "#EfficientNet B6"
      ]
    },
    {
      "cell_type": "code",
      "metadata": {
        "colab": {
          "base_uri": "https://localhost:8080/",
          "height": 1000,
          "referenced_widgets": [
            "a464839cd4a4458aa58aa320d1b623eb",
            "dc869b9a960f4fb892493445fc963b82",
            "4e3b0f1f611d4fe88ed0d5a9690eb03c",
            "49eb9532995844d3b57269275619550f",
            "5a9469d39f28457b9320034a2770674f",
            "4477eadff14b43ea9e4b1ab8b260b433",
            "65670518067e480fb32ec0b1def92eac",
            "fc90f8b3a97045c9b3b6e219d23caefb",
            "d84cde1a58eb426d8867c9767ad87dad",
            "a7fef194cbf548389474f336a984204a",
            "a4c4162454184cbf89392fdeadf1f469"
          ]
        },
        "id": "5VOpT_bOFcaY",
        "outputId": "0a3c6ddc-fa7a-4387-e5e8-10ff49340816"
      },
      "source": [
        "save_name = '/content/EfficientNetB6.pth'\n",
        "model = initialize_and_train_model(\"EfficientNet\", 120, 10, 16, train_dataset, val_dataset, save_name)"
      ],
      "execution_count": null,
      "outputs": [
        {
          "output_type": "stream",
          "name": "stderr",
          "text": [
            "Downloading: \"https://github.com/lukemelas/EfficientNet-PyTorch/releases/download/1.0/efficientnet-b6-c76e70fd.pth\" to /root/.cache/torch/hub/checkpoints/efficientnet-b6-c76e70fd.pth\n"
          ]
        },
        {
          "output_type": "display_data",
          "data": {
            "application/vnd.jupyter.widget-view+json": {
              "model_id": "a464839cd4a4458aa58aa320d1b623eb",
              "version_minor": 0,
              "version_major": 2
            },
            "text/plain": [
              "  0%|          | 0.00/165M [00:00<?, ?B/s]"
            ]
          },
          "metadata": {}
        },
        {
          "output_type": "stream",
          "name": "stdout",
          "text": [
            "Loaded pretrained weights for efficientnet-b6\n"
          ]
        },
        {
          "output_type": "stream",
          "name": "stderr",
          "text": [
            "\repoch:   0%|          | 0/10 [00:00<?, ?it/s]"
          ]
        },
        {
          "output_type": "stream",
          "name": "stdout",
          "text": [
            "loss 4.296197760487672\n"
          ]
        },
        {
          "output_type": "stream",
          "name": "stderr",
          "text": [
            "epoch:  10%|█         | 1/10 [12:46<1:54:59, 766.62s/it]"
          ]
        },
        {
          "output_type": "stream",
          "name": "stdout",
          "text": [
            "Saved model with val acc 0.6091549295774648\n",
            "\n",
            "Epoch 001 train_loss: 4.2962   val_loss 3.2041 train_acc 0.1971 val_acc 0.6092\n",
            "loss 0.8221543741123564\n"
          ]
        },
        {
          "output_type": "stream",
          "name": "stderr",
          "text": [
            "epoch:  20%|██        | 2/10 [25:22<1:41:23, 760.39s/it]"
          ]
        },
        {
          "output_type": "stream",
          "name": "stdout",
          "text": [
            "Saved model with val acc 0.8071205007824727\n",
            "\n",
            "Epoch 002 train_loss: 0.8222   val_loss 0.6476 train_acc 0.7653 val_acc 0.8071\n",
            "loss 0.21094148570684798\n"
          ]
        },
        {
          "output_type": "stream",
          "name": "stderr",
          "text": [
            "epoch:  30%|███       | 3/10 [37:58<1:28:27, 758.18s/it]"
          ]
        },
        {
          "output_type": "stream",
          "name": "stdout",
          "text": [
            "\n",
            "Epoch 003 train_loss: 0.2109   val_loss 0.7455 train_acc 0.9311 val_acc 0.7969\n",
            "loss 0.07672819297674711\n"
          ]
        },
        {
          "output_type": "stream",
          "name": "stderr",
          "text": [
            "epoch:  40%|████      | 4/10 [50:33<1:15:42, 757.07s/it]"
          ]
        },
        {
          "output_type": "stream",
          "name": "stdout",
          "text": [
            "Saved model with val acc 0.8082942097026604\n",
            "\n",
            "Epoch 004 train_loss: 0.0767   val_loss 0.7216 train_acc 0.9760 val_acc 0.8083\n",
            "loss 0.03562672033060066\n"
          ]
        },
        {
          "output_type": "stream",
          "name": "stderr",
          "text": [
            "epoch:  50%|█████     | 5/10 [1:03:14<1:03:12, 758.50s/it]"
          ]
        },
        {
          "output_type": "stream",
          "name": "stdout",
          "text": [
            "Saved model with val acc 0.8133802816901409\n",
            "\n",
            "Epoch 005 train_loss: 0.0356   val_loss 0.8160 train_acc 0.9905 val_acc 0.8134\n",
            "loss 0.02328825906813101\n"
          ]
        },
        {
          "output_type": "stream",
          "name": "stderr",
          "text": [
            "epoch:  60%|██████    | 6/10 [1:15:54<50:35, 758.81s/it]"
          ]
        },
        {
          "output_type": "stream",
          "name": "stdout",
          "text": [
            "\n",
            "Epoch 006 train_loss: 0.0233   val_loss 0.8813 train_acc 0.9936 val_acc 0.8016\n",
            "loss 0.014728844599208379\n"
          ]
        },
        {
          "output_type": "stream",
          "name": "stderr",
          "text": [
            "epoch:  70%|███████   | 7/10 [1:28:37<38:01, 760.37s/it]"
          ]
        },
        {
          "output_type": "stream",
          "name": "stdout",
          "text": [
            "Saved model with val acc 0.8227699530516432\n",
            "\n",
            "Epoch 007 train_loss: 0.0147   val_loss 0.8565 train_acc 0.9963 val_acc 0.8228\n",
            "loss 0.005929594720525823\n"
          ]
        },
        {
          "output_type": "stream",
          "name": "stderr",
          "text": [
            "epoch:  80%|████████  | 8/10 [1:41:23<25:24, 762.03s/it]"
          ]
        },
        {
          "output_type": "stream",
          "name": "stdout",
          "text": [
            "Saved model with val acc 0.8321596244131455\n",
            "\n",
            "Epoch 008 train_loss: 0.0059   val_loss 0.8477 train_acc 0.9979 val_acc 0.8322\n",
            "loss 0.0030316889565674934\n"
          ]
        },
        {
          "output_type": "stream",
          "name": "stderr",
          "text": [
            "epoch:  90%|█████████ | 9/10 [1:54:08<12:43, 763.15s/it]"
          ]
        },
        {
          "output_type": "stream",
          "name": "stdout",
          "text": [
            "\n",
            "Epoch 009 train_loss: 0.0030   val_loss 0.8830 train_acc 0.9986 val_acc 0.8318\n",
            "loss 0.00258760298517014\n"
          ]
        },
        {
          "output_type": "stream",
          "name": "stderr",
          "text": [
            "epoch: 100%|██████████| 10/10 [2:06:55<00:00, 761.52s/it]"
          ]
        },
        {
          "output_type": "stream",
          "name": "stdout",
          "text": [
            "Saved model with val acc 0.8337245696400626\n",
            "\n",
            "Epoch 010 train_loss: 0.0026   val_loss 0.8949 train_acc 0.9988 val_acc 0.8337\n"
          ]
        },
        {
          "output_type": "stream",
          "name": "stderr",
          "text": [
            "\n"
          ]
        },
        {
          "output_type": "display_data",
          "data": {
            "image/png": "[encoded data removed]",
            "text/plain": [
              "<Figure size 432x288 with 1 Axes>"
            ]
          },
          "metadata": {
            "needs_background": "light"
          }
        }
      ]
    },
    {
      "cell_type": "code",
      "metadata": {
        "id": "s4FdfmcjFcdQ"
      },
      "source": [
        "res = make_prediction(save_name, model, test_files)\n",
        "res.to_csv('/content/drive/MyDrive/Diplom/effnet_classic.csv', index = False)"
      ],
      "execution_count": null,
      "outputs": []
    },
    {
      "cell_type": "markdown",
      "metadata": {
        "id": "6mtKEyG2LbTE"
      },
      "source": [
        "Kaggle score 0.84965"
      ]
    },
    {
      "cell_type": "markdown",
      "metadata": {
        "id": "AgpAuGyqGQ9q"
      },
      "source": [
        "Сокращенный датасет"
      ]
    },
    {
      "cell_type": "code",
      "metadata": {
        "id": "kofRPJZrBnm_",
        "colab": {
          "base_uri": "https://localhost:8080/",
          "height": 1000,
          "referenced_widgets": [
            "86a0739424d449c186729c8a1d52a2e6",
            "6bba6f3b25b54c739776f45019de1507",
            "ba3cbc9e8f154298b9f39e3e9de5d1c8",
            "fcf3608a26d640038daad5efc5c27aab",
            "ed82eec6acda4960a750e98a1ac1a8e2",
            "5a689d56acb64805a55213567a2a4180",
            "0f042a5d4e4a49b1afeb7a419ae5894f",
            "2522e818d127478482b67d0fece8f788",
            "e8b0e73fff374e538ed2a7ce403fd170",
            "79612e5201e64265aeba8d2b8b5ee1db",
            "f3be4ae8674a4b6aa9406b0c2baf0efd"
          ]
        },
        "outputId": "5532d21d-e4ee-4c33-8195-cc31bce02761"
      },
      "source": [
        "save_name = '/content/EfficientNetB6_short.pth'\n",
        "model = initialize_and_train_model(\"EfficientNet\", 120, 10, 16, train_dataset_short, val_dataset_short, save_name)"
      ],
      "execution_count": 11,
      "outputs": [
        {
          "output_type": "stream",
          "name": "stderr",
          "text": [
            "Downloading: \"https://github.com/lukemelas/EfficientNet-PyTorch/releases/download/1.0/efficientnet-b6-c76e70fd.pth\" to /root/.cache/torch/hub/checkpoints/efficientnet-b6-c76e70fd.pth\n"
          ]
        },
        {
          "output_type": "display_data",
          "data": {
            "application/vnd.jupyter.widget-view+json": {
              "model_id": "86a0739424d449c186729c8a1d52a2e6",
              "version_minor": 0,
              "version_major": 2
            },
            "text/plain": [
              "  0%|          | 0.00/165M [00:00<?, ?B/s]"
            ]
          },
          "metadata": {}
        },
        {
          "output_type": "stream",
          "name": "stdout",
          "text": [
            "Loaded pretrained weights for efficientnet-b6\n"
          ]
        },
        {
          "output_type": "stream",
          "name": "stderr",
          "text": [
            "\repoch:   0%|          | 0/10 [00:00<?, ?it/s]"
          ]
        },
        {
          "output_type": "stream",
          "name": "stdout",
          "text": [
            "loss 4.715212914953588\n"
          ]
        },
        {
          "output_type": "stream",
          "name": "stderr",
          "text": [
            "epoch:  10%|█         | 1/10 [04:48<43:19, 288.84s/it]"
          ]
        },
        {
          "output_type": "stream",
          "name": "stdout",
          "text": [
            "Saved model with val acc 0.32642487046632124\n",
            "\n",
            "Epoch 001 train_loss: 4.7152   val_loss 4.5577 train_acc 0.0477 val_acc 0.3264\n",
            "loss 2.3039251697013983\n"
          ]
        },
        {
          "output_type": "stream",
          "name": "stderr",
          "text": [
            "epoch:  20%|██        | 2/10 [09:35<38:19, 287.44s/it]"
          ]
        },
        {
          "output_type": "stream",
          "name": "stdout",
          "text": [
            "Saved model with val acc 0.7471502590673574\n",
            "\n",
            "Epoch 002 train_loss: 2.3039   val_loss 0.8865 train_acc 0.5737 val_acc 0.7472\n",
            "loss 0.38215852155766217\n"
          ]
        },
        {
          "output_type": "stream",
          "name": "stderr",
          "text": [
            "epoch:  30%|███       | 3/10 [14:20<33:23, 286.26s/it]"
          ]
        },
        {
          "output_type": "stream",
          "name": "stdout",
          "text": [
            "Saved model with val acc 0.7854922279792745\n",
            "\n",
            "Epoch 003 train_loss: 0.3822   val_loss 0.7881 train_acc 0.8880 val_acc 0.7855\n",
            "loss 0.09097168363957958\n"
          ]
        },
        {
          "output_type": "stream",
          "name": "stderr",
          "text": [
            "epoch:  40%|████      | 4/10 [19:04<28:32, 285.37s/it]"
          ]
        },
        {
          "output_type": "stream",
          "name": "stdout",
          "text": [
            "\n",
            "Epoch 004 train_loss: 0.0910   val_loss 0.8694 train_acc 0.9706 val_acc 0.7668\n",
            "loss 0.03625929004604185\n"
          ]
        },
        {
          "output_type": "stream",
          "name": "stderr",
          "text": [
            "epoch:  50%|█████     | 5/10 [23:48<23:45, 285.12s/it]"
          ]
        },
        {
          "output_type": "stream",
          "name": "stdout",
          "text": [
            "Saved model with val acc 0.7958549222797927\n",
            "\n",
            "Epoch 005 train_loss: 0.0363   val_loss 0.8180 train_acc 0.9910 val_acc 0.7959\n",
            "loss 0.02235578920339256\n"
          ]
        },
        {
          "output_type": "stream",
          "name": "stderr",
          "text": [
            "epoch:  60%|██████    | 6/10 [28:33<18:59, 284.91s/it]"
          ]
        },
        {
          "output_type": "stream",
          "name": "stdout",
          "text": [
            "Saved model with val acc 0.7968911917098446\n",
            "\n",
            "Epoch 006 train_loss: 0.0224   val_loss 0.8601 train_acc 0.9959 val_acc 0.7969\n",
            "loss 0.004416303395971212\n"
          ]
        },
        {
          "output_type": "stream",
          "name": "stderr",
          "text": [
            "epoch:  70%|███████   | 7/10 [33:18<14:14, 284.92s/it]"
          ]
        },
        {
          "output_type": "stream",
          "name": "stdout",
          "text": [
            "Saved model with val acc 0.8113989637305699\n",
            "\n",
            "Epoch 007 train_loss: 0.0044   val_loss 0.8168 train_acc 0.9997 val_acc 0.8114\n",
            "loss 0.0008986988229668064\n"
          ]
        },
        {
          "output_type": "stream",
          "name": "stderr",
          "text": [
            "epoch:  80%|████████  | 8/10 [38:03<09:29, 284.91s/it]"
          ]
        },
        {
          "output_type": "stream",
          "name": "stdout",
          "text": [
            "Saved model with val acc 0.8165803108808289\n",
            "\n",
            "Epoch 008 train_loss: 0.0009   val_loss 0.8464 train_acc 1.0000 val_acc 0.8166\n",
            "loss 0.000520082407442268\n"
          ]
        },
        {
          "output_type": "stream",
          "name": "stderr",
          "text": [
            "epoch:  90%|█████████ | 9/10 [42:47<04:44, 284.72s/it]"
          ]
        },
        {
          "output_type": "stream",
          "name": "stdout",
          "text": [
            "\n",
            "Epoch 009 train_loss: 0.0005   val_loss 0.8686 train_acc 1.0000 val_acc 0.8135\n",
            "loss 0.00037206421804454636\n"
          ]
        },
        {
          "output_type": "stream",
          "name": "stderr",
          "text": [
            "epoch: 100%|██████████| 10/10 [47:32<00:00, 285.22s/it]\n"
          ]
        },
        {
          "output_type": "stream",
          "name": "stdout",
          "text": [
            "\n",
            "Epoch 010 train_loss: 0.0004   val_loss 0.8868 train_acc 1.0000 val_acc 0.8124\n"
          ]
        },
        {
          "output_type": "display_data",
          "data": {
            "image/png": "[encoded data removed]",
            "text/plain": [
              "<Figure size 432x288 with 1 Axes>"
            ]
          },
          "metadata": {
            "needs_background": "light"
          }
        }
      ]
    },
    {
      "cell_type": "code",
      "metadata": {
        "id": "yCNNZ0OkBnpY"
      },
      "source": [
        "res = make_prediction(save_name, model, test_files)\n",
        "res.to_csv('/content/drive/MyDrive/Diplom/effnet_classic_short.csv', index = False)"
      ],
      "execution_count": 12,
      "outputs": []
    },
    {
      "cell_type": "markdown",
      "metadata": {
        "id": "f_lJ2_6VLjTg"
      },
      "source": [
        "Kaggle score 0.86976"
      ]
    },
    {
      "cell_type": "code",
      "metadata": {
        "id": "JByk8WsvGWS7"
      },
      "source": [
        ""
      ],
      "execution_count": null,
      "outputs": []
    },
    {
      "cell_type": "code",
      "metadata": {
        "id": "stZht60YKVHA"
      },
      "source": [
        ""
      ],
      "execution_count": null,
      "outputs": []
    },
    {
      "cell_type": "code",
      "metadata": {
        "id": "95JgxhvuKVJ4"
      },
      "source": [
        ""
      ],
      "execution_count": null,
      "outputs": []
    },
    {
      "cell_type": "code",
      "metadata": {
        "id": "Ow66SOjgKVNr"
      },
      "source": [
        ""
      ],
      "execution_count": null,
      "outputs": []
    },
    {
      "cell_type": "code",
      "metadata": {
        "id": "ughE9DL0GWV5"
      },
      "source": [
        ""
      ],
      "execution_count": null,
      "outputs": []
    }
  ]
}