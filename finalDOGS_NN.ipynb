{
  "nbformat": 4,
  "nbformat_minor": 0,
  "metadata": {
    "colab": {
      "name": "finalDOGS_NN.ipynb",
      "provenance": [],
      "collapsed_sections": [],
      "toc_visible": true
    },
    "kernelspec": {
      "name": "python3",
      "display_name": "Python 3"
    },
    "accelerator": "GPU",
    "widgets": {
      "application/vnd.jupyter.widget-state+json": {
        "3f9cea48785b46f29695b2a2376419c0": {
          "model_module": "@jupyter-widgets/controls",
          "model_name": "HBoxModel",
          "state": {
            "_view_name": "HBoxView",
            "_dom_classes": [],
            "_model_name": "HBoxModel",
            "_view_module": "@jupyter-widgets/controls",
            "_model_module_version": "1.5.0",
            "_view_count": null,
            "_view_module_version": "1.5.0",
            "box_style": "",
            "layout": "IPY_MODEL_c4bed9d4c36d4a9d84308f2f357b0bc4",
            "_model_module": "@jupyter-widgets/controls",
            "children": [
              "IPY_MODEL_162c41feb59949ceb70980ee6d50f326",
              "IPY_MODEL_d76af545c9a34b1b8b616dd903111cba"
            ]
          }
        },
        "c4bed9d4c36d4a9d84308f2f357b0bc4": {
          "model_module": "@jupyter-widgets/base",
          "model_name": "LayoutModel",
          "state": {
            "_view_name": "LayoutView",
            "grid_template_rows": null,
            "right": null,
            "justify_content": null,
            "_view_module": "@jupyter-widgets/base",
            "overflow": null,
            "_model_module_version": "1.2.0",
            "_view_count": null,
            "flex_flow": null,
            "width": null,
            "min_width": null,
            "border": null,
            "align_items": null,
            "bottom": null,
            "_model_module": "@jupyter-widgets/base",
            "top": null,
            "grid_column": null,
            "overflow_y": null,
            "overflow_x": null,
            "grid_auto_flow": null,
            "grid_area": null,
            "grid_template_columns": null,
            "flex": null,
            "_model_name": "LayoutModel",
            "justify_items": null,
            "grid_row": null,
            "max_height": null,
            "align_content": null,
            "visibility": null,
            "align_self": null,
            "height": null,
            "min_height": null,
            "padding": null,
            "grid_auto_rows": null,
            "grid_gap": null,
            "max_width": null,
            "order": null,
            "_view_module_version": "1.2.0",
            "grid_template_areas": null,
            "object_position": null,
            "object_fit": null,
            "grid_auto_columns": null,
            "margin": null,
            "display": null,
            "left": null
          }
        },
        "162c41feb59949ceb70980ee6d50f326": {
          "model_module": "@jupyter-widgets/controls",
          "model_name": "FloatProgressModel",
          "state": {
            "_view_name": "ProgressView",
            "style": "IPY_MODEL_01a0fcbf49304fc79934f441f2f45ae1",
            "_dom_classes": [],
            "description": "100%",
            "_model_name": "FloatProgressModel",
            "bar_style": "success",
            "max": 574673361,
            "_view_module": "@jupyter-widgets/controls",
            "_model_module_version": "1.5.0",
            "value": 574673361,
            "_view_count": null,
            "_view_module_version": "1.5.0",
            "orientation": "horizontal",
            "min": 0,
            "description_tooltip": null,
            "_model_module": "@jupyter-widgets/controls",
            "layout": "IPY_MODEL_b270006874d94468bac67c3c7c8da3fe"
          }
        },
        "d76af545c9a34b1b8b616dd903111cba": {
          "model_module": "@jupyter-widgets/controls",
          "model_name": "HTMLModel",
          "state": {
            "_view_name": "HTMLView",
            "style": "IPY_MODEL_5a0306c5b9364b15b328e623680dab14",
            "_dom_classes": [],
            "description": "",
            "_model_name": "HTMLModel",
            "placeholder": "​",
            "_view_module": "@jupyter-widgets/controls",
            "_model_module_version": "1.5.0",
            "value": " 548M/548M [00:04&lt;00:00, 133MB/s]",
            "_view_count": null,
            "_view_module_version": "1.5.0",
            "description_tooltip": null,
            "_model_module": "@jupyter-widgets/controls",
            "layout": "IPY_MODEL_6ca2579fc8004c01946ceaaf48c1d0aa"
          }
        },
        "01a0fcbf49304fc79934f441f2f45ae1": {
          "model_module": "@jupyter-widgets/controls",
          "model_name": "ProgressStyleModel",
          "state": {
            "_view_name": "StyleView",
            "_model_name": "ProgressStyleModel",
            "description_width": "initial",
            "_view_module": "@jupyter-widgets/base",
            "_model_module_version": "1.5.0",
            "_view_count": null,
            "_view_module_version": "1.2.0",
            "bar_color": null,
            "_model_module": "@jupyter-widgets/controls"
          }
        },
        "b270006874d94468bac67c3c7c8da3fe": {
          "model_module": "@jupyter-widgets/base",
          "model_name": "LayoutModel",
          "state": {
            "_view_name": "LayoutView",
            "grid_template_rows": null,
            "right": null,
            "justify_content": null,
            "_view_module": "@jupyter-widgets/base",
            "overflow": null,
            "_model_module_version": "1.2.0",
            "_view_count": null,
            "flex_flow": null,
            "width": null,
            "min_width": null,
            "border": null,
            "align_items": null,
            "bottom": null,
            "_model_module": "@jupyter-widgets/base",
            "top": null,
            "grid_column": null,
            "overflow_y": null,
            "overflow_x": null,
            "grid_auto_flow": null,
            "grid_area": null,
            "grid_template_columns": null,
            "flex": null,
            "_model_name": "LayoutModel",
            "justify_items": null,
            "grid_row": null,
            "max_height": null,
            "align_content": null,
            "visibility": null,
            "align_self": null,
            "height": null,
            "min_height": null,
            "padding": null,
            "grid_auto_rows": null,
            "grid_gap": null,
            "max_width": null,
            "order": null,
            "_view_module_version": "1.2.0",
            "grid_template_areas": null,
            "object_position": null,
            "object_fit": null,
            "grid_auto_columns": null,
            "margin": null,
            "display": null,
            "left": null
          }
        },
        "5a0306c5b9364b15b328e623680dab14": {
          "model_module": "@jupyter-widgets/controls",
          "model_name": "DescriptionStyleModel",
          "state": {
            "_view_name": "StyleView",
            "_model_name": "DescriptionStyleModel",
            "description_width": "",
            "_view_module": "@jupyter-widgets/base",
            "_model_module_version": "1.5.0",
            "_view_count": null,
            "_view_module_version": "1.2.0",
            "_model_module": "@jupyter-widgets/controls"
          }
        },
        "6ca2579fc8004c01946ceaaf48c1d0aa": {
          "model_module": "@jupyter-widgets/base",
          "model_name": "LayoutModel",
          "state": {
            "_view_name": "LayoutView",
            "grid_template_rows": null,
            "right": null,
            "justify_content": null,
            "_view_module": "@jupyter-widgets/base",
            "overflow": null,
            "_model_module_version": "1.2.0",
            "_view_count": null,
            "flex_flow": null,
            "width": null,
            "min_width": null,
            "border": null,
            "align_items": null,
            "bottom": null,
            "_model_module": "@jupyter-widgets/base",
            "top": null,
            "grid_column": null,
            "overflow_y": null,
            "overflow_x": null,
            "grid_auto_flow": null,
            "grid_area": null,
            "grid_template_columns": null,
            "flex": null,
            "_model_name": "LayoutModel",
            "justify_items": null,
            "grid_row": null,
            "max_height": null,
            "align_content": null,
            "visibility": null,
            "align_self": null,
            "height": null,
            "min_height": null,
            "padding": null,
            "grid_auto_rows": null,
            "grid_gap": null,
            "max_width": null,
            "order": null,
            "_view_module_version": "1.2.0",
            "grid_template_areas": null,
            "object_position": null,
            "object_fit": null,
            "grid_auto_columns": null,
            "margin": null,
            "display": null,
            "left": null
          }
        },
        "cd221f8f927d4205a1e0627af520308d": {
          "model_module": "@jupyter-widgets/controls",
          "model_name": "HBoxModel",
          "state": {
            "_view_name": "HBoxView",
            "_dom_classes": [],
            "_model_name": "HBoxModel",
            "_view_module": "@jupyter-widgets/controls",
            "_model_module_version": "1.5.0",
            "_view_count": null,
            "_view_module_version": "1.5.0",
            "box_style": "",
            "layout": "IPY_MODEL_aa1959bd8bf24fd893f32f875f3510cc",
            "_model_module": "@jupyter-widgets/controls",
            "children": [
              "IPY_MODEL_bc1c8ceac119452aba70e3713b5dd173",
              "IPY_MODEL_2ea5a73eece84d02b61ec1d1dc5566b7"
            ]
          }
        },
        "aa1959bd8bf24fd893f32f875f3510cc": {
          "model_module": "@jupyter-widgets/base",
          "model_name": "LayoutModel",
          "state": {
            "_view_name": "LayoutView",
            "grid_template_rows": null,
            "right": null,
            "justify_content": null,
            "_view_module": "@jupyter-widgets/base",
            "overflow": null,
            "_model_module_version": "1.2.0",
            "_view_count": null,
            "flex_flow": null,
            "width": null,
            "min_width": null,
            "border": null,
            "align_items": null,
            "bottom": null,
            "_model_module": "@jupyter-widgets/base",
            "top": null,
            "grid_column": null,
            "overflow_y": null,
            "overflow_x": null,
            "grid_auto_flow": null,
            "grid_area": null,
            "grid_template_columns": null,
            "flex": null,
            "_model_name": "LayoutModel",
            "justify_items": null,
            "grid_row": null,
            "max_height": null,
            "align_content": null,
            "visibility": null,
            "align_self": null,
            "height": null,
            "min_height": null,
            "padding": null,
            "grid_auto_rows": null,
            "grid_gap": null,
            "max_width": null,
            "order": null,
            "_view_module_version": "1.2.0",
            "grid_template_areas": null,
            "object_position": null,
            "object_fit": null,
            "grid_auto_columns": null,
            "margin": null,
            "display": null,
            "left": null
          }
        },
        "bc1c8ceac119452aba70e3713b5dd173": {
          "model_module": "@jupyter-widgets/controls",
          "model_name": "FloatProgressModel",
          "state": {
            "_view_name": "ProgressView",
            "style": "IPY_MODEL_9363c347c31043a9bced12e0520df220",
            "_dom_classes": [],
            "description": "100%",
            "_model_name": "FloatProgressModel",
            "bar_style": "success",
            "max": 574673361,
            "_view_module": "@jupyter-widgets/controls",
            "_model_module_version": "1.5.0",
            "value": 574673361,
            "_view_count": null,
            "_view_module_version": "1.5.0",
            "orientation": "horizontal",
            "min": 0,
            "description_tooltip": null,
            "_model_module": "@jupyter-widgets/controls",
            "layout": "IPY_MODEL_23ff78aaa86a4c1a91b386ddf8515e63"
          }
        },
        "2ea5a73eece84d02b61ec1d1dc5566b7": {
          "model_module": "@jupyter-widgets/controls",
          "model_name": "HTMLModel",
          "state": {
            "_view_name": "HTMLView",
            "style": "IPY_MODEL_7e98f7c62d01427ab05136a78201ec73",
            "_dom_classes": [],
            "description": "",
            "_model_name": "HTMLModel",
            "placeholder": "​",
            "_view_module": "@jupyter-widgets/controls",
            "_model_module_version": "1.5.0",
            "value": " 548M/548M [00:17&lt;00:00, 33.2MB/s]",
            "_view_count": null,
            "_view_module_version": "1.5.0",
            "description_tooltip": null,
            "_model_module": "@jupyter-widgets/controls",
            "layout": "IPY_MODEL_c573e3f523de40d98ef061fbb8128dc5"
          }
        },
        "9363c347c31043a9bced12e0520df220": {
          "model_module": "@jupyter-widgets/controls",
          "model_name": "ProgressStyleModel",
          "state": {
            "_view_name": "StyleView",
            "_model_name": "ProgressStyleModel",
            "description_width": "initial",
            "_view_module": "@jupyter-widgets/base",
            "_model_module_version": "1.5.0",
            "_view_count": null,
            "_view_module_version": "1.2.0",
            "bar_color": null,
            "_model_module": "@jupyter-widgets/controls"
          }
        },
        "23ff78aaa86a4c1a91b386ddf8515e63": {
          "model_module": "@jupyter-widgets/base",
          "model_name": "LayoutModel",
          "state": {
            "_view_name": "LayoutView",
            "grid_template_rows": null,
            "right": null,
            "justify_content": null,
            "_view_module": "@jupyter-widgets/base",
            "overflow": null,
            "_model_module_version": "1.2.0",
            "_view_count": null,
            "flex_flow": null,
            "width": null,
            "min_width": null,
            "border": null,
            "align_items": null,
            "bottom": null,
            "_model_module": "@jupyter-widgets/base",
            "top": null,
            "grid_column": null,
            "overflow_y": null,
            "overflow_x": null,
            "grid_auto_flow": null,
            "grid_area": null,
            "grid_template_columns": null,
            "flex": null,
            "_model_name": "LayoutModel",
            "justify_items": null,
            "grid_row": null,
            "max_height": null,
            "align_content": null,
            "visibility": null,
            "align_self": null,
            "height": null,
            "min_height": null,
            "padding": null,
            "grid_auto_rows": null,
            "grid_gap": null,
            "max_width": null,
            "order": null,
            "_view_module_version": "1.2.0",
            "grid_template_areas": null,
            "object_position": null,
            "object_fit": null,
            "grid_auto_columns": null,
            "margin": null,
            "display": null,
            "left": null
          }
        },
        "7e98f7c62d01427ab05136a78201ec73": {
          "model_module": "@jupyter-widgets/controls",
          "model_name": "DescriptionStyleModel",
          "state": {
            "_view_name": "StyleView",
            "_model_name": "DescriptionStyleModel",
            "description_width": "",
            "_view_module": "@jupyter-widgets/base",
            "_model_module_version": "1.5.0",
            "_view_count": null,
            "_view_module_version": "1.2.0",
            "_model_module": "@jupyter-widgets/controls"
          }
        },
        "c573e3f523de40d98ef061fbb8128dc5": {
          "model_module": "@jupyter-widgets/base",
          "model_name": "LayoutModel",
          "state": {
            "_view_name": "LayoutView",
            "grid_template_rows": null,
            "right": null,
            "justify_content": null,
            "_view_module": "@jupyter-widgets/base",
            "overflow": null,
            "_model_module_version": "1.2.0",
            "_view_count": null,
            "flex_flow": null,
            "width": null,
            "min_width": null,
            "border": null,
            "align_items": null,
            "bottom": null,
            "_model_module": "@jupyter-widgets/base",
            "top": null,
            "grid_column": null,
            "overflow_y": null,
            "overflow_x": null,
            "grid_auto_flow": null,
            "grid_area": null,
            "grid_template_columns": null,
            "flex": null,
            "_model_name": "LayoutModel",
            "justify_items": null,
            "grid_row": null,
            "max_height": null,
            "align_content": null,
            "visibility": null,
            "align_self": null,
            "height": null,
            "min_height": null,
            "padding": null,
            "grid_auto_rows": null,
            "grid_gap": null,
            "max_width": null,
            "order": null,
            "_view_module_version": "1.2.0",
            "grid_template_areas": null,
            "object_position": null,
            "object_fit": null,
            "grid_auto_columns": null,
            "margin": null,
            "display": null,
            "left": null
          }
        },
        "5f7f583766214ecba60a86e73670b83b": {
          "model_module": "@jupyter-widgets/controls",
          "model_name": "HBoxModel",
          "state": {
            "_view_name": "HBoxView",
            "_dom_classes": [],
            "_model_name": "HBoxModel",
            "_view_module": "@jupyter-widgets/controls",
            "_model_module_version": "1.5.0",
            "_view_count": null,
            "_view_module_version": "1.5.0",
            "box_style": "",
            "layout": "IPY_MODEL_230dd60892dd424b99ce0c836165ab27",
            "_model_module": "@jupyter-widgets/controls",
            "children": [
              "IPY_MODEL_daacabf0bb2746a281e74e5fdb9e67cb",
              "IPY_MODEL_09015f06d12a436eb8a68630deebef8c"
            ]
          }
        },
        "230dd60892dd424b99ce0c836165ab27": {
          "model_module": "@jupyter-widgets/base",
          "model_name": "LayoutModel",
          "state": {
            "_view_name": "LayoutView",
            "grid_template_rows": null,
            "right": null,
            "justify_content": null,
            "_view_module": "@jupyter-widgets/base",
            "overflow": null,
            "_model_module_version": "1.2.0",
            "_view_count": null,
            "flex_flow": null,
            "width": null,
            "min_width": null,
            "border": null,
            "align_items": null,
            "bottom": null,
            "_model_module": "@jupyter-widgets/base",
            "top": null,
            "grid_column": null,
            "overflow_y": null,
            "overflow_x": null,
            "grid_auto_flow": null,
            "grid_area": null,
            "grid_template_columns": null,
            "flex": null,
            "_model_name": "LayoutModel",
            "justify_items": null,
            "grid_row": null,
            "max_height": null,
            "align_content": null,
            "visibility": null,
            "align_self": null,
            "height": null,
            "min_height": null,
            "padding": null,
            "grid_auto_rows": null,
            "grid_gap": null,
            "max_width": null,
            "order": null,
            "_view_module_version": "1.2.0",
            "grid_template_areas": null,
            "object_position": null,
            "object_fit": null,
            "grid_auto_columns": null,
            "margin": null,
            "display": null,
            "left": null
          }
        },
        "daacabf0bb2746a281e74e5fdb9e67cb": {
          "model_module": "@jupyter-widgets/controls",
          "model_name": "FloatProgressModel",
          "state": {
            "_view_name": "ProgressView",
            "style": "IPY_MODEL_6c6e39b0467e4b7bb2cc455d63c1cc02",
            "_dom_classes": [],
            "description": "100%",
            "_model_name": "FloatProgressModel",
            "bar_style": "success",
            "max": 241530880,
            "_view_module": "@jupyter-widgets/controls",
            "_model_module_version": "1.5.0",
            "value": 241530880,
            "_view_count": null,
            "_view_module_version": "1.5.0",
            "orientation": "horizontal",
            "min": 0,
            "description_tooltip": null,
            "_model_module": "@jupyter-widgets/controls",
            "layout": "IPY_MODEL_d606a0c9180048cfb94d9878886898d6"
          }
        },
        "09015f06d12a436eb8a68630deebef8c": {
          "model_module": "@jupyter-widgets/controls",
          "model_name": "HTMLModel",
          "state": {
            "_view_name": "HTMLView",
            "style": "IPY_MODEL_7cd035a534284142930570ef5976e78c",
            "_dom_classes": [],
            "description": "",
            "_model_name": "HTMLModel",
            "placeholder": "​",
            "_view_module": "@jupyter-widgets/controls",
            "_model_module_version": "1.5.0",
            "value": " 230M/230M [00:03&lt;00:00, 66.0MB/s]",
            "_view_count": null,
            "_view_module_version": "1.5.0",
            "description_tooltip": null,
            "_model_module": "@jupyter-widgets/controls",
            "layout": "IPY_MODEL_36689d463ddb494daf6f193969c60ba4"
          }
        },
        "6c6e39b0467e4b7bb2cc455d63c1cc02": {
          "model_module": "@jupyter-widgets/controls",
          "model_name": "ProgressStyleModel",
          "state": {
            "_view_name": "StyleView",
            "_model_name": "ProgressStyleModel",
            "description_width": "initial",
            "_view_module": "@jupyter-widgets/base",
            "_model_module_version": "1.5.0",
            "_view_count": null,
            "_view_module_version": "1.2.0",
            "bar_color": null,
            "_model_module": "@jupyter-widgets/controls"
          }
        },
        "d606a0c9180048cfb94d9878886898d6": {
          "model_module": "@jupyter-widgets/base",
          "model_name": "LayoutModel",
          "state": {
            "_view_name": "LayoutView",
            "grid_template_rows": null,
            "right": null,
            "justify_content": null,
            "_view_module": "@jupyter-widgets/base",
            "overflow": null,
            "_model_module_version": "1.2.0",
            "_view_count": null,
            "flex_flow": null,
            "width": null,
            "min_width": null,
            "border": null,
            "align_items": null,
            "bottom": null,
            "_model_module": "@jupyter-widgets/base",
            "top": null,
            "grid_column": null,
            "overflow_y": null,
            "overflow_x": null,
            "grid_auto_flow": null,
            "grid_area": null,
            "grid_template_columns": null,
            "flex": null,
            "_model_name": "LayoutModel",
            "justify_items": null,
            "grid_row": null,
            "max_height": null,
            "align_content": null,
            "visibility": null,
            "align_self": null,
            "height": null,
            "min_height": null,
            "padding": null,
            "grid_auto_rows": null,
            "grid_gap": null,
            "max_width": null,
            "order": null,
            "_view_module_version": "1.2.0",
            "grid_template_areas": null,
            "object_position": null,
            "object_fit": null,
            "grid_auto_columns": null,
            "margin": null,
            "display": null,
            "left": null
          }
        },
        "7cd035a534284142930570ef5976e78c": {
          "model_module": "@jupyter-widgets/controls",
          "model_name": "DescriptionStyleModel",
          "state": {
            "_view_name": "StyleView",
            "_model_name": "DescriptionStyleModel",
            "description_width": "",
            "_view_module": "@jupyter-widgets/base",
            "_model_module_version": "1.5.0",
            "_view_count": null,
            "_view_module_version": "1.2.0",
            "_model_module": "@jupyter-widgets/controls"
          }
        },
        "36689d463ddb494daf6f193969c60ba4": {
          "model_module": "@jupyter-widgets/base",
          "model_name": "LayoutModel",
          "state": {
            "_view_name": "LayoutView",
            "grid_template_rows": null,
            "right": null,
            "justify_content": null,
            "_view_module": "@jupyter-widgets/base",
            "overflow": null,
            "_model_module_version": "1.2.0",
            "_view_count": null,
            "flex_flow": null,
            "width": null,
            "min_width": null,
            "border": null,
            "align_items": null,
            "bottom": null,
            "_model_module": "@jupyter-widgets/base",
            "top": null,
            "grid_column": null,
            "overflow_y": null,
            "overflow_x": null,
            "grid_auto_flow": null,
            "grid_area": null,
            "grid_template_columns": null,
            "flex": null,
            "_model_name": "LayoutModel",
            "justify_items": null,
            "grid_row": null,
            "max_height": null,
            "align_content": null,
            "visibility": null,
            "align_self": null,
            "height": null,
            "min_height": null,
            "padding": null,
            "grid_auto_rows": null,
            "grid_gap": null,
            "max_width": null,
            "order": null,
            "_view_module_version": "1.2.0",
            "grid_template_areas": null,
            "object_position": null,
            "object_fit": null,
            "grid_auto_columns": null,
            "margin": null,
            "display": null,
            "left": null
          }
        }
      }
    }
  },
  "cells": [
    {
      "cell_type": "code",
      "metadata": {
        "colab": {
          "base_uri": "https://localhost:8080/"
        },
        "id": "0bqh07GEsZnZ",
        "outputId": "5e3379d2-6347-41ac-8217-7c0808b286ec"
      },
      "source": [
        "!nvidia-smi\r\n",
        "import torch\r\n",
        "torch.cuda.is_available()"
      ],
      "execution_count": 1,
      "outputs": [
        {
          "output_type": "stream",
          "text": [
            "Mon Dec 14 08:06:01 2020       \n",
            "+-----------------------------------------------------------------------------+\n",
            "| NVIDIA-SMI 455.45.01    Driver Version: 418.67       CUDA Version: 10.1     |\n",
            "|-------------------------------+----------------------+----------------------+\n",
            "| GPU  Name        Persistence-M| Bus-Id        Disp.A | Volatile Uncorr. ECC |\n",
            "| Fan  Temp  Perf  Pwr:Usage/Cap|         Memory-Usage | GPU-Util  Compute M. |\n",
            "|                               |                      |               MIG M. |\n",
            "|===============================+======================+======================|\n",
            "|   0  Tesla P100-PCIE...  Off  | 00000000:00:04.0 Off |                    0 |\n",
            "| N/A   35C    P0    26W / 250W |      0MiB / 16280MiB |      0%      Default |\n",
            "|                               |                      |                 ERR! |\n",
            "+-------------------------------+----------------------+----------------------+\n",
            "                                                                               \n",
            "+-----------------------------------------------------------------------------+\n",
            "| Processes:                                                                  |\n",
            "|  GPU   GI   CI        PID   Type   Process name                  GPU Memory |\n",
            "|        ID   ID                                                   Usage      |\n",
            "|=============================================================================|\n",
            "|  No running processes found                                                 |\n",
            "+-----------------------------------------------------------------------------+\n"
          ],
          "name": "stdout"
        },
        {
          "output_type": "execute_result",
          "data": {
            "text/plain": [
              "True"
            ]
          },
          "metadata": {
            "tags": []
          },
          "execution_count": 1
        }
      ]
    },
    {
      "cell_type": "markdown",
      "metadata": {
        "id": "6wQfwmfxsauq"
      },
      "source": [
        "#Данные"
      ]
    },
    {
      "cell_type": "code",
      "metadata": {
        "id": "DVMfIdGZtkK3",
        "colab": {
          "base_uri": "https://localhost:8080/"
        },
        "outputId": "195f75ed-886b-4591-88c2-92b1a214117e"
      },
      "source": [
        "from google.colab import drive\r\n",
        "drive.mount('/content/gdrive/')"
      ],
      "execution_count": 2,
      "outputs": [
        {
          "output_type": "stream",
          "text": [
            "Mounted at /content/gdrive/\n"
          ],
          "name": "stdout"
        }
      ]
    },
    {
      "cell_type": "code",
      "metadata": {
        "id": "Tk8CuvPktkOK"
      },
      "source": [
        "!unzip -q /content/gdrive/My\\ Drive/train.zip -d train\r\n",
        "!unzip -q /content/gdrive/My\\ Drive/test.zip -d test"
      ],
      "execution_count": 3,
      "outputs": []
    },
    {
      "cell_type": "code",
      "metadata": {
        "id": "xWzj1fLotuFj"
      },
      "source": [
        "import pickle\r\n",
        "import numpy as np\r\n",
        "from skimage import io\r\n",
        "from tqdm import tqdm, tqdm_notebook\r\n",
        "from PIL import Image\r\n",
        "from pathlib import Path\r\n",
        "from torchvision import transforms\r\n",
        "from multiprocessing.pool import ThreadPool\r\n",
        "from sklearn.preprocessing import LabelEncoder\r\n",
        "from torch.utils.data import Dataset, DataLoader\r\n",
        "import torch.nn as nn\r\n",
        "from matplotlib import colors, pyplot as plt\r\n",
        "%matplotlib inline"
      ],
      "execution_count": 4,
      "outputs": []
    },
    {
      "cell_type": "code",
      "metadata": {
        "id": "KMn0-biztuJF"
      },
      "source": [
        "# разные режимы датасета\r\n",
        "DATA_MODES = ['train', 'val', 'test']\r\n",
        "# все изображения будут масштабированы к размеру 224x224 px\r\n",
        "RESCALE_SIZE = 224\r\n",
        "# работаем на видеокарте\r\n",
        "DEVICE = torch.device(\"cuda\")"
      ],
      "execution_count": 5,
      "outputs": []
    },
    {
      "cell_type": "code",
      "metadata": {
        "id": "vmj6ny9LtuMt"
      },
      "source": [
        "class DogsDataset(Dataset):\r\n",
        "  def __init__(self, files, mode):\r\n",
        "    super().__init__()\r\n",
        "    # список файлов для загрузки\r\n",
        "    self.files = sorted(files)\r\n",
        "    # режим работы\r\n",
        "    self.mode = mode\r\n",
        "    if self.mode not in DATA_MODES:\r\n",
        "      print(f\"{self.mode} is not correct; correct modes: {DATA_MODES}\")\r\n",
        "      raise NameError\r\n",
        "    self.len_ = len(self.files)\r\n",
        "\r\n",
        "    self.label_encoder = LabelEncoder()\r\n",
        "    if self.mode != 'test':\r\n",
        "      self.labels = [path.parent.name for path in self.files]\r\n",
        "      self.label_encoder.fit(self.labels)\r\n",
        "      with open('label_encoder.pkl', 'wb') as le_dump_file:\r\n",
        "        pickle.dump(self.label_encoder, le_dump_file)\r\n",
        "\r\n",
        "  def __len__(self):\r\n",
        "      return self.len_\r\n",
        "\r\n",
        "  def load_sample(self, file):\r\n",
        "      image = Image.open(file)\r\n",
        "      image.load()\r\n",
        "      return image\r\n",
        "  def _prepare_sample(self, image):\r\n",
        "    image = image.resize((RESCALE_SIZE, RESCALE_SIZE))\r\n",
        "    return np.array(image)\r\n",
        "  def __getitem__(self, index):\r\n",
        "    transform_train = transforms.Compose([\r\n",
        "          transforms.ToTensor(),\r\n",
        "          transforms.ToPILImage(),\r\n",
        "          transforms.RandomChoice([\r\n",
        "                                   transforms.ColorJitter(),\r\n",
        "          transforms.RandomGrayscale(p=0.1),\r\n",
        "          transforms.RandomHorizontalFlip(p=0.5),\r\n",
        "          transforms.RandomRotation(20),\r\n",
        "          ]),\r\n",
        "          transforms.ToTensor(),\r\n",
        "          transforms.Normalize([0.485, 0.456, 0.406], [0.229, 0.224, 0.225])]) \r\n",
        "    transform_test = transforms.Compose([\r\n",
        "          transforms.ToTensor(),\r\n",
        "          transforms.Normalize([0.485, 0.456, 0.406], [0.229, 0.224, 0.225])])\r\n",
        "    x = self.load_sample(self.files[index])\r\n",
        "    x = self._prepare_sample(x)\r\n",
        "    x = np.array(x / 255, dtype='float32')\r\n",
        "    if self.mode == 'test':\r\n",
        "        return transform_test(x) #тестовую не меняем\r\n",
        "    else:\r\n",
        "        if self.mode == 'train':\r\n",
        "          x= transform_train(x)\r\n",
        "        else:\r\n",
        "          x=transform_test(x)\r\n",
        "        label = self.labels[index]\r\n",
        "        label_id = self.label_encoder.transform([label])\r\n",
        "        y = label_id.item()\r\n",
        "        return x, y\r\n"
      ],
      "execution_count": 6,
      "outputs": []
    },
    {
      "cell_type": "code",
      "metadata": {
        "id": "YFZpcNtet3HQ"
      },
      "source": [
        "def imshow(inp, title=None, plt_ax=plt, default=False):\r\n",
        " inp = inp.numpy().transpose((1, 2, 0))\r\n",
        " mean = np.array([0.485, 0.456, 0.406])\r\n",
        " std = np.array([0.229, 0.224, 0.225])\r\n",
        " inp = std * inp + mean\r\n",
        " inp = np.clip(inp, 0, 1)\r\n",
        " plt_ax.imshow(inp)\r\n",
        " if title is not None:\r\n",
        "   plt_ax.set_title(title)\r\n",
        " plt_ax.grid(False)"
      ],
      "execution_count": 7,
      "outputs": []
    },
    {
      "cell_type": "code",
      "metadata": {
        "id": "o3zkvq2pt3Kr"
      },
      "source": [
        "TRAIN_DIR = Path('train')\r\n",
        "TEST_DIR = Path('test')\r\n",
        "train_val_files = sorted(list(TRAIN_DIR.rglob('*.jpeg')))\r\n",
        "test_files = sorted(list(TEST_DIR.rglob('*.jpeg')))"
      ],
      "execution_count": 42,
      "outputs": []
    },
    {
      "cell_type": "code",
      "metadata": {
        "id": "D36jG60ft3N4"
      },
      "source": [
        "from sklearn.model_selection import train_test_split\r\n",
        "train_val_labels = [path.parent.name for path in train_val_files]\r\n",
        "train_files, val_files = train_test_split(train_val_files, test_size=0.25, \\\r\n",
        " stratify=train_val_labels)"
      ],
      "execution_count": 43,
      "outputs": []
    },
    {
      "cell_type": "code",
      "metadata": {
        "id": "Ej70oJN8tuRq"
      },
      "source": [
        "val_dataset = DogsDataset(val_files, mode='val')"
      ],
      "execution_count": 44,
      "outputs": []
    },
    {
      "cell_type": "code",
      "metadata": {
        "id": "G8HbjI1St9o6",
        "colab": {
          "base_uri": "https://localhost:8080/",
          "height": 499
        },
        "outputId": "1e2aabf0-73d4-48e8-9d0d-1db0e58f8904"
      },
      "source": [
        "fig, ax = plt.subplots(nrows=3, ncols=3,figsize=(8, 8), sharey=True, sharex=True)\r\n",
        "for fig_x in ax.flatten():\r\n",
        " random_characters = int(np.random.uniform(0,1000))\r\n",
        " im_val, label = val_dataset[random_characters]\r\n",
        " img_label = \" \".join(map(lambda x: x.capitalize(),\\\r\n",
        " val_dataset.label_encoder.inverse_transform([label])[0].split('_')))\r\n",
        " imshow(im_val.data.cpu(), \\\r\n",
        " title=img_label,plt_ax=fig_x)"
      ],
      "execution_count": 11,
      "outputs": [
        {
          "output_type": "display_data",
          "data": {
            "image/png": "[encoded data removed]",
            "text/plain": [
              "<Figure size 576x576 with 9 Axes>"
            ]
          },
          "metadata": {
            "tags": [],
            "needs_background": "light"
          }
        }
      ]
    },
    {
      "cell_type": "code",
      "metadata": {
        "id": "phxuMwout9tN"
      },
      "source": [
        "import torchvision\r\n",
        "from torchvision import transforms, models"
      ],
      "execution_count": 12,
      "outputs": []
    },
    {
      "cell_type": "code",
      "metadata": {
        "id": "a3-Z6Pg1tkQw"
      },
      "source": [
        "def fit_epoch(model, train_loader, criterion, optimizer):\r\n",
        "  running_loss = 0.0\r\n",
        "  running_corrects = 0\r\n",
        "  processed_data = 0\r\n",
        "  for inputs, labels in train_loader:\r\n",
        "    inputs = inputs.to(DEVICE)\r\n",
        "    labels = labels.to(DEVICE)\r\n",
        "    optimizer.zero_grad()\r\n",
        "    outputs = model(inputs)\r\n",
        "    loss = criterion(outputs, labels)\r\n",
        "    loss.backward()\r\n",
        "    optimizer.step()\r\n",
        "    preds = torch.argmax(outputs, 1)\r\n",
        "    running_loss += loss.item() * inputs.size(0)\r\n",
        "    running_corrects += torch.sum(preds == labels.data)\r\n",
        "    processed_data += inputs.size(0)\r\n",
        "\r\n",
        "  train_loss = running_loss / processed_data\r\n",
        "  train_acc = running_corrects.cpu().numpy() / processed_data\r\n",
        "  return train_loss, train_acc\r\n"
      ],
      "execution_count": 13,
      "outputs": []
    },
    {
      "cell_type": "code",
      "metadata": {
        "id": "ROc6OaEFtkUh"
      },
      "source": [
        "def eval_epoch(model, val_loader, criterion):\r\n",
        "  model.eval()\r\n",
        "  running_loss = 0.0\r\n",
        "  running_corrects = 0\r\n",
        "  processed_size = 0\r\n",
        "  for inputs, labels in val_loader:\r\n",
        "    inputs = inputs.to(DEVICE)\r\n",
        "    labels = labels.to(DEVICE)\r\n",
        "    with torch.set_grad_enabled(False):\r\n",
        "      outputs = model(inputs)\r\n",
        "      loss = criterion(outputs, labels)\r\n",
        "      preds = torch.argmax(outputs, 1)\r\n",
        "    running_loss += loss.item() * inputs.size(0)\r\n",
        "    running_corrects += torch.sum(preds == labels.data)\r\n",
        "    processed_size += inputs.size(0)\r\n",
        "  val_loss = running_loss / processed_size\r\n",
        "  val_acc = running_corrects.double() / processed_size\r\n",
        "  return val_loss, val_acc"
      ],
      "execution_count": 14,
      "outputs": []
    },
    {
      "cell_type": "code",
      "metadata": {
        "id": "b4W6l2_YuGW4"
      },
      "source": [
        "def train(train_files, val_files, model, opt, epochs, batch_size, name):\r\n",
        "  train_loader = DataLoader(train_files, batch_size=batch_size, shuffle=True)\r\n",
        "  val_loader = DataLoader(val_files, batch_size=batch_size, shuffle=False)\r\n",
        "  history = []\r\n",
        "  final_acc = 0\r\n",
        "  log_template = \"\\nEpoch {ep:03d} train_loss: {t_loss:0.4f} \\\r\n",
        "  val_loss {v_loss:0.4f} train_acc {t_acc:0.4f} val_acc {v_acc:0.4f}\"\r\n",
        "  with tqdm(desc=\"epoch\", total=epochs) as pbar_outer:\r\n",
        "    #opt = torch.optim.AdamW(model.parameters(), lr=0.00005, amsgrad=True)\r\n",
        "    criterion = nn.CrossEntropyLoss()\r\n",
        "    for epoch in range(epochs):\r\n",
        "      train_loss, train_acc = fit_epoch(model, train_loader, criterion, opt)\r\n",
        "      print(\"loss\", train_loss)\r\n",
        "      val_loss, val_acc = eval_epoch(model, val_loader, criterion)\r\n",
        "      if val_acc > final_acc:\r\n",
        "        torch.save({'model_state_dict': model.state_dict(),}, name)\r\n",
        "        final_acc = val_acc\r\n",
        "        print(\"Saved model with val acc\", val_acc.item())\r\n",
        "      history.append((train_loss, train_acc.item(), val_loss, val_acc.item()))\r\n",
        "      pbar_outer.update(1)\r\n",
        "      tqdm.write(log_template.format(ep=epoch+1, t_loss=train_loss,v_loss=val_loss, t_acc=train_acc, v_acc=val_acc))\r\n",
        "\r\n",
        "  return history"
      ],
      "execution_count": 15,
      "outputs": []
    },
    {
      "cell_type": "code",
      "metadata": {
        "id": "-7ziW4zCuGaY"
      },
      "source": [
        "def predict(model, test_loader):\r\n",
        "  with torch.no_grad():\r\n",
        "    logits = []\r\n",
        "\r\n",
        "    for inputs in test_loader:\r\n",
        "      inputs = inputs.to(DEVICE)\r\n",
        "      model.eval()\r\n",
        "      outputs = model(inputs).cpu()\r\n",
        "      logits.append(outputs)\r\n",
        "\r\n",
        "    probs = nn.functional.softmax(torch.cat(logits), dim=-1).numpy()\r\n",
        "    return probs"
      ],
      "execution_count": 16,
      "outputs": []
    },
    {
      "cell_type": "code",
      "metadata": {
        "id": "W74AjewquGdk"
      },
      "source": [
        "if val_dataset is None:\r\n",
        " val_dataset = DogsDataset(val_files, mode='val')\r\n",
        "\r\n",
        "train_dataset = DogsDataset(train_files, mode='train')"
      ],
      "execution_count": 17,
      "outputs": []
    },
    {
      "cell_type": "code",
      "metadata": {
        "id": "wc2nOgJGvxvn"
      },
      "source": [
        "idxs = list(range(len(val_dataset)))\r\n",
        "imgs = [val_dataset[id][0].unsqueeze(0) for id in idxs]"
      ],
      "execution_count": 45,
      "outputs": []
    },
    {
      "cell_type": "markdown",
      "metadata": {
        "id": "D025-bAMsgFG"
      },
      "source": [
        "#VGG фиксированный lr"
      ]
    },
    {
      "cell_type": "code",
      "metadata": {
        "id": "_jW3vksKuNHF"
      },
      "source": [
        "import torchvision\r\n",
        "from torchvision import transforms, models"
      ],
      "execution_count": 20,
      "outputs": []
    },
    {
      "cell_type": "code",
      "metadata": {
        "id": "oczqJevDuNKe",
        "colab": {
          "base_uri": "https://localhost:8080/",
          "height": 104,
          "referenced_widgets": [
            "3f9cea48785b46f29695b2a2376419c0",
            "c4bed9d4c36d4a9d84308f2f357b0bc4",
            "162c41feb59949ceb70980ee6d50f326",
            "d76af545c9a34b1b8b616dd903111cba",
            "01a0fcbf49304fc79934f441f2f45ae1",
            "b270006874d94468bac67c3c7c8da3fe",
            "5a0306c5b9364b15b328e623680dab14",
            "6ca2579fc8004c01946ceaaf48c1d0aa"
          ]
        },
        "outputId": "96b69e06-9024-4fe7-bd86-5730bc1dab5c"
      },
      "source": [
        "# Создаём сеть\r\n",
        "model_vgg = models.vgg19(pretrained=True)"
      ],
      "execution_count": null,
      "outputs": [
        {
          "output_type": "stream",
          "text": [
            "Downloading: \"https://download.pytorch.org/models/vgg19-dcbb9e9d.pth\" to /root/.cache/torch/hub/checkpoints/vgg19-dcbb9e9d.pth\n"
          ],
          "name": "stderr"
        },
        {
          "output_type": "display_data",
          "data": {
            "application/vnd.jupyter.widget-view+json": {
              "model_id": "3f9cea48785b46f29695b2a2376419c0",
              "version_minor": 0,
              "version_major": 2
            },
            "text/plain": [
              "HBox(children=(FloatProgress(value=0.0, max=574673361.0), HTML(value='')))"
            ]
          },
          "metadata": {
            "tags": []
          }
        },
        {
          "output_type": "stream",
          "text": [
            "\n"
          ],
          "name": "stdout"
        }
      ]
    },
    {
      "cell_type": "code",
      "metadata": {
        "id": "5LMSgPC0v7hB"
      },
      "source": [
        ""
      ],
      "execution_count": null,
      "outputs": []
    },
    {
      "cell_type": "code",
      "metadata": {
        "id": "1leGQIOTuNOL",
        "colab": {
          "base_uri": "https://localhost:8080/"
        },
        "outputId": "f2837056-db7b-438d-e9bd-f04d9bc08126"
      },
      "source": [
        "torch.cuda.empty_cache()\r\n",
        "name = '/content/gdrive/MyDrive/DogsModelVGG19.pth'\r\n",
        "opt = torch.optim.AdamW(model_vgg.parameters(), lr=0.00005, amsgrad=True)\r\n",
        "history = train(train_dataset, val_dataset, model= model_vgg.cuda(), opt = opt, epochs=10, batch_size=32, name = name)"
      ],
      "execution_count": null,
      "outputs": [
        {
          "output_type": "stream",
          "text": [
            "\repoch:   0%|          | 0/10 [00:00<?, ?it/s]"
          ],
          "name": "stderr"
        },
        {
          "output_type": "stream",
          "text": [
            "loss 4.249772109193876\n"
          ],
          "name": "stdout"
        },
        {
          "output_type": "stream",
          "text": [
            "epoch:  10%|█         | 1/10 [03:02<27:22, 182.49s/it]"
          ],
          "name": "stderr"
        },
        {
          "output_type": "stream",
          "text": [
            "Saved model with val acc 0.36662946428571425\n",
            "\n",
            "Epoch 001 train_loss: 4.2498   val_loss 2.3610 train_acc 0.0869 val_acc 0.3666\n",
            "loss 1.4187007128282865\n"
          ],
          "name": "stdout"
        },
        {
          "output_type": "stream",
          "text": [
            "epoch:  20%|██        | 2/10 [06:03<24:15, 181.93s/it]"
          ],
          "name": "stderr"
        },
        {
          "output_type": "stream",
          "text": [
            "Saved model with val acc 0.7282366071428571\n",
            "\n",
            "Epoch 002 train_loss: 1.4187   val_loss 0.9030 train_acc 0.5955 val_acc 0.7282\n",
            "loss 0.6412740914316749\n"
          ],
          "name": "stdout"
        },
        {
          "output_type": "stream",
          "text": [
            "epoch:  30%|███       | 3/10 [09:05<21:13, 181.96s/it]"
          ],
          "name": "stderr"
        },
        {
          "output_type": "stream",
          "text": [
            "Saved model with val acc 0.7399553571428571\n",
            "\n",
            "Epoch 003 train_loss: 0.6413   val_loss 0.8595 train_acc 0.8005 val_acc 0.7400\n",
            "loss 0.35807253654933924\n"
          ],
          "name": "stdout"
        },
        {
          "output_type": "stream",
          "text": [
            "epoch:  40%|████      | 4/10 [12:09<18:15, 182.63s/it]"
          ],
          "name": "stderr"
        },
        {
          "output_type": "stream",
          "text": [
            "Saved model with val acc 0.7829241071428571\n",
            "\n",
            "Epoch 004 train_loss: 0.3581   val_loss 0.7850 train_acc 0.8859 val_acc 0.7829\n",
            "loss 0.22322755393194008\n"
          ],
          "name": "stdout"
        },
        {
          "output_type": "stream",
          "text": [
            "epoch:  50%|█████     | 5/10 [15:13<15:15, 183.18s/it]"
          ],
          "name": "stderr"
        },
        {
          "output_type": "stream",
          "text": [
            "\n",
            "Epoch 005 train_loss: 0.2232   val_loss 0.9213 train_acc 0.9287 val_acc 0.7628\n",
            "loss 0.170963523887267\n"
          ],
          "name": "stdout"
        },
        {
          "output_type": "stream",
          "text": [
            "epoch:  60%|██████    | 6/10 [18:21<12:17, 184.41s/it]"
          ],
          "name": "stderr"
        },
        {
          "output_type": "stream",
          "text": [
            "Saved model with val acc 0.7912946428571428\n",
            "\n",
            "Epoch 006 train_loss: 0.1710   val_loss 0.8509 train_acc 0.9447 val_acc 0.7913\n",
            "loss 0.13551153837913557\n"
          ],
          "name": "stdout"
        },
        {
          "output_type": "stream",
          "text": [
            "epoch:  70%|███████   | 7/10 [21:29<09:16, 185.59s/it]"
          ],
          "name": "stderr"
        },
        {
          "output_type": "stream",
          "text": [
            "Saved model with val acc 0.7940848214285714\n",
            "\n",
            "Epoch 007 train_loss: 0.1355   val_loss 0.8235 train_acc 0.9604 val_acc 0.7941\n",
            "loss 0.12589721402460463\n"
          ],
          "name": "stdout"
        },
        {
          "output_type": "stream",
          "text": [
            "epoch:  80%|████████  | 8/10 [24:38<06:13, 186.63s/it]"
          ],
          "name": "stderr"
        },
        {
          "output_type": "stream",
          "text": [
            "Saved model with val acc 0.8018973214285714\n",
            "\n",
            "Epoch 008 train_loss: 0.1259   val_loss 0.8795 train_acc 0.9594 val_acc 0.8019\n",
            "loss 0.1441309917614191\n"
          ],
          "name": "stdout"
        },
        {
          "output_type": "stream",
          "text": [
            "epoch:  90%|█████████ | 9/10 [27:38<03:04, 184.51s/it]"
          ],
          "name": "stderr"
        },
        {
          "output_type": "stream",
          "text": [
            "\n",
            "Epoch 009 train_loss: 0.1441   val_loss 1.0448 train_acc 0.9598 val_acc 0.7606\n",
            "loss 0.1122803503517817\n"
          ],
          "name": "stdout"
        },
        {
          "output_type": "stream",
          "text": [
            "epoch: 100%|██████████| 10/10 [30:32<00:00, 183.21s/it]"
          ],
          "name": "stderr"
        },
        {
          "output_type": "stream",
          "text": [
            "\n",
            "Epoch 010 train_loss: 0.1123   val_loss 0.8520 train_acc 0.9645 val_acc 0.7902\n"
          ],
          "name": "stdout"
        },
        {
          "output_type": "stream",
          "text": [
            "\n"
          ],
          "name": "stderr"
        }
      ]
    },
    {
      "cell_type": "code",
      "metadata": {
        "id": "pVKWr2vwvlHx",
        "colab": {
          "base_uri": "https://localhost:8080/",
          "height": 295
        },
        "outputId": "e85b7705-ca33-43b8-b3b3-0ccadc535ebc"
      },
      "source": [
        "loss, acc, val_loss, val_acc = zip(*history)\r\n",
        "plt.plot(loss, label=\"train_loss\")\r\n",
        "plt.plot(val_loss, label=\"val_loss\")\r\n",
        "plt.legend(loc='best')\r\n",
        "plt.xlabel(\"epochs\")\r\n",
        "plt.ylabel(\"loss\")\r\n",
        "plt.title(\"VGG19\")\r\n",
        "plt.show()\r\n"
      ],
      "execution_count": null,
      "outputs": [
        {
          "output_type": "display_data",
          "data": {
            "image/png": "[encoded data removed]",
            "text/plain": [
              "<Figure size 432x288 with 1 Axes>"
            ]
          },
          "metadata": {
            "tags": [],
            "needs_background": "light"
          }
        }
      ]
    },
    {
      "cell_type": "code",
      "metadata": {
        "id": "W8FInoypuXsz",
        "colab": {
          "base_uri": "https://localhost:8080/"
        },
        "outputId": "8a895d06-68d6-459c-d656-ca8750e2f386"
      },
      "source": [
        "checkpoint = torch.load(name)\r\n",
        "model_vgg.load_state_dict(checkpoint['model_state_dict'])\r\n",
        "\r\n",
        "model_vgg.eval()\r\n",
        "probs_ims = predict(model_vgg, imgs)\r\n",
        "actual_labels = [val_dataset[id][1] for id in idxs]\r\n",
        "f1_score(actual_labels, np.argmax(probs_ims, axis=1), average='micro')"
      ],
      "execution_count": null,
      "outputs": [
        {
          "output_type": "execute_result",
          "data": {
            "text/plain": [
              "0.7970725216234198"
            ]
          },
          "metadata": {
            "tags": []
          },
          "execution_count": 28
        }
      ]
    },
    {
      "cell_type": "markdown",
      "metadata": {
        "id": "Vjwhu8HCsmOF"
      },
      "source": [
        "#ResNet фиксированный lr"
      ]
    },
    {
      "cell_type": "code",
      "metadata": {
        "id": "tn05btAyv5yk"
      },
      "source": [
        "model_resnet = models.resnet152(pretrained=True)\r\n",
        "model_resnet.fc = nn.Sequential(nn.Linear(in_features=2048, out_features=1000, bias=True),\r\n",
        " nn.Dropout(0.5),\r\n",
        " nn.Linear(1000, 50, bias=True))"
      ],
      "execution_count": null,
      "outputs": []
    },
    {
      "cell_type": "code",
      "metadata": {
        "id": "3FLdhqYzv53O",
        "colab": {
          "base_uri": "https://localhost:8080/"
        },
        "outputId": "786432d8-76c4-425c-eb4c-bf601ece8ecb"
      },
      "source": [
        "torch.cuda.empty_cache()\r\n",
        "name = '/content/gdrive/MyDrive/DogsModelRESNET152.pth'\r\n",
        "opt = torch.optim.AdamW(model_resnet.parameters(), lr=0.00005, amsgrad=True)\r\n",
        "history = train(train_dataset, val_dataset, model=model_resnet.cuda(), opt = opt, epochs=10, batch_size=64, name = name)"
      ],
      "execution_count": null,
      "outputs": [
        {
          "output_type": "stream",
          "text": [
            "\repoch:   0%|          | 0/10 [00:00<?, ?it/s]"
          ],
          "name": "stderr"
        },
        {
          "output_type": "stream",
          "text": [
            "loss 2.3248002827722076\n"
          ],
          "name": "stdout"
        },
        {
          "output_type": "stream",
          "text": [
            "epoch:  10%|█         | 1/10 [03:11<28:45, 191.68s/it]"
          ],
          "name": "stderr"
        },
        {
          "output_type": "stream",
          "text": [
            "Saved model with val acc 0.859375\n",
            "\n",
            "Epoch 001 train_loss: 2.3248   val_loss 0.8717 train_acc 0.5458 val_acc 0.8594\n",
            "loss 0.5092782299559401\n"
          ],
          "name": "stdout"
        },
        {
          "output_type": "stream",
          "text": [
            "epoch:  20%|██        | 2/10 [06:17<25:19, 189.88s/it]"
          ],
          "name": "stderr"
        },
        {
          "output_type": "stream",
          "text": [
            "\n",
            "Epoch 002 train_loss: 0.5093   val_loss 0.5060 train_acc 0.8465 val_acc 0.8443\n",
            "loss 0.2612076627196634\n"
          ],
          "name": "stdout"
        },
        {
          "output_type": "stream",
          "text": [
            "epoch:  30%|███       | 3/10 [09:23<22:01, 188.82s/it]"
          ],
          "name": "stderr"
        },
        {
          "output_type": "stream",
          "text": [
            "Saved model with val acc 0.8850446428571428\n",
            "\n",
            "Epoch 003 train_loss: 0.2612   val_loss 0.3852 train_acc 0.9181 val_acc 0.8850\n",
            "loss 0.19058709402797744\n"
          ],
          "name": "stdout"
        },
        {
          "output_type": "stream",
          "text": [
            "epoch:  40%|████      | 4/10 [12:29<18:46, 187.78s/it]"
          ],
          "name": "stderr"
        },
        {
          "output_type": "stream",
          "text": [
            "\n",
            "Epoch 004 train_loss: 0.1906   val_loss 0.5099 train_acc 0.9395 val_acc 0.8471\n",
            "loss 0.15876514915200826\n"
          ],
          "name": "stdout"
        },
        {
          "output_type": "stream",
          "text": [
            "epoch:  50%|█████     | 5/10 [15:34<15:35, 187.08s/it]"
          ],
          "name": "stderr"
        },
        {
          "output_type": "stream",
          "text": [
            "\n",
            "Epoch 005 train_loss: 0.1588   val_loss 0.4549 train_acc 0.9477 val_acc 0.8750\n",
            "loss 0.1441731144714675\n"
          ],
          "name": "stdout"
        },
        {
          "output_type": "stream",
          "text": [
            "epoch:  60%|██████    | 6/10 [18:39<12:25, 186.45s/it]"
          ],
          "name": "stderr"
        },
        {
          "output_type": "stream",
          "text": [
            "\n",
            "Epoch 006 train_loss: 0.1442   val_loss 0.4190 train_acc 0.9544 val_acc 0.8789\n",
            "loss 0.0971233955170969\n"
          ],
          "name": "stdout"
        },
        {
          "output_type": "stream",
          "text": [
            "epoch:  70%|███████   | 7/10 [21:44<09:18, 186.08s/it]"
          ],
          "name": "stderr"
        },
        {
          "output_type": "stream",
          "text": [
            "\n",
            "Epoch 007 train_loss: 0.0971   val_loss 0.5083 train_acc 0.9676 val_acc 0.8577\n",
            "loss 0.11500081966191275\n"
          ],
          "name": "stdout"
        },
        {
          "output_type": "stream",
          "text": [
            "epoch:  80%|████████  | 8/10 [24:50<06:11, 185.88s/it]"
          ],
          "name": "stderr"
        },
        {
          "output_type": "stream",
          "text": [
            "\n",
            "Epoch 008 train_loss: 0.1150   val_loss 0.6228 train_acc 0.9633 val_acc 0.8387\n",
            "loss 0.08875037791019574\n"
          ],
          "name": "stdout"
        },
        {
          "output_type": "stream",
          "text": [
            "epoch:  90%|█████████ | 9/10 [27:55<03:05, 185.80s/it]"
          ],
          "name": "stderr"
        },
        {
          "output_type": "stream",
          "text": [
            "\n",
            "Epoch 009 train_loss: 0.0888   val_loss 0.5450 train_acc 0.9726 val_acc 0.8705\n",
            "loss 0.09229233046868143\n"
          ],
          "name": "stdout"
        },
        {
          "output_type": "stream",
          "text": [
            "epoch: 100%|██████████| 10/10 [31:00<00:00, 186.07s/it]"
          ],
          "name": "stderr"
        },
        {
          "output_type": "stream",
          "text": [
            "\n",
            "Epoch 010 train_loss: 0.0923   val_loss 0.5213 train_acc 0.9723 val_acc 0.8644\n"
          ],
          "name": "stdout"
        },
        {
          "output_type": "stream",
          "text": [
            "\n"
          ],
          "name": "stderr"
        }
      ]
    },
    {
      "cell_type": "code",
      "metadata": {
        "id": "1-RdO-wpv56z",
        "colab": {
          "base_uri": "https://localhost:8080/",
          "height": 295
        },
        "outputId": "db8d4394-a920-4de7-d649-a891a93947ac"
      },
      "source": [
        "loss, acc, val_loss, val_acc = zip(*history)\r\n",
        "plt.plot(loss, label=\"train_loss\")\r\n",
        "plt.plot(val_loss, label=\"val_loss\")\r\n",
        "plt.legend(loc='best')\r\n",
        "plt.xlabel(\"epochs\")\r\n",
        "plt.ylabel(\"loss\")\r\n",
        "plt.title(\"ResNet152\")\r\n",
        "plt.show()"
      ],
      "execution_count": null,
      "outputs": [
        {
          "output_type": "display_data",
          "data": {
            "image/png": "[encoded data removed]",
            "text/plain": [
              "<Figure size 432x288 with 1 Axes>"
            ]
          },
          "metadata": {
            "tags": [],
            "needs_background": "light"
          }
        }
      ]
    },
    {
      "cell_type": "code",
      "metadata": {
        "id": "fMJLtG_VwYE6",
        "colab": {
          "base_uri": "https://localhost:8080/"
        },
        "outputId": "fe0c3103-f9f2-4701-facf-e85a8f1231c0"
      },
      "source": [
        "checkpoint = torch.load(name)\r\n",
        "model_resnet.load_state_dict(checkpoint['model_state_dict'])\r\n",
        "\r\n",
        "model_resnet.eval()\r\n",
        "probs_ims = predict(model_resnet, imgs)\r\n",
        "actual_labels = [val_dataset[id][1] for id in idxs]\r\n",
        "from sklearn.metrics import f1_score\r\n",
        "f1_score(actual_labels, np.argmax(probs_ims, axis=1), average='micro')"
      ],
      "execution_count": null,
      "outputs": [
        {
          "output_type": "execute_result",
          "data": {
            "text/plain": [
              "0.8915502328675982"
            ]
          },
          "metadata": {
            "tags": []
          },
          "execution_count": 22
        }
      ]
    },
    {
      "cell_type": "code",
      "metadata": {
        "id": "nK7TgIzrJ-yv"
      },
      "source": [
        ""
      ],
      "execution_count": null,
      "outputs": []
    },
    {
      "cell_type": "code",
      "metadata": {
        "id": "E5EjfEVkwYJc"
      },
      "source": [
        ""
      ],
      "execution_count": null,
      "outputs": []
    },
    {
      "cell_type": "markdown",
      "metadata": {
        "id": "dBCidQnDspub"
      },
      "source": [
        "#DenseNet фиксированный lr"
      ]
    },
    {
      "cell_type": "code",
      "metadata": {
        "id": "5ANuSuBswnQ3"
      },
      "source": [
        "# Вернем первоначальные веса resnet50\r\n",
        "model_densenet = models.densenet161(pretrained=True)\r\n",
        "\r\n",
        "#Заменяем родной классификатор model на наш новый линейный классификатор\r\n",
        "model_densenet.classifier = nn.Sequential(nn.Linear(2208, 128),\r\n",
        "                           nn.BatchNorm1d(128),\r\n",
        "                           nn.ReLU(),\r\n",
        "                           nn.Dropout(p=0.5),\r\n",
        "                           nn.Linear(128, 50))"
      ],
      "execution_count": null,
      "outputs": []
    },
    {
      "cell_type": "code",
      "metadata": {
        "id": "WPRA18pgwnfR",
        "colab": {
          "base_uri": "https://localhost:8080/"
        },
        "outputId": "2c6562c4-6f80-48de-cea6-dc2a665ab71f"
      },
      "source": [
        "torch.cuda.empty_cache()\r\n",
        "name = '/content/gdrive/MyDrive/DogsModelDENSENET161.pth'\r\n",
        "opt = torch.optim.AdamW(model_densenet.parameters(), lr=0.00005, amsgrad=True)\r\n",
        "history = train(train_dataset, val_dataset, model=model_densenet.cuda(), opt = opt, epochs=10, batch_size=32, name = name)"
      ],
      "execution_count": null,
      "outputs": [
        {
          "output_type": "stream",
          "text": [
            "\repoch:   0%|          | 0/10 [00:00<?, ?it/s]"
          ],
          "name": "stderr"
        },
        {
          "output_type": "stream",
          "text": [
            "loss 2.956802049178282\n"
          ],
          "name": "stdout"
        },
        {
          "output_type": "stream",
          "text": [
            "epoch:  10%|█         | 1/10 [03:12<28:50, 192.30s/it]"
          ],
          "name": "stderr"
        },
        {
          "output_type": "stream",
          "text": [
            "Saved model with val acc 0.8364955357142857\n",
            "\n",
            "Epoch 001 train_loss: 2.9568   val_loss 1.9886 train_acc 0.3969 val_acc 0.8365\n",
            "loss 0.7358540213813469\n"
          ],
          "name": "stdout"
        },
        {
          "output_type": "stream",
          "text": [
            "epoch:  20%|██        | 2/10 [06:20<25:29, 191.14s/it]"
          ],
          "name": "stderr"
        },
        {
          "output_type": "stream",
          "text": [
            "\n",
            "Epoch 002 train_loss: 0.7359   val_loss 0.5863 train_acc 0.7920 val_acc 0.8309\n",
            "loss 0.3294027926290084\n"
          ],
          "name": "stdout"
        },
        {
          "output_type": "stream",
          "text": [
            "epoch:  30%|███       | 3/10 [09:28<22:11, 190.15s/it]"
          ],
          "name": "stderr"
        },
        {
          "output_type": "stream",
          "text": [
            "\n",
            "Epoch 003 train_loss: 0.3294   val_loss 0.6341 train_acc 0.8980 val_acc 0.8170\n",
            "loss 0.224619402854825\n"
          ],
          "name": "stdout"
        },
        {
          "output_type": "stream",
          "text": [
            "epoch:  40%|████      | 4/10 [12:36<18:57, 189.58s/it]"
          ],
          "name": "stderr"
        },
        {
          "output_type": "stream",
          "text": [
            "Saved model with val acc 0.8683035714285714\n",
            "\n",
            "Epoch 004 train_loss: 0.2246   val_loss 0.4541 train_acc 0.9276 val_acc 0.8683\n",
            "loss 0.14314911872492345\n"
          ],
          "name": "stdout"
        },
        {
          "output_type": "stream",
          "text": [
            "epoch:  50%|█████     | 5/10 [15:44<15:45, 189.03s/it]"
          ],
          "name": "stderr"
        },
        {
          "output_type": "stream",
          "text": [
            "\n",
            "Epoch 005 train_loss: 0.1431   val_loss 0.5134 train_acc 0.9529 val_acc 0.8638\n",
            "loss 0.1381971099794155\n"
          ],
          "name": "stdout"
        },
        {
          "output_type": "stream",
          "text": [
            "epoch:  60%|██████    | 6/10 [18:52<12:35, 188.79s/it]"
          ],
          "name": "stderr"
        },
        {
          "output_type": "stream",
          "text": [
            "Saved model with val acc 0.8705357142857142\n",
            "\n",
            "Epoch 006 train_loss: 0.1382   val_loss 0.4945 train_acc 0.9576 val_acc 0.8705\n",
            "loss 0.11799254514911958\n"
          ],
          "name": "stdout"
        },
        {
          "output_type": "stream",
          "text": [
            "epoch:  70%|███████   | 7/10 [22:01<09:26, 188.68s/it]"
          ],
          "name": "stderr"
        },
        {
          "output_type": "stream",
          "text": [
            "Saved model with val acc 0.875\n",
            "\n",
            "Epoch 007 train_loss: 0.1180   val_loss 0.4729 train_acc 0.9626 val_acc 0.8750\n",
            "loss 0.08563707006944792\n"
          ],
          "name": "stdout"
        },
        {
          "output_type": "stream",
          "text": [
            "epoch:  80%|████████  | 8/10 [25:08<06:16, 188.24s/it]"
          ],
          "name": "stderr"
        },
        {
          "output_type": "stream",
          "text": [
            "\n",
            "Epoch 008 train_loss: 0.0856   val_loss 0.4693 train_acc 0.9717 val_acc 0.8711\n",
            "loss 0.07691360364699612\n"
          ],
          "name": "stdout"
        },
        {
          "output_type": "stream",
          "text": [
            "epoch:  90%|█████████ | 9/10 [28:15<03:07, 187.96s/it]"
          ],
          "name": "stderr"
        },
        {
          "output_type": "stream",
          "text": [
            "\n",
            "Epoch 009 train_loss: 0.0769   val_loss 0.6164 train_acc 0.9743 val_acc 0.8477\n",
            "loss 0.07767385736545933\n"
          ],
          "name": "stdout"
        },
        {
          "output_type": "stream",
          "text": [
            "epoch: 100%|██████████| 10/10 [31:23<00:00, 188.32s/it]"
          ],
          "name": "stderr"
        },
        {
          "output_type": "stream",
          "text": [
            "\n",
            "Epoch 010 train_loss: 0.0777   val_loss 0.6000 train_acc 0.9764 val_acc 0.8549\n"
          ],
          "name": "stdout"
        },
        {
          "output_type": "stream",
          "text": [
            "\n"
          ],
          "name": "stderr"
        }
      ]
    },
    {
      "cell_type": "code",
      "metadata": {
        "id": "7wvef-EkwnkR",
        "colab": {
          "base_uri": "https://localhost:8080/"
        },
        "outputId": "3be0c1da-fc65-4b95-ee47-860394bf7f45"
      },
      "source": [
        "checkpoint = torch.load(name)\r\n",
        "model_densenet.load_state_dict(checkpoint['model_state_dict'])\r\n",
        "\r\n",
        "model_densenet.eval()\r\n",
        "probs_ims = predict(model_densenet, imgs)\r\n",
        "actual_labels = [val_dataset[id][1] for id in idxs]\r\n",
        "from sklearn.metrics import f1_score\r\n",
        "f1_score(actual_labels, np.argmax(probs_ims, axis=1), average='micro')"
      ],
      "execution_count": null,
      "outputs": [
        {
          "output_type": "execute_result",
          "data": {
            "text/plain": [
              "0.8762475049900199"
            ]
          },
          "metadata": {
            "tags": []
          },
          "execution_count": 21
        }
      ]
    },
    {
      "cell_type": "markdown",
      "metadata": {
        "id": "RXMi7rZZswaA"
      },
      "source": [
        "#EfficientNet фиксированный lr"
      ]
    },
    {
      "cell_type": "code",
      "metadata": {
        "colab": {
          "base_uri": "https://localhost:8080/"
        },
        "id": "cOo3JE21rHo2",
        "outputId": "2febea8e-656b-48e1-b127-2dcb00e21ddf"
      },
      "source": [
        "!pip install efficientnet_pytorch\r\n",
        "from efficientnet_pytorch import EfficientNet\r\n",
        "\r\n",
        "model_effnet_b6 = EfficientNet.from_pretrained('efficientnet-b6', num_classes=50)"
      ],
      "execution_count": null,
      "outputs": [
        {
          "output_type": "stream",
          "text": [
            "Requirement already satisfied: efficientnet_pytorch in /usr/local/lib/python3.6/dist-packages (0.7.0)\n",
            "Requirement already satisfied: torch in /usr/local/lib/python3.6/dist-packages (from efficientnet_pytorch) (1.7.0+cu101)\n",
            "Requirement already satisfied: numpy in /usr/local/lib/python3.6/dist-packages (from torch->efficientnet_pytorch) (1.18.5)\n",
            "Requirement already satisfied: typing-extensions in /usr/local/lib/python3.6/dist-packages (from torch->efficientnet_pytorch) (3.7.4.3)\n",
            "Requirement already satisfied: dataclasses in /usr/local/lib/python3.6/dist-packages (from torch->efficientnet_pytorch) (0.8)\n",
            "Requirement already satisfied: future in /usr/local/lib/python3.6/dist-packages (from torch->efficientnet_pytorch) (0.16.0)\n",
            "Loaded pretrained weights for efficientnet-b6\n"
          ],
          "name": "stdout"
        }
      ]
    },
    {
      "cell_type": "code",
      "metadata": {
        "colab": {
          "base_uri": "https://localhost:8080/"
        },
        "id": "BfBCqfRFrHv1",
        "outputId": "eee304aa-3542-47bd-9c4f-e655183d3cd4"
      },
      "source": [
        "torch.cuda.empty_cache()\r\n",
        "name = '/content/gdrive/MyDrive/DogsModelEFFNET_B6.pth'\r\n",
        "opt = torch.optim.AdamW(model_effnet_b6.parameters(), lr=0.00005, amsgrad=True)\r\n",
        "history = train(train_dataset, val_dataset, model= model_effnet_b6.cuda(), opt = opt, epochs=10, batch_size=32, name = name)"
      ],
      "execution_count": null,
      "outputs": [
        {
          "output_type": "stream",
          "text": [
            "\repoch:   0%|          | 0/10 [00:00<?, ?it/s]"
          ],
          "name": "stderr"
        },
        {
          "output_type": "stream",
          "text": [
            "loss 3.629543036477558\n"
          ],
          "name": "stdout"
        },
        {
          "output_type": "stream",
          "text": [
            "epoch:  10%|█         | 1/10 [04:22<39:23, 262.56s/it]"
          ],
          "name": "stderr"
        },
        {
          "output_type": "stream",
          "text": [
            "Saved model with val acc 0.7672991071428571\n",
            "\n",
            "Epoch 001 train_loss: 3.6295   val_loss 2.8469 train_acc 0.2304 val_acc 0.7673\n",
            "loss 0.6694134114220722\n"
          ],
          "name": "stdout"
        },
        {
          "output_type": "stream",
          "text": [
            "epoch:  20%|██        | 2/10 [08:39<34:48, 261.02s/it]"
          ],
          "name": "stderr"
        },
        {
          "output_type": "stream",
          "text": [
            "Saved model with val acc 0.9068080357142857\n",
            "\n",
            "Epoch 002 train_loss: 0.6694   val_loss 0.3046 train_acc 0.8537 val_acc 0.9068\n",
            "loss 0.13540426756220322\n"
          ],
          "name": "stdout"
        },
        {
          "output_type": "stream",
          "text": [
            "epoch:  30%|███       | 3/10 [12:57<30:19, 259.90s/it]"
          ],
          "name": "stderr"
        },
        {
          "output_type": "stream",
          "text": [
            "\n",
            "Epoch 003 train_loss: 0.1354   val_loss 0.3044 train_acc 0.9600 val_acc 0.9051\n",
            "loss 0.05794454795202004\n"
          ],
          "name": "stdout"
        },
        {
          "output_type": "stream",
          "text": [
            "epoch:  40%|████      | 4/10 [17:15<25:55, 259.25s/it]"
          ],
          "name": "stderr"
        },
        {
          "output_type": "stream",
          "text": [
            "Saved model with val acc 0.9268973214285714\n",
            "\n",
            "Epoch 004 train_loss: 0.0579   val_loss 0.2786 train_acc 0.9823 val_acc 0.9269\n",
            "loss 0.03721579169396312\n"
          ],
          "name": "stdout"
        },
        {
          "output_type": "stream",
          "text": [
            "epoch:  50%|█████     | 5/10 [21:31<21:32, 258.54s/it]"
          ],
          "name": "stderr"
        },
        {
          "output_type": "stream",
          "text": [
            "\n",
            "Epoch 005 train_loss: 0.0372   val_loss 0.3893 train_acc 0.9888 val_acc 0.9062\n",
            "loss 0.0385341805828424\n"
          ],
          "name": "stdout"
        },
        {
          "output_type": "stream",
          "text": [
            "epoch:  60%|██████    | 6/10 [25:48<17:11, 257.93s/it]"
          ],
          "name": "stderr"
        },
        {
          "output_type": "stream",
          "text": [
            "\n",
            "Epoch 006 train_loss: 0.0385   val_loss 0.3441 train_acc 0.9894 val_acc 0.9113\n",
            "loss 0.02906425770858783\n"
          ],
          "name": "stdout"
        },
        {
          "output_type": "stream",
          "text": [
            "epoch:  70%|███████   | 7/10 [30:05<12:52, 257.61s/it]"
          ],
          "name": "stderr"
        },
        {
          "output_type": "stream",
          "text": [
            "\n",
            "Epoch 007 train_loss: 0.0291   val_loss 0.3212 train_acc 0.9920 val_acc 0.9129\n",
            "loss 0.026549174553712265\n"
          ],
          "name": "stdout"
        },
        {
          "output_type": "stream",
          "text": [
            "epoch:  80%|████████  | 8/10 [34:22<08:34, 257.37s/it]"
          ],
          "name": "stderr"
        },
        {
          "output_type": "stream",
          "text": [
            "\n",
            "Epoch 008 train_loss: 0.0265   val_loss 0.3096 train_acc 0.9929 val_acc 0.9230\n",
            "loss 0.02546955427105681\n"
          ],
          "name": "stdout"
        },
        {
          "output_type": "stream",
          "text": [
            "epoch:  90%|█████████ | 9/10 [38:39<04:17, 257.45s/it]"
          ],
          "name": "stderr"
        },
        {
          "output_type": "stream",
          "text": [
            "Saved model with val acc 0.9291294642857142\n",
            "\n",
            "Epoch 009 train_loss: 0.0255   val_loss 0.3002 train_acc 0.9937 val_acc 0.9291\n",
            "loss 0.01883186717910375\n"
          ],
          "name": "stdout"
        },
        {
          "output_type": "stream",
          "text": [
            "epoch: 100%|██████████| 10/10 [42:57<00:00, 257.72s/it]"
          ],
          "name": "stderr"
        },
        {
          "output_type": "stream",
          "text": [
            "\n",
            "Epoch 010 train_loss: 0.0188   val_loss 0.3197 train_acc 0.9952 val_acc 0.9224\n"
          ],
          "name": "stdout"
        },
        {
          "output_type": "stream",
          "text": [
            "\n"
          ],
          "name": "stderr"
        }
      ]
    },
    {
      "cell_type": "code",
      "metadata": {
        "colab": {
          "base_uri": "https://localhost:8080/"
        },
        "id": "Q7rVu2tjrH2W",
        "outputId": "63008e49-7041-46fc-c793-faa723a4d390"
      },
      "source": [
        "checkpoint = torch.load(name)\r\n",
        "model_effnet_b6.load_state_dict(checkpoint['model_state_dict'])\r\n",
        "\r\n",
        "model_effnet_b6.eval()\r\n",
        "probs_ims = predict(model_effnet_b6, imgs)\r\n",
        "actual_labels = [val_dataset[id][1] for id in idxs]\r\n",
        "from sklearn.metrics import f1_score\r\n",
        "f1_score(actual_labels, np.argmax(probs_ims, axis=1), average='micro')"
      ],
      "execution_count": null,
      "outputs": [
        {
          "output_type": "execute_result",
          "data": {
            "text/plain": [
              "0.9354624085163007"
            ]
          },
          "metadata": {
            "tags": []
          },
          "execution_count": 21
        }
      ]
    },
    {
      "cell_type": "code",
      "metadata": {
        "id": "7UKMDz1yrH7T"
      },
      "source": [
        ""
      ],
      "execution_count": null,
      "outputs": []
    },
    {
      "cell_type": "markdown",
      "metadata": {
        "id": "8qMVJnTOs0xO"
      },
      "source": [
        "#VGG дифференцированное обучение слоев"
      ]
    },
    {
      "cell_type": "code",
      "metadata": {
        "id": "T-F4CBZXzPAV"
      },
      "source": [
        "found_lr =0.00005"
      ],
      "execution_count": null,
      "outputs": []
    },
    {
      "cell_type": "code",
      "metadata": {
        "id": "rRqXdqqzzPGR"
      },
      "source": [
        "model_vgg = models.vgg19(pretrained=True)"
      ],
      "execution_count": null,
      "outputs": []
    },
    {
      "cell_type": "code",
      "metadata": {
        "id": "lWxccz4b00Lg"
      },
      "source": [
        "model_vgg.classifier[6] = nn.Linear(in_features=4096, out_features=50, bias=True)"
      ],
      "execution_count": null,
      "outputs": []
    },
    {
      "cell_type": "code",
      "metadata": {
        "id": "-ahOJH4f1BKi"
      },
      "source": [
        "param512 = model_vgg.features[27:36].parameters()\r\n",
        "param256 = model_vgg.features[18:27].parameters()\r\n",
        "param128 = model_vgg.features[9:18].parameters()\r\n",
        "param64 = model_vgg.features[0:9].parameters()"
      ],
      "execution_count": null,
      "outputs": []
    },
    {
      "cell_type": "code",
      "metadata": {
        "id": "9Rwrcmuz1d6G"
      },
      "source": [
        "opt = torch.optim.Adam([\r\n",
        "{ 'params': model_vgg.classifier.parameters(), 'lr': found_lr},\r\n",
        "{ 'params': param512, 'lr': found_lr / 3},\r\n",
        "{ 'params': param256, 'lr': found_lr / 10},\r\n",
        "{ 'params': param128, 'lr': found_lr / 50},\r\n",
        "{ 'params': param64, 'lr': found_lr / 100},\r\n",
        "], lr=found_lr / 100)"
      ],
      "execution_count": null,
      "outputs": []
    },
    {
      "cell_type": "code",
      "metadata": {
        "colab": {
          "base_uri": "https://localhost:8080/"
        },
        "id": "NHISTv781smj",
        "outputId": "aacf415d-0c14-4de0-b120-090fe72686bc"
      },
      "source": [
        "name = '/content/gdrive/MyDrive/DogsModelVGG_with_LR.pth'\r\n",
        "history = train(train_dataset, val_dataset, model = model_vgg.cuda(), opt = opt, epochs = 10, batch_size = 64, name = name)"
      ],
      "execution_count": null,
      "outputs": [
        {
          "output_type": "stream",
          "text": [
            "\repoch:   0%|          | 0/10 [00:00<?, ?it/s]"
          ],
          "name": "stderr"
        },
        {
          "output_type": "stream",
          "text": [
            "loss 1.5474957935110005\n"
          ],
          "name": "stdout"
        },
        {
          "output_type": "stream",
          "text": [
            "epoch:  10%|█         | 1/10 [02:08<19:17, 128.65s/it]"
          ],
          "name": "stderr"
        },
        {
          "output_type": "stream",
          "text": [
            "Saved model with val acc 0.8761160714285714\n",
            "\n",
            "Epoch 001 train_loss: 1.5475   val_loss 0.4276 train_acc 0.5880 val_acc 0.8761\n",
            "loss 0.3051811480970244\n"
          ],
          "name": "stdout"
        },
        {
          "output_type": "stream",
          "text": [
            "epoch:  20%|██        | 2/10 [04:07<16:45, 125.71s/it]"
          ],
          "name": "stderr"
        },
        {
          "output_type": "stream",
          "text": [
            "Saved model with val acc 0.8816964285714285\n",
            "\n",
            "Epoch 002 train_loss: 0.3052   val_loss 0.3731 train_acc 0.9062 val_acc 0.8817\n",
            "loss 0.1564621245790069\n"
          ],
          "name": "stdout"
        },
        {
          "output_type": "stream",
          "text": [
            "epoch:  30%|███       | 3/10 [06:05<14:23, 123.40s/it]"
          ],
          "name": "stderr"
        },
        {
          "output_type": "stream",
          "text": [
            "Saved model with val acc 0.8883928571428571\n",
            "\n",
            "Epoch 003 train_loss: 0.1565   val_loss 0.4032 train_acc 0.9550 val_acc 0.8884\n",
            "loss 0.0876908046985409\n"
          ],
          "name": "stdout"
        },
        {
          "output_type": "stream",
          "text": [
            "epoch:  40%|████      | 4/10 [07:57<11:59, 119.94s/it]"
          ],
          "name": "stderr"
        },
        {
          "output_type": "stream",
          "text": [
            "\n",
            "Epoch 004 train_loss: 0.0877   val_loss 0.4156 train_acc 0.9715 val_acc 0.8817\n",
            "loss 0.06656445613304922\n"
          ],
          "name": "stdout"
        },
        {
          "output_type": "stream",
          "text": [
            "epoch:  50%|█████     | 5/10 [09:50<09:48, 117.77s/it]"
          ],
          "name": "stderr"
        },
        {
          "output_type": "stream",
          "text": [
            "\n",
            "Epoch 005 train_loss: 0.0666   val_loss 0.4383 train_acc 0.9808 val_acc 0.8845\n",
            "loss 0.06662051002853725\n"
          ],
          "name": "stdout"
        },
        {
          "output_type": "stream",
          "text": [
            "epoch:  60%|██████    | 6/10 [11:45<07:48, 117.06s/it]"
          ],
          "name": "stderr"
        },
        {
          "output_type": "stream",
          "text": [
            "\n",
            "Epoch 006 train_loss: 0.0666   val_loss 0.4542 train_acc 0.9801 val_acc 0.8772\n",
            "loss 0.056578928528122734\n"
          ],
          "name": "stdout"
        },
        {
          "output_type": "stream",
          "text": [
            "epoch:  70%|███████   | 7/10 [13:41<05:50, 116.81s/it]"
          ],
          "name": "stderr"
        },
        {
          "output_type": "stream",
          "text": [
            "\n",
            "Epoch 007 train_loss: 0.0566   val_loss 0.5085 train_acc 0.9829 val_acc 0.8806\n",
            "loss 0.04805992906417519\n"
          ],
          "name": "stdout"
        },
        {
          "output_type": "stream",
          "text": [
            "epoch:  80%|████████  | 8/10 [15:37<03:53, 116.58s/it]"
          ],
          "name": "stderr"
        },
        {
          "output_type": "stream",
          "text": [
            "\n",
            "Epoch 008 train_loss: 0.0481   val_loss 0.4814 train_acc 0.9855 val_acc 0.8778\n",
            "loss 0.04107831553464175\n"
          ],
          "name": "stdout"
        },
        {
          "output_type": "stream",
          "text": [
            "epoch:  90%|█████████ | 9/10 [17:36<01:57, 117.13s/it]"
          ],
          "name": "stderr"
        },
        {
          "output_type": "stream",
          "text": [
            "\n",
            "Epoch 009 train_loss: 0.0411   val_loss 0.4665 train_acc 0.9879 val_acc 0.8817\n",
            "loss 0.0320695396200804\n"
          ],
          "name": "stdout"
        },
        {
          "output_type": "stream",
          "text": [
            "epoch: 100%|██████████| 10/10 [19:35<00:00, 117.59s/it]"
          ],
          "name": "stderr"
        },
        {
          "output_type": "stream",
          "text": [
            "\n",
            "Epoch 010 train_loss: 0.0321   val_loss 0.5524 train_acc 0.9913 val_acc 0.8677\n"
          ],
          "name": "stdout"
        },
        {
          "output_type": "stream",
          "text": [
            "\n"
          ],
          "name": "stderr"
        }
      ]
    },
    {
      "cell_type": "code",
      "metadata": {
        "id": "V2EZG00Y9EiD"
      },
      "source": [
        "from sklearn.metrics import f1_score"
      ],
      "execution_count": null,
      "outputs": []
    },
    {
      "cell_type": "code",
      "metadata": {
        "colab": {
          "base_uri": "https://localhost:8080/"
        },
        "id": "Xm-t74U78ROa",
        "outputId": "f95f88f6-91ad-4697-8ff7-e2501d485e36"
      },
      "source": [
        "checkpoint = torch.load(name)\r\n",
        "model_vgg.load_state_dict(checkpoint['model_state_dict'])\r\n",
        "\r\n",
        "model_vgg.eval()\r\n",
        "probs_ims = predict(model_vgg, imgs)\r\n",
        "actual_labels = [val_dataset[id][1] for id in idxs]\r\n",
        "f1_score(actual_labels, np.argmax(probs_ims, axis=1), average='micro')"
      ],
      "execution_count": null,
      "outputs": [
        {
          "output_type": "execute_result",
          "data": {
            "text/plain": [
              "0.8915502328675982"
            ]
          },
          "metadata": {
            "tags": []
          },
          "execution_count": 29
        }
      ]
    },
    {
      "cell_type": "markdown",
      "metadata": {
        "id": "shff7yw7s1CB"
      },
      "source": [
        "#ResNet дифференцированное обучение слоев"
      ]
    },
    {
      "cell_type": "code",
      "metadata": {
        "id": "bTk01beX4KuE"
      },
      "source": [
        "found_lr =0.00005"
      ],
      "execution_count": null,
      "outputs": []
    },
    {
      "cell_type": "code",
      "metadata": {
        "id": "RkrHbli54Ky3"
      },
      "source": [
        "model_resnet = models.resnet152(pretrained=True)\r\n",
        "model_resnet = model_resnet.cuda()\r\n",
        "model_resnet.fc = nn.Sequential(nn.Linear(in_features=2048, out_features=1000, bias=True),\r\n",
        " nn.Dropout(0.5),\r\n",
        " nn.Linear(1000, 50, bias=True))"
      ],
      "execution_count": null,
      "outputs": []
    },
    {
      "cell_type": "code",
      "metadata": {
        "id": "tks28UTO3xdn"
      },
      "source": [
        "opt = torch.optim.AdamW([{ 'params': model_resnet.fc.parameters(), 'lr': found_lr},\r\n",
        "                         { 'params': model_resnet.layer4.parameters(), 'lr': found_lr / 3},\r\n",
        "                         { 'params': model_resnet.layer3.parameters(), 'lr': found_lr / 10},\r\n",
        "                         { 'params': model_resnet.layer2.parameters(), 'lr': found_lr / 50},\r\n",
        "                         { 'params': model_resnet.layer1.parameters(), 'lr': found_lr / 100},\r\n",
        "                         {'params': model_resnet.bn1.parameters(), 'lr': found_lr / 1000},\r\n",
        "                         {'params': model_resnet.conv1.parameters(), 'lr': found_lr / 1000}],\r\n",
        "                        lr=found_lr / 100, amsgrad=True)"
      ],
      "execution_count": null,
      "outputs": []
    },
    {
      "cell_type": "code",
      "metadata": {
        "colab": {
          "base_uri": "https://localhost:8080/"
        },
        "id": "tbr3Vg-z4eIH",
        "outputId": "5ff8607e-223c-4cf9-aa6c-3dd8ca68f6c9"
      },
      "source": [
        "name = '/content/gdrive/MyDrive/DogsModelRESNET152_with_LR.pth'\r\n",
        "torch.cuda.empty_cache()\r\n",
        "history = train(train_dataset, val_dataset, model = model_resnet.cuda(), opt = opt, epochs = 10, batch_size = 64, name = name)"
      ],
      "execution_count": null,
      "outputs": [
        {
          "output_type": "stream",
          "text": [
            "\repoch:   0%|          | 0/10 [00:00<?, ?it/s]"
          ],
          "name": "stderr"
        },
        {
          "output_type": "stream",
          "text": [
            "loss 2.871777070158691\n"
          ],
          "name": "stdout"
        },
        {
          "output_type": "stream",
          "text": [
            "epoch:  10%|█         | 1/10 [02:08<19:15, 128.37s/it]"
          ],
          "name": "stderr"
        },
        {
          "output_type": "stream",
          "text": [
            "Saved model with val acc 0.84765625\n",
            "\n",
            "Epoch 001 train_loss: 2.8718   val_loss 1.4171 train_acc 0.4669 val_acc 0.8477\n",
            "loss 0.3923077037232846\n"
          ],
          "name": "stdout"
        },
        {
          "output_type": "stream",
          "text": [
            "epoch:  20%|██        | 2/10 [04:15<17:04, 128.03s/it]"
          ],
          "name": "stderr"
        },
        {
          "output_type": "stream",
          "text": [
            "Saved model with val acc 0.91796875\n",
            "\n",
            "Epoch 002 train_loss: 0.3923   val_loss 0.2645 train_acc 0.8885 val_acc 0.9180\n",
            "loss 0.18079224540247188\n"
          ],
          "name": "stdout"
        },
        {
          "output_type": "stream",
          "text": [
            "epoch:  30%|███       | 3/10 [06:22<14:54, 127.76s/it]"
          ],
          "name": "stderr"
        },
        {
          "output_type": "stream",
          "text": [
            "\n",
            "Epoch 003 train_loss: 0.1808   val_loss 0.2859 train_acc 0.9440 val_acc 0.9113\n",
            "loss 0.12097307146261028\n"
          ],
          "name": "stdout"
        },
        {
          "output_type": "stream",
          "text": [
            "epoch:  40%|████      | 4/10 [08:29<12:44, 127.40s/it]"
          ],
          "name": "stderr"
        },
        {
          "output_type": "stream",
          "text": [
            "\n",
            "Epoch 004 train_loss: 0.1210   val_loss 0.2824 train_acc 0.9630 val_acc 0.9169\n",
            "loss 0.08724586129088716\n"
          ],
          "name": "stdout"
        },
        {
          "output_type": "stream",
          "text": [
            "epoch:  50%|█████     | 5/10 [10:35<10:35, 127.15s/it]"
          ],
          "name": "stderr"
        },
        {
          "output_type": "stream",
          "text": [
            "\n",
            "Epoch 005 train_loss: 0.0872   val_loss 0.3006 train_acc 0.9719 val_acc 0.9062\n",
            "loss 0.07141175950836816\n"
          ],
          "name": "stdout"
        },
        {
          "output_type": "stream",
          "text": [
            "epoch:  60%|██████    | 6/10 [12:44<08:30, 127.54s/it]"
          ],
          "name": "stderr"
        },
        {
          "output_type": "stream",
          "text": [
            "Saved model with val acc 0.9263392857142857\n",
            "\n",
            "Epoch 006 train_loss: 0.0714   val_loss 0.2954 train_acc 0.9769 val_acc 0.9263\n",
            "loss 0.06113124226476785\n"
          ],
          "name": "stdout"
        },
        {
          "output_type": "stream",
          "text": [
            "epoch:  70%|███████   | 7/10 [14:51<06:22, 127.55s/it]"
          ],
          "name": "stderr"
        },
        {
          "output_type": "stream",
          "text": [
            "\n",
            "Epoch 007 train_loss: 0.0611   val_loss 0.3128 train_acc 0.9814 val_acc 0.9129\n",
            "loss 0.049355753597979835\n"
          ],
          "name": "stdout"
        },
        {
          "output_type": "stream",
          "text": [
            "epoch:  80%|████████  | 8/10 [17:00<04:15, 127.79s/it]"
          ],
          "name": "stderr"
        },
        {
          "output_type": "stream",
          "text": [
            "Saved model with val acc 0.9268973214285714\n",
            "\n",
            "Epoch 008 train_loss: 0.0494   val_loss 0.2714 train_acc 0.9855 val_acc 0.9269\n",
            "loss 0.03636820721646246\n"
          ],
          "name": "stdout"
        },
        {
          "output_type": "stream",
          "text": [
            "epoch:  90%|█████████ | 9/10 [19:07<02:07, 127.70s/it]"
          ],
          "name": "stderr"
        },
        {
          "output_type": "stream",
          "text": [
            "\n",
            "Epoch 009 train_loss: 0.0364   val_loss 0.3162 train_acc 0.9881 val_acc 0.9252\n",
            "loss 0.027779551596385278\n"
          ],
          "name": "stdout"
        },
        {
          "output_type": "stream",
          "text": [
            "epoch: 100%|██████████| 10/10 [21:15<00:00, 127.51s/it]"
          ],
          "name": "stderr"
        },
        {
          "output_type": "stream",
          "text": [
            "\n",
            "Epoch 010 train_loss: 0.0278   val_loss 0.2954 train_acc 0.9926 val_acc 0.9241\n"
          ],
          "name": "stdout"
        },
        {
          "output_type": "stream",
          "text": [
            "\n"
          ],
          "name": "stderr"
        }
      ]
    },
    {
      "cell_type": "code",
      "metadata": {
        "colab": {
          "base_uri": "https://localhost:8080/"
        },
        "id": "2acIz_1u4eM-",
        "outputId": "2fa14174-158b-4212-851d-ac597c66cf85"
      },
      "source": [
        "checkpoint = torch.load(name)\r\n",
        "model_resnet.load_state_dict(checkpoint['model_state_dict'])\r\n",
        "\r\n",
        "model_resnet.eval()\r\n",
        "probs_ims = predict(model_resnet, imgs)\r\n",
        "actual_labels = [val_dataset[id][1] for id in idxs]\r\n",
        "f1_score(actual_labels, np.argmax(probs_ims, axis=1), average='micro')"
      ],
      "execution_count": null,
      "outputs": [
        {
          "output_type": "execute_result",
          "data": {
            "text/plain": [
              "0.927478376580173"
            ]
          },
          "metadata": {
            "tags": []
          },
          "execution_count": 34
        }
      ]
    },
    {
      "cell_type": "markdown",
      "metadata": {
        "id": "A4sbR8z0s1HR"
      },
      "source": [
        "#DenseNet дифференцированное обучение слоев"
      ]
    },
    {
      "cell_type": "code",
      "metadata": {
        "id": "bsGQyySkg2Gh"
      },
      "source": [
        "# Вернем первоначальные веса resnet50\r\n",
        "model_densenet = models.densenet161(pretrained=True)\r\n",
        "found_lr =0.00005\r\n",
        "#Заменяем родной классификатор model на наш новый линейный классификатор\r\n",
        "model_densenet.classifier = nn.Sequential(nn.Linear(2208, 128),\r\n",
        "                           nn.BatchNorm1d(128),\r\n",
        "                           nn.ReLU(),\r\n",
        "                           nn.Dropout(p=0.5),\r\n",
        "                           nn.Linear(128, 50))"
      ],
      "execution_count": null,
      "outputs": []
    },
    {
      "cell_type": "code",
      "metadata": {
        "id": "4ceZSiEdkBl-"
      },
      "source": [
        "param01 = model_densenet.features.conv0.parameters()\r\n",
        "param02 = model_densenet.features.norm0.parameters()\r\n",
        "param1 = model_densenet.features.denseblock1.parameters()\r\n",
        "param2 = model_densenet.features.denseblock2.parameters()\r\n",
        "param3 = model_densenet.features.denseblock3.parameters()\r\n",
        "param4 = model_densenet.features.denseblock4.parameters()\r\n",
        "param41 = model_densenet.features.norm5.parameters()"
      ],
      "execution_count": null,
      "outputs": []
    },
    {
      "cell_type": "code",
      "metadata": {
        "id": "HJaPlP7ckUi1"
      },
      "source": [
        "opt = torch.optim.AdamW([{ 'params': model_densenet.classifier.parameters(), 'lr': found_lr},\r\n",
        "                         { 'params': param41, 'lr': found_lr / 3},\r\n",
        "                         { 'params': param4, 'lr': found_lr / 10},\r\n",
        "                         { 'params': param3, 'lr': found_lr / 50},\r\n",
        "                         { 'params': param2, 'lr': found_lr / 100},\r\n",
        "                         {'params': param1, 'lr': found_lr / 1000},\r\n",
        "                         {'params': param02, 'lr': found_lr / 1000},\r\n",
        "                         {'params': param01, 'lr': found_lr / 1000}],\r\n",
        "                        lr=found_lr / 100, amsgrad=True)"
      ],
      "execution_count": null,
      "outputs": []
    },
    {
      "cell_type": "code",
      "metadata": {
        "id": "8J9yaNspg2PP"
      },
      "source": [
        "print('Params to update:')\r\n",
        "i = 0\r\n",
        "for name,param in model_densenet.named_parameters():\r\n",
        "  print(f\"{i} {name}\")\r\n",
        "  i += 1"
      ],
      "execution_count": null,
      "outputs": []
    },
    {
      "cell_type": "code",
      "metadata": {
        "id": "q-aIXJQQg2Tn",
        "colab": {
          "base_uri": "https://localhost:8080/"
        },
        "outputId": "12aaf120-31e9-420e-816b-bbfcd067a064"
      },
      "source": [
        "name = '/content/gdrive/MyDrive/DogsModelDENSENET161_with_LR.pth'\r\n",
        "torch.cuda.empty_cache()\r\n",
        "history = train(train_dataset, val_dataset, model = model_densenet.cuda(), opt = opt, epochs = 10, batch_size = 32, name = name)"
      ],
      "execution_count": null,
      "outputs": [
        {
          "output_type": "stream",
          "text": [
            "\repoch:   0%|          | 0/10 [00:00<?, ?it/s]"
          ],
          "name": "stderr"
        },
        {
          "output_type": "stream",
          "text": [
            "loss 3.510464099423345\n"
          ],
          "name": "stdout"
        },
        {
          "output_type": "stream",
          "text": [
            "epoch:  10%|█         | 1/10 [02:19<20:55, 139.46s/it]"
          ],
          "name": "stderr"
        },
        {
          "output_type": "stream",
          "text": [
            "Saved model with val acc 0.5803571428571428\n",
            "\n",
            "Epoch 001 train_loss: 3.5105   val_loss 2.8576 train_acc 0.1649 val_acc 0.5804\n",
            "loss 0.9006841207331425\n"
          ],
          "name": "stdout"
        },
        {
          "output_type": "stream",
          "text": [
            "epoch:  20%|██        | 2/10 [04:38<18:33, 139.20s/it]"
          ],
          "name": "stderr"
        },
        {
          "output_type": "stream",
          "text": [
            "Saved model with val acc 0.8733258928571428\n",
            "\n",
            "Epoch 002 train_loss: 0.9007   val_loss 0.4271 train_acc 0.7862 val_acc 0.8733\n",
            "loss 0.33075373254059237\n"
          ],
          "name": "stdout"
        },
        {
          "output_type": "stream",
          "text": [
            "epoch:  30%|███       | 3/10 [06:56<16:12, 138.97s/it]"
          ],
          "name": "stderr"
        },
        {
          "output_type": "stream",
          "text": [
            "Saved model with val acc 0.9017857142857142\n",
            "\n",
            "Epoch 003 train_loss: 0.3308   val_loss 0.3394 train_acc 0.9036 val_acc 0.9018\n",
            "loss 0.2432292899568151\n"
          ],
          "name": "stdout"
        },
        {
          "output_type": "stream",
          "text": [
            "epoch:  40%|████      | 4/10 [09:15<13:53, 138.85s/it]"
          ],
          "name": "stderr"
        },
        {
          "output_type": "stream",
          "text": [
            "Saved model with val acc 0.9112723214285714\n",
            "\n",
            "Epoch 004 train_loss: 0.2432   val_loss 0.3036 train_acc 0.9272 val_acc 0.9113\n",
            "loss 0.18533508591617312\n"
          ],
          "name": "stdout"
        },
        {
          "output_type": "stream",
          "text": [
            "epoch:  50%|█████     | 5/10 [11:33<11:33, 138.62s/it]"
          ],
          "name": "stderr"
        },
        {
          "output_type": "stream",
          "text": [
            "\n",
            "Epoch 005 train_loss: 0.1853   val_loss 0.3249 train_acc 0.9473 val_acc 0.8990\n",
            "loss 0.13795853368896377\n"
          ],
          "name": "stdout"
        },
        {
          "output_type": "stream",
          "text": [
            "epoch:  60%|██████    | 6/10 [13:51<09:13, 138.48s/it]"
          ],
          "name": "stderr"
        },
        {
          "output_type": "stream",
          "text": [
            "\n",
            "Epoch 006 train_loss: 0.1380   val_loss 0.3038 train_acc 0.9604 val_acc 0.9062\n",
            "loss 0.12108012050623161\n"
          ],
          "name": "stdout"
        },
        {
          "output_type": "stream",
          "text": [
            "epoch:  70%|███████   | 7/10 [16:09<06:55, 138.34s/it]"
          ],
          "name": "stderr"
        },
        {
          "output_type": "stream",
          "text": [
            "\n",
            "Epoch 007 train_loss: 0.1211   val_loss 0.3001 train_acc 0.9656 val_acc 0.9090\n",
            "loss 0.10463773391955086\n"
          ],
          "name": "stdout"
        },
        {
          "output_type": "stream",
          "text": [
            "epoch:  80%|████████  | 8/10 [18:27<04:36, 138.32s/it]"
          ],
          "name": "stderr"
        },
        {
          "output_type": "stream",
          "text": [
            "Saved model with val acc 0.9135044642857142\n",
            "\n",
            "Epoch 008 train_loss: 0.1046   val_loss 0.2803 train_acc 0.9717 val_acc 0.9135\n",
            "loss 0.07989572429184492\n"
          ],
          "name": "stdout"
        },
        {
          "output_type": "stream",
          "text": [
            "epoch:  90%|█████████ | 9/10 [20:45<02:18, 138.28s/it]"
          ],
          "name": "stderr"
        },
        {
          "output_type": "stream",
          "text": [
            "\n",
            "Epoch 009 train_loss: 0.0799   val_loss 0.3186 train_acc 0.9792 val_acc 0.9068\n",
            "loss 0.06558739152991022\n"
          ],
          "name": "stdout"
        },
        {
          "output_type": "stream",
          "text": [
            "epoch: 100%|██████████| 10/10 [23:03<00:00, 138.37s/it]"
          ],
          "name": "stderr"
        },
        {
          "output_type": "stream",
          "text": [
            "\n",
            "Epoch 010 train_loss: 0.0656   val_loss 0.3090 train_acc 0.9838 val_acc 0.9124\n"
          ],
          "name": "stdout"
        },
        {
          "output_type": "stream",
          "text": [
            "\n"
          ],
          "name": "stderr"
        }
      ]
    },
    {
      "cell_type": "code",
      "metadata": {
        "id": "fq2T7FWkg2Y5",
        "colab": {
          "base_uri": "https://localhost:8080/"
        },
        "outputId": "36123314-7dba-40d2-cb9b-04da37f8e291"
      },
      "source": [
        "checkpoint = torch.load(name)\r\n",
        "model_densenet.load_state_dict(checkpoint['model_state_dict'])\r\n",
        "\r\n",
        "model_densenet.eval()\r\n",
        "probs_ims = predict(model_densenet, imgs)\r\n",
        "actual_labels = [val_dataset[id][1] for id in idxs]\r\n",
        "f1_score(actual_labels, np.argmax(probs_ims, axis=1), average='micro')"
      ],
      "execution_count": null,
      "outputs": [
        {
          "output_type": "execute_result",
          "data": {
            "text/plain": [
              "0.9128409846972722"
            ]
          },
          "metadata": {
            "tags": []
          },
          "execution_count": 25
        }
      ]
    },
    {
      "cell_type": "code",
      "metadata": {
        "id": "QD00fEsuTR0v"
      },
      "source": [
        ""
      ],
      "execution_count": null,
      "outputs": []
    },
    {
      "cell_type": "markdown",
      "metadata": {
        "id": "vsl_xzcNs1Kn"
      },
      "source": [
        "#EfficientNet дифференцированное обучение слоев"
      ]
    },
    {
      "cell_type": "code",
      "metadata": {
        "colab": {
          "base_uri": "https://localhost:8080/"
        },
        "id": "tzX9OnNatQkG",
        "outputId": "021605b3-2861-4b20-964e-a7a8e826fb84"
      },
      "source": [
        "!pip install efficientnet_pytorch\r\n",
        "from efficientnet_pytorch import EfficientNet\r\n",
        "\r\n",
        "model_effnet_b6 = EfficientNet.from_pretrained('efficientnet-b6', num_classes=50)"
      ],
      "execution_count": null,
      "outputs": [
        {
          "output_type": "stream",
          "text": [
            "Requirement already satisfied: efficientnet_pytorch in /usr/local/lib/python3.6/dist-packages (0.7.0)\n",
            "Requirement already satisfied: torch in /usr/local/lib/python3.6/dist-packages (from efficientnet_pytorch) (1.7.0+cu101)\n",
            "Requirement already satisfied: typing-extensions in /usr/local/lib/python3.6/dist-packages (from torch->efficientnet_pytorch) (3.7.4.3)\n",
            "Requirement already satisfied: future in /usr/local/lib/python3.6/dist-packages (from torch->efficientnet_pytorch) (0.16.0)\n",
            "Requirement already satisfied: numpy in /usr/local/lib/python3.6/dist-packages (from torch->efficientnet_pytorch) (1.18.5)\n",
            "Requirement already satisfied: dataclasses in /usr/local/lib/python3.6/dist-packages (from torch->efficientnet_pytorch) (0.8)\n",
            "Loaded pretrained weights for efficientnet-b6\n"
          ],
          "name": "stdout"
        }
      ]
    },
    {
      "cell_type": "code",
      "metadata": {
        "id": "O5lQGNcASdDC"
      },
      "source": [
        "found_lr = 0.00005\r\n",
        "opt = torch.optim.Adam([\r\n",
        "{ 'params': model_effnet_b6._conv_stem.parameters(), 'lr': found_lr / 100},\r\n",
        "{ 'params': model_effnet_b6._bn0.parameters(), 'lr': found_lr / 100},\r\n",
        "{ 'params': model_effnet_b6._blocks[:11].parameters(), 'lr': found_lr / 50},\r\n",
        "{ 'params': model_effnet_b6._blocks[11:22].parameters(), 'lr': found_lr / 50},\r\n",
        "{ 'params': model_effnet_b6._blocks[22:33].parameters(), 'lr': found_lr / 3},\r\n",
        "{ 'params': model_effnet_b6._blocks[33:44].parameters(), 'lr': found_lr / 3},\r\n",
        "{ 'params': model_effnet_b6._bn1.parameters(), 'lr': found_lr},\r\n",
        "{ 'params': model_effnet_b6._fc.parameters(), 'lr': found_lr},\r\n",
        "], lr=found_lr / 100, amsgrad=True)"
      ],
      "execution_count": null,
      "outputs": []
    },
    {
      "cell_type": "code",
      "metadata": {
        "id": "5YIH-htptQ3S"
      },
      "source": [
        "i = 0\r\n",
        "for name,param in model_effnet_b6.named_parameters():\r\n",
        "  print(f\"{i} {name}\")\r\n",
        "  i += 1"
      ],
      "execution_count": null,
      "outputs": []
    },
    {
      "cell_type": "code",
      "metadata": {
        "colab": {
          "base_uri": "https://localhost:8080/"
        },
        "id": "pRFoEFzAtQ9w",
        "outputId": "9ba81fb8-6b33-4a49-df39-280d117b152d"
      },
      "source": [
        "name = '/content/gdrive/MyDrive/DogsModelEFFNET_B6_with_LR.pth'\r\n",
        "torch.cuda.empty_cache()\r\n",
        "history = train(train_dataset, val_dataset, model = model_effnet_b6.cuda(), opt = opt, epochs = 10, batch_size = 32, name = name)"
      ],
      "execution_count": null,
      "outputs": [
        {
          "output_type": "stream",
          "text": [
            "\repoch:   0%|          | 0/10 [00:00<?, ?it/s]"
          ],
          "name": "stderr"
        },
        {
          "output_type": "stream",
          "text": [
            "loss 3.833459596009249\n"
          ],
          "name": "stdout"
        },
        {
          "output_type": "stream",
          "text": [
            "epoch:  10%|█         | 1/10 [04:28<40:12, 268.09s/it]"
          ],
          "name": "stderr"
        },
        {
          "output_type": "stream",
          "text": [
            "Saved model with val acc 0.47935267857142855\n",
            "\n",
            "Epoch 001 train_loss: 3.8335   val_loss 3.6801 train_acc 0.0832 val_acc 0.4794\n",
            "loss 2.808733936730574\n"
          ],
          "name": "stdout"
        },
        {
          "output_type": "stream",
          "text": [
            "epoch:  20%|██        | 2/10 [08:51<35:33, 266.65s/it]"
          ],
          "name": "stderr"
        },
        {
          "output_type": "stream",
          "text": [
            "Saved model with val acc 0.80859375\n",
            "\n",
            "Epoch 002 train_loss: 2.8087   val_loss 0.7059 train_acc 0.6744 val_acc 0.8086\n",
            "loss 0.4384771704917776\n"
          ],
          "name": "stdout"
        },
        {
          "output_type": "stream",
          "text": [
            "epoch:  30%|███       | 3/10 [13:14<30:59, 265.67s/it]"
          ],
          "name": "stderr"
        },
        {
          "output_type": "stream",
          "text": [
            "Saved model with val acc 0.8962053571428571\n",
            "\n",
            "Epoch 003 train_loss: 0.4385   val_loss 0.3768 train_acc 0.8735 val_acc 0.8962\n",
            "loss 0.20174682397668495\n"
          ],
          "name": "stdout"
        },
        {
          "output_type": "stream",
          "text": [
            "epoch:  40%|████      | 4/10 [17:37<26:28, 264.68s/it]"
          ],
          "name": "stderr"
        },
        {
          "output_type": "stream",
          "text": [
            "\n",
            "Epoch 004 train_loss: 0.2017   val_loss 0.3476 train_acc 0.9418 val_acc 0.8951\n",
            "loss 0.1190582228208236\n"
          ],
          "name": "stdout"
        },
        {
          "output_type": "stream",
          "text": [
            "epoch:  50%|█████     | 5/10 [21:59<22:00, 264.09s/it]"
          ],
          "name": "stderr"
        },
        {
          "output_type": "stream",
          "text": [
            "Saved model with val acc 0.9029017857142857\n",
            "\n",
            "Epoch 005 train_loss: 0.1191   val_loss 0.3328 train_acc 0.9656 val_acc 0.9029\n",
            "loss 0.07684536936516473\n"
          ],
          "name": "stdout"
        },
        {
          "output_type": "stream",
          "text": [
            "epoch:  60%|██████    | 6/10 [26:22<17:34, 263.56s/it]"
          ],
          "name": "stderr"
        },
        {
          "output_type": "stream",
          "text": [
            "\n",
            "Epoch 006 train_loss: 0.0768   val_loss 0.3595 train_acc 0.9816 val_acc 0.9018\n",
            "loss 0.05499629489314969\n"
          ],
          "name": "stdout"
        },
        {
          "output_type": "stream",
          "text": [
            "epoch:  70%|███████   | 7/10 [30:44<13:09, 263.33s/it]"
          ],
          "name": "stderr"
        },
        {
          "output_type": "stream",
          "text": [
            "Saved model with val acc 0.9056919642857142\n",
            "\n",
            "Epoch 007 train_loss: 0.0550   val_loss 0.3611 train_acc 0.9849 val_acc 0.9057\n",
            "loss 0.04314401981954237\n"
          ],
          "name": "stdout"
        },
        {
          "output_type": "stream",
          "text": [
            "epoch:  80%|████████  | 8/10 [35:07<08:45, 262.97s/it]"
          ],
          "name": "stderr"
        },
        {
          "output_type": "stream",
          "text": [
            "\n",
            "Epoch 008 train_loss: 0.0431   val_loss 0.3717 train_acc 0.9898 val_acc 0.9023\n",
            "loss 0.030898500915310354\n"
          ],
          "name": "stdout"
        },
        {
          "output_type": "stream",
          "text": [
            "epoch:  90%|█████████ | 9/10 [39:29<04:22, 262.88s/it]"
          ],
          "name": "stderr"
        },
        {
          "output_type": "stream",
          "text": [
            "\n",
            "Epoch 009 train_loss: 0.0309   val_loss 0.3756 train_acc 0.9924 val_acc 0.9012\n",
            "loss 0.026154743011515404\n"
          ],
          "name": "stdout"
        },
        {
          "output_type": "stream",
          "text": [
            "epoch: 100%|██████████| 10/10 [43:53<00:00, 263.34s/it]"
          ],
          "name": "stderr"
        },
        {
          "output_type": "stream",
          "text": [
            "\n",
            "Epoch 010 train_loss: 0.0262   val_loss 0.4234 train_acc 0.9920 val_acc 0.8895\n"
          ],
          "name": "stdout"
        },
        {
          "output_type": "stream",
          "text": [
            "\n"
          ],
          "name": "stderr"
        }
      ]
    },
    {
      "cell_type": "code",
      "metadata": {
        "colab": {
          "base_uri": "https://localhost:8080/"
        },
        "id": "Chv85F8TtREF",
        "outputId": "7f160d91-013d-4195-e2ad-d5b2a7d87902"
      },
      "source": [
        "checkpoint = torch.load(name)\r\n",
        "model_effnet_b6.load_state_dict(checkpoint['model_state_dict'])\r\n",
        "\r\n",
        "model_effnet_b6.eval()\r\n",
        "probs_ims = predict(model_effnet_b6, imgs)\r\n",
        "actual_labels = [val_dataset[id][1] for id in idxs]\r\n",
        "from sklearn.metrics import f1_score\r\n",
        "f1_score(actual_labels, np.argmax(probs_ims, axis=1), average='micro')"
      ],
      "execution_count": null,
      "outputs": [
        {
          "output_type": "execute_result",
          "data": {
            "text/plain": [
              "0.9095143047238856"
            ]
          },
          "metadata": {
            "tags": []
          },
          "execution_count": 23
        }
      ]
    },
    {
      "cell_type": "code",
      "metadata": {
        "id": "bDQD4NtctRMX"
      },
      "source": [
        ""
      ],
      "execution_count": null,
      "outputs": []
    },
    {
      "cell_type": "markdown",
      "metadata": {
        "id": "33LozW32puQe"
      },
      "source": [
        "#Ансамбль VGG+ResNet+DenseNet"
      ]
    },
    {
      "cell_type": "code",
      "metadata": {
        "id": "DEohQZgwpxLC"
      },
      "source": [
        "class MyEnsemble(nn.Module):\r\n",
        "    \"\"\"Модель-ансамбль из 4 моделей: modelA, modelB, modelC и modelD\r\n",
        "    технически является нейросетью нейросетей, выходы от нейросетей modelA, \r\n",
        "    modelB, modelC и modelD являются входными признаками на одиночный \r\n",
        "    линейный слой. В качестве выходных так же наши классы.\r\n",
        "    Мы надеемся что линейный слой перестроится, таким образом, чтобы собирать \r\n",
        "    более точные предсказания от более точной сети для каждого из классов.\r\n",
        "    https://discuss.pytorch.org/t/combining-trained-models-in-pytorch/28383\"\"\"\r\n",
        "    \r\n",
        "    def __init__(self, modelA, modelB, modelC):\r\n",
        "        super(MyEnsemble, self).__init__()\r\n",
        "        self.modelA = modelA\r\n",
        "        self.modelB = modelB\r\n",
        "        self.modelC = modelC\r\n",
        "        self.classifier =  nn.Sequential(nn.Linear(50 * 3, 128),\r\n",
        "                    nn.BatchNorm1d(128),\r\n",
        "                    nn.ReLU(),\r\n",
        "                    nn.Dropout(p=0.3),\r\n",
        "                    nn.Linear(128, 50)) # посмотреть с dropout и ReLu\r\n",
        "        \r\n",
        "    def forward(self, x):\r\n",
        "        x1 = self.modelA(x)\r\n",
        "        x2 = self.modelB(x)\r\n",
        "        x3 = self.modelC(x)\r\n",
        "        x = torch.cat((x1, x2, x3), dim=1)\r\n",
        "        x = self.classifier(x)\r\n",
        "        return x"
      ],
      "execution_count": 21,
      "outputs": []
    },
    {
      "cell_type": "code",
      "metadata": {
        "colab": {
          "base_uri": "https://localhost:8080/",
          "height": 168,
          "referenced_widgets": [
            "cd221f8f927d4205a1e0627af520308d",
            "aa1959bd8bf24fd893f32f875f3510cc",
            "bc1c8ceac119452aba70e3713b5dd173",
            "2ea5a73eece84d02b61ec1d1dc5566b7",
            "9363c347c31043a9bced12e0520df220",
            "23ff78aaa86a4c1a91b386ddf8515e63",
            "7e98f7c62d01427ab05136a78201ec73",
            "c573e3f523de40d98ef061fbb8128dc5",
            "5f7f583766214ecba60a86e73670b83b",
            "230dd60892dd424b99ce0c836165ab27",
            "daacabf0bb2746a281e74e5fdb9e67cb",
            "09015f06d12a436eb8a68630deebef8c",
            "6c6e39b0467e4b7bb2cc455d63c1cc02",
            "d606a0c9180048cfb94d9878886898d6",
            "7cd035a534284142930570ef5976e78c",
            "36689d463ddb494daf6f193969c60ba4"
          ]
        },
        "id": "HEHlPeOxpxQV",
        "outputId": "ef020462-2974-46d6-90ed-61fd65b49124"
      },
      "source": [
        "model_vgg = models.vgg19(pretrained=True)\r\n",
        "model_vgg.classifier[6] = nn.Linear(in_features=4096, out_features=50, bias=True)\r\n",
        "checkpoint = torch.load('/content/gdrive/MyDrive/DogsModelVGG_with_LR.pth')\r\n",
        "model_vgg.load_state_dict(checkpoint['model_state_dict'])\r\n",
        "\r\n",
        "model_densenet = models.densenet161(pretrained=True)\r\n",
        "model_densenet.classifier = nn.Sequential(nn.Linear(2208, 128),\r\n",
        "                           nn.BatchNorm1d(128),\r\n",
        "                           nn.ReLU(),\r\n",
        "                           nn.Dropout(p=0.5),\r\n",
        "                           nn.Linear(128, 50))\r\n",
        "checkpoint = torch.load('/content/gdrive/MyDrive/DogsModelDENSENET161_with_LR.pth')\r\n",
        "model_densenet.load_state_dict(checkpoint['model_state_dict'])\r\n",
        "\r\n",
        "model_resnet = models.resnet152(pretrained=True)\r\n",
        "model_resnet = model_resnet.cuda()\r\n",
        "model_resnet.fc = nn.Sequential(nn.Linear(in_features=2048, out_features=1000, bias=True),\r\n",
        " nn.Dropout(0.5),\r\n",
        " nn.Linear(1000, 50, bias=True))\r\n",
        "checkpoint = torch.load('/content/gdrive/MyDrive/DogsModelRESNET152_with_LR.pth')\r\n",
        "model_resnet.load_state_dict(checkpoint['model_state_dict'])"
      ],
      "execution_count": null,
      "outputs": [
        {
          "output_type": "stream",
          "text": [
            "Downloading: \"https://download.pytorch.org/models/vgg19-dcbb9e9d.pth\" to /root/.cache/torch/hub/checkpoints/vgg19-dcbb9e9d.pth\n"
          ],
          "name": "stderr"
        },
        {
          "output_type": "display_data",
          "data": {
            "application/vnd.jupyter.widget-view+json": {
              "model_id": "cd221f8f927d4205a1e0627af520308d",
              "version_minor": 0,
              "version_major": 2
            },
            "text/plain": [
              "HBox(children=(FloatProgress(value=0.0, max=574673361.0), HTML(value='')))"
            ]
          },
          "metadata": {
            "tags": []
          }
        },
        {
          "output_type": "stream",
          "text": [
            "\n"
          ],
          "name": "stdout"
        },
        {
          "output_type": "stream",
          "text": [
            "Downloading: \"https://download.pytorch.org/models/resnet152-b121ed2d.pth\" to /root/.cache/torch/hub/checkpoints/resnet152-b121ed2d.pth\n"
          ],
          "name": "stderr"
        },
        {
          "output_type": "display_data",
          "data": {
            "application/vnd.jupyter.widget-view+json": {
              "model_id": "5f7f583766214ecba60a86e73670b83b",
              "version_minor": 0,
              "version_major": 2
            },
            "text/plain": [
              "HBox(children=(FloatProgress(value=0.0, max=241530880.0), HTML(value='')))"
            ]
          },
          "metadata": {
            "tags": []
          }
        },
        {
          "output_type": "stream",
          "text": [
            "\n"
          ],
          "name": "stdout"
        },
        {
          "output_type": "execute_result",
          "data": {
            "text/plain": [
              "<All keys matched successfully>"
            ]
          },
          "metadata": {
            "tags": []
          },
          "execution_count": 27
        }
      ]
    },
    {
      "cell_type": "code",
      "metadata": {
        "id": "G168XzSWpxUf"
      },
      "source": [
        "model_ensemble = MyEnsemble(model_vgg,\r\n",
        "                            model_densenet,\r\n",
        "                            model_resnet)"
      ],
      "execution_count": null,
      "outputs": []
    },
    {
      "cell_type": "code",
      "metadata": {
        "id": "oWwxXuDVpxaM"
      },
      "source": [
        "# замораживаем параметры (веса) не входящие в layers_to_unfreeze\r\n",
        "for param in model_ensemble.parameters():\r\n",
        "    param.requires_grad = False"
      ],
      "execution_count": null,
      "outputs": []
    },
    {
      "cell_type": "code",
      "metadata": {
        "id": "AtywV2VjuxiL"
      },
      "source": [
        "for param in model_ensemble.classifier.parameters():\r\n",
        "    param.requires_grad = True"
      ],
      "execution_count": null,
      "outputs": []
    },
    {
      "cell_type": "code",
      "metadata": {
        "id": "BLp-_o0fuxpo"
      },
      "source": [
        "opt = torch.optim.Adam(model_ensemble.classifier.parameters(), lr=0.003, amsgrad=True)\r\n",
        "\r\n",
        "# Использовать ли GPU\r\n",
        "model_ensemble = model_ensemble.cuda()"
      ],
      "execution_count": null,
      "outputs": []
    },
    {
      "cell_type": "code",
      "metadata": {
        "colab": {
          "base_uri": "https://localhost:8080/"
        },
        "id": "4DH0SpaEvL4D",
        "outputId": "1a5e6b64-4ce2-4e0e-f716-f588de2a305a"
      },
      "source": [
        "name = '/content/gdrive/MyDrive/DogsModel_ENSEMBLE.pth'\r\n",
        "torch.cuda.empty_cache()\r\n",
        "history = train(train_dataset, val_dataset, model = model_ensemble.cuda(), opt = opt, epochs = 10, batch_size = 16, name = name)"
      ],
      "execution_count": null,
      "outputs": [
        {
          "output_type": "stream",
          "text": [
            "\repoch:   0%|          | 0/10 [00:00<?, ?it/s]"
          ],
          "name": "stderr"
        },
        {
          "output_type": "stream",
          "text": [
            "loss 1.0709997742070467\n"
          ],
          "name": "stdout"
        },
        {
          "output_type": "stream",
          "text": [
            "epoch:  10%|█         | 1/10 [02:21<21:13, 141.47s/it]"
          ],
          "name": "stderr"
        },
        {
          "output_type": "stream",
          "text": [
            "Saved model with val acc 0.9603794642857142\n",
            "\n",
            "Epoch 001 train_loss: 1.0710   val_loss 0.1824 train_acc 0.7261 val_acc 0.9604\n",
            "loss 0.20813997977582727\n"
          ],
          "name": "stdout"
        },
        {
          "output_type": "stream",
          "text": [
            "epoch:  20%|██        | 2/10 [04:36<18:37, 139.68s/it]"
          ],
          "name": "stderr"
        },
        {
          "output_type": "stream",
          "text": [
            "\n",
            "Epoch 002 train_loss: 0.2081   val_loss 0.1699 train_acc 0.9360 val_acc 0.9459\n",
            "loss 0.17514337735007277\n"
          ],
          "name": "stdout"
        },
        {
          "output_type": "stream",
          "text": [
            "epoch:  30%|███       | 3/10 [06:51<16:07, 138.23s/it]"
          ],
          "name": "stderr"
        },
        {
          "output_type": "stream",
          "text": [
            "\n",
            "Epoch 003 train_loss: 0.1751   val_loss 0.1785 train_acc 0.9459 val_acc 0.9420\n",
            "loss 0.14150575248806682\n"
          ],
          "name": "stdout"
        },
        {
          "output_type": "stream",
          "text": [
            "epoch:  40%|████      | 4/10 [09:06<13:43, 137.20s/it]"
          ],
          "name": "stderr"
        },
        {
          "output_type": "stream",
          "text": [
            "\n",
            "Epoch 004 train_loss: 0.1415   val_loss 0.1645 train_acc 0.9581 val_acc 0.9526\n",
            "loss 0.15247716582603793\n"
          ],
          "name": "stdout"
        },
        {
          "output_type": "stream",
          "text": [
            "epoch:  50%|█████     | 5/10 [11:25<11:28, 137.69s/it]"
          ],
          "name": "stderr"
        },
        {
          "output_type": "stream",
          "text": [
            "Saved model with val acc 0.96484375\n",
            "\n",
            "Epoch 005 train_loss: 0.1525   val_loss 0.1454 train_acc 0.9490 val_acc 0.9648\n",
            "loss 0.12080113788991113\n"
          ],
          "name": "stdout"
        },
        {
          "output_type": "stream",
          "text": [
            "epoch:  60%|██████    | 6/10 [13:45<09:13, 138.32s/it]"
          ],
          "name": "stderr"
        },
        {
          "output_type": "stream",
          "text": [
            "Saved model with val acc 0.9676339285714285\n",
            "\n",
            "Epoch 006 train_loss: 0.1208   val_loss 0.1227 train_acc 0.9619 val_acc 0.9676\n",
            "loss 0.12803443907914322\n"
          ],
          "name": "stdout"
        },
        {
          "output_type": "stream",
          "text": [
            "epoch:  70%|███████   | 7/10 [16:00<06:52, 137.47s/it]"
          ],
          "name": "stderr"
        },
        {
          "output_type": "stream",
          "text": [
            "\n",
            "Epoch 007 train_loss: 0.1280   val_loss 0.1322 train_acc 0.9583 val_acc 0.9609\n",
            "loss 0.10717531005932683\n"
          ],
          "name": "stdout"
        },
        {
          "output_type": "stream",
          "text": [
            "epoch:  80%|████████  | 8/10 [18:15<04:33, 136.65s/it]"
          ],
          "name": "stderr"
        },
        {
          "output_type": "stream",
          "text": [
            "\n",
            "Epoch 008 train_loss: 0.1072   val_loss 0.1613 train_acc 0.9622 val_acc 0.9531\n",
            "loss 0.10776029705306689\n"
          ],
          "name": "stdout"
        },
        {
          "output_type": "stream",
          "text": [
            "epoch:  90%|█████████ | 9/10 [20:30<02:16, 136.08s/it]"
          ],
          "name": "stderr"
        },
        {
          "output_type": "stream",
          "text": [
            "\n",
            "Epoch 009 train_loss: 0.1078   val_loss 0.1526 train_acc 0.9656 val_acc 0.9576\n",
            "loss 0.1027026091521009\n"
          ],
          "name": "stdout"
        },
        {
          "output_type": "stream",
          "text": [
            "epoch: 100%|██████████| 10/10 [22:45<00:00, 136.51s/it]"
          ],
          "name": "stderr"
        },
        {
          "output_type": "stream",
          "text": [
            "\n",
            "Epoch 010 train_loss: 0.1027   val_loss 0.1897 train_acc 0.9641 val_acc 0.9498\n"
          ],
          "name": "stdout"
        },
        {
          "output_type": "stream",
          "text": [
            "\n"
          ],
          "name": "stderr"
        }
      ]
    },
    {
      "cell_type": "code",
      "metadata": {
        "colab": {
          "base_uri": "https://localhost:8080/"
        },
        "id": "faoZ4DBsvL8j",
        "outputId": "da1ab003-c49d-4998-883a-4ff5bdd8caa6"
      },
      "source": [
        "checkpoint = torch.load(name)\r\n",
        "model_ensemble.load_state_dict(checkpoint['model_state_dict'])\r\n",
        "\r\n",
        "model_ensemble.eval()\r\n",
        "probs_ims = predict(model_ensemble, imgs)\r\n",
        "actual_labels = [val_dataset[id][1] for id in idxs]\r\n",
        "f1_score(actual_labels, np.argmax(probs_ims, axis=1), average='micro')"
      ],
      "execution_count": null,
      "outputs": [
        {
          "output_type": "execute_result",
          "data": {
            "text/plain": [
              "0.9667332002661345"
            ]
          },
          "metadata": {
            "tags": []
          },
          "execution_count": 35
        }
      ]
    },
    {
      "cell_type": "code",
      "metadata": {
        "id": "0eyX0zfa1eZw"
      },
      "source": [
        ""
      ],
      "execution_count": null,
      "outputs": []
    },
    {
      "cell_type": "markdown",
      "metadata": {
        "id": "k03R4lxAsyGr"
      },
      "source": [
        "#Ансамбль из всех обученных сетей с поиском lr"
      ]
    },
    {
      "cell_type": "code",
      "metadata": {
        "id": "XghKonQgDO5A"
      },
      "source": [
        "import math\r\n",
        "def find_lr(model, dataloader, loss_fn, optimizer, init_value=1e-8, final_value=10.0, use_gpu=True):\r\n",
        "    \"\"\"Функция для поиска оптимального learning rate, модифицирована мной для \r\n",
        "    поддержки GPU.\r\n",
        "\r\n",
        "    Суть подхода заключается в том, чтобы обучать нейросеть на каждом батче с \r\n",
        "    различным уровнем lr, начиная с самого малого init_value в выбранном нами \r\n",
        "    диапазоне [init_value, final_value] и заканчивая самым большим final_value. \r\n",
        "    При этом мы будем записывать в массив значение lr и полученного на этом \r\n",
        "    значении lr значение loss функции. В результате мы получим таблицу\r\n",
        "    зависимости loss от значения lr. Построив по ним график, в области\r\n",
        "    резкого снижения полученых значений loss функции и будет оптимальный \r\n",
        "    для обучения lr.\r\n",
        "\r\n",
        "    Функция взята из книги \"Ian Pointer - Programming PyTorch\r\n",
        "    for Deep Learning - Creating and Deploying Deep Learning Applications-\r\n",
        "    O’Reilly Media (2019).\r\n",
        "    Chapter 4. \"Transfer Learning and Other Tricks\" про \"Transfer Learning with ResNet50\" и\r\n",
        "    \"Finding That Learning Rate\".\r\n",
        "    Сделана автором книги на основе подхода описанного в статье\r\n",
        "    “Cyclical Learning Rates for Training Neural Networks” by Leslie Smith (2015).\r\n",
        "\r\n",
        "    Parameters:\r\n",
        "\r\n",
        "    model : torchvision.models или самописаная нейронная сеть созданная \r\n",
        "        в PyTorch или предобученная из torchvision.models.\r\n",
        "    dataloaders : torch.utils.data.DataLoader загрузчик картинок из нашего \r\n",
        "        dataset.\r\n",
        "    loss_fn : loss функция из модуля torch.nn.\r\n",
        "    optimizer : оптимизатор из модуля torch.optim.\r\n",
        "    init_value : float, начальное значение learning rate, из выбранного нами\r\n",
        "        диапазона.\r\n",
        "    final_value : float, конечное значение learning rate.\r\n",
        "    use_gpu : bool, используем ли мы GPU в расчетах \r\n",
        "\r\n",
        "    Returns:\r\n",
        "\r\n",
        "    log_lrs : list, содержащий степень 10 от исследованых нами lr(десятичный \r\n",
        "        логорифм от lr)\r\n",
        "    losses : list, содержащий полученные значения loss функции.\r\n",
        "    \"\"\"\r\n",
        "    model.train() # переключаем модель в режим обучения\r\n",
        "\r\n",
        "    number_in_epoch = len(dataloader) - 1\r\n",
        "    update_step = (final_value / init_value) ** (1 / number_in_epoch)\r\n",
        "    lr = init_value\r\n",
        "    optimizer.param_groups[0][\"lr\"] = lr\r\n",
        "    best_loss = 0.0\r\n",
        "    batch_num = 0\r\n",
        "    losses = []\r\n",
        "    log_lrs = []\r\n",
        "    for inputs, labels in dataloader:\r\n",
        "        if use_gpu:\r\n",
        "            inputs = inputs.to(DEVICE)\r\n",
        "            labels = labels.to(DEVICE)\r\n",
        "\r\n",
        "        batch_num += 1\r\n",
        "        optimizer.zero_grad()\r\n",
        "        outputs = model(inputs)\r\n",
        "        loss = loss_fn(outputs, labels)\r\n",
        "\r\n",
        "        # Crash out if loss explodes\r\n",
        "        if batch_num > 1 and loss > 4 * best_loss:\r\n",
        "            return log_lrs[10:-5], losses[10:-5]\r\n",
        "\r\n",
        "        # Record the best loss\r\n",
        "        if loss < best_loss or batch_num == 1:\r\n",
        "            best_loss = loss\r\n",
        "\r\n",
        "        # Store the values\r\n",
        "        losses.append(loss)\r\n",
        "        log_lrs.append(math.log10(lr))\r\n",
        "\r\n",
        "        # Do the backward pass and optimize\r\n",
        "        loss.backward()\r\n",
        "        optimizer.step()\r\n",
        "\r\n",
        "        # Update the lr for the next step and store\r\n",
        "        lr *= update_step\r\n",
        "        optimizer.param_groups[0][\"lr\"] = lr\r\n",
        "\r\n",
        "    return log_lrs[10:-5], losses[10:-5]"
      ],
      "execution_count": null,
      "outputs": []
    },
    {
      "cell_type": "code",
      "metadata": {
        "id": "4Zz4zI_1syZ7"
      },
      "source": [
        "class MyEnsemble(nn.Module):\r\n",
        "    \"\"\"Модель-ансамбль из 4 моделей: modelA, modelB, modelC и modelD\r\n",
        "    технически является нейросетью нейросетей, выходы от нейросетей modelA, \r\n",
        "    modelB, modelC и modelD являются входными признаками на одиночный \r\n",
        "    линейный слой. В качестве выходных так же наши классы.\r\n",
        "    Мы надеемся что линейный слой перестроится, таким образом, чтобы собирать \r\n",
        "    более точные предсказания от более точной сети для каждого из классов\"\"\"\r\n",
        "    \r\n",
        "    def __init__(self, modelA, modelB, modelC, modelD):\r\n",
        "        super(MyEnsemble, self).__init__()\r\n",
        "        self.modelA = modelA\r\n",
        "        self.modelB = modelB\r\n",
        "        self.modelC = modelC\r\n",
        "        self.modelD = modelD\r\n",
        "        self.classifier =  nn.Sequential(nn.Linear(50 * 4, 128),\r\n",
        "                    nn.BatchNorm1d(128),\r\n",
        "                    nn.ReLU(),\r\n",
        "                    nn.Dropout(p=0.7),\r\n",
        "                    nn.Linear(128, 50)) # посмотреть с dropout и ReLu\r\n",
        "        \r\n",
        "    def forward(self, x):\r\n",
        "        x1 = self.modelA(x)\r\n",
        "        x2 = self.modelB(x)\r\n",
        "        x3 = self.modelC(x)\r\n",
        "        x4 = self.modelD(x)\r\n",
        "        x = torch.cat((x1, x2, x3, x4), dim=1)\r\n",
        "        x = self.classifier(x)\r\n",
        "        return x"
      ],
      "execution_count": 24,
      "outputs": []
    },
    {
      "cell_type": "code",
      "metadata": {
        "colab": {
          "base_uri": "https://localhost:8080/"
        },
        "id": "zRxMqUv9syee",
        "outputId": "a0e0cb10-7707-4f37-d9f2-8da11ebf2a85"
      },
      "source": [
        "model_vgg = models.vgg19(pretrained=True)\r\n",
        "model_vgg.classifier[6] = nn.Linear(in_features=4096, out_features=50, bias=True)\r\n",
        "checkpoint = torch.load('/content/gdrive/MyDrive/DogsModelVGG_with_LR.pth')\r\n",
        "model_vgg.load_state_dict(checkpoint['model_state_dict'])\r\n",
        "\r\n",
        "model_densenet = models.densenet161(pretrained=True)\r\n",
        "model_densenet.classifier = nn.Sequential(nn.Linear(2208, 128),\r\n",
        "                           nn.BatchNorm1d(128),\r\n",
        "                           nn.ReLU(),\r\n",
        "                           nn.Dropout(p=0.5),\r\n",
        "                           nn.Linear(128, 50))\r\n",
        "checkpoint = torch.load('/content/gdrive/MyDrive/DogsModelDENSENET161_with_LR.pth')\r\n",
        "model_densenet.load_state_dict(checkpoint['model_state_dict'])\r\n",
        "\r\n",
        "model_resnet = models.resnet152(pretrained=True)\r\n",
        "model_resnet = model_resnet.cuda()\r\n",
        "model_resnet.fc = nn.Sequential(nn.Linear(in_features=2048, out_features=1000, bias=True),\r\n",
        " nn.Dropout(0.5),\r\n",
        " nn.Linear(1000, 50, bias=True))\r\n",
        "checkpoint = torch.load('/content/gdrive/MyDrive/DogsModelRESNET152_with_LR.pth')\r\n",
        "model_resnet.load_state_dict(checkpoint['model_state_dict'])\r\n",
        "\r\n",
        "!pip install efficientnet_pytorch\r\n",
        "from efficientnet_pytorch import EfficientNet\r\n",
        "model_effnet_b6 = EfficientNet.from_pretrained('efficientnet-b6', num_classes=50)\r\n",
        "model_effnet_b6 = model_effnet_b6.cuda()\r\n",
        "checkpoint = torch.load('/content/gdrive/MyDrive/DogsModelEFFNET_B6_with_LR.pth')\r\n",
        "model_effnet_b6.load_state_dict(checkpoint['model_state_dict'])"
      ],
      "execution_count": null,
      "outputs": [
        {
          "output_type": "stream",
          "text": [
            "Requirement already satisfied: efficientnet_pytorch in /usr/local/lib/python3.6/dist-packages (0.7.0)\n",
            "Requirement already satisfied: torch in /usr/local/lib/python3.6/dist-packages (from efficientnet_pytorch) (1.7.0+cu101)\n",
            "Requirement already satisfied: dataclasses in /usr/local/lib/python3.6/dist-packages (from torch->efficientnet_pytorch) (0.8)\n",
            "Requirement already satisfied: future in /usr/local/lib/python3.6/dist-packages (from torch->efficientnet_pytorch) (0.16.0)\n",
            "Requirement already satisfied: numpy in /usr/local/lib/python3.6/dist-packages (from torch->efficientnet_pytorch) (1.18.5)\n",
            "Requirement already satisfied: typing-extensions in /usr/local/lib/python3.6/dist-packages (from torch->efficientnet_pytorch) (3.7.4.3)\n",
            "Loaded pretrained weights for efficientnet-b6\n"
          ],
          "name": "stdout"
        },
        {
          "output_type": "execute_result",
          "data": {
            "text/plain": [
              "<All keys matched successfully>"
            ]
          },
          "metadata": {
            "tags": []
          },
          "execution_count": 19
        }
      ]
    },
    {
      "cell_type": "code",
      "metadata": {
        "id": "jp3LU6mlsyk5"
      },
      "source": [
        "model_final_ensemble = MyEnsemble(model_vgg,\r\n",
        "                            model_densenet,\r\n",
        "                            model_resnet,\r\n",
        "                            model_effnet_b6)\r\n"
      ],
      "execution_count": null,
      "outputs": []
    },
    {
      "cell_type": "code",
      "metadata": {
        "id": "8MP2HpfTsyqC"
      },
      "source": [
        "# замораживаем параметры (веса) не входящие в layers_to_unfreeze\r\n",
        "for param in model_final_ensemble.parameters():\r\n",
        "    param.requires_grad = False\r\n",
        "for param in model_final_ensemble.classifier.parameters():\r\n",
        "    param.requires_grad = True"
      ],
      "execution_count": null,
      "outputs": []
    },
    {
      "cell_type": "code",
      "metadata": {
        "id": "M-tL1vQTEPir"
      },
      "source": [
        "# Создаём сеть\r\n",
        "train_loader = DataLoader(train_dataset, batch_size=64, shuffle=True)\r\n",
        "loss_fn = nn.CrossEntropyLoss()\r\n",
        "\r\n",
        "# В качестве оптимизатора AdaShift из репозитория МФТИ\r\n",
        "optimizer = torch.optim.Adam(model_final_ensemble.classifier.parameters(), lr=0.003, amsgrad=True)"
      ],
      "execution_count": null,
      "outputs": []
    },
    {
      "cell_type": "code",
      "metadata": {
        "id": "xtbBzjxrDWgM"
      },
      "source": [
        "# подбор оптимального lr для классификатора model_vgg16_bn.classifier\r\n",
        "logs, losses = find_lr(model_final_ensemble.cuda(), train_loader, loss_fn, optimizer, init_value=1e-8, final_value=10.0)"
      ],
      "execution_count": null,
      "outputs": []
    },
    {
      "cell_type": "code",
      "metadata": {
        "colab": {
          "base_uri": "https://localhost:8080/",
          "height": 625
        },
        "id": "hfXieQ04DWk4",
        "outputId": "43dc6797-9c83-4a4d-db7b-6807677b1436"
      },
      "source": [
        "# построим график для оптимального подбора lr\r\n",
        "fig = plt.figure(figsize=(10,10))\r\n",
        "ax = fig.add_subplot(111)\r\n",
        "ax.plot(logs,losses)\r\n",
        "ax.set_xlabel(\"$10^x$\")\r\n",
        "ax.set_ylabel(\"loss\")"
      ],
      "execution_count": null,
      "outputs": [
        {
          "output_type": "execute_result",
          "data": {
            "text/plain": [
              "Text(0, 0.5, 'loss')"
            ]
          },
          "metadata": {
            "tags": []
          },
          "execution_count": 76
        },
        {
          "output_type": "display_data",
          "data": {
            "image/png": "[encoded data removed]",
            "text/plain": [
              "<Figure size 720x720 with 1 Axes>"
            ]
          },
          "metadata": {
            "tags": [],
            "needs_background": "light"
          }
        }
      ]
    },
    {
      "cell_type": "code",
      "metadata": {
        "colab": {
          "base_uri": "https://localhost:8080/"
        },
        "id": "NEvDIq9qDWqe",
        "outputId": "51e25d8b-326c-4831-af92-56d8afc44222"
      },
      "source": [
        "10**(-1.15)"
      ],
      "execution_count": null,
      "outputs": [
        {
          "output_type": "execute_result",
          "data": {
            "text/plain": [
              "0.0707945784384138"
            ]
          },
          "metadata": {
            "tags": []
          },
          "execution_count": 78
        }
      ]
    },
    {
      "cell_type": "code",
      "metadata": {
        "id": "hF_IPsQLt3zt"
      },
      "source": [
        "opt = torch.optim.Adam(model_final_ensemble.classifier.parameters(), lr=0.07, amsgrad=True)\r\n"
      ],
      "execution_count": null,
      "outputs": []
    },
    {
      "cell_type": "code",
      "metadata": {
        "colab": {
          "base_uri": "https://localhost:8080/"
        },
        "id": "NeV9ymwgt35X",
        "outputId": "f27b4984-90bc-482c-ab27-eb31fe57df7f"
      },
      "source": [
        "name = '/content/gdrive/MyDrive/DogsModel_finalENSEMBLE.pth'\r\n",
        "torch.cuda.empty_cache()\r\n",
        "history = train(train_dataset, val_dataset, model = model_final_ensemble.cuda(), opt = opt, epochs = 10, batch_size = 32, name = name)"
      ],
      "execution_count": null,
      "outputs": [
        {
          "output_type": "stream",
          "text": [
            "\repoch:   0%|          | 0/10 [00:00<?, ?it/s]"
          ],
          "name": "stderr"
        },
        {
          "output_type": "stream",
          "text": [
            "loss 3.001109192439691\n"
          ],
          "name": "stdout"
        },
        {
          "output_type": "stream",
          "text": [
            "epoch:  10%|█         | 1/10 [04:40<42:00, 280.10s/it]"
          ],
          "name": "stderr"
        },
        {
          "output_type": "stream",
          "text": [
            "Saved model with val acc 0.7444196428571428\n",
            "\n",
            "Epoch 001 train_loss: 3.0011   val_loss 0.8500 train_acc 0.2426 val_acc 0.7444\n",
            "loss 0.42547682360241657\n"
          ],
          "name": "stdout"
        },
        {
          "output_type": "stream",
          "text": [
            "epoch:  20%|██        | 2/10 [09:13<37:04, 278.10s/it]"
          ],
          "name": "stderr"
        },
        {
          "output_type": "stream",
          "text": [
            "Saved model with val acc 0.8917410714285714\n",
            "\n",
            "Epoch 002 train_loss: 0.4255   val_loss 0.3478 train_acc 0.8683 val_acc 0.8917\n",
            "loss 0.32195771787527727\n"
          ],
          "name": "stdout"
        },
        {
          "output_type": "stream",
          "text": [
            "epoch:  30%|███       | 3/10 [13:46<32:16, 276.66s/it]"
          ],
          "name": "stderr"
        },
        {
          "output_type": "stream",
          "text": [
            "Saved model with val acc 0.91796875\n",
            "\n",
            "Epoch 003 train_loss: 0.3220   val_loss 0.2489 train_acc 0.9029 val_acc 0.9180\n",
            "loss 0.2890685709116403\n"
          ],
          "name": "stdout"
        },
        {
          "output_type": "stream",
          "text": [
            "epoch:  40%|████      | 4/10 [18:19<27:33, 275.57s/it]"
          ],
          "name": "stderr"
        },
        {
          "output_type": "stream",
          "text": [
            "Saved model with val acc 0.9241071428571428\n",
            "\n",
            "Epoch 004 train_loss: 0.2891   val_loss 0.2552 train_acc 0.9137 val_acc 0.9241\n",
            "loss 0.29252571254624815\n"
          ],
          "name": "stdout"
        },
        {
          "output_type": "stream",
          "text": [
            "epoch:  50%|█████     | 5/10 [22:53<22:54, 274.85s/it]"
          ],
          "name": "stderr"
        },
        {
          "output_type": "stream",
          "text": [
            "Saved model with val acc 0.9408482142857142\n",
            "\n",
            "Epoch 005 train_loss: 0.2925   val_loss 0.2124 train_acc 0.9129 val_acc 0.9408\n",
            "loss 0.2511704595760204\n"
          ],
          "name": "stdout"
        },
        {
          "output_type": "stream",
          "text": [
            "epoch:  60%|██████    | 6/10 [27:20<18:10, 272.73s/it]"
          ],
          "name": "stderr"
        },
        {
          "output_type": "stream",
          "text": [
            "\n",
            "Epoch 006 train_loss: 0.2512   val_loss 0.3799 train_acc 0.9228 val_acc 0.8945\n",
            "loss 0.24995394681060806\n"
          ],
          "name": "stdout"
        },
        {
          "output_type": "stream",
          "text": [
            "epoch:  70%|███████   | 7/10 [31:48<13:33, 271.19s/it]"
          ],
          "name": "stderr"
        },
        {
          "output_type": "stream",
          "text": [
            "\n",
            "Epoch 007 train_loss: 0.2500   val_loss 0.2324 train_acc 0.9272 val_acc 0.9314\n",
            "loss 0.2234636491443927\n"
          ],
          "name": "stdout"
        },
        {
          "output_type": "stream",
          "text": [
            "epoch:  80%|████████  | 8/10 [36:21<09:03, 271.77s/it]"
          ],
          "name": "stderr"
        },
        {
          "output_type": "stream",
          "text": [
            "Saved model with val acc 0.9453125\n",
            "\n",
            "Epoch 008 train_loss: 0.2235   val_loss 0.2036 train_acc 0.9401 val_acc 0.9453\n",
            "loss 0.2125037451703441\n"
          ],
          "name": "stdout"
        },
        {
          "output_type": "stream",
          "text": [
            "epoch:  90%|█████████ | 9/10 [40:49<04:30, 270.52s/it]"
          ],
          "name": "stderr"
        },
        {
          "output_type": "stream",
          "text": [
            "\n",
            "Epoch 009 train_loss: 0.2125   val_loss 0.2056 train_acc 0.9388 val_acc 0.9436\n",
            "loss 0.20461848256731727\n"
          ],
          "name": "stdout"
        },
        {
          "output_type": "stream",
          "text": [
            "epoch: 100%|██████████| 10/10 [45:22<00:00, 272.26s/it]"
          ],
          "name": "stderr"
        },
        {
          "output_type": "stream",
          "text": [
            "Saved model with val acc 0.9486607142857142\n",
            "\n",
            "Epoch 010 train_loss: 0.2046   val_loss 0.1935 train_acc 0.9401 val_acc 0.9487\n"
          ],
          "name": "stdout"
        },
        {
          "output_type": "stream",
          "text": [
            "\n"
          ],
          "name": "stderr"
        }
      ]
    },
    {
      "cell_type": "code",
      "metadata": {
        "colab": {
          "base_uri": "https://localhost:8080/"
        },
        "id": "PadMQsZit3-5",
        "outputId": "4ed0df03-5391-48b6-fb63-03e613792915"
      },
      "source": [
        "checkpoint = torch.load(name)\r\n",
        "model_final_ensemble.load_state_dict(checkpoint['model_state_dict'])\r\n",
        "\r\n",
        "model_final_ensemble.eval()\r\n",
        "probs_ims = predict(model_final_ensemble, imgs)\r\n",
        "actual_labels = [val_dataset[id][1] for id in idxs]\r\n",
        "from sklearn.metrics import f1_score\r\n",
        "f1_score(actual_labels, np.argmax(probs_ims, axis=1), average='micro')"
      ],
      "execution_count": null,
      "outputs": [
        {
          "output_type": "execute_result",
          "data": {
            "text/plain": [
              "0.9534264803725881"
            ]
          },
          "metadata": {
            "tags": []
          },
          "execution_count": 81
        }
      ]
    },
    {
      "cell_type": "code",
      "metadata": {
        "id": "DLEX7KcKUV_W"
      },
      "source": [
        ""
      ],
      "execution_count": null,
      "outputs": []
    },
    {
      "cell_type": "markdown",
      "metadata": {
        "id": "MxdP3BjFcVzW"
      },
      "source": [
        "#Ансамбль из всех сетей без поиска lr"
      ]
    },
    {
      "cell_type": "code",
      "metadata": {
        "id": "-Ru7SG8zcWJP"
      },
      "source": [
        "model_vgg = models.vgg19(pretrained=True)\r\n",
        "model_vgg.classifier[6] = nn.Linear(in_features=4096, out_features=50, bias=True)\r\n",
        "checkpoint = torch.load('/content/gdrive/MyDrive/DogsModelVGG_with_LR.pth')\r\n",
        "model_vgg.load_state_dict(checkpoint['model_state_dict'])\r\n",
        "\r\n",
        "model_densenet = models.densenet161(pretrained=True)\r\n",
        "model_densenet.classifier = nn.Sequential(nn.Linear(2208, 128),\r\n",
        "                           nn.BatchNorm1d(128),\r\n",
        "                           nn.ReLU(),\r\n",
        "                           nn.Dropout(p=0.5),\r\n",
        "                           nn.Linear(128, 50))\r\n",
        "checkpoint = torch.load('/content/gdrive/MyDrive/DogsModelDENSENET161_with_LR.pth')\r\n",
        "model_densenet.load_state_dict(checkpoint['model_state_dict'])\r\n",
        "\r\n",
        "model_resnet = models.resnet152(pretrained=True)\r\n",
        "model_resnet = model_resnet.cuda()\r\n",
        "model_resnet.fc = nn.Sequential(nn.Linear(in_features=2048, out_features=1000, bias=True),\r\n",
        " nn.Dropout(0.5),\r\n",
        " nn.Linear(1000, 50, bias=True))\r\n",
        "checkpoint = torch.load('/content/gdrive/MyDrive/DogsModelRESNET152_with_LR.pth')\r\n",
        "model_resnet.load_state_dict(checkpoint['model_state_dict'])\r\n",
        "\r\n",
        "!pip install efficientnet_pytorch\r\n",
        "from efficientnet_pytorch import EfficientNet\r\n",
        "model_effnet_b6 = EfficientNet.from_pretrained('efficientnet-b6', num_classes=50)\r\n",
        "model_effnet_b6 = model_effnet_b6.cuda()\r\n",
        "checkpoint = torch.load('/content/gdrive/MyDrive/DogsModelEFFNET_B6_with_LR.pth')\r\n",
        "model_effnet_b6.load_state_dict(checkpoint['model_state_dict'])"
      ],
      "execution_count": null,
      "outputs": []
    },
    {
      "cell_type": "code",
      "metadata": {
        "id": "HWz12IrmcWOH"
      },
      "source": [
        "model_final_ensemble = MyEnsemble(model_vgg,\r\n",
        "                            model_densenet,\r\n",
        "                            model_resnet,\r\n",
        "                            model_effnet_b6)\r\n"
      ],
      "execution_count": null,
      "outputs": []
    },
    {
      "cell_type": "code",
      "metadata": {
        "id": "kLZ1NkZ2cWSE"
      },
      "source": [
        "for param in model_final_ensemble.parameters():\r\n",
        "    param.requires_grad = False\r\n",
        "for param in model_final_ensemble.classifier.parameters():\r\n",
        "    param.requires_grad = True"
      ],
      "execution_count": null,
      "outputs": []
    },
    {
      "cell_type": "code",
      "metadata": {
        "id": "Ndm2LNYxcWeh"
      },
      "source": [
        "train_loader = DataLoader(train_dataset, batch_size=64, shuffle=True)\r\n",
        "loss_fn = nn.CrossEntropyLoss()\r\n",
        "\r\n",
        "opt = torch.optim.Adam(model_final_ensemble.classifier.parameters(), lr=0.003, amsgrad=True)"
      ],
      "execution_count": null,
      "outputs": []
    },
    {
      "cell_type": "code",
      "metadata": {
        "colab": {
          "base_uri": "https://localhost:8080/"
        },
        "id": "gg1qBixpc77H",
        "outputId": "88e81e9b-9584-47af-bdae-3a0a7e841c65"
      },
      "source": [
        "name = '/content/gdrive/MyDrive/DogsModel_finalENSEMBLE_003.pth'\r\n",
        "torch.cuda.empty_cache()\r\n",
        "history = train(train_dataset, val_dataset, model = model_final_ensemble.cuda(), opt = opt, epochs = 10, batch_size = 32, name = name)"
      ],
      "execution_count": null,
      "outputs": [
        {
          "output_type": "stream",
          "text": [
            "\repoch:   0%|          | 0/10 [00:00<?, ?it/s]"
          ],
          "name": "stderr"
        },
        {
          "output_type": "stream",
          "text": [
            "loss 1.8404801217960434\n"
          ],
          "name": "stdout"
        },
        {
          "output_type": "stream",
          "text": [
            "epoch:  10%|█         | 1/10 [04:26<40:02, 266.93s/it]"
          ],
          "name": "stderr"
        },
        {
          "output_type": "stream",
          "text": [
            "Saved model with val acc 0.9469866071428571\n",
            "\n",
            "Epoch 001 train_loss: 1.8405   val_loss 0.3866 train_acc 0.5158 val_acc 0.9470\n",
            "loss 0.21899836393683916\n"
          ],
          "name": "stdout"
        },
        {
          "output_type": "stream",
          "text": [
            "epoch:  20%|██        | 2/10 [08:58<35:45, 268.19s/it]"
          ],
          "name": "stderr"
        },
        {
          "output_type": "stream",
          "text": [
            "Saved model with val acc 0.9609375\n",
            "\n",
            "Epoch 002 train_loss: 0.2190   val_loss 0.1465 train_acc 0.9427 val_acc 0.9609\n",
            "loss 0.16673068270214791\n"
          ],
          "name": "stdout"
        },
        {
          "output_type": "stream",
          "text": [
            "epoch:  30%|███       | 3/10 [13:26<31:17, 268.21s/it]"
          ],
          "name": "stderr"
        },
        {
          "output_type": "stream",
          "text": [
            "\n",
            "Epoch 003 train_loss: 0.1667   val_loss 0.1559 train_acc 0.9505 val_acc 0.9565\n",
            "loss 0.13701767639950566\n"
          ],
          "name": "stdout"
        },
        {
          "output_type": "stream",
          "text": [
            "epoch:  40%|████      | 4/10 [17:59<26:59, 269.84s/it]"
          ],
          "name": "stderr"
        },
        {
          "output_type": "stream",
          "text": [
            "Saved model with val acc 0.9631696428571428\n",
            "\n",
            "Epoch 004 train_loss: 0.1370   val_loss 0.1315 train_acc 0.9587 val_acc 0.9632\n",
            "loss 0.12409994655968444\n"
          ],
          "name": "stdout"
        },
        {
          "output_type": "stream",
          "text": [
            "epoch:  50%|█████     | 5/10 [22:33<22:35, 271.08s/it]"
          ],
          "name": "stderr"
        },
        {
          "output_type": "stream",
          "text": [
            "Saved model with val acc 0.9637276785714285\n",
            "\n",
            "Epoch 005 train_loss: 0.1241   val_loss 0.1249 train_acc 0.9607 val_acc 0.9637\n",
            "loss 0.1184001973520647\n"
          ],
          "name": "stdout"
        },
        {
          "output_type": "stream",
          "text": [
            "epoch:  60%|██████    | 6/10 [27:07<18:07, 271.82s/it]"
          ],
          "name": "stderr"
        },
        {
          "output_type": "stream",
          "text": [
            "Saved model with val acc 0.9670758928571428\n",
            "\n",
            "Epoch 006 train_loss: 0.1184   val_loss 0.1210 train_acc 0.9617 val_acc 0.9671\n",
            "loss 0.11427458325781518\n"
          ],
          "name": "stdout"
        },
        {
          "output_type": "stream",
          "text": [
            "epoch:  70%|███████   | 7/10 [31:36<13:32, 270.83s/it]"
          ],
          "name": "stderr"
        },
        {
          "output_type": "stream",
          "text": [
            "\n",
            "Epoch 007 train_loss: 0.1143   val_loss 0.1164 train_acc 0.9628 val_acc 0.9671\n",
            "loss 0.11055066439163343\n"
          ],
          "name": "stdout"
        },
        {
          "output_type": "stream",
          "text": [
            "epoch:  80%|████████  | 8/10 [36:04<09:00, 270.04s/it]"
          ],
          "name": "stderr"
        },
        {
          "output_type": "stream",
          "text": [
            "\n",
            "Epoch 008 train_loss: 0.1106   val_loss 0.1343 train_acc 0.9646 val_acc 0.9632\n",
            "loss 0.08067615808392929\n"
          ],
          "name": "stdout"
        },
        {
          "output_type": "stream",
          "text": [
            "epoch:  90%|█████████ | 9/10 [40:38<04:31, 271.26s/it]"
          ],
          "name": "stderr"
        },
        {
          "output_type": "stream",
          "text": [
            "Saved model with val acc 0.9693080357142857\n",
            "\n",
            "Epoch 009 train_loss: 0.0807   val_loss 0.1217 train_acc 0.9743 val_acc 0.9693\n",
            "loss 0.0881546224565545\n"
          ],
          "name": "stdout"
        },
        {
          "output_type": "stream",
          "text": [
            "epoch: 100%|██████████| 10/10 [45:07<00:00, 270.74s/it]"
          ],
          "name": "stderr"
        },
        {
          "output_type": "stream",
          "text": [
            "\n",
            "Epoch 010 train_loss: 0.0882   val_loss 0.1246 train_acc 0.9725 val_acc 0.9660\n"
          ],
          "name": "stdout"
        },
        {
          "output_type": "stream",
          "text": [
            "\n"
          ],
          "name": "stderr"
        }
      ]
    },
    {
      "cell_type": "code",
      "metadata": {
        "colab": {
          "base_uri": "https://localhost:8080/"
        },
        "id": "SRrzMqslc7_9",
        "outputId": "962279ac-a6b4-4cb6-e079-840656a4ac3e"
      },
      "source": [
        "checkpoint = torch.load(name)\r\n",
        "model_final_ensemble.load_state_dict(checkpoint['model_state_dict'])\r\n",
        "\r\n",
        "model_final_ensemble.eval()\r\n",
        "probs_ims = predict(model_final_ensemble, imgs)\r\n",
        "actual_labels = [val_dataset[id][1] for id in idxs]\r\n",
        "from sklearn.metrics import f1_score\r\n",
        "f1_score(actual_labels, np.argmax(probs_ims, axis=1), average='micro')"
      ],
      "execution_count": null,
      "outputs": [
        {
          "output_type": "execute_result",
          "data": {
            "text/plain": [
              "0.9720558882235529"
            ]
          },
          "metadata": {
            "tags": []
          },
          "execution_count": 28
        }
      ]
    },
    {
      "cell_type": "code",
      "metadata": {
        "id": "IIvlwnDPc8Et"
      },
      "source": [
        ""
      ],
      "execution_count": null,
      "outputs": []
    },
    {
      "cell_type": "markdown",
      "metadata": {
        "id": "EvTbCjSZK2ZW"
      },
      "source": [
        "Лучший скор на тесте - 97,2% - получен путем ансамблирования стеккингом 4 сетей - DenseNet, ResNet, VGG, EfficientNet - b6."
      ]
    },
    {
      "cell_type": "markdown",
      "metadata": {
        "id": "_uSRBUKDeSrJ"
      },
      "source": [
        "#Сокращаем датасет и протестируем  лучшую модель, но обученную с 0"
      ]
    },
    {
      "cell_type": "markdown",
      "metadata": {
        "id": "lFglGV34Xh7W"
      },
      "source": [
        "В этой ячейке загружаются модели, ансамбль которых дал наилучший скор"
      ]
    },
    {
      "cell_type": "code",
      "metadata": {
        "id": "CM4dSEbGeaPf",
        "colab": {
          "base_uri": "https://localhost:8080/"
        },
        "outputId": "0b6de7ed-70aa-41a2-af72-635bf8f7daec"
      },
      "source": [
        "model_vgg = models.vgg19(pretrained=True)\r\n",
        "model_vgg.classifier[6] = nn.Linear(in_features=4096, out_features=50, bias=True)\r\n",
        "\r\n",
        "model_densenet = models.densenet161(pretrained=True)\r\n",
        "model_densenet.classifier = nn.Sequential(nn.Linear(2208, 128),\r\n",
        "                           nn.BatchNorm1d(128),\r\n",
        "                           nn.ReLU(),\r\n",
        "                           nn.Dropout(p=0.5),\r\n",
        "                           nn.Linear(128, 50))\r\n",
        "\r\n",
        "model_resnet = models.resnet152(pretrained=True)\r\n",
        "model_resnet.fc = nn.Sequential(nn.Linear(in_features=2048, out_features=1000, bias=True),\r\n",
        " nn.Dropout(0.5),\r\n",
        " nn.Linear(1000, 50, bias=True))\r\n",
        "\r\n",
        "!pip install efficientnet_pytorch\r\n",
        "from efficientnet_pytorch import EfficientNet\r\n",
        "model_effnet_b6 = EfficientNet.from_pretrained('efficientnet-b6', num_classes=50)"
      ],
      "execution_count": 32,
      "outputs": [
        {
          "output_type": "stream",
          "text": [
            "Requirement already satisfied: efficientnet_pytorch in /usr/local/lib/python3.6/dist-packages (0.7.0)\n",
            "Requirement already satisfied: torch in /usr/local/lib/python3.6/dist-packages (from efficientnet_pytorch) (1.7.0+cu101)\n",
            "Requirement already satisfied: typing-extensions in /usr/local/lib/python3.6/dist-packages (from torch->efficientnet_pytorch) (3.7.4.3)\n",
            "Requirement already satisfied: numpy in /usr/local/lib/python3.6/dist-packages (from torch->efficientnet_pytorch) (1.18.5)\n",
            "Requirement already satisfied: dataclasses in /usr/local/lib/python3.6/dist-packages (from torch->efficientnet_pytorch) (0.8)\n",
            "Requirement already satisfied: future in /usr/local/lib/python3.6/dist-packages (from torch->efficientnet_pytorch) (0.16.0)\n",
            "Loaded pretrained weights for efficientnet-b6\n"
          ],
          "name": "stdout"
        }
      ]
    },
    {
      "cell_type": "markdown",
      "metadata": {
        "id": "oAFQm79IXqE6"
      },
      "source": [
        "Объединяем в ансамбль"
      ]
    },
    {
      "cell_type": "code",
      "metadata": {
        "id": "Ves_M9gzeao_"
      },
      "source": [
        "model_final_ensemble = MyEnsemble(model_vgg,\r\n",
        "                            model_densenet,\r\n",
        "                            model_resnet,\r\n",
        "                            model_effnet_b6)\r\n"
      ],
      "execution_count": 33,
      "outputs": []
    },
    {
      "cell_type": "markdown",
      "metadata": {
        "id": "mQ9KzT1GXtB5"
      },
      "source": [
        "Размораживаем веса, поскольку нам надо обучить модель с нуля"
      ]
    },
    {
      "cell_type": "code",
      "metadata": {
        "id": "ULAOFUKRea3N"
      },
      "source": [
        "for param in model_final_ensemble.parameters():\r\n",
        "    param.requires_grad = True"
      ],
      "execution_count": 34,
      "outputs": []
    },
    {
      "cell_type": "markdown",
      "metadata": {
        "id": "tZ4YtMXoXz2l"
      },
      "source": [
        "Здесь несколько раз разделяем тестовую выборку, чтобы ее сократить"
      ]
    },
    {
      "cell_type": "code",
      "metadata": {
        "id": "3VtpIRqngKA6"
      },
      "source": [
        "train_labels = [path.parent.name for path in train_files]\r\n",
        "train1, train2 = train_test_split(train_files, test_size=0.1, \\\r\n",
        " stratify=train_labels)\r\n",
        "\r\n",
        "train2_labels = [path.parent.name for path in train2]\r\n",
        "train2, val2 = train_test_split(train2, test_size=0.2, \\\r\n",
        " stratify=train2_labels)"
      ],
      "execution_count": 37,
      "outputs": []
    },
    {
      "cell_type": "code",
      "metadata": {
        "id": "ACkv3NcLhgP5"
      },
      "source": [
        "train2 = DogsDataset(train2, mode='train')\r\n",
        "val2 = DogsDataset(val2, mode='val')"
      ],
      "execution_count": 38,
      "outputs": []
    },
    {
      "cell_type": "markdown",
      "metadata": {
        "id": "tC3WcXyUX7-_"
      },
      "source": [
        "Количество изображений в каждом классе в трейне"
      ]
    },
    {
      "cell_type": "code",
      "metadata": {
        "colab": {
          "base_uri": "https://localhost:8080/"
        },
        "id": "XA1_cQDmh4B-",
        "outputId": "eb7c617d-d2a9-4efe-bae8-7e964eddb0a5"
      },
      "source": [
        "d = dict()\r\n",
        "for i in range(50):\r\n",
        "  d[i] = 0\r\n",
        "\r\n",
        "for i, j in train2:\r\n",
        "  d[j]+=1\r\n",
        "d"
      ],
      "execution_count": 39,
      "outputs": [
        {
          "output_type": "execute_result",
          "data": {
            "text/plain": [
              "{0: 9,\n",
              " 1: 8,\n",
              " 2: 8,\n",
              " 3: 8,\n",
              " 4: 7,\n",
              " 5: 8,\n",
              " 6: 10,\n",
              " 7: 9,\n",
              " 8: 10,\n",
              " 9: 9,\n",
              " 10: 8,\n",
              " 11: 10,\n",
              " 12: 8,\n",
              " 13: 9,\n",
              " 14: 8,\n",
              " 15: 8,\n",
              " 16: 7,\n",
              " 17: 8,\n",
              " 18: 15,\n",
              " 19: 9,\n",
              " 20: 7,\n",
              " 21: 7,\n",
              " 22: 7,\n",
              " 23: 7,\n",
              " 24: 10,\n",
              " 25: 7,\n",
              " 26: 7,\n",
              " 27: 7,\n",
              " 28: 7,\n",
              " 29: 12,\n",
              " 30: 10,\n",
              " 31: 12,\n",
              " 32: 11,\n",
              " 33: 10,\n",
              " 34: 9,\n",
              " 35: 11,\n",
              " 36: 8,\n",
              " 37: 7,\n",
              " 38: 10,\n",
              " 39: 7,\n",
              " 40: 8,\n",
              " 41: 10,\n",
              " 42: 8,\n",
              " 43: 7,\n",
              " 44: 8,\n",
              " 45: 8,\n",
              " 46: 7,\n",
              " 47: 8,\n",
              " 48: 10,\n",
              " 49: 7}"
            ]
          },
          "metadata": {
            "tags": []
          },
          "execution_count": 39
        }
      ]
    },
    {
      "cell_type": "markdown",
      "metadata": {
        "id": "r4skPId4YAPl"
      },
      "source": [
        "Количество изображений в каждом классе в валидационной выборке"
      ]
    },
    {
      "cell_type": "code",
      "metadata": {
        "colab": {
          "base_uri": "https://localhost:8080/"
        },
        "id": "X_yGcHMqj90V",
        "outputId": "05a3db0f-109b-423a-8886-5304de1f9213"
      },
      "source": [
        "d = dict()\r\n",
        "for i in range(50):\r\n",
        "  d[i] = 0\r\n",
        "\r\n",
        "for i, j in val2:\r\n",
        "  d[j]+=1\r\n",
        "d"
      ],
      "execution_count": 40,
      "outputs": [
        {
          "output_type": "execute_result",
          "data": {
            "text/plain": [
              "{0: 2,\n",
              " 1: 2,\n",
              " 2: 2,\n",
              " 3: 2,\n",
              " 4: 2,\n",
              " 5: 2,\n",
              " 6: 2,\n",
              " 7: 2,\n",
              " 8: 3,\n",
              " 9: 2,\n",
              " 10: 2,\n",
              " 11: 2,\n",
              " 12: 2,\n",
              " 13: 2,\n",
              " 14: 2,\n",
              " 15: 2,\n",
              " 16: 2,\n",
              " 17: 2,\n",
              " 18: 4,\n",
              " 19: 2,\n",
              " 20: 2,\n",
              " 21: 2,\n",
              " 22: 2,\n",
              " 23: 2,\n",
              " 24: 2,\n",
              " 25: 2,\n",
              " 26: 2,\n",
              " 27: 2,\n",
              " 28: 2,\n",
              " 29: 3,\n",
              " 30: 3,\n",
              " 31: 3,\n",
              " 32: 2,\n",
              " 33: 3,\n",
              " 34: 2,\n",
              " 35: 2,\n",
              " 36: 2,\n",
              " 37: 2,\n",
              " 38: 2,\n",
              " 39: 2,\n",
              " 40: 2,\n",
              " 41: 2,\n",
              " 42: 2,\n",
              " 43: 2,\n",
              " 44: 2,\n",
              " 45: 2,\n",
              " 46: 2,\n",
              " 47: 2,\n",
              " 48: 3,\n",
              " 49: 2}"
            ]
          },
          "metadata": {
            "tags": []
          },
          "execution_count": 40
        }
      ]
    },
    {
      "cell_type": "markdown",
      "metadata": {
        "id": "s8GprWAcYFdq"
      },
      "source": [
        "Обучение с теми же параметрами, на которых ансамбль дал наилучший скор"
      ]
    },
    {
      "cell_type": "code",
      "metadata": {
        "colab": {
          "base_uri": "https://localhost:8080/"
        },
        "id": "8ujBjQAukRBe",
        "outputId": "1e7abccd-6c72-4ab0-895c-048a8d8bb0d8"
      },
      "source": [
        "name = '/content/gdrive/MyDrive/DogsModel_shortFinalENSEMBLE_003.pth'\r\n",
        "torch.cuda.empty_cache()\r\n",
        "loss_fn = nn.CrossEntropyLoss()\r\n",
        "\r\n",
        "opt = torch.optim.Adam(model_final_ensemble.classifier.parameters(), lr=0.003, amsgrad=True)\r\n",
        "\r\n",
        "history = train(train_files = train2, val_files = val2, model = model_final_ensemble.cuda(), opt = opt, epochs = 10, batch_size = 8, name = name)"
      ],
      "execution_count": 41,
      "outputs": [
        {
          "output_type": "stream",
          "text": [
            "\repoch:   0%|          | 0/10 [00:00<?, ?it/s]"
          ],
          "name": "stderr"
        },
        {
          "output_type": "stream",
          "text": [
            "loss 4.207388752560282\n"
          ],
          "name": "stdout"
        },
        {
          "output_type": "stream",
          "text": [
            "epoch:  10%|█         | 1/10 [00:43<06:29, 43.33s/it]"
          ],
          "name": "stderr"
        },
        {
          "output_type": "stream",
          "text": [
            "Saved model with val acc 0.14814814814814814\n",
            "\n",
            "Epoch 001 train_loss: 4.2074   val_loss 3.4968 train_acc 0.0279 val_acc 0.1481\n",
            "loss 2.7806508585464123\n"
          ],
          "name": "stdout"
        },
        {
          "output_type": "stream",
          "text": [
            "epoch:  20%|██        | 2/10 [01:25<05:43, 42.88s/it]"
          ],
          "name": "stderr"
        },
        {
          "output_type": "stream",
          "text": [
            "Saved model with val acc 0.5555555555555556\n",
            "\n",
            "Epoch 002 train_loss: 2.7807   val_loss 1.9264 train_acc 0.3744 val_acc 0.5556\n",
            "loss 1.1564278674680133\n"
          ],
          "name": "stdout"
        },
        {
          "output_type": "stream",
          "text": [
            "epoch:  30%|███       | 3/10 [02:07<04:59, 42.73s/it]"
          ],
          "name": "stderr"
        },
        {
          "output_type": "stream",
          "text": [
            "Saved model with val acc 0.6944444444444444\n",
            "\n",
            "Epoch 003 train_loss: 1.1564   val_loss 1.0817 train_acc 0.7721 val_acc 0.6944\n",
            "loss 0.4156286703985791\n"
          ],
          "name": "stdout"
        },
        {
          "output_type": "stream",
          "text": [
            "epoch:  40%|████      | 4/10 [02:49<04:14, 42.45s/it]"
          ],
          "name": "stderr"
        },
        {
          "output_type": "stream",
          "text": [
            "Saved model with val acc 0.7592592592592592\n",
            "\n",
            "Epoch 004 train_loss: 0.4156   val_loss 0.8441 train_acc 0.9186 val_acc 0.7593\n",
            "loss 0.24834779577199803\n"
          ],
          "name": "stdout"
        },
        {
          "output_type": "stream",
          "text": [
            "epoch:  50%|█████     | 5/10 [03:26<03:23, 40.80s/it]"
          ],
          "name": "stderr"
        },
        {
          "output_type": "stream",
          "text": [
            "\n",
            "Epoch 005 train_loss: 0.2483   val_loss 0.8472 train_acc 0.9558 val_acc 0.7407\n",
            "loss 0.16609281637640885\n"
          ],
          "name": "stdout"
        },
        {
          "output_type": "stream",
          "text": [
            "epoch:  60%|██████    | 6/10 [04:08<02:44, 41.07s/it]"
          ],
          "name": "stderr"
        },
        {
          "output_type": "stream",
          "text": [
            "Saved model with val acc 0.7685185185185185\n",
            "\n",
            "Epoch 006 train_loss: 0.1661   val_loss 0.7060 train_acc 0.9628 val_acc 0.7685\n",
            "loss 0.15404380395315415\n"
          ],
          "name": "stdout"
        },
        {
          "output_type": "stream",
          "text": [
            "epoch:  70%|███████   | 7/10 [04:45<01:59, 39.88s/it]"
          ],
          "name": "stderr"
        },
        {
          "output_type": "stream",
          "text": [
            "\n",
            "Epoch 007 train_loss: 0.1540   val_loss 0.7521 train_acc 0.9767 val_acc 0.7593\n",
            "loss 0.11196330392429996\n"
          ],
          "name": "stdout"
        },
        {
          "output_type": "stream",
          "text": [
            "epoch:  80%|████████  | 8/10 [05:27<01:21, 40.64s/it]"
          ],
          "name": "stderr"
        },
        {
          "output_type": "stream",
          "text": [
            "Saved model with val acc 0.787037037037037\n",
            "\n",
            "Epoch 008 train_loss: 0.1120   val_loss 0.7670 train_acc 0.9767 val_acc 0.7870\n",
            "loss 0.04778576866658621\n"
          ],
          "name": "stdout"
        },
        {
          "output_type": "stream",
          "text": [
            "epoch:  90%|█████████ | 9/10 [06:04<00:39, 39.54s/it]"
          ],
          "name": "stderr"
        },
        {
          "output_type": "stream",
          "text": [
            "\n",
            "Epoch 009 train_loss: 0.0478   val_loss 0.7352 train_acc 0.9930 val_acc 0.7870\n",
            "loss 0.1249416901794977\n"
          ],
          "name": "stdout"
        },
        {
          "output_type": "stream",
          "text": [
            "epoch: 100%|██████████| 10/10 [06:41<00:00, 40.12s/it]"
          ],
          "name": "stderr"
        },
        {
          "output_type": "stream",
          "text": [
            "\n",
            "Epoch 010 train_loss: 0.1249   val_loss 0.8546 train_acc 0.9698 val_acc 0.7685\n"
          ],
          "name": "stdout"
        },
        {
          "output_type": "stream",
          "text": [
            "\n"
          ],
          "name": "stderr"
        }
      ]
    },
    {
      "cell_type": "code",
      "metadata": {
        "colab": {
          "base_uri": "https://localhost:8080/",
          "height": 295
        },
        "id": "qkt7ynB9q_sK",
        "outputId": "ebafba1a-500b-4685-e56d-6c85537e3f4a"
      },
      "source": [
        "loss, acc, val_loss, val_acc = zip(*history)\r\n",
        "plt.plot(loss, label=\"train_loss\")\r\n",
        "plt.plot(val_loss, label=\"val_loss\")\r\n",
        "plt.legend(loc='best')\r\n",
        "plt.xlabel(\"epochs\")\r\n",
        "plt.ylabel(\"loss\")\r\n",
        "plt.title(\"Ensemble\")\r\n",
        "plt.show()"
      ],
      "execution_count": 46,
      "outputs": [
        {
          "output_type": "display_data",
          "data": {
            "image/png": "[encoded data removed]",
            "text/plain": [
              "<Figure size 432x288 with 1 Axes>"
            ]
          },
          "metadata": {
            "tags": [],
            "needs_background": "light"
          }
        }
      ]
    },
    {
      "cell_type": "code",
      "metadata": {
        "colab": {
          "base_uri": "https://localhost:8080/",
          "height": 295
        },
        "id": "2wu6v1dWrEes",
        "outputId": "8852f767-b8f8-4dcd-eccc-32fd32dcdc73"
      },
      "source": [
        "plt.plot(acc, label=\"train_acc\")\r\n",
        "plt.plot(val_acc, label=\"val_acc\")\r\n",
        "plt.legend(loc='best')\r\n",
        "plt.xlabel(\"epochs\")\r\n",
        "plt.ylabel(\"accuracy\")\r\n",
        "plt.title(\"Ensemble\")\r\n",
        "plt.show()"
      ],
      "execution_count": 47,
      "outputs": [
        {
          "output_type": "display_data",
          "data": {
            "image/png": "[encoded data removed]",
            "text/plain": [
              "<Figure size 432x288 with 1 Axes>"
            ]
          },
          "metadata": {
            "tags": [],
            "needs_background": "light"
          }
        }
      ]
    },
    {
      "cell_type": "markdown",
      "metadata": {
        "id": "8gs5OGAHYLow"
      },
      "source": [
        "Проверяем __на всей__ валидационной выборке (той, что выделяется в начале ноутбука, большого размера)"
      ]
    },
    {
      "cell_type": "code",
      "metadata": {
        "colab": {
          "base_uri": "https://localhost:8080/"
        },
        "id": "5KtC4N0FriQg",
        "outputId": "aa3f0890-6f0f-4359-a447-077ac7fc769a"
      },
      "source": [
        "name = '/content/gdrive/MyDrive/DogsModel_shortFinalENSEMBLE_003.pth'\r\n",
        "checkpoint = torch.load(name)\r\n",
        "model_final_ensemble.load_state_dict(checkpoint['model_state_dict'])\r\n",
        "model_final_ensemble.eval()\r\n",
        "\r\n",
        "probs_ims = predict(model_final_ensemble.cuda(), imgs)\r\n",
        "actual_labels = [val_dataset[id][1] for id in idxs]\r\n",
        "\r\n",
        "from sklearn.metrics import f1_score\r\n",
        "f1_score(actual_labels, np.argmax(probs_ims, axis=1), average='micro')"
      ],
      "execution_count": 48,
      "outputs": [
        {
          "output_type": "execute_result",
          "data": {
            "text/plain": [
              "0.828125"
            ]
          },
          "metadata": {
            "tags": []
          },
          "execution_count": 48
        }
      ]
    }
  ]
}